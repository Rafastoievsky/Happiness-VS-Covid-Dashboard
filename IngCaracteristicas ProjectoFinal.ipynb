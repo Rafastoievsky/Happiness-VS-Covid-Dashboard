{
 "cells": [
  {
   "cell_type": "code",
   "execution_count": 41,
   "metadata": {},
   "outputs": [],
   "source": [
    "import matplotlib.pyplot as plt\n",
    "import pandas as pd\n",
    "import numpy as np\n",
    "%matplotlib inline\n",
    "import seaborn as sns\n",
    "import plotly.graph_objects as go\n",
    "import plotly.express as px"
   ]
  },
  {
   "cell_type": "code",
   "execution_count": 42,
   "metadata": {},
   "outputs": [
    {
     "data": {
      "text/html": [
       "<div>\n",
       "<style scoped>\n",
       "    .dataframe tbody tr th:only-of-type {\n",
       "        vertical-align: middle;\n",
       "    }\n",
       "\n",
       "    .dataframe tbody tr th {\n",
       "        vertical-align: top;\n",
       "    }\n",
       "\n",
       "    .dataframe thead th {\n",
       "        text-align: right;\n",
       "    }\n",
       "</style>\n",
       "<table border=\"1\" class=\"dataframe\">\n",
       "  <thead>\n",
       "    <tr style=\"text-align: right;\">\n",
       "      <th></th>\n",
       "      <th>country</th>\n",
       "      <th>happiness_score</th>\n",
       "      <th>gdp_per_capita</th>\n",
       "      <th>social_support</th>\n",
       "      <th>health</th>\n",
       "      <th>freedom</th>\n",
       "      <th>generosity</th>\n",
       "      <th>government_trust</th>\n",
       "      <th>dystopia_residual</th>\n",
       "      <th>continent</th>\n",
       "    </tr>\n",
       "  </thead>\n",
       "  <tbody>\n",
       "    <tr>\n",
       "      <th>0</th>\n",
       "      <td>Finland</td>\n",
       "      <td>7.8087</td>\n",
       "      <td>1.285190</td>\n",
       "      <td>1.499526</td>\n",
       "      <td>0.961271</td>\n",
       "      <td>0.662317</td>\n",
       "      <td>0.159670</td>\n",
       "      <td>0.477857</td>\n",
       "      <td>2.762835</td>\n",
       "      <td>Europe</td>\n",
       "    </tr>\n",
       "    <tr>\n",
       "      <th>1</th>\n",
       "      <td>Denmark</td>\n",
       "      <td>7.6456</td>\n",
       "      <td>1.326949</td>\n",
       "      <td>1.503449</td>\n",
       "      <td>0.979333</td>\n",
       "      <td>0.665040</td>\n",
       "      <td>0.242793</td>\n",
       "      <td>0.495260</td>\n",
       "      <td>2.432741</td>\n",
       "      <td>Europe</td>\n",
       "    </tr>\n",
       "    <tr>\n",
       "      <th>2</th>\n",
       "      <td>Switzerland</td>\n",
       "      <td>7.5599</td>\n",
       "      <td>1.390774</td>\n",
       "      <td>1.472403</td>\n",
       "      <td>1.040533</td>\n",
       "      <td>0.628954</td>\n",
       "      <td>0.269056</td>\n",
       "      <td>0.407946</td>\n",
       "      <td>2.350267</td>\n",
       "      <td>Europe</td>\n",
       "    </tr>\n",
       "    <tr>\n",
       "      <th>3</th>\n",
       "      <td>Iceland</td>\n",
       "      <td>7.5045</td>\n",
       "      <td>1.326502</td>\n",
       "      <td>1.547567</td>\n",
       "      <td>1.000843</td>\n",
       "      <td>0.661981</td>\n",
       "      <td>0.362330</td>\n",
       "      <td>0.144541</td>\n",
       "      <td>2.460688</td>\n",
       "      <td>Europe</td>\n",
       "    </tr>\n",
       "    <tr>\n",
       "      <th>4</th>\n",
       "      <td>Norway</td>\n",
       "      <td>7.4880</td>\n",
       "      <td>1.424207</td>\n",
       "      <td>1.495173</td>\n",
       "      <td>1.008072</td>\n",
       "      <td>0.670201</td>\n",
       "      <td>0.287985</td>\n",
       "      <td>0.434101</td>\n",
       "      <td>2.168266</td>\n",
       "      <td>Europe</td>\n",
       "    </tr>\n",
       "  </tbody>\n",
       "</table>\n",
       "</div>"
      ],
      "text/plain": [
       "       country  happiness_score  gdp_per_capita  social_support    health  \\\n",
       "0      Finland           7.8087        1.285190        1.499526  0.961271   \n",
       "1      Denmark           7.6456        1.326949        1.503449  0.979333   \n",
       "2  Switzerland           7.5599        1.390774        1.472403  1.040533   \n",
       "3      Iceland           7.5045        1.326502        1.547567  1.000843   \n",
       "4       Norway           7.4880        1.424207        1.495173  1.008072   \n",
       "\n",
       "    freedom  generosity  government_trust  dystopia_residual continent  \n",
       "0  0.662317    0.159670          0.477857           2.762835    Europe  \n",
       "1  0.665040    0.242793          0.495260           2.432741    Europe  \n",
       "2  0.628954    0.269056          0.407946           2.350267    Europe  \n",
       "3  0.661981    0.362330          0.144541           2.460688    Europe  \n",
       "4  0.670201    0.287985          0.434101           2.168266    Europe  "
      ]
     },
     "execution_count": 42,
     "metadata": {},
     "output_type": "execute_result"
    }
   ],
   "source": [
    "datahappy = pd.read_csv('./data/2020_happiness_report.csv')\n",
    "datahappy.head()"
   ]
  },
  {
   "cell_type": "code",
   "execution_count": 43,
   "metadata": {},
   "outputs": [
    {
     "data": {
      "text/plain": [
       "(138, 10)"
      ]
     },
     "execution_count": 43,
     "metadata": {},
     "output_type": "execute_result"
    }
   ],
   "source": [
    "datahappy.shape"
   ]
  },
  {
   "cell_type": "code",
   "execution_count": 44,
   "metadata": {},
   "outputs": [],
   "source": [
    "datahappy.drop(['happiness_score'], axis = 1, inplace=True) "
   ]
  },
  {
   "cell_type": "code",
   "execution_count": 45,
   "metadata": {},
   "outputs": [
    {
     "data": {
      "text/html": [
       "<div>\n",
       "<style scoped>\n",
       "    .dataframe tbody tr th:only-of-type {\n",
       "        vertical-align: middle;\n",
       "    }\n",
       "\n",
       "    .dataframe tbody tr th {\n",
       "        vertical-align: top;\n",
       "    }\n",
       "\n",
       "    .dataframe thead th {\n",
       "        text-align: right;\n",
       "    }\n",
       "</style>\n",
       "<table border=\"1\" class=\"dataframe\">\n",
       "  <thead>\n",
       "    <tr style=\"text-align: right;\">\n",
       "      <th></th>\n",
       "      <th>country</th>\n",
       "      <th>gdp_per_capita</th>\n",
       "      <th>social_support</th>\n",
       "      <th>health</th>\n",
       "      <th>freedom</th>\n",
       "      <th>generosity</th>\n",
       "      <th>government_trust</th>\n",
       "      <th>dystopia_residual</th>\n",
       "      <th>continent</th>\n",
       "    </tr>\n",
       "  </thead>\n",
       "  <tbody>\n",
       "    <tr>\n",
       "      <th>0</th>\n",
       "      <td>Finland</td>\n",
       "      <td>1.285190</td>\n",
       "      <td>1.499526</td>\n",
       "      <td>0.961271</td>\n",
       "      <td>0.662317</td>\n",
       "      <td>0.159670</td>\n",
       "      <td>0.477857</td>\n",
       "      <td>2.762835</td>\n",
       "      <td>Europe</td>\n",
       "    </tr>\n",
       "    <tr>\n",
       "      <th>1</th>\n",
       "      <td>Denmark</td>\n",
       "      <td>1.326949</td>\n",
       "      <td>1.503449</td>\n",
       "      <td>0.979333</td>\n",
       "      <td>0.665040</td>\n",
       "      <td>0.242793</td>\n",
       "      <td>0.495260</td>\n",
       "      <td>2.432741</td>\n",
       "      <td>Europe</td>\n",
       "    </tr>\n",
       "    <tr>\n",
       "      <th>2</th>\n",
       "      <td>Switzerland</td>\n",
       "      <td>1.390774</td>\n",
       "      <td>1.472403</td>\n",
       "      <td>1.040533</td>\n",
       "      <td>0.628954</td>\n",
       "      <td>0.269056</td>\n",
       "      <td>0.407946</td>\n",
       "      <td>2.350267</td>\n",
       "      <td>Europe</td>\n",
       "    </tr>\n",
       "    <tr>\n",
       "      <th>3</th>\n",
       "      <td>Iceland</td>\n",
       "      <td>1.326502</td>\n",
       "      <td>1.547567</td>\n",
       "      <td>1.000843</td>\n",
       "      <td>0.661981</td>\n",
       "      <td>0.362330</td>\n",
       "      <td>0.144541</td>\n",
       "      <td>2.460688</td>\n",
       "      <td>Europe</td>\n",
       "    </tr>\n",
       "    <tr>\n",
       "      <th>4</th>\n",
       "      <td>Norway</td>\n",
       "      <td>1.424207</td>\n",
       "      <td>1.495173</td>\n",
       "      <td>1.008072</td>\n",
       "      <td>0.670201</td>\n",
       "      <td>0.287985</td>\n",
       "      <td>0.434101</td>\n",
       "      <td>2.168266</td>\n",
       "      <td>Europe</td>\n",
       "    </tr>\n",
       "    <tr>\n",
       "      <th>...</th>\n",
       "      <td>...</td>\n",
       "      <td>...</td>\n",
       "      <td>...</td>\n",
       "      <td>...</td>\n",
       "      <td>...</td>\n",
       "      <td>...</td>\n",
       "      <td>...</td>\n",
       "      <td>...</td>\n",
       "      <td>...</td>\n",
       "    </tr>\n",
       "    <tr>\n",
       "      <th>133</th>\n",
       "      <td>Botswana</td>\n",
       "      <td>0.997549</td>\n",
       "      <td>1.085695</td>\n",
       "      <td>0.494102</td>\n",
       "      <td>0.509089</td>\n",
       "      <td>0.033407</td>\n",
       "      <td>0.101786</td>\n",
       "      <td>0.257241</td>\n",
       "      <td>Africa</td>\n",
       "    </tr>\n",
       "    <tr>\n",
       "      <th>134</th>\n",
       "      <td>Tanzania</td>\n",
       "      <td>0.457163</td>\n",
       "      <td>0.872675</td>\n",
       "      <td>0.442678</td>\n",
       "      <td>0.509343</td>\n",
       "      <td>0.271541</td>\n",
       "      <td>0.203881</td>\n",
       "      <td>0.718963</td>\n",
       "      <td>Africa</td>\n",
       "    </tr>\n",
       "    <tr>\n",
       "      <th>135</th>\n",
       "      <td>Rwanda</td>\n",
       "      <td>0.343243</td>\n",
       "      <td>0.522876</td>\n",
       "      <td>0.572383</td>\n",
       "      <td>0.604088</td>\n",
       "      <td>0.235705</td>\n",
       "      <td>0.485542</td>\n",
       "      <td>0.548445</td>\n",
       "      <td>Africa</td>\n",
       "    </tr>\n",
       "    <tr>\n",
       "      <th>136</th>\n",
       "      <td>Zimbabwe</td>\n",
       "      <td>0.425564</td>\n",
       "      <td>1.047835</td>\n",
       "      <td>0.375038</td>\n",
       "      <td>0.377405</td>\n",
       "      <td>0.151349</td>\n",
       "      <td>0.080929</td>\n",
       "      <td>0.841031</td>\n",
       "      <td>Africa</td>\n",
       "    </tr>\n",
       "    <tr>\n",
       "      <th>137</th>\n",
       "      <td>Afghanistan</td>\n",
       "      <td>0.300706</td>\n",
       "      <td>0.356434</td>\n",
       "      <td>0.266052</td>\n",
       "      <td>0.000000</td>\n",
       "      <td>0.135235</td>\n",
       "      <td>0.001226</td>\n",
       "      <td>1.507236</td>\n",
       "      <td>Asia</td>\n",
       "    </tr>\n",
       "  </tbody>\n",
       "</table>\n",
       "<p>138 rows × 9 columns</p>\n",
       "</div>"
      ],
      "text/plain": [
       "         country  gdp_per_capita  social_support    health   freedom  \\\n",
       "0        Finland        1.285190        1.499526  0.961271  0.662317   \n",
       "1        Denmark        1.326949        1.503449  0.979333  0.665040   \n",
       "2    Switzerland        1.390774        1.472403  1.040533  0.628954   \n",
       "3        Iceland        1.326502        1.547567  1.000843  0.661981   \n",
       "4         Norway        1.424207        1.495173  1.008072  0.670201   \n",
       "..           ...             ...             ...       ...       ...   \n",
       "133     Botswana        0.997549        1.085695  0.494102  0.509089   \n",
       "134     Tanzania        0.457163        0.872675  0.442678  0.509343   \n",
       "135       Rwanda        0.343243        0.522876  0.572383  0.604088   \n",
       "136     Zimbabwe        0.425564        1.047835  0.375038  0.377405   \n",
       "137  Afghanistan        0.300706        0.356434  0.266052  0.000000   \n",
       "\n",
       "     generosity  government_trust  dystopia_residual continent  \n",
       "0      0.159670          0.477857           2.762835    Europe  \n",
       "1      0.242793          0.495260           2.432741    Europe  \n",
       "2      0.269056          0.407946           2.350267    Europe  \n",
       "3      0.362330          0.144541           2.460688    Europe  \n",
       "4      0.287985          0.434101           2.168266    Europe  \n",
       "..          ...               ...                ...       ...  \n",
       "133    0.033407          0.101786           0.257241    Africa  \n",
       "134    0.271541          0.203881           0.718963    Africa  \n",
       "135    0.235705          0.485542           0.548445    Africa  \n",
       "136    0.151349          0.080929           0.841031    Africa  \n",
       "137    0.135235          0.001226           1.507236      Asia  \n",
       "\n",
       "[138 rows x 9 columns]"
      ]
     },
     "execution_count": 45,
     "metadata": {},
     "output_type": "execute_result"
    }
   ],
   "source": [
    "datahappy"
   ]
  },
  {
   "cell_type": "code",
   "execution_count": 88,
   "metadata": {},
   "outputs": [
    {
     "data": {
      "text/plain": [
       "array([0, 0, 0, 0, 0, 0, 0, 0, 0])"
      ]
     },
     "execution_count": 88,
     "metadata": {},
     "output_type": "execute_result"
    }
   ],
   "source": [
    "datahappy.isnull().sum().values"
   ]
  },
  {
   "cell_type": "code",
   "execution_count": 98,
   "metadata": {},
   "outputs": [
    {
     "data": {
      "text/html": [
       "<div>\n",
       "<style scoped>\n",
       "    .dataframe tbody tr th:only-of-type {\n",
       "        vertical-align: middle;\n",
       "    }\n",
       "\n",
       "    .dataframe tbody tr th {\n",
       "        vertical-align: top;\n",
       "    }\n",
       "\n",
       "    .dataframe thead th {\n",
       "        text-align: right;\n",
       "    }\n",
       "</style>\n",
       "<table border=\"1\" class=\"dataframe\">\n",
       "  <thead>\n",
       "    <tr style=\"text-align: right;\">\n",
       "      <th></th>\n",
       "      <th>country</th>\n",
       "      <th>gdp_per_capita</th>\n",
       "      <th>social_support</th>\n",
       "      <th>health</th>\n",
       "      <th>freedom</th>\n",
       "      <th>generosity</th>\n",
       "      <th>government_trust</th>\n",
       "      <th>dystopia_residual</th>\n",
       "      <th>continent</th>\n",
       "    </tr>\n",
       "  </thead>\n",
       "  <tbody>\n",
       "    <tr>\n",
       "      <th>23</th>\n",
       "      <td>Mexico</td>\n",
       "      <td>1.024387</td>\n",
       "      <td>1.226333</td>\n",
       "      <td>0.831601</td>\n",
       "      <td>0.553893</td>\n",
       "      <td>0.083094</td>\n",
       "      <td>0.083134</td>\n",
       "      <td>2.66254</td>\n",
       "      <td>North America</td>\n",
       "    </tr>\n",
       "  </tbody>\n",
       "</table>\n",
       "</div>"
      ],
      "text/plain": [
       "   country  gdp_per_capita  social_support    health   freedom  generosity  \\\n",
       "23  Mexico        1.024387        1.226333  0.831601  0.553893    0.083094   \n",
       "\n",
       "    government_trust  dystopia_residual      continent  \n",
       "23          0.083134            2.66254  North America  "
      ]
     },
     "execution_count": 98,
     "metadata": {},
     "output_type": "execute_result"
    }
   ],
   "source": [
    "datahappy[datahappy['country'] == 'Mexico']"
   ]
  },
  {
   "cell_type": "code",
   "execution_count": 47,
   "metadata": {},
   "outputs": [
    {
     "data": {
      "text/html": [
       "<div>\n",
       "<style scoped>\n",
       "    .dataframe tbody tr th:only-of-type {\n",
       "        vertical-align: middle;\n",
       "    }\n",
       "\n",
       "    .dataframe tbody tr th {\n",
       "        vertical-align: top;\n",
       "    }\n",
       "\n",
       "    .dataframe thead th {\n",
       "        text-align: right;\n",
       "    }\n",
       "</style>\n",
       "<table border=\"1\" class=\"dataframe\">\n",
       "  <thead>\n",
       "    <tr style=\"text-align: right;\">\n",
       "      <th></th>\n",
       "      <th>Country/Region</th>\n",
       "      <th>Province/State</th>\n",
       "      <th>Latitude</th>\n",
       "      <th>Longitude</th>\n",
       "      <th>Confirmed</th>\n",
       "      <th>Recovered</th>\n",
       "      <th>Deaths</th>\n",
       "      <th>Date</th>\n",
       "    </tr>\n",
       "  </thead>\n",
       "  <tbody>\n",
       "    <tr>\n",
       "      <th>0</th>\n",
       "      <td>China</td>\n",
       "      <td>Anhui</td>\n",
       "      <td>31.8257</td>\n",
       "      <td>117.2264</td>\n",
       "      <td>1.0</td>\n",
       "      <td>NaN</td>\n",
       "      <td>NaN</td>\n",
       "      <td>2020-01-22</td>\n",
       "    </tr>\n",
       "    <tr>\n",
       "      <th>1</th>\n",
       "      <td>China</td>\n",
       "      <td>Beijing</td>\n",
       "      <td>40.1824</td>\n",
       "      <td>116.4142</td>\n",
       "      <td>14.0</td>\n",
       "      <td>NaN</td>\n",
       "      <td>NaN</td>\n",
       "      <td>2020-01-22</td>\n",
       "    </tr>\n",
       "    <tr>\n",
       "      <th>2</th>\n",
       "      <td>China</td>\n",
       "      <td>Chongqing</td>\n",
       "      <td>30.0572</td>\n",
       "      <td>107.8740</td>\n",
       "      <td>6.0</td>\n",
       "      <td>NaN</td>\n",
       "      <td>NaN</td>\n",
       "      <td>2020-01-22</td>\n",
       "    </tr>\n",
       "    <tr>\n",
       "      <th>3</th>\n",
       "      <td>China</td>\n",
       "      <td>Fujian</td>\n",
       "      <td>26.0789</td>\n",
       "      <td>117.9874</td>\n",
       "      <td>1.0</td>\n",
       "      <td>NaN</td>\n",
       "      <td>NaN</td>\n",
       "      <td>2020-01-22</td>\n",
       "    </tr>\n",
       "    <tr>\n",
       "      <th>4</th>\n",
       "      <td>China</td>\n",
       "      <td>Gansu</td>\n",
       "      <td>35.7518</td>\n",
       "      <td>104.2861</td>\n",
       "      <td>NaN</td>\n",
       "      <td>NaN</td>\n",
       "      <td>NaN</td>\n",
       "      <td>2020-01-22</td>\n",
       "    </tr>\n",
       "  </tbody>\n",
       "</table>\n",
       "</div>"
      ],
      "text/plain": [
       "  Country/Region Province/State  Latitude  Longitude  Confirmed  Recovered  \\\n",
       "0          China          Anhui   31.8257   117.2264        1.0        NaN   \n",
       "1          China        Beijing   40.1824   116.4142       14.0        NaN   \n",
       "2          China      Chongqing   30.0572   107.8740        6.0        NaN   \n",
       "3          China         Fujian   26.0789   117.9874        1.0        NaN   \n",
       "4          China          Gansu   35.7518   104.2861        NaN        NaN   \n",
       "\n",
       "   Deaths        Date  \n",
       "0     NaN  2020-01-22  \n",
       "1     NaN  2020-01-22  \n",
       "2     NaN  2020-01-22  \n",
       "3     NaN  2020-01-22  \n",
       "4     NaN  2020-01-22  "
      ]
     },
     "execution_count": 47,
     "metadata": {},
     "output_type": "execute_result"
    }
   ],
   "source": [
    "datacovid = pd.read_csv('./data/covid-19-all.csv.zip')\n",
    "datacovid.head()"
   ]
  },
  {
   "cell_type": "code",
   "execution_count": 48,
   "metadata": {},
   "outputs": [
    {
     "data": {
      "text/html": [
       "<div>\n",
       "<style scoped>\n",
       "    .dataframe tbody tr th:only-of-type {\n",
       "        vertical-align: middle;\n",
       "    }\n",
       "\n",
       "    .dataframe tbody tr th {\n",
       "        vertical-align: top;\n",
       "    }\n",
       "\n",
       "    .dataframe thead th {\n",
       "        text-align: right;\n",
       "    }\n",
       "</style>\n",
       "<table border=\"1\" class=\"dataframe\">\n",
       "  <thead>\n",
       "    <tr style=\"text-align: right;\">\n",
       "      <th></th>\n",
       "      <th>Latitude</th>\n",
       "      <th>Longitude</th>\n",
       "      <th>Confirmed</th>\n",
       "      <th>Recovered</th>\n",
       "      <th>Deaths</th>\n",
       "    </tr>\n",
       "  </thead>\n",
       "  <tbody>\n",
       "    <tr>\n",
       "      <th>count</th>\n",
       "      <td>983418.000000</td>\n",
       "      <td>983418.000000</td>\n",
       "      <td>9.834000e+05</td>\n",
       "      <td>9.830280e+05</td>\n",
       "      <td>982977.000000</td>\n",
       "    </tr>\n",
       "    <tr>\n",
       "      <th>mean</th>\n",
       "      <td>36.045178</td>\n",
       "      <td>-73.526484</td>\n",
       "      <td>6.036703e+03</td>\n",
       "      <td>3.823701e+03</td>\n",
       "      <td>188.997422</td>\n",
       "    </tr>\n",
       "    <tr>\n",
       "      <th>std</th>\n",
       "      <td>12.557841</td>\n",
       "      <td>51.833919</td>\n",
       "      <td>4.119410e+04</td>\n",
       "      <td>5.066675e+04</td>\n",
       "      <td>1414.365494</td>\n",
       "    </tr>\n",
       "    <tr>\n",
       "      <th>min</th>\n",
       "      <td>-52.368000</td>\n",
       "      <td>-174.159600</td>\n",
       "      <td>-3.028440e+05</td>\n",
       "      <td>-8.544050e+05</td>\n",
       "      <td>-178.000000</td>\n",
       "    </tr>\n",
       "    <tr>\n",
       "      <th>25%</th>\n",
       "      <td>33.413578</td>\n",
       "      <td>-96.456209</td>\n",
       "      <td>3.400000e+01</td>\n",
       "      <td>0.000000e+00</td>\n",
       "      <td>0.000000</td>\n",
       "    </tr>\n",
       "    <tr>\n",
       "      <th>50%</th>\n",
       "      <td>37.937575</td>\n",
       "      <td>-86.993200</td>\n",
       "      <td>2.450000e+02</td>\n",
       "      <td>0.000000e+00</td>\n",
       "      <td>4.000000</td>\n",
       "    </tr>\n",
       "    <tr>\n",
       "      <th>75%</th>\n",
       "      <td>41.927342</td>\n",
       "      <td>-78.277155</td>\n",
       "      <td>1.298000e+03</td>\n",
       "      <td>0.000000e+00</td>\n",
       "      <td>28.000000</td>\n",
       "    </tr>\n",
       "    <tr>\n",
       "      <th>max</th>\n",
       "      <td>72.000000</td>\n",
       "      <td>178.065000</td>\n",
       "      <td>2.321996e+06</td>\n",
       "      <td>5.889896e+06</td>\n",
       "      <td>56293.000000</td>\n",
       "    </tr>\n",
       "  </tbody>\n",
       "</table>\n",
       "</div>"
      ],
      "text/plain": [
       "            Latitude      Longitude     Confirmed     Recovered         Deaths\n",
       "count  983418.000000  983418.000000  9.834000e+05  9.830280e+05  982977.000000\n",
       "mean       36.045178     -73.526484  6.036703e+03  3.823701e+03     188.997422\n",
       "std        12.557841      51.833919  4.119410e+04  5.066675e+04    1414.365494\n",
       "min       -52.368000    -174.159600 -3.028440e+05 -8.544050e+05    -178.000000\n",
       "25%        33.413578     -96.456209  3.400000e+01  0.000000e+00       0.000000\n",
       "50%        37.937575     -86.993200  2.450000e+02  0.000000e+00       4.000000\n",
       "75%        41.927342     -78.277155  1.298000e+03  0.000000e+00      28.000000\n",
       "max        72.000000     178.065000  2.321996e+06  5.889896e+06   56293.000000"
      ]
     },
     "execution_count": 48,
     "metadata": {},
     "output_type": "execute_result"
    }
   ],
   "source": [
    "datacovid.describe()"
   ]
  },
  {
   "cell_type": "code",
   "execution_count": 49,
   "metadata": {},
   "outputs": [],
   "source": [
    "datacovid.drop(['Province/State','Latitude', 'Longitude', 'Date'], axis = 1, inplace=True) "
   ]
  },
  {
   "cell_type": "code",
   "execution_count": 50,
   "metadata": {},
   "outputs": [
    {
     "name": "stdout",
     "output_type": "stream",
     "text": [
      "Country/Region      0\n",
      "Confirmed          19\n",
      "Recovered         391\n",
      "Deaths            442\n",
      "dtype: int64\n"
     ]
    }
   ],
   "source": [
    "count_nan = len(datacovid) - datacovid.count() #cantidad de celdas vacias por columna\n",
    "print(count_nan)"
   ]
  },
  {
   "cell_type": "code",
   "execution_count": 51,
   "metadata": {},
   "outputs": [
    {
     "data": {
      "text/plain": [
       "<seaborn.axisgrid.PairGrid at 0x7fad3081b550>"
      ]
     },
     "execution_count": 51,
     "metadata": {},
     "output_type": "execute_result"
    },
    {
     "data": {
      "image/png": "[encoded data removed]",
      "text/plain": [
       "<Figure size 540x540 with 12 Axes>"
      ]
     },
     "metadata": {
      "needs_background": "light"
     },
     "output_type": "display_data"
    }
   ],
   "source": [
    "sns.pairplot(datacovid)"
   ]
  },
  {
   "cell_type": "code",
   "execution_count": 52,
   "metadata": {},
   "outputs": [
    {
     "data": {
      "text/html": [
       "<div>\n",
       "<style scoped>\n",
       "    .dataframe tbody tr th:only-of-type {\n",
       "        vertical-align: middle;\n",
       "    }\n",
       "\n",
       "    .dataframe tbody tr th {\n",
       "        vertical-align: top;\n",
       "    }\n",
       "\n",
       "    .dataframe thead th {\n",
       "        text-align: right;\n",
       "    }\n",
       "</style>\n",
       "<table border=\"1\" class=\"dataframe\">\n",
       "  <thead>\n",
       "    <tr style=\"text-align: right;\">\n",
       "      <th></th>\n",
       "      <th>Country/Region</th>\n",
       "      <th>Confirmed</th>\n",
       "      <th>Recovered</th>\n",
       "      <th>Deaths</th>\n",
       "    </tr>\n",
       "  </thead>\n",
       "  <tbody>\n",
       "    <tr>\n",
       "      <th>832645</th>\n",
       "      <td>Colombia</td>\n",
       "      <td>-302844.0</td>\n",
       "      <td>0.0</td>\n",
       "      <td>0.0</td>\n",
       "    </tr>\n",
       "  </tbody>\n",
       "</table>\n",
       "</div>"
      ],
      "text/plain": [
       "       Country/Region  Confirmed  Recovered  Deaths\n",
       "832645       Colombia  -302844.0        0.0     0.0"
      ]
     },
     "execution_count": 52,
     "metadata": {},
     "output_type": "execute_result"
    }
   ],
   "source": [
    "datacovid[(datacovid['Confirmed'] < 0)]"
   ]
  },
  {
   "cell_type": "code",
   "execution_count": 53,
   "metadata": {},
   "outputs": [
    {
     "data": {
      "text/html": [
       "<div>\n",
       "<style scoped>\n",
       "    .dataframe tbody tr th:only-of-type {\n",
       "        vertical-align: middle;\n",
       "    }\n",
       "\n",
       "    .dataframe tbody tr th {\n",
       "        vertical-align: top;\n",
       "    }\n",
       "\n",
       "    .dataframe thead th {\n",
       "        text-align: right;\n",
       "    }\n",
       "</style>\n",
       "<table border=\"1\" class=\"dataframe\">\n",
       "  <thead>\n",
       "    <tr style=\"text-align: right;\">\n",
       "      <th></th>\n",
       "      <th>Country/Region</th>\n",
       "      <th>Confirmed</th>\n",
       "      <th>Recovered</th>\n",
       "      <th>Deaths</th>\n",
       "    </tr>\n",
       "  </thead>\n",
       "  <tbody>\n",
       "    <tr>\n",
       "      <th>678265</th>\n",
       "      <td>Colombia</td>\n",
       "      <td>0.0</td>\n",
       "      <td>-12684.0</td>\n",
       "      <td>-178.0</td>\n",
       "    </tr>\n",
       "    <tr>\n",
       "      <th>800960</th>\n",
       "      <td>Colombia</td>\n",
       "      <td>0.0</td>\n",
       "      <td>-8072.0</td>\n",
       "      <td>-154.0</td>\n",
       "    </tr>\n",
       "    <tr>\n",
       "      <th>820762</th>\n",
       "      <td>Colombia</td>\n",
       "      <td>0.0</td>\n",
       "      <td>-854405.0</td>\n",
       "      <td>505.0</td>\n",
       "    </tr>\n",
       "  </tbody>\n",
       "</table>\n",
       "</div>"
      ],
      "text/plain": [
       "       Country/Region  Confirmed  Recovered  Deaths\n",
       "678265       Colombia        0.0   -12684.0  -178.0\n",
       "800960       Colombia        0.0    -8072.0  -154.0\n",
       "820762       Colombia        0.0  -854405.0   505.0"
      ]
     },
     "execution_count": 53,
     "metadata": {},
     "output_type": "execute_result"
    }
   ],
   "source": [
    "datacovid[(datacovid['Recovered'] < 0)]"
   ]
  },
  {
   "cell_type": "code",
   "execution_count": 54,
   "metadata": {},
   "outputs": [
    {
     "data": {
      "text/html": [
       "<div>\n",
       "<style scoped>\n",
       "    .dataframe tbody tr th:only-of-type {\n",
       "        vertical-align: middle;\n",
       "    }\n",
       "\n",
       "    .dataframe tbody tr th {\n",
       "        vertical-align: top;\n",
       "    }\n",
       "\n",
       "    .dataframe thead th {\n",
       "        text-align: right;\n",
       "    }\n",
       "</style>\n",
       "<table border=\"1\" class=\"dataframe\">\n",
       "  <thead>\n",
       "    <tr style=\"text-align: right;\">\n",
       "      <th></th>\n",
       "      <th>Country/Region</th>\n",
       "      <th>Confirmed</th>\n",
       "      <th>Recovered</th>\n",
       "      <th>Deaths</th>\n",
       "    </tr>\n",
       "  </thead>\n",
       "  <tbody>\n",
       "    <tr>\n",
       "      <th>678265</th>\n",
       "      <td>Colombia</td>\n",
       "      <td>0.0</td>\n",
       "      <td>-12684.0</td>\n",
       "      <td>-178.0</td>\n",
       "    </tr>\n",
       "    <tr>\n",
       "      <th>800960</th>\n",
       "      <td>Colombia</td>\n",
       "      <td>0.0</td>\n",
       "      <td>-8072.0</td>\n",
       "      <td>-154.0</td>\n",
       "    </tr>\n",
       "  </tbody>\n",
       "</table>\n",
       "</div>"
      ],
      "text/plain": [
       "       Country/Region  Confirmed  Recovered  Deaths\n",
       "678265       Colombia        0.0   -12684.0  -178.0\n",
       "800960       Colombia        0.0    -8072.0  -154.0"
      ]
     },
     "execution_count": 54,
     "metadata": {},
     "output_type": "execute_result"
    }
   ],
   "source": [
    "datacovid[(datacovid['Deaths'] < 0)]"
   ]
  },
  {
   "cell_type": "code",
   "execution_count": 55,
   "metadata": {},
   "outputs": [],
   "source": [
    "datacovid= datacovid.drop(datacovid[datacovid['Confirmed'] < 0].index)"
   ]
  },
  {
   "cell_type": "code",
   "execution_count": 56,
   "metadata": {},
   "outputs": [],
   "source": [
    "datacovid= datacovid.drop(datacovid[datacovid['Recovered'] < 0].index)"
   ]
  },
  {
   "cell_type": "code",
   "execution_count": 57,
   "metadata": {},
   "outputs": [
    {
     "data": {
      "text/plain": [
       "<seaborn.axisgrid.PairGrid at 0x7fad1d9eb310>"
      ]
     },
     "execution_count": 57,
     "metadata": {},
     "output_type": "execute_result"
    },
    {
     "data": {
      "image/png": "[encoded data removed]",
      "text/plain": [
       "<Figure size 540x540 with 12 Axes>"
      ]
     },
     "metadata": {
      "needs_background": "light"
     },
     "output_type": "display_data"
    }
   ],
   "source": [
    "\n",
    "sns.pairplot(datacovid)"
   ]
  },
  {
   "cell_type": "code",
   "execution_count": 58,
   "metadata": {},
   "outputs": [],
   "source": [
    "datacovid.rename(columns = {'Country/Region':'country'}, inplace = True)"
   ]
  },
  {
   "cell_type": "code",
   "execution_count": 59,
   "metadata": {},
   "outputs": [
    {
     "data": {
      "text/html": [
       "<div>\n",
       "<style scoped>\n",
       "    .dataframe tbody tr th:only-of-type {\n",
       "        vertical-align: middle;\n",
       "    }\n",
       "\n",
       "    .dataframe tbody tr th {\n",
       "        vertical-align: top;\n",
       "    }\n",
       "\n",
       "    .dataframe thead th {\n",
       "        text-align: right;\n",
       "    }\n",
       "</style>\n",
       "<table border=\"1\" class=\"dataframe\">\n",
       "  <thead>\n",
       "    <tr style=\"text-align: right;\">\n",
       "      <th></th>\n",
       "      <th>country</th>\n",
       "      <th>Confirmed</th>\n",
       "      <th>Recovered</th>\n",
       "      <th>Deaths</th>\n",
       "    </tr>\n",
       "  </thead>\n",
       "  <tbody>\n",
       "    <tr>\n",
       "      <th>0</th>\n",
       "      <td>Afghanistan</td>\n",
       "      <td>7387702.0</td>\n",
       "      <td>5128106.0</td>\n",
       "      <td>251784.0</td>\n",
       "    </tr>\n",
       "    <tr>\n",
       "      <th>1</th>\n",
       "      <td>Albania</td>\n",
       "      <td>2566014.0</td>\n",
       "      <td>1372081.0</td>\n",
       "      <td>64504.0</td>\n",
       "    </tr>\n",
       "    <tr>\n",
       "      <th>2</th>\n",
       "      <td>Algeria</td>\n",
       "      <td>8485107.0</td>\n",
       "      <td>5748927.0</td>\n",
       "      <td>319094.0</td>\n",
       "    </tr>\n",
       "    <tr>\n",
       "      <th>3</th>\n",
       "      <td>Andorra</td>\n",
       "      <td>515626.0</td>\n",
       "      <td>399210.0</td>\n",
       "      <td>13710.0</td>\n",
       "    </tr>\n",
       "    <tr>\n",
       "      <th>4</th>\n",
       "      <td>Angola</td>\n",
       "      <td>975124.0</td>\n",
       "      <td>437111.0</td>\n",
       "      <td>28313.0</td>\n",
       "    </tr>\n",
       "    <tr>\n",
       "      <th>...</th>\n",
       "      <td>...</td>\n",
       "      <td>...</td>\n",
       "      <td>...</td>\n",
       "      <td>...</td>\n",
       "    </tr>\n",
       "    <tr>\n",
       "      <th>213</th>\n",
       "      <td>Vietnam</td>\n",
       "      <td>188083.0</td>\n",
       "      <td>153619.0</td>\n",
       "      <td>4138.0</td>\n",
       "    </tr>\n",
       "    <tr>\n",
       "      <th>214</th>\n",
       "      <td>West Bank and Gaza</td>\n",
       "      <td>6057124.0</td>\n",
       "      <td>4583396.0</td>\n",
       "      <td>49507.0</td>\n",
       "    </tr>\n",
       "    <tr>\n",
       "      <th>215</th>\n",
       "      <td>Yemen</td>\n",
       "      <td>338531.0</td>\n",
       "      <td>192481.0</td>\n",
       "      <td>95897.0</td>\n",
       "    </tr>\n",
       "    <tr>\n",
       "      <th>216</th>\n",
       "      <td>Zambia</td>\n",
       "      <td>2015131.0</td>\n",
       "      <td>1836532.0</td>\n",
       "      <td>44784.0</td>\n",
       "    </tr>\n",
       "    <tr>\n",
       "      <th>217</th>\n",
       "      <td>Zimbabwe</td>\n",
       "      <td>1065264.0</td>\n",
       "      <td>833114.0</td>\n",
       "      <td>29474.0</td>\n",
       "    </tr>\n",
       "  </tbody>\n",
       "</table>\n",
       "<p>218 rows × 4 columns</p>\n",
       "</div>"
      ],
      "text/plain": [
       "                country  Confirmed  Recovered    Deaths\n",
       "0           Afghanistan  7387702.0  5128106.0  251784.0\n",
       "1               Albania  2566014.0  1372081.0   64504.0\n",
       "2               Algeria  8485107.0  5748927.0  319094.0\n",
       "3               Andorra   515626.0   399210.0   13710.0\n",
       "4                Angola   975124.0   437111.0   28313.0\n",
       "..                  ...        ...        ...       ...\n",
       "213             Vietnam   188083.0   153619.0    4138.0\n",
       "214  West Bank and Gaza  6057124.0  4583396.0   49507.0\n",
       "215               Yemen   338531.0   192481.0   95897.0\n",
       "216              Zambia  2015131.0  1836532.0   44784.0\n",
       "217            Zimbabwe  1065264.0   833114.0   29474.0\n",
       "\n",
       "[218 rows x 4 columns]"
      ]
     },
     "execution_count": 59,
     "metadata": {},
     "output_type": "execute_result"
    }
   ],
   "source": [
    "grouped_data = datacovid.groupby(['country'], as_index = False).sum()\n",
    "grouped_data"
   ]
  },
  {
   "cell_type": "code",
   "execution_count": 93,
   "metadata": {},
   "outputs": [
    {
     "data": {
      "text/html": [
       "<div>\n",
       "<style scoped>\n",
       "    .dataframe tbody tr th:only-of-type {\n",
       "        vertical-align: middle;\n",
       "    }\n",
       "\n",
       "    .dataframe tbody tr th {\n",
       "        vertical-align: top;\n",
       "    }\n",
       "\n",
       "    .dataframe thead th {\n",
       "        text-align: right;\n",
       "    }\n",
       "</style>\n",
       "<table border=\"1\" class=\"dataframe\">\n",
       "  <thead>\n",
       "    <tr style=\"text-align: right;\">\n",
       "      <th></th>\n",
       "      <th>country</th>\n",
       "      <th>Confirmed</th>\n",
       "      <th>Recovered</th>\n",
       "      <th>Deaths</th>\n",
       "      <th>gdp_per_capita</th>\n",
       "      <th>social_support</th>\n",
       "      <th>health</th>\n",
       "      <th>freedom</th>\n",
       "      <th>generosity</th>\n",
       "      <th>government_trust</th>\n",
       "      <th>dystopia_residual</th>\n",
       "      <th>continent</th>\n",
       "    </tr>\n",
       "  </thead>\n",
       "  <tbody>\n",
       "    <tr>\n",
       "      <th>0</th>\n",
       "      <td>Afghanistan</td>\n",
       "      <td>7387702.0</td>\n",
       "      <td>5128106.0</td>\n",
       "      <td>251784.0</td>\n",
       "      <td>0.300706</td>\n",
       "      <td>0.356434</td>\n",
       "      <td>0.266052</td>\n",
       "      <td>0.000000</td>\n",
       "      <td>0.135235</td>\n",
       "      <td>0.001226</td>\n",
       "      <td>1.507236</td>\n",
       "      <td>Asia</td>\n",
       "    </tr>\n",
       "    <tr>\n",
       "      <th>1</th>\n",
       "      <td>Albania</td>\n",
       "      <td>2566014.0</td>\n",
       "      <td>1372081.0</td>\n",
       "      <td>64504.0</td>\n",
       "      <td>0.906653</td>\n",
       "      <td>0.830484</td>\n",
       "      <td>0.846330</td>\n",
       "      <td>0.461946</td>\n",
       "      <td>0.171028</td>\n",
       "      <td>0.025361</td>\n",
       "      <td>1.640897</td>\n",
       "      <td>Europe</td>\n",
       "    </tr>\n",
       "    <tr>\n",
       "      <th>2</th>\n",
       "      <td>Algeria</td>\n",
       "      <td>8485107.0</td>\n",
       "      <td>5748927.0</td>\n",
       "      <td>319094.0</td>\n",
       "      <td>0.943856</td>\n",
       "      <td>1.143004</td>\n",
       "      <td>0.745419</td>\n",
       "      <td>0.083944</td>\n",
       "      <td>0.118915</td>\n",
       "      <td>0.129191</td>\n",
       "      <td>1.840812</td>\n",
       "      <td>Africa</td>\n",
       "    </tr>\n",
       "    <tr>\n",
       "      <th>3</th>\n",
       "      <td>Argentina</td>\n",
       "      <td>114309026.0</td>\n",
       "      <td>91192612.0</td>\n",
       "      <td>2881217.0</td>\n",
       "      <td>1.028466</td>\n",
       "      <td>1.372544</td>\n",
       "      <td>0.849774</td>\n",
       "      <td>0.520840</td>\n",
       "      <td>0.070100</td>\n",
       "      <td>0.060415</td>\n",
       "      <td>2.072541</td>\n",
       "      <td>South America</td>\n",
       "    </tr>\n",
       "    <tr>\n",
       "      <th>4</th>\n",
       "      <td>Armenia</td>\n",
       "      <td>11180494.0</td>\n",
       "      <td>8208215.0</td>\n",
       "      <td>190542.0</td>\n",
       "      <td>0.808262</td>\n",
       "      <td>1.034577</td>\n",
       "      <td>0.775857</td>\n",
       "      <td>0.378076</td>\n",
       "      <td>0.107226</td>\n",
       "      <td>0.104618</td>\n",
       "      <td>1.468162</td>\n",
       "      <td>Asia</td>\n",
       "    </tr>\n",
       "    <tr>\n",
       "      <th>...</th>\n",
       "      <td>...</td>\n",
       "      <td>...</td>\n",
       "      <td>...</td>\n",
       "      <td>...</td>\n",
       "      <td>...</td>\n",
       "      <td>...</td>\n",
       "      <td>...</td>\n",
       "      <td>...</td>\n",
       "      <td>...</td>\n",
       "      <td>...</td>\n",
       "      <td>...</td>\n",
       "      <td>...</td>\n",
       "    </tr>\n",
       "    <tr>\n",
       "      <th>128</th>\n",
       "      <td>Venezuela</td>\n",
       "      <td>9876958.0</td>\n",
       "      <td>8527698.0</td>\n",
       "      <td>84762.0</td>\n",
       "      <td>0.770239</td>\n",
       "      <td>1.348547</td>\n",
       "      <td>0.767026</td>\n",
       "      <td>0.271717</td>\n",
       "      <td>0.087179</td>\n",
       "      <td>0.063625</td>\n",
       "      <td>1.744841</td>\n",
       "      <td>South America</td>\n",
       "    </tr>\n",
       "    <tr>\n",
       "      <th>129</th>\n",
       "      <td>Vietnam</td>\n",
       "      <td>188083.0</td>\n",
       "      <td>153619.0</td>\n",
       "      <td>4138.0</td>\n",
       "      <td>0.718092</td>\n",
       "      <td>1.253075</td>\n",
       "      <td>0.819134</td>\n",
       "      <td>0.650836</td>\n",
       "      <td>0.136489</td>\n",
       "      <td>0.089848</td>\n",
       "      <td>1.685978</td>\n",
       "      <td>Asia</td>\n",
       "    </tr>\n",
       "    <tr>\n",
       "      <th>130</th>\n",
       "      <td>Yemen</td>\n",
       "      <td>338531.0</td>\n",
       "      <td>192481.0</td>\n",
       "      <td>95897.0</td>\n",
       "      <td>0.392702</td>\n",
       "      <td>1.177477</td>\n",
       "      <td>0.415000</td>\n",
       "      <td>0.243721</td>\n",
       "      <td>0.094689</td>\n",
       "      <td>0.087352</td>\n",
       "      <td>1.116473</td>\n",
       "      <td>Asia</td>\n",
       "    </tr>\n",
       "    <tr>\n",
       "      <th>131</th>\n",
       "      <td>Zambia</td>\n",
       "      <td>2015131.0</td>\n",
       "      <td>1836532.0</td>\n",
       "      <td>44784.0</td>\n",
       "      <td>0.536834</td>\n",
       "      <td>0.896037</td>\n",
       "      <td>0.363593</td>\n",
       "      <td>0.491318</td>\n",
       "      <td>0.250621</td>\n",
       "      <td>0.086705</td>\n",
       "      <td>1.134339</td>\n",
       "      <td>Africa</td>\n",
       "    </tr>\n",
       "    <tr>\n",
       "      <th>132</th>\n",
       "      <td>Zimbabwe</td>\n",
       "      <td>1065264.0</td>\n",
       "      <td>833114.0</td>\n",
       "      <td>29474.0</td>\n",
       "      <td>0.425564</td>\n",
       "      <td>1.047835</td>\n",
       "      <td>0.375038</td>\n",
       "      <td>0.377405</td>\n",
       "      <td>0.151349</td>\n",
       "      <td>0.080929</td>\n",
       "      <td>0.841031</td>\n",
       "      <td>Africa</td>\n",
       "    </tr>\n",
       "  </tbody>\n",
       "</table>\n",
       "<p>133 rows × 12 columns</p>\n",
       "</div>"
      ],
      "text/plain": [
       "         country    Confirmed   Recovered     Deaths  gdp_per_capita  \\\n",
       "0    Afghanistan    7387702.0   5128106.0   251784.0        0.300706   \n",
       "1        Albania    2566014.0   1372081.0    64504.0        0.906653   \n",
       "2        Algeria    8485107.0   5748927.0   319094.0        0.943856   \n",
       "3      Argentina  114309026.0  91192612.0  2881217.0        1.028466   \n",
       "4        Armenia   11180494.0   8208215.0   190542.0        0.808262   \n",
       "..           ...          ...         ...        ...             ...   \n",
       "128    Venezuela    9876958.0   8527698.0    84762.0        0.770239   \n",
       "129      Vietnam     188083.0    153619.0     4138.0        0.718092   \n",
       "130        Yemen     338531.0    192481.0    95897.0        0.392702   \n",
       "131       Zambia    2015131.0   1836532.0    44784.0        0.536834   \n",
       "132     Zimbabwe    1065264.0    833114.0    29474.0        0.425564   \n",
       "\n",
       "     social_support    health   freedom  generosity  government_trust  \\\n",
       "0          0.356434  0.266052  0.000000    0.135235          0.001226   \n",
       "1          0.830484  0.846330  0.461946    0.171028          0.025361   \n",
       "2          1.143004  0.745419  0.083944    0.118915          0.129191   \n",
       "3          1.372544  0.849774  0.520840    0.070100          0.060415   \n",
       "4          1.034577  0.775857  0.378076    0.107226          0.104618   \n",
       "..              ...       ...       ...         ...               ...   \n",
       "128        1.348547  0.767026  0.271717    0.087179          0.063625   \n",
       "129        1.253075  0.819134  0.650836    0.136489          0.089848   \n",
       "130        1.177477  0.415000  0.243721    0.094689          0.087352   \n",
       "131        0.896037  0.363593  0.491318    0.250621          0.086705   \n",
       "132        1.047835  0.375038  0.377405    0.151349          0.080929   \n",
       "\n",
       "     dystopia_residual      continent  \n",
       "0             1.507236           Asia  \n",
       "1             1.640897         Europe  \n",
       "2             1.840812         Africa  \n",
       "3             2.072541  South America  \n",
       "4             1.468162           Asia  \n",
       "..                 ...            ...  \n",
       "128           1.744841  South America  \n",
       "129           1.685978           Asia  \n",
       "130           1.116473           Asia  \n",
       "131           1.134339         Africa  \n",
       "132           0.841031         Africa  \n",
       "\n",
       "[133 rows x 12 columns]"
      ]
     },
     "execution_count": 93,
     "metadata": {},
     "output_type": "execute_result"
    }
   ],
   "source": [
    "joined_df = grouped_data.merge(datahappy)\n",
    "joined_df"
   ]
  },
  {
   "cell_type": "code",
   "execution_count": 61,
   "metadata": {},
   "outputs": [
    {
     "data": {
      "text/plain": [
       "Index(['country', 'Confirmed', 'Recovered', 'Deaths', 'gdp_per_capita',\n",
       "       'social_support', 'health', 'freedom', 'generosity', 'government_trust',\n",
       "       'dystopia_residual', 'continent'],\n",
       "      dtype='object')"
      ]
     },
     "execution_count": 61,
     "metadata": {},
     "output_type": "execute_result"
    }
   ],
   "source": [
    "joined_df.columns"
   ]
  },
  {
   "cell_type": "code",
   "execution_count": 62,
   "metadata": {},
   "outputs": [],
   "source": [
    "# Se separan las características: en este caso todos los datos con excepción de la columna del nombre de los jugadores\n",
    "x =joined_df.loc[:,'Confirmed':'dystopia_residual'].values \n",
    "\n",
    "# Se separan el target: Columna de Jugadores\n",
    "y = joined_df.loc[:,['continent']].values"
   ]
  },
  {
   "cell_type": "code",
   "execution_count": 63,
   "metadata": {},
   "outputs": [],
   "source": [
    "\n",
    "# Se estandarizan las características:\n",
    "\n",
    "from sklearn.preprocessing import StandardScaler\n",
    "x = StandardScaler().fit_transform(x)"
   ]
  },
  {
   "cell_type": "code",
   "execution_count": 64,
   "metadata": {},
   "outputs": [],
   "source": [
    "from sklearn.decomposition import PCA\n",
    "pca = PCA(n_components=3)\n",
    "principalComponents = pca.fit_transform(x)"
   ]
  },
  {
   "cell_type": "code",
   "execution_count": 65,
   "metadata": {},
   "outputs": [
    {
     "data": {
      "text/plain": [
       "(133, 3)"
      ]
     },
     "execution_count": 65,
     "metadata": {},
     "output_type": "execute_result"
    }
   ],
   "source": [
    "principalComponents.shape"
   ]
  },
  {
   "cell_type": "code",
   "execution_count": 66,
   "metadata": {},
   "outputs": [
    {
     "data": {
      "text/html": [
       "<div>\n",
       "<style scoped>\n",
       "    .dataframe tbody tr th:only-of-type {\n",
       "        vertical-align: middle;\n",
       "    }\n",
       "\n",
       "    .dataframe tbody tr th {\n",
       "        vertical-align: top;\n",
       "    }\n",
       "\n",
       "    .dataframe thead th {\n",
       "        text-align: right;\n",
       "    }\n",
       "</style>\n",
       "<table border=\"1\" class=\"dataframe\">\n",
       "  <thead>\n",
       "    <tr style=\"text-align: right;\">\n",
       "      <th></th>\n",
       "      <th>PC1</th>\n",
       "      <th>PC2</th>\n",
       "      <th>PC3</th>\n",
       "      <th>continent</th>\n",
       "    </tr>\n",
       "  </thead>\n",
       "  <tbody>\n",
       "    <tr>\n",
       "      <th>0</th>\n",
       "      <td>-4.716249</td>\n",
       "      <td>1.515423</td>\n",
       "      <td>0.835435</td>\n",
       "      <td>Asia</td>\n",
       "    </tr>\n",
       "    <tr>\n",
       "      <th>1</th>\n",
       "      <td>-0.747524</td>\n",
       "      <td>-0.130638</td>\n",
       "      <td>0.501488</td>\n",
       "      <td>Europe</td>\n",
       "    </tr>\n",
       "    <tr>\n",
       "      <th>2</th>\n",
       "      <td>-1.074379</td>\n",
       "      <td>0.043980</td>\n",
       "      <td>1.590937</td>\n",
       "      <td>Africa</td>\n",
       "    </tr>\n",
       "    <tr>\n",
       "      <th>3</th>\n",
       "      <td>1.198455</td>\n",
       "      <td>1.001325</td>\n",
       "      <td>1.216306</td>\n",
       "      <td>South America</td>\n",
       "    </tr>\n",
       "    <tr>\n",
       "      <th>4</th>\n",
       "      <td>-0.698486</td>\n",
       "      <td>-0.042155</td>\n",
       "      <td>0.951979</td>\n",
       "      <td>Asia</td>\n",
       "    </tr>\n",
       "  </tbody>\n",
       "</table>\n",
       "</div>"
      ],
      "text/plain": [
       "        PC1       PC2       PC3      continent\n",
       "0 -4.716249  1.515423  0.835435           Asia\n",
       "1 -0.747524 -0.130638  0.501488         Europe\n",
       "2 -1.074379  0.043980  1.590937         Africa\n",
       "3  1.198455  1.001325  1.216306  South America\n",
       "4 -0.698486 -0.042155  0.951979           Asia"
      ]
     },
     "execution_count": 66,
     "metadata": {},
     "output_type": "execute_result"
    }
   ],
   "source": [
    "pca_df = pd.DataFrame(principalComponents, columns=['PC1', 'PC2', 'PC3'])\n",
    "pca_df['continent'] = y\n",
    "pca_df.head()"
   ]
  },
  {
   "cell_type": "code",
   "execution_count": 99,
   "metadata": {},
   "outputs": [
    {
     "name": "stdout",
     "output_type": "stream",
     "text": [
      "[0.31877367 0.2707635  0.13648207]\n",
      "0.726019240421079\n"
     ]
    }
   ],
   "source": [
    "print(pca.explained_variance_ratio_) #mostrando porcentaje de varianza de los 3 PCA\n",
    "print(sum(pca.explained_variance_ratio_)) #suma de porcentajes de varianza de los 3 PCA"
   ]
  },
  {
   "cell_type": "code",
   "execution_count": 100,
   "metadata": {},
   "outputs": [
    {
     "data": {
      "application/vnd.plotly.v1+json": {
       "config": {
        "plotlyServerURL": "https://plot.ly"
       },
       "data": [
        {
         "hovertemplate": "# Components=%{x}<br>Explained Variance=%{y}<extra></extra>",
         "legendgroup": "",
         "line": {
          "color": "#636efa"
         },
         "mode": "lines",
         "name": "",
         "orientation": "v",
         "showlegend": false,
         "stackgroup": "1",
         "type": "scatter",
         "x": [
          1,
          2,
          3
         ],
         "xaxis": "x",
         "y": [
          0.3187736728990399,
          0.5895371717425476,
          0.726019240421079
         ],
         "yaxis": "y"
        }
       ],
       "layout": {
        "legend": {
         "tracegroupgap": 0
        },
        "margin": {
         "t": 60
        },
        "template": {
         "data": {
          "bar": [
           {
            "error_x": {
             "color": "#2a3f5f"
            },
            "error_y": {
             "color": "#2a3f5f"
            },
            "marker": {
             "line": {
              "color": "#E5ECF6",
              "width": 0.5
             }
            },
            "type": "bar"
           }
          ],
          "barpolar": [
           {
            "marker": {
             "line": {
              "color": "#E5ECF6",
              "width": 0.5
             }
            },
            "type": "barpolar"
           }
          ],
          "carpet": [
           {
            "aaxis": {
             "endlinecolor": "#2a3f5f",
             "gridcolor": "white",
             "linecolor": "white",
             "minorgridcolor": "white",
             "startlinecolor": "#2a3f5f"
            },
            "baxis": {
             "endlinecolor": "#2a3f5f",
             "gridcolor": "white",
             "linecolor": "white",
             "minorgridcolor": "white",
             "startlinecolor": "#2a3f5f"
            },
            "type": "carpet"
           }
          ],
          "choropleth": [
           {
            "colorbar": {
             "outlinewidth": 0,
             "ticks": ""
            },
            "type": "choropleth"
           }
          ],
          "contour": [
           {
            "colorbar": {
             "outlinewidth": 0,
             "ticks": ""
            },
            "colorscale": [
             [
              0,
              "#0d0887"
             ],
             [
              0.1111111111111111,
              "#46039f"
             ],
             [
              0.2222222222222222,
              "#7201a8"
             ],
             [
              0.3333333333333333,
              "#9c179e"
             ],
             [
              0.4444444444444444,
              "#bd3786"
             ],
             [
              0.5555555555555556,
              "#d8576b"
             ],
             [
              0.6666666666666666,
              "#ed7953"
             ],
             [
              0.7777777777777778,
              "#fb9f3a"
             ],
             [
              0.8888888888888888,
              "#fdca26"
             ],
             [
              1,
              "#f0f921"
             ]
            ],
            "type": "contour"
           }
          ],
          "contourcarpet": [
           {
            "colorbar": {
             "outlinewidth": 0,
             "ticks": ""
            },
            "type": "contourcarpet"
           }
          ],
          "heatmap": [
           {
            "colorbar": {
             "outlinewidth": 0,
             "ticks": ""
            },
            "colorscale": [
             [
              0,
              "#0d0887"
             ],
             [
              0.1111111111111111,
              "#46039f"
             ],
             [
              0.2222222222222222,
              "#7201a8"
             ],
             [
              0.3333333333333333,
              "#9c179e"
             ],
             [
              0.4444444444444444,
              "#bd3786"
             ],
             [
              0.5555555555555556,
              "#d8576b"
             ],
             [
              0.6666666666666666,
              "#ed7953"
             ],
             [
              0.7777777777777778,
              "#fb9f3a"
             ],
             [
              0.8888888888888888,
              "#fdca26"
             ],
             [
              1,
              "#f0f921"
             ]
            ],
            "type": "heatmap"
           }
          ],
          "heatmapgl": [
           {
            "colorbar": {
             "outlinewidth": 0,
             "ticks": ""
            },
            "colorscale": [
             [
              0,
              "#0d0887"
             ],
             [
              0.1111111111111111,
              "#46039f"
             ],
             [
              0.2222222222222222,
              "#7201a8"
             ],
             [
              0.3333333333333333,
              "#9c179e"
             ],
             [
              0.4444444444444444,
              "#bd3786"
             ],
             [
              0.5555555555555556,
              "#d8576b"
             ],
             [
              0.6666666666666666,
              "#ed7953"
             ],
             [
              0.7777777777777778,
              "#fb9f3a"
             ],
             [
              0.8888888888888888,
              "#fdca26"
             ],
             [
              1,
              "#f0f921"
             ]
            ],
            "type": "heatmapgl"
           }
          ],
          "histogram": [
           {
            "marker": {
             "colorbar": {
              "outlinewidth": 0,
              "ticks": ""
             }
            },
            "type": "histogram"
           }
          ],
          "histogram2d": [
           {
            "colorbar": {
             "outlinewidth": 0,
             "ticks": ""
            },
            "colorscale": [
             [
              0,
              "#0d0887"
             ],
             [
              0.1111111111111111,
              "#46039f"
             ],
             [
              0.2222222222222222,
              "#7201a8"
             ],
             [
              0.3333333333333333,
              "#9c179e"
             ],
             [
              0.4444444444444444,
              "#bd3786"
             ],
             [
              0.5555555555555556,
              "#d8576b"
             ],
             [
              0.6666666666666666,
              "#ed7953"
             ],
             [
              0.7777777777777778,
              "#fb9f3a"
             ],
             [
              0.8888888888888888,
              "#fdca26"
             ],
             [
              1,
              "#f0f921"
             ]
            ],
            "type": "histogram2d"
           }
          ],
          "histogram2dcontour": [
           {
            "colorbar": {
             "outlinewidth": 0,
             "ticks": ""
            },
            "colorscale": [
             [
              0,
              "#0d0887"
             ],
             [
              0.1111111111111111,
              "#46039f"
             ],
             [
              0.2222222222222222,
              "#7201a8"
             ],
             [
              0.3333333333333333,
              "#9c179e"
             ],
             [
              0.4444444444444444,
              "#bd3786"
             ],
             [
              0.5555555555555556,
              "#d8576b"
             ],
             [
              0.6666666666666666,
              "#ed7953"
             ],
             [
              0.7777777777777778,
              "#fb9f3a"
             ],
             [
              0.8888888888888888,
              "#fdca26"
             ],
             [
              1,
              "#f0f921"
             ]
            ],
            "type": "histogram2dcontour"
           }
          ],
          "mesh3d": [
           {
            "colorbar": {
             "outlinewidth": 0,
             "ticks": ""
            },
            "type": "mesh3d"
           }
          ],
          "parcoords": [
           {
            "line": {
             "colorbar": {
              "outlinewidth": 0,
              "ticks": ""
             }
            },
            "type": "parcoords"
           }
          ],
          "pie": [
           {
            "automargin": true,
            "type": "pie"
           }
          ],
          "scatter": [
           {
            "marker": {
             "colorbar": {
              "outlinewidth": 0,
              "ticks": ""
             }
            },
            "type": "scatter"
           }
          ],
          "scatter3d": [
           {
            "line": {
             "colorbar": {
              "outlinewidth": 0,
              "ticks": ""
             }
            },
            "marker": {
             "colorbar": {
              "outlinewidth": 0,
              "ticks": ""
             }
            },
            "type": "scatter3d"
           }
          ],
          "scattercarpet": [
           {
            "marker": {
             "colorbar": {
              "outlinewidth": 0,
              "ticks": ""
             }
            },
            "type": "scattercarpet"
           }
          ],
          "scattergeo": [
           {
            "marker": {
             "colorbar": {
              "outlinewidth": 0,
              "ticks": ""
             }
            },
            "type": "scattergeo"
           }
          ],
          "scattergl": [
           {
            "marker": {
             "colorbar": {
              "outlinewidth": 0,
              "ticks": ""
             }
            },
            "type": "scattergl"
           }
          ],
          "scattermapbox": [
           {
            "marker": {
             "colorbar": {
              "outlinewidth": 0,
              "ticks": ""
             }
            },
            "type": "scattermapbox"
           }
          ],
          "scatterpolar": [
           {
            "marker": {
             "colorbar": {
              "outlinewidth": 0,
              "ticks": ""
             }
            },
            "type": "scatterpolar"
           }
          ],
          "scatterpolargl": [
           {
            "marker": {
             "colorbar": {
              "outlinewidth": 0,
              "ticks": ""
             }
            },
            "type": "scatterpolargl"
           }
          ],
          "scatterternary": [
           {
            "marker": {
             "colorbar": {
              "outlinewidth": 0,
              "ticks": ""
             }
            },
            "type": "scatterternary"
           }
          ],
          "surface": [
           {
            "colorbar": {
             "outlinewidth": 0,
             "ticks": ""
            },
            "colorscale": [
             [
              0,
              "#0d0887"
             ],
             [
              0.1111111111111111,
              "#46039f"
             ],
             [
              0.2222222222222222,
              "#7201a8"
             ],
             [
              0.3333333333333333,
              "#9c179e"
             ],
             [
              0.4444444444444444,
              "#bd3786"
             ],
             [
              0.5555555555555556,
              "#d8576b"
             ],
             [
              0.6666666666666666,
              "#ed7953"
             ],
             [
              0.7777777777777778,
              "#fb9f3a"
             ],
             [
              0.8888888888888888,
              "#fdca26"
             ],
             [
              1,
              "#f0f921"
             ]
            ],
            "type": "surface"
           }
          ],
          "table": [
           {
            "cells": {
             "fill": {
              "color": "#EBF0F8"
             },
             "line": {
              "color": "white"
             }
            },
            "header": {
             "fill": {
              "color": "#C8D4E3"
             },
             "line": {
              "color": "white"
             }
            },
            "type": "table"
           }
          ]
         },
         "layout": {
          "annotationdefaults": {
           "arrowcolor": "#2a3f5f",
           "arrowhead": 0,
           "arrowwidth": 1
          },
          "autotypenumbers": "strict",
          "coloraxis": {
           "colorbar": {
            "outlinewidth": 0,
            "ticks": ""
           }
          },
          "colorscale": {
           "diverging": [
            [
             0,
             "#8e0152"
            ],
            [
             0.1,
             "#c51b7d"
            ],
            [
             0.2,
             "#de77ae"
            ],
            [
             0.3,
             "#f1b6da"
            ],
            [
             0.4,
             "#fde0ef"
            ],
            [
             0.5,
             "#f7f7f7"
            ],
            [
             0.6,
             "#e6f5d0"
            ],
            [
             0.7,
             "#b8e186"
            ],
            [
             0.8,
             "#7fbc41"
            ],
            [
             0.9,
             "#4d9221"
            ],
            [
             1,
             "#276419"
            ]
           ],
           "sequential": [
            [
             0,
             "#0d0887"
            ],
            [
             0.1111111111111111,
             "#46039f"
            ],
            [
             0.2222222222222222,
             "#7201a8"
            ],
            [
             0.3333333333333333,
             "#9c179e"
            ],
            [
             0.4444444444444444,
             "#bd3786"
            ],
            [
             0.5555555555555556,
             "#d8576b"
            ],
            [
             0.6666666666666666,
             "#ed7953"
            ],
            [
             0.7777777777777778,
             "#fb9f3a"
            ],
            [
             0.8888888888888888,
             "#fdca26"
            ],
            [
             1,
             "#f0f921"
            ]
           ],
           "sequentialminus": [
            [
             0,
             "#0d0887"
            ],
            [
             0.1111111111111111,
             "#46039f"
            ],
            [
             0.2222222222222222,
             "#7201a8"
            ],
            [
             0.3333333333333333,
             "#9c179e"
            ],
            [
             0.4444444444444444,
             "#bd3786"
            ],
            [
             0.5555555555555556,
             "#d8576b"
            ],
            [
             0.6666666666666666,
             "#ed7953"
            ],
            [
             0.7777777777777778,
             "#fb9f3a"
            ],
            [
             0.8888888888888888,
             "#fdca26"
            ],
            [
             1,
             "#f0f921"
            ]
           ]
          },
          "colorway": [
           "#636efa",
           "#EF553B",
           "#00cc96",
           "#ab63fa",
           "#FFA15A",
           "#19d3f3",
           "#FF6692",
           "#B6E880",
           "#FF97FF",
           "#FECB52"
          ],
          "font": {
           "color": "#2a3f5f"
          },
          "geo": {
           "bgcolor": "white",
           "lakecolor": "white",
           "landcolor": "#E5ECF6",
           "showlakes": true,
           "showland": true,
           "subunitcolor": "white"
          },
          "hoverlabel": {
           "align": "left"
          },
          "hovermode": "closest",
          "mapbox": {
           "style": "light"
          },
          "paper_bgcolor": "white",
          "plot_bgcolor": "#E5ECF6",
          "polar": {
           "angularaxis": {
            "gridcolor": "white",
            "linecolor": "white",
            "ticks": ""
           },
           "bgcolor": "#E5ECF6",
           "radialaxis": {
            "gridcolor": "white",
            "linecolor": "white",
            "ticks": ""
           }
          },
          "scene": {
           "xaxis": {
            "backgroundcolor": "#E5ECF6",
            "gridcolor": "white",
            "gridwidth": 2,
            "linecolor": "white",
            "showbackground": true,
            "ticks": "",
            "zerolinecolor": "white"
           },
           "yaxis": {
            "backgroundcolor": "#E5ECF6",
            "gridcolor": "white",
            "gridwidth": 2,
            "linecolor": "white",
            "showbackground": true,
            "ticks": "",
            "zerolinecolor": "white"
           },
           "zaxis": {
            "backgroundcolor": "#E5ECF6",
            "gridcolor": "white",
            "gridwidth": 2,
            "linecolor": "white",
            "showbackground": true,
            "ticks": "",
            "zerolinecolor": "white"
           }
          },
          "shapedefaults": {
           "line": {
            "color": "#2a3f5f"
           }
          },
          "ternary": {
           "aaxis": {
            "gridcolor": "white",
            "linecolor": "white",
            "ticks": ""
           },
           "baxis": {
            "gridcolor": "white",
            "linecolor": "white",
            "ticks": ""
           },
           "bgcolor": "#E5ECF6",
           "caxis": {
            "gridcolor": "white",
            "linecolor": "white",
            "ticks": ""
           }
          },
          "title": {
           "x": 0.05
          },
          "xaxis": {
           "automargin": true,
           "gridcolor": "white",
           "linecolor": "white",
           "ticks": "",
           "title": {
            "standoff": 15
           },
           "zerolinecolor": "white",
           "zerolinewidth": 2
          },
          "yaxis": {
           "automargin": true,
           "gridcolor": "white",
           "linecolor": "white",
           "ticks": "",
           "title": {
            "standoff": 15
           },
           "zerolinecolor": "white",
           "zerolinewidth": 2
          }
         }
        },
        "xaxis": {
         "anchor": "y",
         "domain": [
          0,
          1
         ],
         "title": {
          "text": "# Components"
         }
        },
        "yaxis": {
         "anchor": "x",
         "domain": [
          0,
          1
         ],
         "title": {
          "text": "Explained Variance"
         }
        }
       }
      },
      "text/html": [
       "<div>                            <div id=\"3e1258cc-c24b-4fbd-a6a0-7612fb4dfc07\" class=\"plotly-graph-div\" style=\"height:525px; width:100%;\"></div>            <script type=\"text/javascript\">                require([\"plotly\"], function(Plotly) {                    window.PLOTLYENV=window.PLOTLYENV || {};                                    if (document.getElementById(\"3e1258cc-c24b-4fbd-a6a0-7612fb4dfc07\")) {                    Plotly.newPlot(                        \"3e1258cc-c24b-4fbd-a6a0-7612fb4dfc07\",                        [{\"hovertemplate\": \"# Components=%{x}<br>Explained Variance=%{y}<extra></extra>\", \"legendgroup\": \"\", \"line\": {\"color\": \"#636efa\"}, \"mode\": \"lines\", \"name\": \"\", \"orientation\": \"v\", \"showlegend\": false, \"stackgroup\": \"1\", \"type\": \"scatter\", \"x\": [1, 2, 3], \"xaxis\": \"x\", \"y\": [0.3187736728990399, 0.5895371717425476, 0.726019240421079], \"yaxis\": \"y\"}],                        {\"legend\": {\"tracegroupgap\": 0}, \"margin\": {\"t\": 60}, \"template\": {\"data\": {\"bar\": [{\"error_x\": {\"color\": \"#2a3f5f\"}, \"error_y\": {\"color\": \"#2a3f5f\"}, \"marker\": {\"line\": {\"color\": \"#E5ECF6\", \"width\": 0.5}}, \"type\": \"bar\"}], \"barpolar\": [{\"marker\": {\"line\": {\"color\": \"#E5ECF6\", \"width\": 0.5}}, \"type\": \"barpolar\"}], \"carpet\": [{\"aaxis\": {\"endlinecolor\": \"#2a3f5f\", \"gridcolor\": \"white\", \"linecolor\": \"white\", \"minorgridcolor\": \"white\", \"startlinecolor\": \"#2a3f5f\"}, \"baxis\": {\"endlinecolor\": \"#2a3f5f\", \"gridcolor\": \"white\", \"linecolor\": \"white\", \"minorgridcolor\": \"white\", \"startlinecolor\": \"#2a3f5f\"}, \"type\": \"carpet\"}], \"choropleth\": [{\"colorbar\": {\"outlinewidth\": 0, \"ticks\": \"\"}, \"type\": \"choropleth\"}], \"contour\": [{\"colorbar\": {\"outlinewidth\": 0, \"ticks\": \"\"}, \"colorscale\": [[0.0, \"#0d0887\"], [0.1111111111111111, \"#46039f\"], [0.2222222222222222, \"#7201a8\"], [0.3333333333333333, \"#9c179e\"], [0.4444444444444444, \"#bd3786\"], [0.5555555555555556, \"#d8576b\"], [0.6666666666666666, \"#ed7953\"], [0.7777777777777778, \"#fb9f3a\"], [0.8888888888888888, \"#fdca26\"], [1.0, \"#f0f921\"]], \"type\": \"contour\"}], \"contourcarpet\": [{\"colorbar\": {\"outlinewidth\": 0, \"ticks\": \"\"}, \"type\": \"contourcarpet\"}], \"heatmap\": [{\"colorbar\": {\"outlinewidth\": 0, \"ticks\": \"\"}, \"colorscale\": [[0.0, \"#0d0887\"], [0.1111111111111111, \"#46039f\"], [0.2222222222222222, \"#7201a8\"], [0.3333333333333333, \"#9c179e\"], [0.4444444444444444, \"#bd3786\"], [0.5555555555555556, \"#d8576b\"], [0.6666666666666666, \"#ed7953\"], [0.7777777777777778, \"#fb9f3a\"], [0.8888888888888888, \"#fdca26\"], [1.0, \"#f0f921\"]], \"type\": \"heatmap\"}], \"heatmapgl\": [{\"colorbar\": {\"outlinewidth\": 0, \"ticks\": \"\"}, \"colorscale\": [[0.0, \"#0d0887\"], [0.1111111111111111, \"#46039f\"], [0.2222222222222222, \"#7201a8\"], [0.3333333333333333, \"#9c179e\"], [0.4444444444444444, \"#bd3786\"], [0.5555555555555556, \"#d8576b\"], [0.6666666666666666, \"#ed7953\"], [0.7777777777777778, \"#fb9f3a\"], [0.8888888888888888, \"#fdca26\"], [1.0, \"#f0f921\"]], \"type\": \"heatmapgl\"}], \"histogram\": [{\"marker\": {\"colorbar\": {\"outlinewidth\": 0, \"ticks\": \"\"}}, \"type\": \"histogram\"}], \"histogram2d\": [{\"colorbar\": {\"outlinewidth\": 0, \"ticks\": \"\"}, \"colorscale\": [[0.0, \"#0d0887\"], [0.1111111111111111, \"#46039f\"], [0.2222222222222222, \"#7201a8\"], [0.3333333333333333, \"#9c179e\"], [0.4444444444444444, \"#bd3786\"], [0.5555555555555556, \"#d8576b\"], [0.6666666666666666, \"#ed7953\"], [0.7777777777777778, \"#fb9f3a\"], [0.8888888888888888, \"#fdca26\"], [1.0, \"#f0f921\"]], \"type\": \"histogram2d\"}], \"histogram2dcontour\": [{\"colorbar\": {\"outlinewidth\": 0, \"ticks\": \"\"}, \"colorscale\": [[0.0, \"#0d0887\"], [0.1111111111111111, \"#46039f\"], [0.2222222222222222, \"#7201a8\"], [0.3333333333333333, \"#9c179e\"], [0.4444444444444444, \"#bd3786\"], [0.5555555555555556, \"#d8576b\"], [0.6666666666666666, \"#ed7953\"], [0.7777777777777778, \"#fb9f3a\"], [0.8888888888888888, \"#fdca26\"], [1.0, \"#f0f921\"]], \"type\": \"histogram2dcontour\"}], \"mesh3d\": [{\"colorbar\": {\"outlinewidth\": 0, \"ticks\": \"\"}, \"type\": \"mesh3d\"}], \"parcoords\": [{\"line\": {\"colorbar\": {\"outlinewidth\": 0, \"ticks\": \"\"}}, \"type\": \"parcoords\"}], \"pie\": [{\"automargin\": true, \"type\": \"pie\"}], \"scatter\": [{\"marker\": {\"colorbar\": {\"outlinewidth\": 0, \"ticks\": \"\"}}, \"type\": \"scatter\"}], \"scatter3d\": [{\"line\": {\"colorbar\": {\"outlinewidth\": 0, \"ticks\": \"\"}}, \"marker\": {\"colorbar\": {\"outlinewidth\": 0, \"ticks\": \"\"}}, \"type\": \"scatter3d\"}], \"scattercarpet\": [{\"marker\": {\"colorbar\": {\"outlinewidth\": 0, \"ticks\": \"\"}}, \"type\": \"scattercarpet\"}], \"scattergeo\": [{\"marker\": {\"colorbar\": {\"outlinewidth\": 0, \"ticks\": \"\"}}, \"type\": \"scattergeo\"}], \"scattergl\": [{\"marker\": {\"colorbar\": {\"outlinewidth\": 0, \"ticks\": \"\"}}, \"type\": \"scattergl\"}], \"scattermapbox\": [{\"marker\": {\"colorbar\": {\"outlinewidth\": 0, \"ticks\": \"\"}}, \"type\": \"scattermapbox\"}], \"scatterpolar\": [{\"marker\": {\"colorbar\": {\"outlinewidth\": 0, \"ticks\": \"\"}}, \"type\": \"scatterpolar\"}], \"scatterpolargl\": [{\"marker\": {\"colorbar\": {\"outlinewidth\": 0, \"ticks\": \"\"}}, \"type\": \"scatterpolargl\"}], \"scatterternary\": [{\"marker\": {\"colorbar\": {\"outlinewidth\": 0, \"ticks\": \"\"}}, \"type\": \"scatterternary\"}], \"surface\": [{\"colorbar\": {\"outlinewidth\": 0, \"ticks\": \"\"}, \"colorscale\": [[0.0, \"#0d0887\"], [0.1111111111111111, \"#46039f\"], [0.2222222222222222, \"#7201a8\"], [0.3333333333333333, \"#9c179e\"], [0.4444444444444444, \"#bd3786\"], [0.5555555555555556, \"#d8576b\"], [0.6666666666666666, \"#ed7953\"], [0.7777777777777778, \"#fb9f3a\"], [0.8888888888888888, \"#fdca26\"], [1.0, \"#f0f921\"]], \"type\": \"surface\"}], \"table\": [{\"cells\": {\"fill\": {\"color\": \"#EBF0F8\"}, \"line\": {\"color\": \"white\"}}, \"header\": {\"fill\": {\"color\": \"#C8D4E3\"}, \"line\": {\"color\": \"white\"}}, \"type\": \"table\"}]}, \"layout\": {\"annotationdefaults\": {\"arrowcolor\": \"#2a3f5f\", \"arrowhead\": 0, \"arrowwidth\": 1}, \"autotypenumbers\": \"strict\", \"coloraxis\": {\"colorbar\": {\"outlinewidth\": 0, \"ticks\": \"\"}}, \"colorscale\": {\"diverging\": [[0, \"#8e0152\"], [0.1, \"#c51b7d\"], [0.2, \"#de77ae\"], [0.3, \"#f1b6da\"], [0.4, \"#fde0ef\"], [0.5, \"#f7f7f7\"], [0.6, \"#e6f5d0\"], [0.7, \"#b8e186\"], [0.8, \"#7fbc41\"], [0.9, \"#4d9221\"], [1, \"#276419\"]], \"sequential\": [[0.0, \"#0d0887\"], [0.1111111111111111, \"#46039f\"], [0.2222222222222222, \"#7201a8\"], [0.3333333333333333, \"#9c179e\"], [0.4444444444444444, \"#bd3786\"], [0.5555555555555556, \"#d8576b\"], [0.6666666666666666, \"#ed7953\"], [0.7777777777777778, \"#fb9f3a\"], [0.8888888888888888, \"#fdca26\"], [1.0, \"#f0f921\"]], \"sequentialminus\": [[0.0, \"#0d0887\"], [0.1111111111111111, \"#46039f\"], [0.2222222222222222, \"#7201a8\"], [0.3333333333333333, \"#9c179e\"], [0.4444444444444444, \"#bd3786\"], [0.5555555555555556, \"#d8576b\"], [0.6666666666666666, \"#ed7953\"], [0.7777777777777778, \"#fb9f3a\"], [0.8888888888888888, \"#fdca26\"], [1.0, \"#f0f921\"]]}, \"colorway\": [\"#636efa\", \"#EF553B\", \"#00cc96\", \"#ab63fa\", \"#FFA15A\", \"#19d3f3\", \"#FF6692\", \"#B6E880\", \"#FF97FF\", \"#FECB52\"], \"font\": {\"color\": \"#2a3f5f\"}, \"geo\": {\"bgcolor\": \"white\", \"lakecolor\": \"white\", \"landcolor\": \"#E5ECF6\", \"showlakes\": true, \"showland\": true, \"subunitcolor\": \"white\"}, \"hoverlabel\": {\"align\": \"left\"}, \"hovermode\": \"closest\", \"mapbox\": {\"style\": \"light\"}, \"paper_bgcolor\": \"white\", \"plot_bgcolor\": \"#E5ECF6\", \"polar\": {\"angularaxis\": {\"gridcolor\": \"white\", \"linecolor\": \"white\", \"ticks\": \"\"}, \"bgcolor\": \"#E5ECF6\", \"radialaxis\": {\"gridcolor\": \"white\", \"linecolor\": \"white\", \"ticks\": \"\"}}, \"scene\": {\"xaxis\": {\"backgroundcolor\": \"#E5ECF6\", \"gridcolor\": \"white\", \"gridwidth\": 2, \"linecolor\": \"white\", \"showbackground\": true, \"ticks\": \"\", \"zerolinecolor\": \"white\"}, \"yaxis\": {\"backgroundcolor\": \"#E5ECF6\", \"gridcolor\": \"white\", \"gridwidth\": 2, \"linecolor\": \"white\", \"showbackground\": true, \"ticks\": \"\", \"zerolinecolor\": \"white\"}, \"zaxis\": {\"backgroundcolor\": \"#E5ECF6\", \"gridcolor\": \"white\", \"gridwidth\": 2, \"linecolor\": \"white\", \"showbackground\": true, \"ticks\": \"\", \"zerolinecolor\": \"white\"}}, \"shapedefaults\": {\"line\": {\"color\": \"#2a3f5f\"}}, \"ternary\": {\"aaxis\": {\"gridcolor\": \"white\", \"linecolor\": \"white\", \"ticks\": \"\"}, \"baxis\": {\"gridcolor\": \"white\", \"linecolor\": \"white\", \"ticks\": \"\"}, \"bgcolor\": \"#E5ECF6\", \"caxis\": {\"gridcolor\": \"white\", \"linecolor\": \"white\", \"ticks\": \"\"}}, \"title\": {\"x\": 0.05}, \"xaxis\": {\"automargin\": true, \"gridcolor\": \"white\", \"linecolor\": \"white\", \"ticks\": \"\", \"title\": {\"standoff\": 15}, \"zerolinecolor\": \"white\", \"zerolinewidth\": 2}, \"yaxis\": {\"automargin\": true, \"gridcolor\": \"white\", \"linecolor\": \"white\", \"ticks\": \"\", \"title\": {\"standoff\": 15}, \"zerolinecolor\": \"white\", \"zerolinewidth\": 2}}}, \"xaxis\": {\"anchor\": \"y\", \"domain\": [0.0, 1.0], \"title\": {\"text\": \"# Components\"}}, \"yaxis\": {\"anchor\": \"x\", \"domain\": [0.0, 1.0], \"title\": {\"text\": \"Explained Variance\"}}},                        {\"responsive\": true}                    ).then(function(){\n",
       "                            \n",
       "var gd = document.getElementById('3e1258cc-c24b-4fbd-a6a0-7612fb4dfc07');\n",
       "var x = new MutationObserver(function (mutations, observer) {{\n",
       "        var display = window.getComputedStyle(gd).display;\n",
       "        if (!display || display === 'none') {{\n",
       "            console.log([gd, 'removed!']);\n",
       "            Plotly.purge(gd);\n",
       "            observer.disconnect();\n",
       "        }}\n",
       "}});\n",
       "\n",
       "// Listen for the removal of the full notebook cells\n",
       "var notebookContainer = gd.closest('#notebook-container');\n",
       "if (notebookContainer) {{\n",
       "    x.observe(notebookContainer, {childList: true});\n",
       "}}\n",
       "\n",
       "// Listen for the clearing of the current output cell\n",
       "var outputEl = gd.closest('.output');\n",
       "if (outputEl) {{\n",
       "    x.observe(outputEl, {childList: true});\n",
       "}}\n",
       "\n",
       "                        })                };                });            </script>        </div>"
      ]
     },
     "metadata": {},
     "output_type": "display_data"
    }
   ],
   "source": [
    "exp_var_cumul = np.cumsum(pca.explained_variance_ratio_)\n",
    "\n",
    "px.area(\n",
    "    x=range(1, exp_var_cumul.shape[0] + 1),\n",
    "    y=exp_var_cumul,\n",
    "    labels={\"x\": \"# Components\", \"y\": \"Explained Variance\"}\n",
    ")"
   ]
  },
  {
   "cell_type": "code",
   "execution_count": 68,
   "metadata": {},
   "outputs": [
    {
     "data": {
      "text/html": [
       "<div>\n",
       "<style scoped>\n",
       "    .dataframe tbody tr th:only-of-type {\n",
       "        vertical-align: middle;\n",
       "    }\n",
       "\n",
       "    .dataframe tbody tr th {\n",
       "        vertical-align: top;\n",
       "    }\n",
       "\n",
       "    .dataframe thead th {\n",
       "        text-align: right;\n",
       "    }\n",
       "</style>\n",
       "<table border=\"1\" class=\"dataframe\">\n",
       "  <thead>\n",
       "    <tr style=\"text-align: right;\">\n",
       "      <th></th>\n",
       "      <th>PC1</th>\n",
       "      <th>PC2</th>\n",
       "      <th>PC3</th>\n",
       "    </tr>\n",
       "  </thead>\n",
       "  <tbody>\n",
       "    <tr>\n",
       "      <th>Confirmed</th>\n",
       "      <td>0.387316</td>\n",
       "      <td>0.912854</td>\n",
       "      <td>-0.071507</td>\n",
       "    </tr>\n",
       "    <tr>\n",
       "      <th>Recovered</th>\n",
       "      <td>0.337213</td>\n",
       "      <td>0.910390</td>\n",
       "      <td>-0.077329</td>\n",
       "    </tr>\n",
       "    <tr>\n",
       "      <th>Deaths</th>\n",
       "      <td>0.443778</td>\n",
       "      <td>0.806866</td>\n",
       "      <td>-0.025208</td>\n",
       "    </tr>\n",
       "    <tr>\n",
       "      <th>gdp_per_capita</th>\n",
       "      <td>0.861799</td>\n",
       "      <td>-0.255135</td>\n",
       "      <td>0.274993</td>\n",
       "    </tr>\n",
       "    <tr>\n",
       "      <th>social_support</th>\n",
       "      <td>0.795393</td>\n",
       "      <td>-0.322956</td>\n",
       "      <td>0.236385</td>\n",
       "    </tr>\n",
       "    <tr>\n",
       "      <th>health</th>\n",
       "      <td>0.857880</td>\n",
       "      <td>-0.283489</td>\n",
       "      <td>0.228775</td>\n",
       "    </tr>\n",
       "    <tr>\n",
       "      <th>freedom</th>\n",
       "      <td>0.636960</td>\n",
       "      <td>-0.231830</td>\n",
       "      <td>-0.420563</td>\n",
       "    </tr>\n",
       "    <tr>\n",
       "      <th>generosity</th>\n",
       "      <td>0.041774</td>\n",
       "      <td>-0.123282</td>\n",
       "      <td>-0.847393</td>\n",
       "    </tr>\n",
       "    <tr>\n",
       "      <th>government_trust</th>\n",
       "      <td>0.480872</td>\n",
       "      <td>-0.296746</td>\n",
       "      <td>-0.516505</td>\n",
       "    </tr>\n",
       "    <tr>\n",
       "      <th>dystopia_residual</th>\n",
       "      <td>0.034841</td>\n",
       "      <td>-0.090767</td>\n",
       "      <td>-0.133676</td>\n",
       "    </tr>\n",
       "  </tbody>\n",
       "</table>\n",
       "</div>"
      ],
      "text/plain": [
       "                        PC1       PC2       PC3\n",
       "Confirmed          0.387316  0.912854 -0.071507\n",
       "Recovered          0.337213  0.910390 -0.077329\n",
       "Deaths             0.443778  0.806866 -0.025208\n",
       "gdp_per_capita     0.861799 -0.255135  0.274993\n",
       "social_support     0.795393 -0.322956  0.236385\n",
       "health             0.857880 -0.283489  0.228775\n",
       "freedom            0.636960 -0.231830 -0.420563\n",
       "generosity         0.041774 -0.123282 -0.847393\n",
       "government_trust   0.480872 -0.296746 -0.516505\n",
       "dystopia_residual  0.034841 -0.090767 -0.133676"
      ]
     },
     "execution_count": 68,
     "metadata": {},
     "output_type": "execute_result"
    }
   ],
   "source": [
    "features = ['Confirmed', 'Recovered', 'Deaths', 'gdp_per_capita',\n",
    "       'social_support', 'health', 'freedom', 'generosity', 'government_trust',\n",
    "       'dystopia_residual']\n",
    "\n",
    "loadingsTable = pd.DataFrame(pca.components_.T * np.sqrt(pca.explained_variance_), \n",
    "                        columns=['PC1', 'PC2', 'PC3'], index=features)\n",
    "loadingsTable"
   ]
  },
  {
   "cell_type": "code",
   "execution_count": 69,
   "metadata": {},
   "outputs": [
    {
     "data": {
      "application/vnd.plotly.v1+json": {
       "config": {
        "plotlyServerURL": "https://plot.ly"
       },
       "data": [
        {
         "hovertemplate": "continent=Asia<br>PC1=%{x}<br>PC2=%{y}<extra></extra>",
         "legendgroup": "Asia",
         "marker": {
          "color": "#636efa",
          "symbol": "circle"
         },
         "mode": "markers",
         "name": "Asia",
         "orientation": "v",
         "showlegend": true,
         "type": "scatter",
         "x": [
          -4.716248691315748,
          -0.6984859164338082,
          0.216248861191608,
          1.225783876462766,
          -0.48519904583154144,
          -0.7150789867089077,
          0.6331327485314026,
          0.6169569020032145,
          -0.9175061810807411,
          3.1833305699147956,
          -0.03242613809416903,
          -0.04959363443204133,
          -1.0368267242046982,
          1.199573390550856,
          1.484069910627857,
          -0.36258557609769615,
          0.6448104926297693,
          1.0203813495036842,
          -0.30353790389036084,
          -0.9972304471742508,
          0.4916170115592463,
          -0.39950728015256803,
          -0.907657665792745,
          -1.3813957369422882,
          0.14773238585413648,
          1.246488721245972,
          3.2091215323660007,
          0.22816061683777777,
          -0.0769994557103123,
          -0.4121126910739325,
          0.5592391274355798,
          0.06806740221604614,
          1.5640264311099656,
          0.9475974894393349,
          0.2395967550197366,
          -2.2002420576801245
         ],
         "xaxis": "x",
         "y": [
          1.5154227004762193,
          -0.04215523474554999,
          -0.49054565721746524,
          -0.949838177881423,
          0.38634073368116156,
          -0.32886521486692044,
          -0.10017167900455391,
          -0.7709249949444604,
          -0.06185827716414249,
          11.85002109537257,
          0.13681599651086745,
          1.5535830621002846,
          0.7868158601135173,
          -0.6763890294060647,
          -0.7966967843457489,
          -0.25648972761533223,
          -0.5138242973085216,
          -0.6521043351939118,
          -0.43295050579908095,
          0.0053035499535417155,
          -0.6700954805188328,
          -0.46168374974477117,
          -0.1648387716355413,
          0.7389142522031356,
          -0.0054071927427067745,
          -0.1632944276426939,
          -1.8385534197656808,
          -0.5225633765020868,
          -0.4314949406572388,
          -0.5464904247501082,
          -0.8653595339371615,
          0.639902822124749,
          -1.065487202598819,
          -1.127847545236209,
          -0.6293099553426547,
          0.3769540541221962
         ],
         "yaxis": "y"
        },
        {
         "hovertemplate": "continent=Europe<br>PC1=%{x}<br>PC2=%{y}<extra></extra>",
         "legendgroup": "Europe",
         "marker": {
          "color": "#EF553B",
          "symbol": "circle"
         },
         "mode": "markers",
         "name": "Europe",
         "orientation": "v",
         "showlegend": true,
         "type": "scatter",
         "x": [
          -0.7475236163578466,
          2.1606009114529985,
          0.12193838187165301,
          1.767667816674344,
          -0.5790558801471096,
          0.15345649239618686,
          0.1869259938977691,
          0.9903761464509095,
          2.843814998568532,
          1.317125161184184,
          2.6680299479533143,
          2.7529965957304006,
          2.3863826370586745,
          -0.3236514088336926,
          0.32368892128279386,
          2.142966854395121,
          2.4910649071526665,
          1.7008107499579843,
          -0.3292004081037785,
          0.17632674633418752,
          0.5273399086035527,
          2.4709340279182297,
          1.7973044621025953,
          -0.7620098737779256,
          -0.14921490224901843,
          2.5594126959928594,
          2.8734412748345344,
          1.1750439451972998,
          1.106280010434941,
          0.32235222831389415,
          1.1584927544587065,
          0.07377654431011714,
          0.5051533726159149,
          1.45729930158384,
          2.19493752287336,
          2.6938511960559035,
          2.797426263798741,
          -0.6255183515289141,
          3.0558398946849508
         ],
         "xaxis": "x",
         "y": [
          -0.130638039410461,
          -1.3752952579520996,
          -0.38149336450667926,
          -0.5398694516881823,
          -0.2641510960892795,
          -0.36660781178867086,
          -0.42028369612689265,
          -0.5183474818354928,
          -1.892869105776201,
          -1.0688026490933236,
          -1.852077420078361,
          1.0200100994277563,
          -0.22854718379955208,
          -0.1973627663256821,
          -0.4596115289979994,
          -1.5792695158199324,
          -1.5894569795458169,
          1.7207850545436647,
          -0.5204013414655854,
          -0.5677185621677995,
          -0.6733014833769738,
          -1.6505947760683135,
          -1.4073496109796626,
          -0.12674784065903139,
          -0.4510075800713238,
          -1.3184383529200194,
          -1.9190395592344345,
          -0.3686590809778074,
          -0.5184847774017612,
          -0.07366917696459203,
          2.535539181051921,
          -0.47242620248206085,
          -0.632929200663022,
          -1.038980640408885,
          1.2857283756752624,
          -1.5187610332555004,
          -1.586864452730393,
          0.3680541163861891,
          0.782425943441852
         ],
         "yaxis": "y"
        },
        {
         "hovertemplate": "continent=Africa<br>PC1=%{x}<br>PC2=%{y}<extra></extra>",
         "legendgroup": "Africa",
         "marker": {
          "color": "#00cc96",
          "symbol": "circle"
         },
         "mode": "markers",
         "name": "Africa",
         "orientation": "v",
         "showlegend": true,
         "type": "scatter",
         "x": [
          -1.074378945027331,
          -3.1574052100336005,
          -0.725543964917241,
          -2.576104113981205,
          -3.805736210167854,
          -2.2837334304378456,
          -3.6204585305172805,
          -1.9829272756863672,
          -3.1035277430216803,
          -1.018615352456617,
          -1.8673815728711232,
          -1.043768577900796,
          -1.631561259042573,
          -2.6541739394963053,
          -1.5159487220458152,
          -2.559714492069578,
          -0.1423336279704779,
          -2.8925832724292984,
          -2.722687824077916,
          -2.6068984979619767,
          -2.120825698515021,
          0.693718848206754,
          -1.262883901577743,
          -2.1652916707159755,
          -1.1811507077424879,
          -1.874250607945645,
          -3.206986550544647,
          -0.3544526637376626,
          -1.5944583778295103,
          -3.261729833280875,
          -1.4033285199007508,
          -2.1729729486211378,
          -1.9032827076469319,
          -2.1236346832754194
         ],
         "xaxis": "x",
         "y": [
          0.04398016393507585,
          0.4944415477549155,
          -0.04095368518425826,
          0.29665525308100754,
          0.745639113627481,
          0.28105903876514493,
          0.7024072666591525,
          0.1629050186760019,
          0.5059760323757686,
          0.37444931408929943,
          0.21298052797951228,
          -0.014893577686234637,
          0.06710668211975836,
          0.37518376269098314,
          -0.020641531902861852,
          0.319678237149832,
          -0.46302562368702915,
          0.5341305570605092,
          0.45766696713174004,
          0.36411964540848324,
          0.2540244983544655,
          -0.8483937386480789,
          0.37192353563521574,
          0.3601419358724828,
          -0.2813306836807242,
          0.14308360566593778,
          0.593186390633361,
          1.37145487948015,
          -0.011213470776861906,
          0.6054844096360349,
          0.23138107978162747,
          0.18302147573920394,
          0.19591594174076846,
          0.34208204634239786
         ],
         "yaxis": "y"
        },
        {
         "hovertemplate": "continent=South America<br>PC1=%{x}<br>PC2=%{y}<extra></extra>",
         "legendgroup": "South America",
         "marker": {
          "color": "#ab63fa",
          "symbol": "circle"
         },
         "mode": "markers",
         "name": "South America",
         "orientation": "v",
         "showlegend": true,
         "type": "scatter",
         "x": [
          1.1984549072381987,
          -0.2935778066723513,
          5.101060504152217,
          0.8753221302229606,
          1.0326462927025606,
          1.1265127047435182,
          0.49045479809341685,
          0.41042562661110277,
          -0.21494952483380955,
          -0.0025094551534485914,
          -2.5872904630529407,
          -3.203301904584434,
          -0.18165808945513262,
          0.14495565490098178,
          0.11930358176591588,
          0.9168025231904108,
          0.33216079584970953,
          0.8429800805350058,
          1.1818736248403383,
          -0.6247708150980067
         ],
         "xaxis": "x",
         "y": [
          1.001324704637464,
          -0.06300786541324932,
          11.01872841059189,
          0.5364298837137913,
          1.3030623164557749,
          -0.9286230747538208,
          -0.4614254371446033,
          -0.08828899797621882,
          -0.4839620394795353,
          -0.4048009198885675,
          0.29532150658820283,
          0.45721566168368066,
          -0.45195750620751207,
          -0.5853681328550955,
          -0.7587079630734699,
          -0.5772557109911686,
          -0.618507555533389,
          1.6255912245317512,
          -1.0762894870130277,
          -0.11042049697842111
         ],
         "yaxis": "y"
        },
        {
         "hovertemplate": "continent=Australia<br>PC1=%{x}<br>PC2=%{y}<extra></extra>",
         "legendgroup": "Australia",
         "marker": {
          "color": "#FFA15A",
          "symbol": "circle"
         },
         "mode": "markers",
         "name": "Australia",
         "orientation": "v",
         "showlegend": true,
         "type": "scatter",
         "x": [
          2.391184900177815,
          2.612253509332441
         ],
         "xaxis": "x",
         "y": [
          -1.6698974822583903,
          -1.9159999781508645
         ],
         "yaxis": "y"
        },
        {
         "hovertemplate": "continent=North America<br>PC1=%{x}<br>PC2=%{y}<extra></extra>",
         "legendgroup": "North America",
         "marker": {
          "color": "#19d3f3",
          "symbol": "circle"
         },
         "mode": "markers",
         "name": "North America",
         "orientation": "v",
         "showlegend": true,
         "type": "scatter",
         "x": [
          2.68081093432017,
          1.897682408386599
         ],
         "xaxis": "x",
         "y": [
          -0.9982653415584153,
          2.618157725297508
         ],
         "yaxis": "y"
        }
       ],
       "layout": {
        "annotations": [
         {
          "ax": 0,
          "ay": 0,
          "text": "Confirmed",
          "x": 0.38731557866208965,
          "xanchor": "center",
          "y": 0.912854397837892,
          "yanchor": "bottom"
         },
         {
          "ax": 0,
          "ay": 0,
          "text": "Recovered",
          "x": 0.3372132787352597,
          "xanchor": "center",
          "y": 0.9103898523650168,
          "yanchor": "bottom"
         },
         {
          "ax": 0,
          "ay": 0,
          "text": "Deaths",
          "x": 0.44377806597561587,
          "xanchor": "center",
          "y": 0.8068664181637996,
          "yanchor": "bottom"
         },
         {
          "ax": 0,
          "ay": 0,
          "text": "gdp_per_capita",
          "x": 0.8617993146957023,
          "xanchor": "center",
          "y": -0.25513519772264576,
          "yanchor": "bottom"
         },
         {
          "ax": 0,
          "ay": 0,
          "text": "social_support",
          "x": 0.7953933377472044,
          "xanchor": "center",
          "y": -0.32295636815092627,
          "yanchor": "bottom"
         },
         {
          "ax": 0,
          "ay": 0,
          "text": "health",
          "x": 0.8578802184996362,
          "xanchor": "center",
          "y": -0.2834892830338448,
          "yanchor": "bottom"
         },
         {
          "ax": 0,
          "ay": 0,
          "text": "freedom",
          "x": 0.6369596136961836,
          "xanchor": "center",
          "y": -0.23183020033304375,
          "yanchor": "bottom"
         },
         {
          "ax": 0,
          "ay": 0,
          "text": "generosity",
          "x": 0.04177405079583611,
          "xanchor": "center",
          "y": -0.12328197042040913,
          "yanchor": "bottom"
         },
         {
          "ax": 0,
          "ay": 0,
          "text": "government_trust",
          "x": 0.480871631710596,
          "xanchor": "center",
          "y": -0.29674554845503165,
          "yanchor": "bottom"
         },
         {
          "ax": 0,
          "ay": 0,
          "text": "dystopia_residual",
          "x": 0.03484089801186791,
          "xanchor": "center",
          "y": -0.09076650275907118,
          "yanchor": "bottom"
         }
        ],
        "legend": {
         "title": {
          "text": "continent"
         },
         "tracegroupgap": 0
        },
        "margin": {
         "t": 60
        },
        "shapes": [
         {
          "type": "line",
          "x0": 0,
          "x1": 0.38731557866208965,
          "y0": 0,
          "y1": 0.912854397837892
         },
         {
          "type": "line",
          "x0": 0,
          "x1": 0.3372132787352597,
          "y0": 0,
          "y1": 0.9103898523650168
         },
         {
          "type": "line",
          "x0": 0,
          "x1": 0.44377806597561587,
          "y0": 0,
          "y1": 0.8068664181637996
         },
         {
          "type": "line",
          "x0": 0,
          "x1": 0.8617993146957023,
          "y0": 0,
          "y1": -0.25513519772264576
         },
         {
          "type": "line",
          "x0": 0,
          "x1": 0.7953933377472044,
          "y0": 0,
          "y1": -0.32295636815092627
         },
         {
          "type": "line",
          "x0": 0,
          "x1": 0.8578802184996362,
          "y0": 0,
          "y1": -0.2834892830338448
         },
         {
          "type": "line",
          "x0": 0,
          "x1": 0.6369596136961836,
          "y0": 0,
          "y1": -0.23183020033304375
         },
         {
          "type": "line",
          "x0": 0,
          "x1": 0.04177405079583611,
          "y0": 0,
          "y1": -0.12328197042040913
         },
         {
          "type": "line",
          "x0": 0,
          "x1": 0.480871631710596,
          "y0": 0,
          "y1": -0.29674554845503165
         },
         {
          "type": "line",
          "x0": 0,
          "x1": 0.03484089801186791,
          "y0": 0,
          "y1": -0.09076650275907118
         }
        ],
        "template": {
         "data": {
          "bar": [
           {
            "error_x": {
             "color": "#2a3f5f"
            },
            "error_y": {
             "color": "#2a3f5f"
            },
            "marker": {
             "line": {
              "color": "#E5ECF6",
              "width": 0.5
             }
            },
            "type": "bar"
           }
          ],
          "barpolar": [
           {
            "marker": {
             "line": {
              "color": "#E5ECF6",
              "width": 0.5
             }
            },
            "type": "barpolar"
           }
          ],
          "carpet": [
           {
            "aaxis": {
             "endlinecolor": "#2a3f5f",
             "gridcolor": "white",
             "linecolor": "white",
             "minorgridcolor": "white",
             "startlinecolor": "#2a3f5f"
            },
            "baxis": {
             "endlinecolor": "#2a3f5f",
             "gridcolor": "white",
             "linecolor": "white",
             "minorgridcolor": "white",
             "startlinecolor": "#2a3f5f"
            },
            "type": "carpet"
           }
          ],
          "choropleth": [
           {
            "colorbar": {
             "outlinewidth": 0,
             "ticks": ""
            },
            "type": "choropleth"
           }
          ],
          "contour": [
           {
            "colorbar": {
             "outlinewidth": 0,
             "ticks": ""
            },
            "colorscale": [
             [
              0,
              "#0d0887"
             ],
             [
              0.1111111111111111,
              "#46039f"
             ],
             [
              0.2222222222222222,
              "#7201a8"
             ],
             [
              0.3333333333333333,
              "#9c179e"
             ],
             [
              0.4444444444444444,
              "#bd3786"
             ],
             [
              0.5555555555555556,
              "#d8576b"
             ],
             [
              0.6666666666666666,
              "#ed7953"
             ],
             [
              0.7777777777777778,
              "#fb9f3a"
             ],
             [
              0.8888888888888888,
              "#fdca26"
             ],
             [
              1,
              "#f0f921"
             ]
            ],
            "type": "contour"
           }
          ],
          "contourcarpet": [
           {
            "colorbar": {
             "outlinewidth": 0,
             "ticks": ""
            },
            "type": "contourcarpet"
           }
          ],
          "heatmap": [
           {
            "colorbar": {
             "outlinewidth": 0,
             "ticks": ""
            },
            "colorscale": [
             [
              0,
              "#0d0887"
             ],
             [
              0.1111111111111111,
              "#46039f"
             ],
             [
              0.2222222222222222,
              "#7201a8"
             ],
             [
              0.3333333333333333,
              "#9c179e"
             ],
             [
              0.4444444444444444,
              "#bd3786"
             ],
             [
              0.5555555555555556,
              "#d8576b"
             ],
             [
              0.6666666666666666,
              "#ed7953"
             ],
             [
              0.7777777777777778,
              "#fb9f3a"
             ],
             [
              0.8888888888888888,
              "#fdca26"
             ],
             [
              1,
              "#f0f921"
             ]
            ],
            "type": "heatmap"
           }
          ],
          "heatmapgl": [
           {
            "colorbar": {
             "outlinewidth": 0,
             "ticks": ""
            },
            "colorscale": [
             [
              0,
              "#0d0887"
             ],
             [
              0.1111111111111111,
              "#46039f"
             ],
             [
              0.2222222222222222,
              "#7201a8"
             ],
             [
              0.3333333333333333,
              "#9c179e"
             ],
             [
              0.4444444444444444,
              "#bd3786"
             ],
             [
              0.5555555555555556,
              "#d8576b"
             ],
             [
              0.6666666666666666,
              "#ed7953"
             ],
             [
              0.7777777777777778,
              "#fb9f3a"
             ],
             [
              0.8888888888888888,
              "#fdca26"
             ],
             [
              1,
              "#f0f921"
             ]
            ],
            "type": "heatmapgl"
           }
          ],
          "histogram": [
           {
            "marker": {
             "colorbar": {
              "outlinewidth": 0,
              "ticks": ""
             }
            },
            "type": "histogram"
           }
          ],
          "histogram2d": [
           {
            "colorbar": {
             "outlinewidth": 0,
             "ticks": ""
            },
            "colorscale": [
             [
              0,
              "#0d0887"
             ],
             [
              0.1111111111111111,
              "#46039f"
             ],
             [
              0.2222222222222222,
              "#7201a8"
             ],
             [
              0.3333333333333333,
              "#9c179e"
             ],
             [
              0.4444444444444444,
              "#bd3786"
             ],
             [
              0.5555555555555556,
              "#d8576b"
             ],
             [
              0.6666666666666666,
              "#ed7953"
             ],
             [
              0.7777777777777778,
              "#fb9f3a"
             ],
             [
              0.8888888888888888,
              "#fdca26"
             ],
             [
              1,
              "#f0f921"
             ]
            ],
            "type": "histogram2d"
           }
          ],
          "histogram2dcontour": [
           {
            "colorbar": {
             "outlinewidth": 0,
             "ticks": ""
            },
            "colorscale": [
             [
              0,
              "#0d0887"
             ],
             [
              0.1111111111111111,
              "#46039f"
             ],
             [
              0.2222222222222222,
              "#7201a8"
             ],
             [
              0.3333333333333333,
              "#9c179e"
             ],
             [
              0.4444444444444444,
              "#bd3786"
             ],
             [
              0.5555555555555556,
              "#d8576b"
             ],
             [
              0.6666666666666666,
              "#ed7953"
             ],
             [
              0.7777777777777778,
              "#fb9f3a"
             ],
             [
              0.8888888888888888,
              "#fdca26"
             ],
             [
              1,
              "#f0f921"
             ]
            ],
            "type": "histogram2dcontour"
           }
          ],
          "mesh3d": [
           {
            "colorbar": {
             "outlinewidth": 0,
             "ticks": ""
            },
            "type": "mesh3d"
           }
          ],
          "parcoords": [
           {
            "line": {
             "colorbar": {
              "outlinewidth": 0,
              "ticks": ""
             }
            },
            "type": "parcoords"
           }
          ],
          "pie": [
           {
            "automargin": true,
            "type": "pie"
           }
          ],
          "scatter": [
           {
            "marker": {
             "colorbar": {
              "outlinewidth": 0,
              "ticks": ""
             }
            },
            "type": "scatter"
           }
          ],
          "scatter3d": [
           {
            "line": {
             "colorbar": {
              "outlinewidth": 0,
              "ticks": ""
             }
            },
            "marker": {
             "colorbar": {
              "outlinewidth": 0,
              "ticks": ""
             }
            },
            "type": "scatter3d"
           }
          ],
          "scattercarpet": [
           {
            "marker": {
             "colorbar": {
              "outlinewidth": 0,
              "ticks": ""
             }
            },
            "type": "scattercarpet"
           }
          ],
          "scattergeo": [
           {
            "marker": {
             "colorbar": {
              "outlinewidth": 0,
              "ticks": ""
             }
            },
            "type": "scattergeo"
           }
          ],
          "scattergl": [
           {
            "marker": {
             "colorbar": {
              "outlinewidth": 0,
              "ticks": ""
             }
            },
            "type": "scattergl"
           }
          ],
          "scattermapbox": [
           {
            "marker": {
             "colorbar": {
              "outlinewidth": 0,
              "ticks": ""
             }
            },
            "type": "scattermapbox"
           }
          ],
          "scatterpolar": [
           {
            "marker": {
             "colorbar": {
              "outlinewidth": 0,
              "ticks": ""
             }
            },
            "type": "scatterpolar"
           }
          ],
          "scatterpolargl": [
           {
            "marker": {
             "colorbar": {
              "outlinewidth": 0,
              "ticks": ""
             }
            },
            "type": "scatterpolargl"
           }
          ],
          "scatterternary": [
           {
            "marker": {
             "colorbar": {
              "outlinewidth": 0,
              "ticks": ""
             }
            },
            "type": "scatterternary"
           }
          ],
          "surface": [
           {
            "colorbar": {
             "outlinewidth": 0,
             "ticks": ""
            },
            "colorscale": [
             [
              0,
              "#0d0887"
             ],
             [
              0.1111111111111111,
              "#46039f"
             ],
             [
              0.2222222222222222,
              "#7201a8"
             ],
             [
              0.3333333333333333,
              "#9c179e"
             ],
             [
              0.4444444444444444,
              "#bd3786"
             ],
             [
              0.5555555555555556,
              "#d8576b"
             ],
             [
              0.6666666666666666,
              "#ed7953"
             ],
             [
              0.7777777777777778,
              "#fb9f3a"
             ],
             [
              0.8888888888888888,
              "#fdca26"
             ],
             [
              1,
              "#f0f921"
             ]
            ],
            "type": "surface"
           }
          ],
          "table": [
           {
            "cells": {
             "fill": {
              "color": "#EBF0F8"
             },
             "line": {
              "color": "white"
             }
            },
            "header": {
             "fill": {
              "color": "#C8D4E3"
             },
             "line": {
              "color": "white"
             }
            },
            "type": "table"
           }
          ]
         },
         "layout": {
          "annotationdefaults": {
           "arrowcolor": "#2a3f5f",
           "arrowhead": 0,
           "arrowwidth": 1
          },
          "autotypenumbers": "strict",
          "coloraxis": {
           "colorbar": {
            "outlinewidth": 0,
            "ticks": ""
           }
          },
          "colorscale": {
           "diverging": [
            [
             0,
             "#8e0152"
            ],
            [
             0.1,
             "#c51b7d"
            ],
            [
             0.2,
             "#de77ae"
            ],
            [
             0.3,
             "#f1b6da"
            ],
            [
             0.4,
             "#fde0ef"
            ],
            [
             0.5,
             "#f7f7f7"
            ],
            [
             0.6,
             "#e6f5d0"
            ],
            [
             0.7,
             "#b8e186"
            ],
            [
             0.8,
             "#7fbc41"
            ],
            [
             0.9,
             "#4d9221"
            ],
            [
             1,
             "#276419"
            ]
           ],
           "sequential": [
            [
             0,
             "#0d0887"
            ],
            [
             0.1111111111111111,
             "#46039f"
            ],
            [
             0.2222222222222222,
             "#7201a8"
            ],
            [
             0.3333333333333333,
             "#9c179e"
            ],
            [
             0.4444444444444444,
             "#bd3786"
            ],
            [
             0.5555555555555556,
             "#d8576b"
            ],
            [
             0.6666666666666666,
             "#ed7953"
            ],
            [
             0.7777777777777778,
             "#fb9f3a"
            ],
            [
             0.8888888888888888,
             "#fdca26"
            ],
            [
             1,
             "#f0f921"
            ]
           ],
           "sequentialminus": [
            [
             0,
             "#0d0887"
            ],
            [
             0.1111111111111111,
             "#46039f"
            ],
            [
             0.2222222222222222,
             "#7201a8"
            ],
            [
             0.3333333333333333,
             "#9c179e"
            ],
            [
             0.4444444444444444,
             "#bd3786"
            ],
            [
             0.5555555555555556,
             "#d8576b"
            ],
            [
             0.6666666666666666,
             "#ed7953"
            ],
            [
             0.7777777777777778,
             "#fb9f3a"
            ],
            [
             0.8888888888888888,
             "#fdca26"
            ],
            [
             1,
             "#f0f921"
            ]
           ]
          },
          "colorway": [
           "#636efa",
           "#EF553B",
           "#00cc96",
           "#ab63fa",
           "#FFA15A",
           "#19d3f3",
           "#FF6692",
           "#B6E880",
           "#FF97FF",
           "#FECB52"
          ],
          "font": {
           "color": "#2a3f5f"
          },
          "geo": {
           "bgcolor": "white",
           "lakecolor": "white",
           "landcolor": "#E5ECF6",
           "showlakes": true,
           "showland": true,
           "subunitcolor": "white"
          },
          "hoverlabel": {
           "align": "left"
          },
          "hovermode": "closest",
          "mapbox": {
           "style": "light"
          },
          "paper_bgcolor": "white",
          "plot_bgcolor": "#E5ECF6",
          "polar": {
           "angularaxis": {
            "gridcolor": "white",
            "linecolor": "white",
            "ticks": ""
           },
           "bgcolor": "#E5ECF6",
           "radialaxis": {
            "gridcolor": "white",
            "linecolor": "white",
            "ticks": ""
           }
          },
          "scene": {
           "xaxis": {
            "backgroundcolor": "#E5ECF6",
            "gridcolor": "white",
            "gridwidth": 2,
            "linecolor": "white",
            "showbackground": true,
            "ticks": "",
            "zerolinecolor": "white"
           },
           "yaxis": {
            "backgroundcolor": "#E5ECF6",
            "gridcolor": "white",
            "gridwidth": 2,
            "linecolor": "white",
            "showbackground": true,
            "ticks": "",
            "zerolinecolor": "white"
           },
           "zaxis": {
            "backgroundcolor": "#E5ECF6",
            "gridcolor": "white",
            "gridwidth": 2,
            "linecolor": "white",
            "showbackground": true,
            "ticks": "",
            "zerolinecolor": "white"
           }
          },
          "shapedefaults": {
           "line": {
            "color": "#2a3f5f"
           }
          },
          "ternary": {
           "aaxis": {
            "gridcolor": "white",
            "linecolor": "white",
            "ticks": ""
           },
           "baxis": {
            "gridcolor": "white",
            "linecolor": "white",
            "ticks": ""
           },
           "bgcolor": "#E5ECF6",
           "caxis": {
            "gridcolor": "white",
            "linecolor": "white",
            "ticks": ""
           }
          },
          "title": {
           "x": 0.05
          },
          "xaxis": {
           "automargin": true,
           "gridcolor": "white",
           "linecolor": "white",
           "ticks": "",
           "title": {
            "standoff": 15
           },
           "zerolinecolor": "white",
           "zerolinewidth": 2
          },
          "yaxis": {
           "automargin": true,
           "gridcolor": "white",
           "linecolor": "white",
           "ticks": "",
           "title": {
            "standoff": 15
           },
           "zerolinecolor": "white",
           "zerolinewidth": 2
          }
         }
        },
        "xaxis": {
         "anchor": "y",
         "domain": [
          0,
          1
         ],
         "title": {
          "text": "PC1"
         }
        },
        "yaxis": {
         "anchor": "x",
         "domain": [
          0,
          1
         ],
         "title": {
          "text": "PC2"
         }
        }
       }
      },
      "text/html": [
       "<div>                            <div id=\"d0c886e2-f447-41a0-8ea7-80a713e3f4b6\" class=\"plotly-graph-div\" style=\"height:525px; width:100%;\"></div>            <script type=\"text/javascript\">                require([\"plotly\"], function(Plotly) {                    window.PLOTLYENV=window.PLOTLYENV || {};                                    if (document.getElementById(\"d0c886e2-f447-41a0-8ea7-80a713e3f4b6\")) {                    Plotly.newPlot(                        \"d0c886e2-f447-41a0-8ea7-80a713e3f4b6\",                        [{\"hovertemplate\": \"continent=Asia<br>PC1=%{x}<br>PC2=%{y}<extra></extra>\", \"legendgroup\": \"Asia\", \"marker\": {\"color\": \"#636efa\", \"symbol\": \"circle\"}, \"mode\": \"markers\", \"name\": \"Asia\", \"orientation\": \"v\", \"showlegend\": true, \"type\": \"scatter\", \"x\": [-4.716248691315748, -0.6984859164338082, 0.216248861191608, 1.225783876462766, -0.48519904583154144, -0.7150789867089077, 0.6331327485314026, 0.6169569020032145, -0.9175061810807411, 3.1833305699147956, -0.03242613809416903, -0.04959363443204133, -1.0368267242046982, 1.199573390550856, 1.484069910627857, -0.36258557609769615, 0.6448104926297693, 1.0203813495036842, -0.30353790389036084, -0.9972304471742508, 0.4916170115592463, -0.39950728015256803, -0.907657665792745, -1.3813957369422882, 0.14773238585413648, 1.246488721245972, 3.2091215323660007, 0.22816061683777777, -0.0769994557103123, -0.4121126910739325, 0.5592391274355798, 0.06806740221604614, 1.5640264311099656, 0.9475974894393349, 0.2395967550197366, -2.2002420576801245], \"xaxis\": \"x\", \"y\": [1.5154227004762193, -0.04215523474554999, -0.49054565721746524, -0.949838177881423, 0.38634073368116156, -0.32886521486692044, -0.10017167900455391, -0.7709249949444604, -0.06185827716414249, 11.85002109537257, 0.13681599651086745, 1.5535830621002846, 0.7868158601135173, -0.6763890294060647, -0.7966967843457489, -0.25648972761533223, -0.5138242973085216, -0.6521043351939118, -0.43295050579908095, 0.0053035499535417155, -0.6700954805188328, -0.46168374974477117, -0.1648387716355413, 0.7389142522031356, -0.0054071927427067745, -0.1632944276426939, -1.8385534197656808, -0.5225633765020868, -0.4314949406572388, -0.5464904247501082, -0.8653595339371615, 0.639902822124749, -1.065487202598819, -1.127847545236209, -0.6293099553426547, 0.3769540541221962], \"yaxis\": \"y\"}, {\"hovertemplate\": \"continent=Europe<br>PC1=%{x}<br>PC2=%{y}<extra></extra>\", \"legendgroup\": \"Europe\", \"marker\": {\"color\": \"#EF553B\", \"symbol\": \"circle\"}, \"mode\": \"markers\", \"name\": \"Europe\", \"orientation\": \"v\", \"showlegend\": true, \"type\": \"scatter\", \"x\": [-0.7475236163578466, 2.1606009114529985, 0.12193838187165301, 1.767667816674344, -0.5790558801471096, 0.15345649239618686, 0.1869259938977691, 0.9903761464509095, 2.843814998568532, 1.317125161184184, 2.6680299479533143, 2.7529965957304006, 2.3863826370586745, -0.3236514088336926, 0.32368892128279386, 2.142966854395121, 2.4910649071526665, 1.7008107499579843, -0.3292004081037785, 0.17632674633418752, 0.5273399086035527, 2.4709340279182297, 1.7973044621025953, -0.7620098737779256, -0.14921490224901843, 2.5594126959928594, 2.8734412748345344, 1.1750439451972998, 1.106280010434941, 0.32235222831389415, 1.1584927544587065, 0.07377654431011714, 0.5051533726159149, 1.45729930158384, 2.19493752287336, 2.6938511960559035, 2.797426263798741, -0.6255183515289141, 3.0558398946849508], \"xaxis\": \"x\", \"y\": [-0.130638039410461, -1.3752952579520996, -0.38149336450667926, -0.5398694516881823, -0.2641510960892795, -0.36660781178867086, -0.42028369612689265, -0.5183474818354928, -1.892869105776201, -1.0688026490933236, -1.852077420078361, 1.0200100994277563, -0.22854718379955208, -0.1973627663256821, -0.4596115289979994, -1.5792695158199324, -1.5894569795458169, 1.7207850545436647, -0.5204013414655854, -0.5677185621677995, -0.6733014833769738, -1.6505947760683135, -1.4073496109796626, -0.12674784065903139, -0.4510075800713238, -1.3184383529200194, -1.9190395592344345, -0.3686590809778074, -0.5184847774017612, -0.07366917696459203, 2.535539181051921, -0.47242620248206085, -0.632929200663022, -1.038980640408885, 1.2857283756752624, -1.5187610332555004, -1.586864452730393, 0.3680541163861891, 0.782425943441852], \"yaxis\": \"y\"}, {\"hovertemplate\": \"continent=Africa<br>PC1=%{x}<br>PC2=%{y}<extra></extra>\", \"legendgroup\": \"Africa\", \"marker\": {\"color\": \"#00cc96\", \"symbol\": \"circle\"}, \"mode\": \"markers\", \"name\": \"Africa\", \"orientation\": \"v\", \"showlegend\": true, \"type\": \"scatter\", \"x\": [-1.074378945027331, -3.1574052100336005, -0.725543964917241, -2.576104113981205, -3.805736210167854, -2.2837334304378456, -3.6204585305172805, -1.9829272756863672, -3.1035277430216803, -1.018615352456617, -1.8673815728711232, -1.043768577900796, -1.631561259042573, -2.6541739394963053, -1.5159487220458152, -2.559714492069578, -0.1423336279704779, -2.8925832724292984, -2.722687824077916, -2.6068984979619767, -2.120825698515021, 0.693718848206754, -1.262883901577743, -2.1652916707159755, -1.1811507077424879, -1.874250607945645, -3.206986550544647, -0.3544526637376626, -1.5944583778295103, -3.261729833280875, -1.4033285199007508, -2.1729729486211378, -1.9032827076469319, -2.1236346832754194], \"xaxis\": \"x\", \"y\": [0.04398016393507585, 0.4944415477549155, -0.04095368518425826, 0.29665525308100754, 0.745639113627481, 0.28105903876514493, 0.7024072666591525, 0.1629050186760019, 0.5059760323757686, 0.37444931408929943, 0.21298052797951228, -0.014893577686234637, 0.06710668211975836, 0.37518376269098314, -0.020641531902861852, 0.319678237149832, -0.46302562368702915, 0.5341305570605092, 0.45766696713174004, 0.36411964540848324, 0.2540244983544655, -0.8483937386480789, 0.37192353563521574, 0.3601419358724828, -0.2813306836807242, 0.14308360566593778, 0.593186390633361, 1.37145487948015, -0.011213470776861906, 0.6054844096360349, 0.23138107978162747, 0.18302147573920394, 0.19591594174076846, 0.34208204634239786], \"yaxis\": \"y\"}, {\"hovertemplate\": \"continent=South America<br>PC1=%{x}<br>PC2=%{y}<extra></extra>\", \"legendgroup\": \"South America\", \"marker\": {\"color\": \"#ab63fa\", \"symbol\": \"circle\"}, \"mode\": \"markers\", \"name\": \"South America\", \"orientation\": \"v\", \"showlegend\": true, \"type\": \"scatter\", \"x\": [1.1984549072381987, -0.2935778066723513, 5.101060504152217, 0.8753221302229606, 1.0326462927025606, 1.1265127047435182, 0.49045479809341685, 0.41042562661110277, -0.21494952483380955, -0.0025094551534485914, -2.5872904630529407, -3.203301904584434, -0.18165808945513262, 0.14495565490098178, 0.11930358176591588, 0.9168025231904108, 0.33216079584970953, 0.8429800805350058, 1.1818736248403383, -0.6247708150980067], \"xaxis\": \"x\", \"y\": [1.001324704637464, -0.06300786541324932, 11.01872841059189, 0.5364298837137913, 1.3030623164557749, -0.9286230747538208, -0.4614254371446033, -0.08828899797621882, -0.4839620394795353, -0.4048009198885675, 0.29532150658820283, 0.45721566168368066, -0.45195750620751207, -0.5853681328550955, -0.7587079630734699, -0.5772557109911686, -0.618507555533389, 1.6255912245317512, -1.0762894870130277, -0.11042049697842111], \"yaxis\": \"y\"}, {\"hovertemplate\": \"continent=Australia<br>PC1=%{x}<br>PC2=%{y}<extra></extra>\", \"legendgroup\": \"Australia\", \"marker\": {\"color\": \"#FFA15A\", \"symbol\": \"circle\"}, \"mode\": \"markers\", \"name\": \"Australia\", \"orientation\": \"v\", \"showlegend\": true, \"type\": \"scatter\", \"x\": [2.391184900177815, 2.612253509332441], \"xaxis\": \"x\", \"y\": [-1.6698974822583903, -1.9159999781508645], \"yaxis\": \"y\"}, {\"hovertemplate\": \"continent=North America<br>PC1=%{x}<br>PC2=%{y}<extra></extra>\", \"legendgroup\": \"North America\", \"marker\": {\"color\": \"#19d3f3\", \"symbol\": \"circle\"}, \"mode\": \"markers\", \"name\": \"North America\", \"orientation\": \"v\", \"showlegend\": true, \"type\": \"scatter\", \"x\": [2.68081093432017, 1.897682408386599], \"xaxis\": \"x\", \"y\": [-0.9982653415584153, 2.618157725297508], \"yaxis\": \"y\"}],                        {\"annotations\": [{\"ax\": 0, \"ay\": 0, \"text\": \"Confirmed\", \"x\": 0.38731557866208965, \"xanchor\": \"center\", \"y\": 0.912854397837892, \"yanchor\": \"bottom\"}, {\"ax\": 0, \"ay\": 0, \"text\": \"Recovered\", \"x\": 0.3372132787352597, \"xanchor\": \"center\", \"y\": 0.9103898523650168, \"yanchor\": \"bottom\"}, {\"ax\": 0, \"ay\": 0, \"text\": \"Deaths\", \"x\": 0.44377806597561587, \"xanchor\": \"center\", \"y\": 0.8068664181637996, \"yanchor\": \"bottom\"}, {\"ax\": 0, \"ay\": 0, \"text\": \"gdp_per_capita\", \"x\": 0.8617993146957023, \"xanchor\": \"center\", \"y\": -0.25513519772264576, \"yanchor\": \"bottom\"}, {\"ax\": 0, \"ay\": 0, \"text\": \"social_support\", \"x\": 0.7953933377472044, \"xanchor\": \"center\", \"y\": -0.32295636815092627, \"yanchor\": \"bottom\"}, {\"ax\": 0, \"ay\": 0, \"text\": \"health\", \"x\": 0.8578802184996362, \"xanchor\": \"center\", \"y\": -0.2834892830338448, \"yanchor\": \"bottom\"}, {\"ax\": 0, \"ay\": 0, \"text\": \"freedom\", \"x\": 0.6369596136961836, \"xanchor\": \"center\", \"y\": -0.23183020033304375, \"yanchor\": \"bottom\"}, {\"ax\": 0, \"ay\": 0, \"text\": \"generosity\", \"x\": 0.04177405079583611, \"xanchor\": \"center\", \"y\": -0.12328197042040913, \"yanchor\": \"bottom\"}, {\"ax\": 0, \"ay\": 0, \"text\": \"government_trust\", \"x\": 0.480871631710596, \"xanchor\": \"center\", \"y\": -0.29674554845503165, \"yanchor\": \"bottom\"}, {\"ax\": 0, \"ay\": 0, \"text\": \"dystopia_residual\", \"x\": 0.03484089801186791, \"xanchor\": \"center\", \"y\": -0.09076650275907118, \"yanchor\": \"bottom\"}], \"legend\": {\"title\": {\"text\": \"continent\"}, \"tracegroupgap\": 0}, \"margin\": {\"t\": 60}, \"shapes\": [{\"type\": \"line\", \"x0\": 0, \"x1\": 0.38731557866208965, \"y0\": 0, \"y1\": 0.912854397837892}, {\"type\": \"line\", \"x0\": 0, \"x1\": 0.3372132787352597, \"y0\": 0, \"y1\": 0.9103898523650168}, {\"type\": \"line\", \"x0\": 0, \"x1\": 0.44377806597561587, \"y0\": 0, \"y1\": 0.8068664181637996}, {\"type\": \"line\", \"x0\": 0, \"x1\": 0.8617993146957023, \"y0\": 0, \"y1\": -0.25513519772264576}, {\"type\": \"line\", \"x0\": 0, \"x1\": 0.7953933377472044, \"y0\": 0, \"y1\": -0.32295636815092627}, {\"type\": \"line\", \"x0\": 0, \"x1\": 0.8578802184996362, \"y0\": 0, \"y1\": -0.2834892830338448}, {\"type\": \"line\", \"x0\": 0, \"x1\": 0.6369596136961836, \"y0\": 0, \"y1\": -0.23183020033304375}, {\"type\": \"line\", \"x0\": 0, \"x1\": 0.04177405079583611, \"y0\": 0, \"y1\": -0.12328197042040913}, {\"type\": \"line\", \"x0\": 0, \"x1\": 0.480871631710596, \"y0\": 0, \"y1\": -0.29674554845503165}, {\"type\": \"line\", \"x0\": 0, \"x1\": 0.03484089801186791, \"y0\": 0, \"y1\": -0.09076650275907118}], \"template\": {\"data\": {\"bar\": [{\"error_x\": {\"color\": \"#2a3f5f\"}, \"error_y\": {\"color\": \"#2a3f5f\"}, \"marker\": {\"line\": {\"color\": \"#E5ECF6\", \"width\": 0.5}}, \"type\": \"bar\"}], \"barpolar\": [{\"marker\": {\"line\": {\"color\": \"#E5ECF6\", \"width\": 0.5}}, \"type\": \"barpolar\"}], \"carpet\": [{\"aaxis\": {\"endlinecolor\": \"#2a3f5f\", \"gridcolor\": \"white\", \"linecolor\": \"white\", \"minorgridcolor\": \"white\", \"startlinecolor\": \"#2a3f5f\"}, \"baxis\": {\"endlinecolor\": \"#2a3f5f\", \"gridcolor\": \"white\", \"linecolor\": \"white\", \"minorgridcolor\": \"white\", \"startlinecolor\": \"#2a3f5f\"}, \"type\": \"carpet\"}], \"choropleth\": [{\"colorbar\": {\"outlinewidth\": 0, \"ticks\": \"\"}, \"type\": \"choropleth\"}], \"contour\": [{\"colorbar\": {\"outlinewidth\": 0, \"ticks\": \"\"}, \"colorscale\": [[0.0, \"#0d0887\"], [0.1111111111111111, \"#46039f\"], [0.2222222222222222, \"#7201a8\"], [0.3333333333333333, \"#9c179e\"], [0.4444444444444444, \"#bd3786\"], [0.5555555555555556, \"#d8576b\"], [0.6666666666666666, \"#ed7953\"], [0.7777777777777778, \"#fb9f3a\"], [0.8888888888888888, \"#fdca26\"], [1.0, \"#f0f921\"]], \"type\": \"contour\"}], \"contourcarpet\": [{\"colorbar\": {\"outlinewidth\": 0, \"ticks\": \"\"}, \"type\": \"contourcarpet\"}], \"heatmap\": [{\"colorbar\": {\"outlinewidth\": 0, \"ticks\": \"\"}, \"colorscale\": [[0.0, \"#0d0887\"], [0.1111111111111111, \"#46039f\"], [0.2222222222222222, \"#7201a8\"], [0.3333333333333333, \"#9c179e\"], [0.4444444444444444, \"#bd3786\"], [0.5555555555555556, \"#d8576b\"], [0.6666666666666666, \"#ed7953\"], [0.7777777777777778, \"#fb9f3a\"], [0.8888888888888888, \"#fdca26\"], [1.0, \"#f0f921\"]], \"type\": \"heatmap\"}], \"heatmapgl\": [{\"colorbar\": {\"outlinewidth\": 0, \"ticks\": \"\"}, \"colorscale\": [[0.0, \"#0d0887\"], [0.1111111111111111, \"#46039f\"], [0.2222222222222222, \"#7201a8\"], [0.3333333333333333, \"#9c179e\"], [0.4444444444444444, \"#bd3786\"], [0.5555555555555556, \"#d8576b\"], [0.6666666666666666, \"#ed7953\"], [0.7777777777777778, \"#fb9f3a\"], [0.8888888888888888, \"#fdca26\"], [1.0, \"#f0f921\"]], \"type\": \"heatmapgl\"}], \"histogram\": [{\"marker\": {\"colorbar\": {\"outlinewidth\": 0, \"ticks\": \"\"}}, \"type\": \"histogram\"}], \"histogram2d\": [{\"colorbar\": {\"outlinewidth\": 0, \"ticks\": \"\"}, \"colorscale\": [[0.0, \"#0d0887\"], [0.1111111111111111, \"#46039f\"], [0.2222222222222222, \"#7201a8\"], [0.3333333333333333, \"#9c179e\"], [0.4444444444444444, \"#bd3786\"], [0.5555555555555556, \"#d8576b\"], [0.6666666666666666, \"#ed7953\"], [0.7777777777777778, \"#fb9f3a\"], [0.8888888888888888, \"#fdca26\"], [1.0, \"#f0f921\"]], \"type\": \"histogram2d\"}], \"histogram2dcontour\": [{\"colorbar\": {\"outlinewidth\": 0, \"ticks\": \"\"}, \"colorscale\": [[0.0, \"#0d0887\"], [0.1111111111111111, \"#46039f\"], [0.2222222222222222, \"#7201a8\"], [0.3333333333333333, \"#9c179e\"], [0.4444444444444444, \"#bd3786\"], [0.5555555555555556, \"#d8576b\"], [0.6666666666666666, \"#ed7953\"], [0.7777777777777778, \"#fb9f3a\"], [0.8888888888888888, \"#fdca26\"], [1.0, \"#f0f921\"]], \"type\": \"histogram2dcontour\"}], \"mesh3d\": [{\"colorbar\": {\"outlinewidth\": 0, \"ticks\": \"\"}, \"type\": \"mesh3d\"}], \"parcoords\": [{\"line\": {\"colorbar\": {\"outlinewidth\": 0, \"ticks\": \"\"}}, \"type\": \"parcoords\"}], \"pie\": [{\"automargin\": true, \"type\": \"pie\"}], \"scatter\": [{\"marker\": {\"colorbar\": {\"outlinewidth\": 0, \"ticks\": \"\"}}, \"type\": \"scatter\"}], \"scatter3d\": [{\"line\": {\"colorbar\": {\"outlinewidth\": 0, \"ticks\": \"\"}}, \"marker\": {\"colorbar\": {\"outlinewidth\": 0, \"ticks\": \"\"}}, \"type\": \"scatter3d\"}], \"scattercarpet\": [{\"marker\": {\"colorbar\": {\"outlinewidth\": 0, \"ticks\": \"\"}}, \"type\": \"scattercarpet\"}], \"scattergeo\": [{\"marker\": {\"colorbar\": {\"outlinewidth\": 0, \"ticks\": \"\"}}, \"type\": \"scattergeo\"}], \"scattergl\": [{\"marker\": {\"colorbar\": {\"outlinewidth\": 0, \"ticks\": \"\"}}, \"type\": \"scattergl\"}], \"scattermapbox\": [{\"marker\": {\"colorbar\": {\"outlinewidth\": 0, \"ticks\": \"\"}}, \"type\": \"scattermapbox\"}], \"scatterpolar\": [{\"marker\": {\"colorbar\": {\"outlinewidth\": 0, \"ticks\": \"\"}}, \"type\": \"scatterpolar\"}], \"scatterpolargl\": [{\"marker\": {\"colorbar\": {\"outlinewidth\": 0, \"ticks\": \"\"}}, \"type\": \"scatterpolargl\"}], \"scatterternary\": [{\"marker\": {\"colorbar\": {\"outlinewidth\": 0, \"ticks\": \"\"}}, \"type\": \"scatterternary\"}], \"surface\": [{\"colorbar\": {\"outlinewidth\": 0, \"ticks\": \"\"}, \"colorscale\": [[0.0, \"#0d0887\"], [0.1111111111111111, \"#46039f\"], [0.2222222222222222, \"#7201a8\"], [0.3333333333333333, \"#9c179e\"], [0.4444444444444444, \"#bd3786\"], [0.5555555555555556, \"#d8576b\"], [0.6666666666666666, \"#ed7953\"], [0.7777777777777778, \"#fb9f3a\"], [0.8888888888888888, \"#fdca26\"], [1.0, \"#f0f921\"]], \"type\": \"surface\"}], \"table\": [{\"cells\": {\"fill\": {\"color\": \"#EBF0F8\"}, \"line\": {\"color\": \"white\"}}, \"header\": {\"fill\": {\"color\": \"#C8D4E3\"}, \"line\": {\"color\": \"white\"}}, \"type\": \"table\"}]}, \"layout\": {\"annotationdefaults\": {\"arrowcolor\": \"#2a3f5f\", \"arrowhead\": 0, \"arrowwidth\": 1}, \"autotypenumbers\": \"strict\", \"coloraxis\": {\"colorbar\": {\"outlinewidth\": 0, \"ticks\": \"\"}}, \"colorscale\": {\"diverging\": [[0, \"#8e0152\"], [0.1, \"#c51b7d\"], [0.2, \"#de77ae\"], [0.3, \"#f1b6da\"], [0.4, \"#fde0ef\"], [0.5, \"#f7f7f7\"], [0.6, \"#e6f5d0\"], [0.7, \"#b8e186\"], [0.8, \"#7fbc41\"], [0.9, \"#4d9221\"], [1, \"#276419\"]], \"sequential\": [[0.0, \"#0d0887\"], [0.1111111111111111, \"#46039f\"], [0.2222222222222222, \"#7201a8\"], [0.3333333333333333, \"#9c179e\"], [0.4444444444444444, \"#bd3786\"], [0.5555555555555556, \"#d8576b\"], [0.6666666666666666, \"#ed7953\"], [0.7777777777777778, \"#fb9f3a\"], [0.8888888888888888, \"#fdca26\"], [1.0, \"#f0f921\"]], \"sequentialminus\": [[0.0, \"#0d0887\"], [0.1111111111111111, \"#46039f\"], [0.2222222222222222, \"#7201a8\"], [0.3333333333333333, \"#9c179e\"], [0.4444444444444444, \"#bd3786\"], [0.5555555555555556, \"#d8576b\"], [0.6666666666666666, \"#ed7953\"], [0.7777777777777778, \"#fb9f3a\"], [0.8888888888888888, \"#fdca26\"], [1.0, \"#f0f921\"]]}, \"colorway\": [\"#636efa\", \"#EF553B\", \"#00cc96\", \"#ab63fa\", \"#FFA15A\", \"#19d3f3\", \"#FF6692\", \"#B6E880\", \"#FF97FF\", \"#FECB52\"], \"font\": {\"color\": \"#2a3f5f\"}, \"geo\": {\"bgcolor\": \"white\", \"lakecolor\": \"white\", \"landcolor\": \"#E5ECF6\", \"showlakes\": true, \"showland\": true, \"subunitcolor\": \"white\"}, \"hoverlabel\": {\"align\": \"left\"}, \"hovermode\": \"closest\", \"mapbox\": {\"style\": \"light\"}, \"paper_bgcolor\": \"white\", \"plot_bgcolor\": \"#E5ECF6\", \"polar\": {\"angularaxis\": {\"gridcolor\": \"white\", \"linecolor\": \"white\", \"ticks\": \"\"}, \"bgcolor\": \"#E5ECF6\", \"radialaxis\": {\"gridcolor\": \"white\", \"linecolor\": \"white\", \"ticks\": \"\"}}, \"scene\": {\"xaxis\": {\"backgroundcolor\": \"#E5ECF6\", \"gridcolor\": \"white\", \"gridwidth\": 2, \"linecolor\": \"white\", \"showbackground\": true, \"ticks\": \"\", \"zerolinecolor\": \"white\"}, \"yaxis\": {\"backgroundcolor\": \"#E5ECF6\", \"gridcolor\": \"white\", \"gridwidth\": 2, \"linecolor\": \"white\", \"showbackground\": true, \"ticks\": \"\", \"zerolinecolor\": \"white\"}, \"zaxis\": {\"backgroundcolor\": \"#E5ECF6\", \"gridcolor\": \"white\", \"gridwidth\": 2, \"linecolor\": \"white\", \"showbackground\": true, \"ticks\": \"\", \"zerolinecolor\": \"white\"}}, \"shapedefaults\": {\"line\": {\"color\": \"#2a3f5f\"}}, \"ternary\": {\"aaxis\": {\"gridcolor\": \"white\", \"linecolor\": \"white\", \"ticks\": \"\"}, \"baxis\": {\"gridcolor\": \"white\", \"linecolor\": \"white\", \"ticks\": \"\"}, \"bgcolor\": \"#E5ECF6\", \"caxis\": {\"gridcolor\": \"white\", \"linecolor\": \"white\", \"ticks\": \"\"}}, \"title\": {\"x\": 0.05}, \"xaxis\": {\"automargin\": true, \"gridcolor\": \"white\", \"linecolor\": \"white\", \"ticks\": \"\", \"title\": {\"standoff\": 15}, \"zerolinecolor\": \"white\", \"zerolinewidth\": 2}, \"yaxis\": {\"automargin\": true, \"gridcolor\": \"white\", \"linecolor\": \"white\", \"ticks\": \"\", \"title\": {\"standoff\": 15}, \"zerolinecolor\": \"white\", \"zerolinewidth\": 2}}}, \"xaxis\": {\"anchor\": \"y\", \"domain\": [0.0, 1.0], \"title\": {\"text\": \"PC1\"}}, \"yaxis\": {\"anchor\": \"x\", \"domain\": [0.0, 1.0], \"title\": {\"text\": \"PC2\"}}},                        {\"responsive\": true}                    ).then(function(){\n",
       "                            \n",
       "var gd = document.getElementById('d0c886e2-f447-41a0-8ea7-80a713e3f4b6');\n",
       "var x = new MutationObserver(function (mutations, observer) {{\n",
       "        var display = window.getComputedStyle(gd).display;\n",
       "        if (!display || display === 'none') {{\n",
       "            console.log([gd, 'removed!']);\n",
       "            Plotly.purge(gd);\n",
       "            observer.disconnect();\n",
       "        }}\n",
       "}});\n",
       "\n",
       "// Listen for the removal of the full notebook cells\n",
       "var notebookContainer = gd.closest('#notebook-container');\n",
       "if (notebookContainer) {{\n",
       "    x.observe(notebookContainer, {childList: true});\n",
       "}}\n",
       "\n",
       "// Listen for the clearing of the current output cell\n",
       "var outputEl = gd.closest('.output');\n",
       "if (outputEl) {{\n",
       "    x.observe(outputEl, {childList: true});\n",
       "}}\n",
       "\n",
       "                        })                };                });            </script>        </div>"
      ]
     },
     "metadata": {},
     "output_type": "display_data"
    }
   ],
   "source": [
    "import plotly.express as px\n",
    "import plotly.offline as pyo\n",
    "import plotly.graph_objs as go\n",
    "fig = px.scatter(pca_df, x='PC1', y='PC2', color='continent')\n",
    "loadings = pca.components_.T * np.sqrt(pca.explained_variance_)\n",
    "for i, feature in enumerate(features):\n",
    "    fig.add_shape(\n",
    "        type='line',\n",
    "        x0=0, y0=0,\n",
    "        x1=loadings[i, 0],\n",
    "        y1=loadings[i, 1]\n",
    "    )\n",
    "    fig.add_annotation(\n",
    "        x=loadings[i, 0],\n",
    "        y=loadings[i, 1],\n",
    "        ax=0, ay=0,\n",
    "        xanchor=\"center\",\n",
    "        yanchor=\"bottom\",\n",
    "        text=feature,\n",
    "    )\n",
    "fig.show()"
   ]
  },
  {
   "cell_type": "code",
   "execution_count": 70,
   "metadata": {},
   "outputs": [
    {
     "data": {
      "application/vnd.plotly.v1+json": {
       "config": {
        "plotlyServerURL": "https://plot.ly"
       },
       "data": [
        {
         "coloraxis": "coloraxis",
         "hovertemplate": "Principal Components: %{x}<br>Features: %{y}<br>Loadings: %{z}<extra></extra>",
         "name": "0",
         "type": "heatmap",
         "x": [
          "PC1",
          "PC2",
          "PC3"
         ],
         "xaxis": "x",
         "y": [
          "Confirmed",
          "Recovered",
          "Deaths",
          "gdp_per_capita",
          "social_support",
          "health",
          "freedom",
          "generosity",
          "government_trust",
          "dystopia_residual"
         ],
         "yaxis": "y",
         "z": [
          [
           0.38731557866208965,
           0.912854397837892,
           -0.0715069520534757
          ],
          [
           0.3372132787352597,
           0.9103898523650168,
           -0.07732858087346531
          ],
          [
           0.44377806597561587,
           0.8068664181637996,
           -0.025207590436148442
          ],
          [
           0.8617993146957023,
           -0.25513519772264576,
           0.2749934993997926
          ],
          [
           0.7953933377472044,
           -0.32295636815092627,
           0.23638459880804572
          ],
          [
           0.8578802184996362,
           -0.2834892830338448,
           0.22877467357547548
          ],
          [
           0.6369596136961836,
           -0.23183020033304375,
           -0.42056278201884467
          ],
          [
           0.04177405079583611,
           -0.12328197042040913,
           -0.8473930504760947
          ],
          [
           0.480871631710596,
           -0.29674554845503165,
           -0.5165052581921757
          ],
          [
           0.03484089801186791,
           -0.09076650275907118,
           -0.13367568711314184
          ]
         ]
        }
       ],
       "layout": {
        "coloraxis": {
         "colorbar": {
          "title": {
           "text": "Loadings"
          }
         },
         "colorscale": [
          [
           0,
           "#0d0887"
          ],
          [
           0.1111111111111111,
           "#46039f"
          ],
          [
           0.2222222222222222,
           "#7201a8"
          ],
          [
           0.3333333333333333,
           "#9c179e"
          ],
          [
           0.4444444444444444,
           "#bd3786"
          ],
          [
           0.5555555555555556,
           "#d8576b"
          ],
          [
           0.6666666666666666,
           "#ed7953"
          ],
          [
           0.7777777777777778,
           "#fb9f3a"
          ],
          [
           0.8888888888888888,
           "#fdca26"
          ],
          [
           1,
           "#f0f921"
          ]
         ]
        },
        "margin": {
         "t": 60
        },
        "template": {
         "data": {
          "bar": [
           {
            "error_x": {
             "color": "#2a3f5f"
            },
            "error_y": {
             "color": "#2a3f5f"
            },
            "marker": {
             "line": {
              "color": "#E5ECF6",
              "width": 0.5
             }
            },
            "type": "bar"
           }
          ],
          "barpolar": [
           {
            "marker": {
             "line": {
              "color": "#E5ECF6",
              "width": 0.5
             }
            },
            "type": "barpolar"
           }
          ],
          "carpet": [
           {
            "aaxis": {
             "endlinecolor": "#2a3f5f",
             "gridcolor": "white",
             "linecolor": "white",
             "minorgridcolor": "white",
             "startlinecolor": "#2a3f5f"
            },
            "baxis": {
             "endlinecolor": "#2a3f5f",
             "gridcolor": "white",
             "linecolor": "white",
             "minorgridcolor": "white",
             "startlinecolor": "#2a3f5f"
            },
            "type": "carpet"
           }
          ],
          "choropleth": [
           {
            "colorbar": {
             "outlinewidth": 0,
             "ticks": ""
            },
            "type": "choropleth"
           }
          ],
          "contour": [
           {
            "colorbar": {
             "outlinewidth": 0,
             "ticks": ""
            },
            "colorscale": [
             [
              0,
              "#0d0887"
             ],
             [
              0.1111111111111111,
              "#46039f"
             ],
             [
              0.2222222222222222,
              "#7201a8"
             ],
             [
              0.3333333333333333,
              "#9c179e"
             ],
             [
              0.4444444444444444,
              "#bd3786"
             ],
             [
              0.5555555555555556,
              "#d8576b"
             ],
             [
              0.6666666666666666,
              "#ed7953"
             ],
             [
              0.7777777777777778,
              "#fb9f3a"
             ],
             [
              0.8888888888888888,
              "#fdca26"
             ],
             [
              1,
              "#f0f921"
             ]
            ],
            "type": "contour"
           }
          ],
          "contourcarpet": [
           {
            "colorbar": {
             "outlinewidth": 0,
             "ticks": ""
            },
            "type": "contourcarpet"
           }
          ],
          "heatmap": [
           {
            "colorbar": {
             "outlinewidth": 0,
             "ticks": ""
            },
            "colorscale": [
             [
              0,
              "#0d0887"
             ],
             [
              0.1111111111111111,
              "#46039f"
             ],
             [
              0.2222222222222222,
              "#7201a8"
             ],
             [
              0.3333333333333333,
              "#9c179e"
             ],
             [
              0.4444444444444444,
              "#bd3786"
             ],
             [
              0.5555555555555556,
              "#d8576b"
             ],
             [
              0.6666666666666666,
              "#ed7953"
             ],
             [
              0.7777777777777778,
              "#fb9f3a"
             ],
             [
              0.8888888888888888,
              "#fdca26"
             ],
             [
              1,
              "#f0f921"
             ]
            ],
            "type": "heatmap"
           }
          ],
          "heatmapgl": [
           {
            "colorbar": {
             "outlinewidth": 0,
             "ticks": ""
            },
            "colorscale": [
             [
              0,
              "#0d0887"
             ],
             [
              0.1111111111111111,
              "#46039f"
             ],
             [
              0.2222222222222222,
              "#7201a8"
             ],
             [
              0.3333333333333333,
              "#9c179e"
             ],
             [
              0.4444444444444444,
              "#bd3786"
             ],
             [
              0.5555555555555556,
              "#d8576b"
             ],
             [
              0.6666666666666666,
              "#ed7953"
             ],
             [
              0.7777777777777778,
              "#fb9f3a"
             ],
             [
              0.8888888888888888,
              "#fdca26"
             ],
             [
              1,
              "#f0f921"
             ]
            ],
            "type": "heatmapgl"
           }
          ],
          "histogram": [
           {
            "marker": {
             "colorbar": {
              "outlinewidth": 0,
              "ticks": ""
             }
            },
            "type": "histogram"
           }
          ],
          "histogram2d": [
           {
            "colorbar": {
             "outlinewidth": 0,
             "ticks": ""
            },
            "colorscale": [
             [
              0,
              "#0d0887"
             ],
             [
              0.1111111111111111,
              "#46039f"
             ],
             [
              0.2222222222222222,
              "#7201a8"
             ],
             [
              0.3333333333333333,
              "#9c179e"
             ],
             [
              0.4444444444444444,
              "#bd3786"
             ],
             [
              0.5555555555555556,
              "#d8576b"
             ],
             [
              0.6666666666666666,
              "#ed7953"
             ],
             [
              0.7777777777777778,
              "#fb9f3a"
             ],
             [
              0.8888888888888888,
              "#fdca26"
             ],
             [
              1,
              "#f0f921"
             ]
            ],
            "type": "histogram2d"
           }
          ],
          "histogram2dcontour": [
           {
            "colorbar": {
             "outlinewidth": 0,
             "ticks": ""
            },
            "colorscale": [
             [
              0,
              "#0d0887"
             ],
             [
              0.1111111111111111,
              "#46039f"
             ],
             [
              0.2222222222222222,
              "#7201a8"
             ],
             [
              0.3333333333333333,
              "#9c179e"
             ],
             [
              0.4444444444444444,
              "#bd3786"
             ],
             [
              0.5555555555555556,
              "#d8576b"
             ],
             [
              0.6666666666666666,
              "#ed7953"
             ],
             [
              0.7777777777777778,
              "#fb9f3a"
             ],
             [
              0.8888888888888888,
              "#fdca26"
             ],
             [
              1,
              "#f0f921"
             ]
            ],
            "type": "histogram2dcontour"
           }
          ],
          "mesh3d": [
           {
            "colorbar": {
             "outlinewidth": 0,
             "ticks": ""
            },
            "type": "mesh3d"
           }
          ],
          "parcoords": [
           {
            "line": {
             "colorbar": {
              "outlinewidth": 0,
              "ticks": ""
             }
            },
            "type": "parcoords"
           }
          ],
          "pie": [
           {
            "automargin": true,
            "type": "pie"
           }
          ],
          "scatter": [
           {
            "marker": {
             "colorbar": {
              "outlinewidth": 0,
              "ticks": ""
             }
            },
            "type": "scatter"
           }
          ],
          "scatter3d": [
           {
            "line": {
             "colorbar": {
              "outlinewidth": 0,
              "ticks": ""
             }
            },
            "marker": {
             "colorbar": {
              "outlinewidth": 0,
              "ticks": ""
             }
            },
            "type": "scatter3d"
           }
          ],
          "scattercarpet": [
           {
            "marker": {
             "colorbar": {
              "outlinewidth": 0,
              "ticks": ""
             }
            },
            "type": "scattercarpet"
           }
          ],
          "scattergeo": [
           {
            "marker": {
             "colorbar": {
              "outlinewidth": 0,
              "ticks": ""
             }
            },
            "type": "scattergeo"
           }
          ],
          "scattergl": [
           {
            "marker": {
             "colorbar": {
              "outlinewidth": 0,
              "ticks": ""
             }
            },
            "type": "scattergl"
           }
          ],
          "scattermapbox": [
           {
            "marker": {
             "colorbar": {
              "outlinewidth": 0,
              "ticks": ""
             }
            },
            "type": "scattermapbox"
           }
          ],
          "scatterpolar": [
           {
            "marker": {
             "colorbar": {
              "outlinewidth": 0,
              "ticks": ""
             }
            },
            "type": "scatterpolar"
           }
          ],
          "scatterpolargl": [
           {
            "marker": {
             "colorbar": {
              "outlinewidth": 0,
              "ticks": ""
             }
            },
            "type": "scatterpolargl"
           }
          ],
          "scatterternary": [
           {
            "marker": {
             "colorbar": {
              "outlinewidth": 0,
              "ticks": ""
             }
            },
            "type": "scatterternary"
           }
          ],
          "surface": [
           {
            "colorbar": {
             "outlinewidth": 0,
             "ticks": ""
            },
            "colorscale": [
             [
              0,
              "#0d0887"
             ],
             [
              0.1111111111111111,
              "#46039f"
             ],
             [
              0.2222222222222222,
              "#7201a8"
             ],
             [
              0.3333333333333333,
              "#9c179e"
             ],
             [
              0.4444444444444444,
              "#bd3786"
             ],
             [
              0.5555555555555556,
              "#d8576b"
             ],
             [
              0.6666666666666666,
              "#ed7953"
             ],
             [
              0.7777777777777778,
              "#fb9f3a"
             ],
             [
              0.8888888888888888,
              "#fdca26"
             ],
             [
              1,
              "#f0f921"
             ]
            ],
            "type": "surface"
           }
          ],
          "table": [
           {
            "cells": {
             "fill": {
              "color": "#EBF0F8"
             },
             "line": {
              "color": "white"
             }
            },
            "header": {
             "fill": {
              "color": "#C8D4E3"
             },
             "line": {
              "color": "white"
             }
            },
            "type": "table"
           }
          ]
         },
         "layout": {
          "annotationdefaults": {
           "arrowcolor": "#2a3f5f",
           "arrowhead": 0,
           "arrowwidth": 1
          },
          "autotypenumbers": "strict",
          "coloraxis": {
           "colorbar": {
            "outlinewidth": 0,
            "ticks": ""
           }
          },
          "colorscale": {
           "diverging": [
            [
             0,
             "#8e0152"
            ],
            [
             0.1,
             "#c51b7d"
            ],
            [
             0.2,
             "#de77ae"
            ],
            [
             0.3,
             "#f1b6da"
            ],
            [
             0.4,
             "#fde0ef"
            ],
            [
             0.5,
             "#f7f7f7"
            ],
            [
             0.6,
             "#e6f5d0"
            ],
            [
             0.7,
             "#b8e186"
            ],
            [
             0.8,
             "#7fbc41"
            ],
            [
             0.9,
             "#4d9221"
            ],
            [
             1,
             "#276419"
            ]
           ],
           "sequential": [
            [
             0,
             "#0d0887"
            ],
            [
             0.1111111111111111,
             "#46039f"
            ],
            [
             0.2222222222222222,
             "#7201a8"
            ],
            [
             0.3333333333333333,
             "#9c179e"
            ],
            [
             0.4444444444444444,
             "#bd3786"
            ],
            [
             0.5555555555555556,
             "#d8576b"
            ],
            [
             0.6666666666666666,
             "#ed7953"
            ],
            [
             0.7777777777777778,
             "#fb9f3a"
            ],
            [
             0.8888888888888888,
             "#fdca26"
            ],
            [
             1,
             "#f0f921"
            ]
           ],
           "sequentialminus": [
            [
             0,
             "#0d0887"
            ],
            [
             0.1111111111111111,
             "#46039f"
            ],
            [
             0.2222222222222222,
             "#7201a8"
            ],
            [
             0.3333333333333333,
             "#9c179e"
            ],
            [
             0.4444444444444444,
             "#bd3786"
            ],
            [
             0.5555555555555556,
             "#d8576b"
            ],
            [
             0.6666666666666666,
             "#ed7953"
            ],
            [
             0.7777777777777778,
             "#fb9f3a"
            ],
            [
             0.8888888888888888,
             "#fdca26"
            ],
            [
             1,
             "#f0f921"
            ]
           ]
          },
          "colorway": [
           "#636efa",
           "#EF553B",
           "#00cc96",
           "#ab63fa",
           "#FFA15A",
           "#19d3f3",
           "#FF6692",
           "#B6E880",
           "#FF97FF",
           "#FECB52"
          ],
          "font": {
           "color": "#2a3f5f"
          },
          "geo": {
           "bgcolor": "white",
           "lakecolor": "white",
           "landcolor": "#E5ECF6",
           "showlakes": true,
           "showland": true,
           "subunitcolor": "white"
          },
          "hoverlabel": {
           "align": "left"
          },
          "hovermode": "closest",
          "mapbox": {
           "style": "light"
          },
          "paper_bgcolor": "white",
          "plot_bgcolor": "#E5ECF6",
          "polar": {
           "angularaxis": {
            "gridcolor": "white",
            "linecolor": "white",
            "ticks": ""
           },
           "bgcolor": "#E5ECF6",
           "radialaxis": {
            "gridcolor": "white",
            "linecolor": "white",
            "ticks": ""
           }
          },
          "scene": {
           "xaxis": {
            "backgroundcolor": "#E5ECF6",
            "gridcolor": "white",
            "gridwidth": 2,
            "linecolor": "white",
            "showbackground": true,
            "ticks": "",
            "zerolinecolor": "white"
           },
           "yaxis": {
            "backgroundcolor": "#E5ECF6",
            "gridcolor": "white",
            "gridwidth": 2,
            "linecolor": "white",
            "showbackground": true,
            "ticks": "",
            "zerolinecolor": "white"
           },
           "zaxis": {
            "backgroundcolor": "#E5ECF6",
            "gridcolor": "white",
            "gridwidth": 2,
            "linecolor": "white",
            "showbackground": true,
            "ticks": "",
            "zerolinecolor": "white"
           }
          },
          "shapedefaults": {
           "line": {
            "color": "#2a3f5f"
           }
          },
          "ternary": {
           "aaxis": {
            "gridcolor": "white",
            "linecolor": "white",
            "ticks": ""
           },
           "baxis": {
            "gridcolor": "white",
            "linecolor": "white",
            "ticks": ""
           },
           "bgcolor": "#E5ECF6",
           "caxis": {
            "gridcolor": "white",
            "linecolor": "white",
            "ticks": ""
           }
          },
          "title": {
           "x": 0.05
          },
          "xaxis": {
           "automargin": true,
           "gridcolor": "white",
           "linecolor": "white",
           "ticks": "",
           "title": {
            "standoff": 15
           },
           "zerolinecolor": "white",
           "zerolinewidth": 2
          },
          "yaxis": {
           "automargin": true,
           "gridcolor": "white",
           "linecolor": "white",
           "ticks": "",
           "title": {
            "standoff": 15
           },
           "zerolinecolor": "white",
           "zerolinewidth": 2
          }
         }
        },
        "xaxis": {
         "anchor": "y",
         "constrain": "domain",
         "domain": [
          0,
          1
         ],
         "scaleanchor": "y",
         "side": "top",
         "title": {
          "text": "Principal Components"
         }
        },
        "yaxis": {
         "anchor": "x",
         "autorange": "reversed",
         "constrain": "domain",
         "domain": [
          0,
          1
         ],
         "title": {
          "text": "Features"
         }
        }
       }
      },
      "text/html": [
       "<div>                            <div id=\"0a9366f1-87a1-49bd-a0d8-c72e32e7f51a\" class=\"plotly-graph-div\" style=\"height:525px; width:100%;\"></div>            <script type=\"text/javascript\">                require([\"plotly\"], function(Plotly) {                    window.PLOTLYENV=window.PLOTLYENV || {};                                    if (document.getElementById(\"0a9366f1-87a1-49bd-a0d8-c72e32e7f51a\")) {                    Plotly.newPlot(                        \"0a9366f1-87a1-49bd-a0d8-c72e32e7f51a\",                        [{\"coloraxis\": \"coloraxis\", \"hovertemplate\": \"Principal Components: %{x}<br>Features: %{y}<br>Loadings: %{z}<extra></extra>\", \"name\": \"0\", \"type\": \"heatmap\", \"x\": [\"PC1\", \"PC2\", \"PC3\"], \"xaxis\": \"x\", \"y\": [\"Confirmed\", \"Recovered\", \"Deaths\", \"gdp_per_capita\", \"social_support\", \"health\", \"freedom\", \"generosity\", \"government_trust\", \"dystopia_residual\"], \"yaxis\": \"y\", \"z\": [[0.38731557866208965, 0.912854397837892, -0.0715069520534757], [0.3372132787352597, 0.9103898523650168, -0.07732858087346531], [0.44377806597561587, 0.8068664181637996, -0.025207590436148442], [0.8617993146957023, -0.25513519772264576, 0.2749934993997926], [0.7953933377472044, -0.32295636815092627, 0.23638459880804572], [0.8578802184996362, -0.2834892830338448, 0.22877467357547548], [0.6369596136961836, -0.23183020033304375, -0.42056278201884467], [0.04177405079583611, -0.12328197042040913, -0.8473930504760947], [0.480871631710596, -0.29674554845503165, -0.5165052581921757], [0.03484089801186791, -0.09076650275907118, -0.13367568711314184]]}],                        {\"coloraxis\": {\"colorbar\": {\"title\": {\"text\": \"Loadings\"}}, \"colorscale\": [[0.0, \"#0d0887\"], [0.1111111111111111, \"#46039f\"], [0.2222222222222222, \"#7201a8\"], [0.3333333333333333, \"#9c179e\"], [0.4444444444444444, \"#bd3786\"], [0.5555555555555556, \"#d8576b\"], [0.6666666666666666, \"#ed7953\"], [0.7777777777777778, \"#fb9f3a\"], [0.8888888888888888, \"#fdca26\"], [1.0, \"#f0f921\"]]}, \"margin\": {\"t\": 60}, \"template\": {\"data\": {\"bar\": [{\"error_x\": {\"color\": \"#2a3f5f\"}, \"error_y\": {\"color\": \"#2a3f5f\"}, \"marker\": {\"line\": {\"color\": \"#E5ECF6\", \"width\": 0.5}}, \"type\": \"bar\"}], \"barpolar\": [{\"marker\": {\"line\": {\"color\": \"#E5ECF6\", \"width\": 0.5}}, \"type\": \"barpolar\"}], \"carpet\": [{\"aaxis\": {\"endlinecolor\": \"#2a3f5f\", \"gridcolor\": \"white\", \"linecolor\": \"white\", \"minorgridcolor\": \"white\", \"startlinecolor\": \"#2a3f5f\"}, \"baxis\": {\"endlinecolor\": \"#2a3f5f\", \"gridcolor\": \"white\", \"linecolor\": \"white\", \"minorgridcolor\": \"white\", \"startlinecolor\": \"#2a3f5f\"}, \"type\": \"carpet\"}], \"choropleth\": [{\"colorbar\": {\"outlinewidth\": 0, \"ticks\": \"\"}, \"type\": \"choropleth\"}], \"contour\": [{\"colorbar\": {\"outlinewidth\": 0, \"ticks\": \"\"}, \"colorscale\": [[0.0, \"#0d0887\"], [0.1111111111111111, \"#46039f\"], [0.2222222222222222, \"#7201a8\"], [0.3333333333333333, \"#9c179e\"], [0.4444444444444444, \"#bd3786\"], [0.5555555555555556, \"#d8576b\"], [0.6666666666666666, \"#ed7953\"], [0.7777777777777778, \"#fb9f3a\"], [0.8888888888888888, \"#fdca26\"], [1.0, \"#f0f921\"]], \"type\": \"contour\"}], \"contourcarpet\": [{\"colorbar\": {\"outlinewidth\": 0, \"ticks\": \"\"}, \"type\": \"contourcarpet\"}], \"heatmap\": [{\"colorbar\": {\"outlinewidth\": 0, \"ticks\": \"\"}, \"colorscale\": [[0.0, \"#0d0887\"], [0.1111111111111111, \"#46039f\"], [0.2222222222222222, \"#7201a8\"], [0.3333333333333333, \"#9c179e\"], [0.4444444444444444, \"#bd3786\"], [0.5555555555555556, \"#d8576b\"], [0.6666666666666666, \"#ed7953\"], [0.7777777777777778, \"#fb9f3a\"], [0.8888888888888888, \"#fdca26\"], [1.0, \"#f0f921\"]], \"type\": \"heatmap\"}], \"heatmapgl\": [{\"colorbar\": {\"outlinewidth\": 0, \"ticks\": \"\"}, \"colorscale\": [[0.0, \"#0d0887\"], [0.1111111111111111, \"#46039f\"], [0.2222222222222222, \"#7201a8\"], [0.3333333333333333, \"#9c179e\"], [0.4444444444444444, \"#bd3786\"], [0.5555555555555556, \"#d8576b\"], [0.6666666666666666, \"#ed7953\"], [0.7777777777777778, \"#fb9f3a\"], [0.8888888888888888, \"#fdca26\"], [1.0, \"#f0f921\"]], \"type\": \"heatmapgl\"}], \"histogram\": [{\"marker\": {\"colorbar\": {\"outlinewidth\": 0, \"ticks\": \"\"}}, \"type\": \"histogram\"}], \"histogram2d\": [{\"colorbar\": {\"outlinewidth\": 0, \"ticks\": \"\"}, \"colorscale\": [[0.0, \"#0d0887\"], [0.1111111111111111, \"#46039f\"], [0.2222222222222222, \"#7201a8\"], [0.3333333333333333, \"#9c179e\"], [0.4444444444444444, \"#bd3786\"], [0.5555555555555556, \"#d8576b\"], [0.6666666666666666, \"#ed7953\"], [0.7777777777777778, \"#fb9f3a\"], [0.8888888888888888, \"#fdca26\"], [1.0, \"#f0f921\"]], \"type\": \"histogram2d\"}], \"histogram2dcontour\": [{\"colorbar\": {\"outlinewidth\": 0, \"ticks\": \"\"}, \"colorscale\": [[0.0, \"#0d0887\"], [0.1111111111111111, \"#46039f\"], [0.2222222222222222, \"#7201a8\"], [0.3333333333333333, \"#9c179e\"], [0.4444444444444444, \"#bd3786\"], [0.5555555555555556, \"#d8576b\"], [0.6666666666666666, \"#ed7953\"], [0.7777777777777778, \"#fb9f3a\"], [0.8888888888888888, \"#fdca26\"], [1.0, \"#f0f921\"]], \"type\": \"histogram2dcontour\"}], \"mesh3d\": [{\"colorbar\": {\"outlinewidth\": 0, \"ticks\": \"\"}, \"type\": \"mesh3d\"}], \"parcoords\": [{\"line\": {\"colorbar\": {\"outlinewidth\": 0, \"ticks\": \"\"}}, \"type\": \"parcoords\"}], \"pie\": [{\"automargin\": true, \"type\": \"pie\"}], \"scatter\": [{\"marker\": {\"colorbar\": {\"outlinewidth\": 0, \"ticks\": \"\"}}, \"type\": \"scatter\"}], \"scatter3d\": [{\"line\": {\"colorbar\": {\"outlinewidth\": 0, \"ticks\": \"\"}}, \"marker\": {\"colorbar\": {\"outlinewidth\": 0, \"ticks\": \"\"}}, \"type\": \"scatter3d\"}], \"scattercarpet\": [{\"marker\": {\"colorbar\": {\"outlinewidth\": 0, \"ticks\": \"\"}}, \"type\": \"scattercarpet\"}], \"scattergeo\": [{\"marker\": {\"colorbar\": {\"outlinewidth\": 0, \"ticks\": \"\"}}, \"type\": \"scattergeo\"}], \"scattergl\": [{\"marker\": {\"colorbar\": {\"outlinewidth\": 0, \"ticks\": \"\"}}, \"type\": \"scattergl\"}], \"scattermapbox\": [{\"marker\": {\"colorbar\": {\"outlinewidth\": 0, \"ticks\": \"\"}}, \"type\": \"scattermapbox\"}], \"scatterpolar\": [{\"marker\": {\"colorbar\": {\"outlinewidth\": 0, \"ticks\": \"\"}}, \"type\": \"scatterpolar\"}], \"scatterpolargl\": [{\"marker\": {\"colorbar\": {\"outlinewidth\": 0, \"ticks\": \"\"}}, \"type\": \"scatterpolargl\"}], \"scatterternary\": [{\"marker\": {\"colorbar\": {\"outlinewidth\": 0, \"ticks\": \"\"}}, \"type\": \"scatterternary\"}], \"surface\": [{\"colorbar\": {\"outlinewidth\": 0, \"ticks\": \"\"}, \"colorscale\": [[0.0, \"#0d0887\"], [0.1111111111111111, \"#46039f\"], [0.2222222222222222, \"#7201a8\"], [0.3333333333333333, \"#9c179e\"], [0.4444444444444444, \"#bd3786\"], [0.5555555555555556, \"#d8576b\"], [0.6666666666666666, \"#ed7953\"], [0.7777777777777778, \"#fb9f3a\"], [0.8888888888888888, \"#fdca26\"], [1.0, \"#f0f921\"]], \"type\": \"surface\"}], \"table\": [{\"cells\": {\"fill\": {\"color\": \"#EBF0F8\"}, \"line\": {\"color\": \"white\"}}, \"header\": {\"fill\": {\"color\": \"#C8D4E3\"}, \"line\": {\"color\": \"white\"}}, \"type\": \"table\"}]}, \"layout\": {\"annotationdefaults\": {\"arrowcolor\": \"#2a3f5f\", \"arrowhead\": 0, \"arrowwidth\": 1}, \"autotypenumbers\": \"strict\", \"coloraxis\": {\"colorbar\": {\"outlinewidth\": 0, \"ticks\": \"\"}}, \"colorscale\": {\"diverging\": [[0, \"#8e0152\"], [0.1, \"#c51b7d\"], [0.2, \"#de77ae\"], [0.3, \"#f1b6da\"], [0.4, \"#fde0ef\"], [0.5, \"#f7f7f7\"], [0.6, \"#e6f5d0\"], [0.7, \"#b8e186\"], [0.8, \"#7fbc41\"], [0.9, \"#4d9221\"], [1, \"#276419\"]], \"sequential\": [[0.0, \"#0d0887\"], [0.1111111111111111, \"#46039f\"], [0.2222222222222222, \"#7201a8\"], [0.3333333333333333, \"#9c179e\"], [0.4444444444444444, \"#bd3786\"], [0.5555555555555556, \"#d8576b\"], [0.6666666666666666, \"#ed7953\"], [0.7777777777777778, \"#fb9f3a\"], [0.8888888888888888, \"#fdca26\"], [1.0, \"#f0f921\"]], \"sequentialminus\": [[0.0, \"#0d0887\"], [0.1111111111111111, \"#46039f\"], [0.2222222222222222, \"#7201a8\"], [0.3333333333333333, \"#9c179e\"], [0.4444444444444444, \"#bd3786\"], [0.5555555555555556, \"#d8576b\"], [0.6666666666666666, \"#ed7953\"], [0.7777777777777778, \"#fb9f3a\"], [0.8888888888888888, \"#fdca26\"], [1.0, \"#f0f921\"]]}, \"colorway\": [\"#636efa\", \"#EF553B\", \"#00cc96\", \"#ab63fa\", \"#FFA15A\", \"#19d3f3\", \"#FF6692\", \"#B6E880\", \"#FF97FF\", \"#FECB52\"], \"font\": {\"color\": \"#2a3f5f\"}, \"geo\": {\"bgcolor\": \"white\", \"lakecolor\": \"white\", \"landcolor\": \"#E5ECF6\", \"showlakes\": true, \"showland\": true, \"subunitcolor\": \"white\"}, \"hoverlabel\": {\"align\": \"left\"}, \"hovermode\": \"closest\", \"mapbox\": {\"style\": \"light\"}, \"paper_bgcolor\": \"white\", \"plot_bgcolor\": \"#E5ECF6\", \"polar\": {\"angularaxis\": {\"gridcolor\": \"white\", \"linecolor\": \"white\", \"ticks\": \"\"}, \"bgcolor\": \"#E5ECF6\", \"radialaxis\": {\"gridcolor\": \"white\", \"linecolor\": \"white\", \"ticks\": \"\"}}, \"scene\": {\"xaxis\": {\"backgroundcolor\": \"#E5ECF6\", \"gridcolor\": \"white\", \"gridwidth\": 2, \"linecolor\": \"white\", \"showbackground\": true, \"ticks\": \"\", \"zerolinecolor\": \"white\"}, \"yaxis\": {\"backgroundcolor\": \"#E5ECF6\", \"gridcolor\": \"white\", \"gridwidth\": 2, \"linecolor\": \"white\", \"showbackground\": true, \"ticks\": \"\", \"zerolinecolor\": \"white\"}, \"zaxis\": {\"backgroundcolor\": \"#E5ECF6\", \"gridcolor\": \"white\", \"gridwidth\": 2, \"linecolor\": \"white\", \"showbackground\": true, \"ticks\": \"\", \"zerolinecolor\": \"white\"}}, \"shapedefaults\": {\"line\": {\"color\": \"#2a3f5f\"}}, \"ternary\": {\"aaxis\": {\"gridcolor\": \"white\", \"linecolor\": \"white\", \"ticks\": \"\"}, \"baxis\": {\"gridcolor\": \"white\", \"linecolor\": \"white\", \"ticks\": \"\"}, \"bgcolor\": \"#E5ECF6\", \"caxis\": {\"gridcolor\": \"white\", \"linecolor\": \"white\", \"ticks\": \"\"}}, \"title\": {\"x\": 0.05}, \"xaxis\": {\"automargin\": true, \"gridcolor\": \"white\", \"linecolor\": \"white\", \"ticks\": \"\", \"title\": {\"standoff\": 15}, \"zerolinecolor\": \"white\", \"zerolinewidth\": 2}, \"yaxis\": {\"automargin\": true, \"gridcolor\": \"white\", \"linecolor\": \"white\", \"ticks\": \"\", \"title\": {\"standoff\": 15}, \"zerolinecolor\": \"white\", \"zerolinewidth\": 2}}}, \"xaxis\": {\"anchor\": \"y\", \"constrain\": \"domain\", \"domain\": [0.0, 1.0], \"scaleanchor\": \"y\", \"side\": \"top\", \"title\": {\"text\": \"Principal Components\"}}, \"yaxis\": {\"anchor\": \"x\", \"autorange\": \"reversed\", \"constrain\": \"domain\", \"domain\": [0.0, 1.0], \"title\": {\"text\": \"Features\"}}},                        {\"responsive\": true}                    ).then(function(){\n",
       "                            \n",
       "var gd = document.getElementById('0a9366f1-87a1-49bd-a0d8-c72e32e7f51a');\n",
       "var x = new MutationObserver(function (mutations, observer) {{\n",
       "        var display = window.getComputedStyle(gd).display;\n",
       "        if (!display || display === 'none') {{\n",
       "            console.log([gd, 'removed!']);\n",
       "            Plotly.purge(gd);\n",
       "            observer.disconnect();\n",
       "        }}\n",
       "}});\n",
       "\n",
       "// Listen for the removal of the full notebook cells\n",
       "var notebookContainer = gd.closest('#notebook-container');\n",
       "if (notebookContainer) {{\n",
       "    x.observe(notebookContainer, {childList: true});\n",
       "}}\n",
       "\n",
       "// Listen for the clearing of the current output cell\n",
       "var outputEl = gd.closest('.output');\n",
       "if (outputEl) {{\n",
       "    x.observe(outputEl, {childList: true});\n",
       "}}\n",
       "\n",
       "                        })                };                });            </script>        </div>"
      ]
     },
     "metadata": {},
     "output_type": "display_data"
    }
   ],
   "source": [
    "fig = px.imshow(loadings,\n",
    "                labels=dict(x=\"Principal Components\", y=\"Features\", color=\"Loadings\"),\n",
    "                x=['PC1', 'PC2', 'PC3'],\n",
    "                y=features\n",
    "                )\n",
    "fig.update_xaxes(side=\"top\")\n",
    "fig.show()"
   ]
  },
  {
   "cell_type": "code",
   "execution_count": 84,
   "metadata": {},
   "outputs": [
    {
     "data": {
      "image/png": "[encoded data removed]",
      "text/plain": [
       "<Figure size 770.56x648 with 1 Axes>"
      ]
     },
     "metadata": {},
     "output_type": "display_data"
    }
   ],
   "source": [
    "sns.set_context(\"notebook\", font_scale=1.1)\n",
    "sns.set_style(\"ticks\")\n",
    "\n",
    "sns.lmplot(x='PC1',\n",
    "           y='PC2',\n",
    "          data=pca_df,\n",
    "          fit_reg=False,\n",
    "          legend=True,\n",
    "          height=9,\n",
    "          hue='continent',\n",
    "          scatter_kws={\"s\":200, \"alpha\":0.3})\n",
    "plt.title('PCA Result Digits', weight='bold').set_fontsize('14')\n",
    "plt.xlabel('Prim Comp 1', weight='bold').set_fontsize('10')\n",
    "plt.ylabel('Prim Comp 2', weight='bold').set_fontsize('10')\n"
   ]
  },
  {
   "cell_type": "code",
   "execution_count": 72,
   "metadata": {},
   "outputs": [
    {
     "data": {
      "application/vnd.plotly.v1+json": {
       "config": {
        "plotlyServerURL": "https://plot.ly"
       },
       "data": [
        {
         "hovertemplate": "continent=Asia<br>PC1=%{x}<br>PC2=%{y}<br>PC3=%{z}<extra></extra>",
         "legendgroup": "Asia",
         "marker": {
          "color": "#636efa",
          "opacity": 0.7,
          "symbol": "circle"
         },
         "mode": "markers",
         "name": "Asia",
         "scene": "scene",
         "showlegend": true,
         "type": "scatter3d",
         "x": [
          -4.716248691315748,
          -0.6984859164338082,
          0.216248861191608,
          1.225783876462766,
          -0.48519904583154144,
          -0.7150789867089077,
          0.6331327485314026,
          0.6169569020032145,
          -0.9175061810807411,
          3.1833305699147956,
          -0.03242613809416903,
          -0.04959363443204133,
          -1.0368267242046982,
          1.199573390550856,
          1.484069910627857,
          -0.36258557609769615,
          0.6448104926297693,
          1.0203813495036842,
          -0.30353790389036084,
          -0.9972304471742508,
          0.4916170115592463,
          -0.39950728015256803,
          -0.907657665792745,
          -1.3813957369422882,
          0.14773238585413648,
          1.246488721245972,
          3.2091215323660007,
          0.22816061683777777,
          -0.0769994557103123,
          -0.4121126910739325,
          0.5592391274355798,
          0.06806740221604614,
          1.5640264311099656,
          0.9475974894393349,
          0.2395967550197366,
          -2.2002420576801245
         ],
         "y": [
          1.5154227004762193,
          -0.04215523474554999,
          -0.49054565721746524,
          -0.949838177881423,
          0.38634073368116156,
          -0.32886521486692044,
          -0.10017167900455391,
          -0.7709249949444604,
          -0.06185827716414249,
          11.85002109537257,
          0.13681599651086745,
          1.5535830621002846,
          0.7868158601135173,
          -0.6763890294060647,
          -0.7966967843457489,
          -0.25648972761533223,
          -0.5138242973085216,
          -0.6521043351939118,
          -0.43295050579908095,
          0.0053035499535417155,
          -0.6700954805188328,
          -0.46168374974477117,
          -0.1648387716355413,
          0.7389142522031356,
          -0.0054071927427067745,
          -0.1632944276426939,
          -1.8385534197656808,
          -0.5225633765020868,
          -0.4314949406572388,
          -0.5464904247501082,
          -0.8653595339371615,
          0.639902822124749,
          -1.065487202598819,
          -1.127847545236209,
          -0.6293099553426547,
          0.3769540541221962
         ],
         "z": [
          0.8354350855381512,
          0.9519785531174246,
          0.8773842252087375,
          -0.5639132516814215,
          -0.8930825757669489,
          -0.9652643466221491,
          0.8119511201585332,
          0.487048500291041,
          0.5608074708414851,
          -2.1074835310717264,
          -2.6153093740525772,
          -0.3579420672924099,
          0.7404247031289808,
          0.09872314930167572,
          1.659715815627324,
          0.8869726576292541,
          0.5962492577253141,
          0.709953040523156,
          -1.0029700962563937,
          1.542470268100962,
          -0.32217898382056664,
          0.2336186750419464,
          -1.254510591199737,
          -0.9811739592048765,
          -0.2048037838941748,
          0.7612804031962782,
          -1.0147262706848783,
          1.2879972869372012,
          0.06185138610165674,
          -0.7354503413672816,
          -1.084017791123955,
          1.6017615460933732,
          -1.070980552349458,
          -2.3947358962239274,
          0.19710792530022067,
          1.0771059309221949
         ]
        },
        {
         "hovertemplate": "continent=Europe<br>PC1=%{x}<br>PC2=%{y}<br>PC3=%{z}<extra></extra>",
         "legendgroup": "Europe",
         "marker": {
          "color": "#EF553B",
          "opacity": 0.7,
          "symbol": "circle"
         },
         "mode": "markers",
         "name": "Europe",
         "scene": "scene",
         "showlegend": true,
         "type": "scatter3d",
         "x": [
          -0.7475236163578466,
          2.1606009114529985,
          0.12193838187165301,
          1.767667816674344,
          -0.5790558801471096,
          0.15345649239618686,
          0.1869259938977691,
          0.9903761464509095,
          2.843814998568532,
          1.317125161184184,
          2.6680299479533143,
          2.7529965957304006,
          2.3863826370586745,
          -0.3236514088336926,
          0.32368892128279386,
          2.142966854395121,
          2.4910649071526665,
          1.7008107499579843,
          -0.3292004081037785,
          0.17632674633418752,
          0.5273399086035527,
          2.4709340279182297,
          1.7973044621025953,
          -0.7620098737779256,
          -0.14921490224901843,
          2.5594126959928594,
          2.8734412748345344,
          1.1750439451972998,
          1.106280010434941,
          0.32235222831389415,
          1.1584927544587065,
          0.07377654431011714,
          0.5051533726159149,
          1.45729930158384,
          2.19493752287336,
          2.6938511960559035,
          2.797426263798741,
          -0.6255183515289141,
          3.0558398946849508
         ],
         "y": [
          -0.130638039410461,
          -1.3752952579520996,
          -0.38149336450667926,
          -0.5398694516881823,
          -0.2641510960892795,
          -0.36660781178867086,
          -0.42028369612689265,
          -0.5183474818354928,
          -1.892869105776201,
          -1.0688026490933236,
          -1.852077420078361,
          1.0200100994277563,
          -0.22854718379955208,
          -0.1973627663256821,
          -0.4596115289979994,
          -1.5792695158199324,
          -1.5894569795458169,
          1.7207850545436647,
          -0.5204013414655854,
          -0.5677185621677995,
          -0.6733014833769738,
          -1.6505947760683135,
          -1.4073496109796626,
          -0.12674784065903139,
          -0.4510075800713238,
          -1.3184383529200194,
          -1.9190395592344345,
          -0.3686590809778074,
          -0.5184847774017612,
          -0.07366917696459203,
          2.535539181051921,
          -0.47242620248206085,
          -0.632929200663022,
          -1.038980640408885,
          1.2857283756752624,
          -1.5187610332555004,
          -1.586864452730393,
          0.3680541163861891,
          0.782425943441852
         ],
         "z": [
          0.5014883861708486,
          -0.7885980792341338,
          1.2717988334538473,
          0.47900710861573664,
          0.4339905705014708,
          1.7853110271825805,
          1.7075413184095376,
          1.6306220339599846,
          -1.6149775964485988,
          0.5399505174433151,
          -1.024959870577733,
          0.6529634220257808,
          -0.9212609836604009,
          2.864721325388829,
          1.9115039366921378,
          -1.1369132240342192,
          -1.2057931360431502,
          1.253705589291622,
          -0.9983700525251283,
          1.7475490188789014,
          1.748394682286313,
          -0.5176728943770416,
          -1.0759353821350714,
          0.6030945710658502,
          1.1321381778454618,
          -1.7445191617748814,
          -1.5973787361205012,
          0.9698092228075643,
          1.6679072548912597,
          1.349177768953122,
          1.2072450950826936,
          1.0203720797754192,
          1.5648195746930278,
          0.7134509357000964,
          0.8959890311912491,
          -1.6271012285160935,
          -1.3235184026675,
          1.0616160859001902,
          -1.766572395197029
         ]
        },
        {
         "hovertemplate": "continent=Africa<br>PC1=%{x}<br>PC2=%{y}<br>PC3=%{z}<extra></extra>",
         "legendgroup": "Africa",
         "marker": {
          "color": "#00cc96",
          "opacity": 0.7,
          "symbol": "circle"
         },
         "mode": "markers",
         "name": "Africa",
         "scene": "scene",
         "showlegend": true,
         "type": "scatter3d",
         "x": [
          -1.074378945027331,
          -3.1574052100336005,
          -0.725543964917241,
          -2.576104113981205,
          -3.805736210167854,
          -2.2837334304378456,
          -3.6204585305172805,
          -1.9829272756863672,
          -3.1035277430216803,
          -1.018615352456617,
          -1.8673815728711232,
          -1.043768577900796,
          -1.631561259042573,
          -2.6541739394963053,
          -1.5159487220458152,
          -2.559714492069578,
          -0.1423336279704779,
          -2.8925832724292984,
          -2.722687824077916,
          -2.6068984979619767,
          -2.120825698515021,
          0.693718848206754,
          -1.262883901577743,
          -2.1652916707159755,
          -1.1811507077424879,
          -1.874250607945645,
          -3.206986550544647,
          -0.3544526637376626,
          -1.5944583778295103,
          -3.261729833280875,
          -1.4033285199007508,
          -2.1729729486211378,
          -1.9032827076469319,
          -2.1236346832754194
         ],
         "y": [
          0.04398016393507585,
          0.4944415477549155,
          -0.04095368518425826,
          0.29665525308100754,
          0.745639113627481,
          0.28105903876514493,
          0.7024072666591525,
          0.1629050186760019,
          0.5059760323757686,
          0.37444931408929943,
          0.21298052797951228,
          -0.014893577686234637,
          0.06710668211975836,
          0.37518376269098314,
          -0.020641531902861852,
          0.319678237149832,
          -0.46302562368702915,
          0.5341305570605092,
          0.45766696713174004,
          0.36411964540848324,
          0.2540244983544655,
          -0.8483937386480789,
          0.37192353563521574,
          0.3601419358724828,
          -0.2813306836807242,
          0.14308360566593778,
          0.593186390633361,
          1.37145487948015,
          -0.011213470776861906,
          0.6054844096360349,
          0.23138107978162747,
          0.18302147573920394,
          0.19591594174076846,
          0.34208204634239786
         ],
         "z": [
          1.5909368562275992,
          -1.4388338705840353,
          1.380844999775524,
          -0.5982471097607754,
          -1.3703649041943693,
          -0.6711671698640936,
          -0.7329652528007707,
          -0.030089743325248355,
          -1.2774522886355721,
          1.1959147038312934,
          -0.7124152787376836,
          1.4913980177479396,
          -0.9564320268776534,
          -0.7214703377964231,
          -1.9800699444505154,
          -0.8164626385335586,
          0.28903745329760105,
          0.016678327765736568,
          -1.291830762543473,
          -0.36480838807804605,
          0.7363767030841177,
          0.21669034892102226,
          0.8236413622394929,
          -0.6411609451918505,
          -2.6718781737074684,
          0.01510376275255916,
          -1.143745670126647,
          0.5904620355620159,
          -1.4495699435798366,
          -0.857506621250946,
          1.8543582961725462,
          -0.8734526676638731,
          -0.8911321279340277,
          0.28230166100214743
         ]
        },
        {
         "hovertemplate": "continent=South America<br>PC1=%{x}<br>PC2=%{y}<br>PC3=%{z}<extra></extra>",
         "legendgroup": "South America",
         "marker": {
          "color": "#ab63fa",
          "opacity": 0.7,
          "symbol": "circle"
         },
         "mode": "markers",
         "name": "South America",
         "scene": "scene",
         "showlegend": true,
         "type": "scatter3d",
         "x": [
          1.1984549072381987,
          -0.2935778066723513,
          5.101060504152217,
          0.8753221302229606,
          1.0326462927025606,
          1.1265127047435182,
          0.49045479809341685,
          0.41042562661110277,
          -0.21494952483380955,
          -0.0025094551534485914,
          -2.5872904630529407,
          -3.203301904584434,
          -0.18165808945513262,
          0.14495565490098178,
          0.11930358176591588,
          0.9168025231904108,
          0.33216079584970953,
          0.8429800805350058,
          1.1818736248403383,
          -0.6247708150980067
         ],
         "y": [
          1.001324704637464,
          -0.06300786541324932,
          11.01872841059189,
          0.5364298837137913,
          1.3030623164557749,
          -0.9286230747538208,
          -0.4614254371446033,
          -0.08828899797621882,
          -0.4839620394795353,
          -0.4048009198885675,
          0.29532150658820283,
          0.45721566168368066,
          -0.45195750620751207,
          -0.5853681328550955,
          -0.7587079630734699,
          -0.5772557109911686,
          -0.618507555533389,
          1.6255912245317512,
          -1.0762894870130277,
          -0.11042049697842111
         ],
         "z": [
          1.216305558669417,
          0.05460917391928562,
          -0.476169599488124,
          0.8656309389773934,
          0.8720754551985476,
          0.3107771654180929,
          0.6165995986048957,
          0.5361145964960063,
          0.1709322349904246,
          -0.3960391784911247,
          -1.2380801279044857,
          -2.401157212448408,
          -0.8107475425638813,
          0.8414494082818664,
          -0.6991770577219462,
          1.0609777598044001,
          0.038853476865917086,
          0.930601381555482,
          0.27276272520770956,
          1.672532731248939
         ]
        },
        {
         "hovertemplate": "continent=Australia<br>PC1=%{x}<br>PC2=%{y}<br>PC3=%{z}<extra></extra>",
         "legendgroup": "Australia",
         "marker": {
          "color": "#FFA15A",
          "opacity": 0.7,
          "symbol": "circle"
         },
         "mode": "markers",
         "name": "Australia",
         "scene": "scene",
         "showlegend": true,
         "type": "scatter3d",
         "x": [
          2.391184900177815,
          2.612253509332441
         ],
         "y": [
          -1.6698974822583903,
          -1.9159999781508645
         ],
         "z": [
          -1.4536186256286119,
          -2.037104129742377
         ]
        },
        {
         "hovertemplate": "continent=North America<br>PC1=%{x}<br>PC2=%{y}<br>PC3=%{z}<extra></extra>",
         "legendgroup": "North America",
         "marker": {
          "color": "#19d3f3",
          "opacity": 0.7,
          "symbol": "circle"
         },
         "mode": "markers",
         "name": "North America",
         "scene": "scene",
         "showlegend": true,
         "type": "scatter3d",
         "x": [
          2.68081093432017,
          1.897682408386599
         ],
         "y": [
          -0.9982653415584153,
          2.618157725297508
         ],
         "z": [
          -1.3449889409925289,
          0.6222815339325984
         ]
        }
       ],
       "layout": {
        "legend": {
         "title": {
          "text": "continent"
         },
         "tracegroupgap": 0
        },
        "margin": {
         "t": 60
        },
        "scene": {
         "domain": {
          "x": [
           0,
           1
          ],
          "y": [
           0,
           1
          ]
         },
         "xaxis": {
          "title": {
           "text": "PC1"
          }
         },
         "yaxis": {
          "title": {
           "text": "PC2"
          }
         },
         "zaxis": {
          "title": {
           "text": "PC3"
          }
         }
        },
        "template": {
         "data": {
          "bar": [
           {
            "error_x": {
             "color": "#2a3f5f"
            },
            "error_y": {
             "color": "#2a3f5f"
            },
            "marker": {
             "line": {
              "color": "#E5ECF6",
              "width": 0.5
             }
            },
            "type": "bar"
           }
          ],
          "barpolar": [
           {
            "marker": {
             "line": {
              "color": "#E5ECF6",
              "width": 0.5
             }
            },
            "type": "barpolar"
           }
          ],
          "carpet": [
           {
            "aaxis": {
             "endlinecolor": "#2a3f5f",
             "gridcolor": "white",
             "linecolor": "white",
             "minorgridcolor": "white",
             "startlinecolor": "#2a3f5f"
            },
            "baxis": {
             "endlinecolor": "#2a3f5f",
             "gridcolor": "white",
             "linecolor": "white",
             "minorgridcolor": "white",
             "startlinecolor": "#2a3f5f"
            },
            "type": "carpet"
           }
          ],
          "choropleth": [
           {
            "colorbar": {
             "outlinewidth": 0,
             "ticks": ""
            },
            "type": "choropleth"
           }
          ],
          "contour": [
           {
            "colorbar": {
             "outlinewidth": 0,
             "ticks": ""
            },
            "colorscale": [
             [
              0,
              "#0d0887"
             ],
             [
              0.1111111111111111,
              "#46039f"
             ],
             [
              0.2222222222222222,
              "#7201a8"
             ],
             [
              0.3333333333333333,
              "#9c179e"
             ],
             [
              0.4444444444444444,
              "#bd3786"
             ],
             [
              0.5555555555555556,
              "#d8576b"
             ],
             [
              0.6666666666666666,
              "#ed7953"
             ],
             [
              0.7777777777777778,
              "#fb9f3a"
             ],
             [
              0.8888888888888888,
              "#fdca26"
             ],
             [
              1,
              "#f0f921"
             ]
            ],
            "type": "contour"
           }
          ],
          "contourcarpet": [
           {
            "colorbar": {
             "outlinewidth": 0,
             "ticks": ""
            },
            "type": "contourcarpet"
           }
          ],
          "heatmap": [
           {
            "colorbar": {
             "outlinewidth": 0,
             "ticks": ""
            },
            "colorscale": [
             [
              0,
              "#0d0887"
             ],
             [
              0.1111111111111111,
              "#46039f"
             ],
             [
              0.2222222222222222,
              "#7201a8"
             ],
             [
              0.3333333333333333,
              "#9c179e"
             ],
             [
              0.4444444444444444,
              "#bd3786"
             ],
             [
              0.5555555555555556,
              "#d8576b"
             ],
             [
              0.6666666666666666,
              "#ed7953"
             ],
             [
              0.7777777777777778,
              "#fb9f3a"
             ],
             [
              0.8888888888888888,
              "#fdca26"
             ],
             [
              1,
              "#f0f921"
             ]
            ],
            "type": "heatmap"
           }
          ],
          "heatmapgl": [
           {
            "colorbar": {
             "outlinewidth": 0,
             "ticks": ""
            },
            "colorscale": [
             [
              0,
              "#0d0887"
             ],
             [
              0.1111111111111111,
              "#46039f"
             ],
             [
              0.2222222222222222,
              "#7201a8"
             ],
             [
              0.3333333333333333,
              "#9c179e"
             ],
             [
              0.4444444444444444,
              "#bd3786"
             ],
             [
              0.5555555555555556,
              "#d8576b"
             ],
             [
              0.6666666666666666,
              "#ed7953"
             ],
             [
              0.7777777777777778,
              "#fb9f3a"
             ],
             [
              0.8888888888888888,
              "#fdca26"
             ],
             [
              1,
              "#f0f921"
             ]
            ],
            "type": "heatmapgl"
           }
          ],
          "histogram": [
           {
            "marker": {
             "colorbar": {
              "outlinewidth": 0,
              "ticks": ""
             }
            },
            "type": "histogram"
           }
          ],
          "histogram2d": [
           {
            "colorbar": {
             "outlinewidth": 0,
             "ticks": ""
            },
            "colorscale": [
             [
              0,
              "#0d0887"
             ],
             [
              0.1111111111111111,
              "#46039f"
             ],
             [
              0.2222222222222222,
              "#7201a8"
             ],
             [
              0.3333333333333333,
              "#9c179e"
             ],
             [
              0.4444444444444444,
              "#bd3786"
             ],
             [
              0.5555555555555556,
              "#d8576b"
             ],
             [
              0.6666666666666666,
              "#ed7953"
             ],
             [
              0.7777777777777778,
              "#fb9f3a"
             ],
             [
              0.8888888888888888,
              "#fdca26"
             ],
             [
              1,
              "#f0f921"
             ]
            ],
            "type": "histogram2d"
           }
          ],
          "histogram2dcontour": [
           {
            "colorbar": {
             "outlinewidth": 0,
             "ticks": ""
            },
            "colorscale": [
             [
              0,
              "#0d0887"
             ],
             [
              0.1111111111111111,
              "#46039f"
             ],
             [
              0.2222222222222222,
              "#7201a8"
             ],
             [
              0.3333333333333333,
              "#9c179e"
             ],
             [
              0.4444444444444444,
              "#bd3786"
             ],
             [
              0.5555555555555556,
              "#d8576b"
             ],
             [
              0.6666666666666666,
              "#ed7953"
             ],
             [
              0.7777777777777778,
              "#fb9f3a"
             ],
             [
              0.8888888888888888,
              "#fdca26"
             ],
             [
              1,
              "#f0f921"
             ]
            ],
            "type": "histogram2dcontour"
           }
          ],
          "mesh3d": [
           {
            "colorbar": {
             "outlinewidth": 0,
             "ticks": ""
            },
            "type": "mesh3d"
           }
          ],
          "parcoords": [
           {
            "line": {
             "colorbar": {
              "outlinewidth": 0,
              "ticks": ""
             }
            },
            "type": "parcoords"
           }
          ],
          "pie": [
           {
            "automargin": true,
            "type": "pie"
           }
          ],
          "scatter": [
           {
            "marker": {
             "colorbar": {
              "outlinewidth": 0,
              "ticks": ""
             }
            },
            "type": "scatter"
           }
          ],
          "scatter3d": [
           {
            "line": {
             "colorbar": {
              "outlinewidth": 0,
              "ticks": ""
             }
            },
            "marker": {
             "colorbar": {
              "outlinewidth": 0,
              "ticks": ""
             }
            },
            "type": "scatter3d"
           }
          ],
          "scattercarpet": [
           {
            "marker": {
             "colorbar": {
              "outlinewidth": 0,
              "ticks": ""
             }
            },
            "type": "scattercarpet"
           }
          ],
          "scattergeo": [
           {
            "marker": {
             "colorbar": {
              "outlinewidth": 0,
              "ticks": ""
             }
            },
            "type": "scattergeo"
           }
          ],
          "scattergl": [
           {
            "marker": {
             "colorbar": {
              "outlinewidth": 0,
              "ticks": ""
             }
            },
            "type": "scattergl"
           }
          ],
          "scattermapbox": [
           {
            "marker": {
             "colorbar": {
              "outlinewidth": 0,
              "ticks": ""
             }
            },
            "type": "scattermapbox"
           }
          ],
          "scatterpolar": [
           {
            "marker": {
             "colorbar": {
              "outlinewidth": 0,
              "ticks": ""
             }
            },
            "type": "scatterpolar"
           }
          ],
          "scatterpolargl": [
           {
            "marker": {
             "colorbar": {
              "outlinewidth": 0,
              "ticks": ""
             }
            },
            "type": "scatterpolargl"
           }
          ],
          "scatterternary": [
           {
            "marker": {
             "colorbar": {
              "outlinewidth": 0,
              "ticks": ""
             }
            },
            "type": "scatterternary"
           }
          ],
          "surface": [
           {
            "colorbar": {
             "outlinewidth": 0,
             "ticks": ""
            },
            "colorscale": [
             [
              0,
              "#0d0887"
             ],
             [
              0.1111111111111111,
              "#46039f"
             ],
             [
              0.2222222222222222,
              "#7201a8"
             ],
             [
              0.3333333333333333,
              "#9c179e"
             ],
             [
              0.4444444444444444,
              "#bd3786"
             ],
             [
              0.5555555555555556,
              "#d8576b"
             ],
             [
              0.6666666666666666,
              "#ed7953"
             ],
             [
              0.7777777777777778,
              "#fb9f3a"
             ],
             [
              0.8888888888888888,
              "#fdca26"
             ],
             [
              1,
              "#f0f921"
             ]
            ],
            "type": "surface"
           }
          ],
          "table": [
           {
            "cells": {
             "fill": {
              "color": "#EBF0F8"
             },
             "line": {
              "color": "white"
             }
            },
            "header": {
             "fill": {
              "color": "#C8D4E3"
             },
             "line": {
              "color": "white"
             }
            },
            "type": "table"
           }
          ]
         },
         "layout": {
          "annotationdefaults": {
           "arrowcolor": "#2a3f5f",
           "arrowhead": 0,
           "arrowwidth": 1
          },
          "autotypenumbers": "strict",
          "coloraxis": {
           "colorbar": {
            "outlinewidth": 0,
            "ticks": ""
           }
          },
          "colorscale": {
           "diverging": [
            [
             0,
             "#8e0152"
            ],
            [
             0.1,
             "#c51b7d"
            ],
            [
             0.2,
             "#de77ae"
            ],
            [
             0.3,
             "#f1b6da"
            ],
            [
             0.4,
             "#fde0ef"
            ],
            [
             0.5,
             "#f7f7f7"
            ],
            [
             0.6,
             "#e6f5d0"
            ],
            [
             0.7,
             "#b8e186"
            ],
            [
             0.8,
             "#7fbc41"
            ],
            [
             0.9,
             "#4d9221"
            ],
            [
             1,
             "#276419"
            ]
           ],
           "sequential": [
            [
             0,
             "#0d0887"
            ],
            [
             0.1111111111111111,
             "#46039f"
            ],
            [
             0.2222222222222222,
             "#7201a8"
            ],
            [
             0.3333333333333333,
             "#9c179e"
            ],
            [
             0.4444444444444444,
             "#bd3786"
            ],
            [
             0.5555555555555556,
             "#d8576b"
            ],
            [
             0.6666666666666666,
             "#ed7953"
            ],
            [
             0.7777777777777778,
             "#fb9f3a"
            ],
            [
             0.8888888888888888,
             "#fdca26"
            ],
            [
             1,
             "#f0f921"
            ]
           ],
           "sequentialminus": [
            [
             0,
             "#0d0887"
            ],
            [
             0.1111111111111111,
             "#46039f"
            ],
            [
             0.2222222222222222,
             "#7201a8"
            ],
            [
             0.3333333333333333,
             "#9c179e"
            ],
            [
             0.4444444444444444,
             "#bd3786"
            ],
            [
             0.5555555555555556,
             "#d8576b"
            ],
            [
             0.6666666666666666,
             "#ed7953"
            ],
            [
             0.7777777777777778,
             "#fb9f3a"
            ],
            [
             0.8888888888888888,
             "#fdca26"
            ],
            [
             1,
             "#f0f921"
            ]
           ]
          },
          "colorway": [
           "#636efa",
           "#EF553B",
           "#00cc96",
           "#ab63fa",
           "#FFA15A",
           "#19d3f3",
           "#FF6692",
           "#B6E880",
           "#FF97FF",
           "#FECB52"
          ],
          "font": {
           "color": "#2a3f5f"
          },
          "geo": {
           "bgcolor": "white",
           "lakecolor": "white",
           "landcolor": "#E5ECF6",
           "showlakes": true,
           "showland": true,
           "subunitcolor": "white"
          },
          "hoverlabel": {
           "align": "left"
          },
          "hovermode": "closest",
          "mapbox": {
           "style": "light"
          },
          "paper_bgcolor": "white",
          "plot_bgcolor": "#E5ECF6",
          "polar": {
           "angularaxis": {
            "gridcolor": "white",
            "linecolor": "white",
            "ticks": ""
           },
           "bgcolor": "#E5ECF6",
           "radialaxis": {
            "gridcolor": "white",
            "linecolor": "white",
            "ticks": ""
           }
          },
          "scene": {
           "xaxis": {
            "backgroundcolor": "#E5ECF6",
            "gridcolor": "white",
            "gridwidth": 2,
            "linecolor": "white",
            "showbackground": true,
            "ticks": "",
            "zerolinecolor": "white"
           },
           "yaxis": {
            "backgroundcolor": "#E5ECF6",
            "gridcolor": "white",
            "gridwidth": 2,
            "linecolor": "white",
            "showbackground": true,
            "ticks": "",
            "zerolinecolor": "white"
           },
           "zaxis": {
            "backgroundcolor": "#E5ECF6",
            "gridcolor": "white",
            "gridwidth": 2,
            "linecolor": "white",
            "showbackground": true,
            "ticks": "",
            "zerolinecolor": "white"
           }
          },
          "shapedefaults": {
           "line": {
            "color": "#2a3f5f"
           }
          },
          "ternary": {
           "aaxis": {
            "gridcolor": "white",
            "linecolor": "white",
            "ticks": ""
           },
           "baxis": {
            "gridcolor": "white",
            "linecolor": "white",
            "ticks": ""
           },
           "bgcolor": "#E5ECF6",
           "caxis": {
            "gridcolor": "white",
            "linecolor": "white",
            "ticks": ""
           }
          },
          "title": {
           "x": 0.05
          },
          "xaxis": {
           "automargin": true,
           "gridcolor": "white",
           "linecolor": "white",
           "ticks": "",
           "title": {
            "standoff": 15
           },
           "zerolinecolor": "white",
           "zerolinewidth": 2
          },
          "yaxis": {
           "automargin": true,
           "gridcolor": "white",
           "linecolor": "white",
           "ticks": "",
           "title": {
            "standoff": 15
           },
           "zerolinecolor": "white",
           "zerolinewidth": 2
          }
         }
        }
       }
      },
      "text/html": [
       "<div>                            <div id=\"1a07dbc9-6f98-43ad-aa3f-1133cb3987ba\" class=\"plotly-graph-div\" style=\"height:525px; width:100%;\"></div>            <script type=\"text/javascript\">                require([\"plotly\"], function(Plotly) {                    window.PLOTLYENV=window.PLOTLYENV || {};                                    if (document.getElementById(\"1a07dbc9-6f98-43ad-aa3f-1133cb3987ba\")) {                    Plotly.newPlot(                        \"1a07dbc9-6f98-43ad-aa3f-1133cb3987ba\",                        [{\"hovertemplate\": \"continent=Asia<br>PC1=%{x}<br>PC2=%{y}<br>PC3=%{z}<extra></extra>\", \"legendgroup\": \"Asia\", \"marker\": {\"color\": \"#636efa\", \"opacity\": 0.7, \"symbol\": \"circle\"}, \"mode\": \"markers\", \"name\": \"Asia\", \"scene\": \"scene\", \"showlegend\": true, \"type\": \"scatter3d\", \"x\": [-4.716248691315748, -0.6984859164338082, 0.216248861191608, 1.225783876462766, -0.48519904583154144, -0.7150789867089077, 0.6331327485314026, 0.6169569020032145, -0.9175061810807411, 3.1833305699147956, -0.03242613809416903, -0.04959363443204133, -1.0368267242046982, 1.199573390550856, 1.484069910627857, -0.36258557609769615, 0.6448104926297693, 1.0203813495036842, -0.30353790389036084, -0.9972304471742508, 0.4916170115592463, -0.39950728015256803, -0.907657665792745, -1.3813957369422882, 0.14773238585413648, 1.246488721245972, 3.2091215323660007, 0.22816061683777777, -0.0769994557103123, -0.4121126910739325, 0.5592391274355798, 0.06806740221604614, 1.5640264311099656, 0.9475974894393349, 0.2395967550197366, -2.2002420576801245], \"y\": [1.5154227004762193, -0.04215523474554999, -0.49054565721746524, -0.949838177881423, 0.38634073368116156, -0.32886521486692044, -0.10017167900455391, -0.7709249949444604, -0.06185827716414249, 11.85002109537257, 0.13681599651086745, 1.5535830621002846, 0.7868158601135173, -0.6763890294060647, -0.7966967843457489, -0.25648972761533223, -0.5138242973085216, -0.6521043351939118, -0.43295050579908095, 0.0053035499535417155, -0.6700954805188328, -0.46168374974477117, -0.1648387716355413, 0.7389142522031356, -0.0054071927427067745, -0.1632944276426939, -1.8385534197656808, -0.5225633765020868, -0.4314949406572388, -0.5464904247501082, -0.8653595339371615, 0.639902822124749, -1.065487202598819, -1.127847545236209, -0.6293099553426547, 0.3769540541221962], \"z\": [0.8354350855381512, 0.9519785531174246, 0.8773842252087375, -0.5639132516814215, -0.8930825757669489, -0.9652643466221491, 0.8119511201585332, 0.487048500291041, 0.5608074708414851, -2.1074835310717264, -2.6153093740525772, -0.3579420672924099, 0.7404247031289808, 0.09872314930167572, 1.659715815627324, 0.8869726576292541, 0.5962492577253141, 0.709953040523156, -1.0029700962563937, 1.542470268100962, -0.32217898382056664, 0.2336186750419464, -1.254510591199737, -0.9811739592048765, -0.2048037838941748, 0.7612804031962782, -1.0147262706848783, 1.2879972869372012, 0.06185138610165674, -0.7354503413672816, -1.084017791123955, 1.6017615460933732, -1.070980552349458, -2.3947358962239274, 0.19710792530022067, 1.0771059309221949]}, {\"hovertemplate\": \"continent=Europe<br>PC1=%{x}<br>PC2=%{y}<br>PC3=%{z}<extra></extra>\", \"legendgroup\": \"Europe\", \"marker\": {\"color\": \"#EF553B\", \"opacity\": 0.7, \"symbol\": \"circle\"}, \"mode\": \"markers\", \"name\": \"Europe\", \"scene\": \"scene\", \"showlegend\": true, \"type\": \"scatter3d\", \"x\": [-0.7475236163578466, 2.1606009114529985, 0.12193838187165301, 1.767667816674344, -0.5790558801471096, 0.15345649239618686, 0.1869259938977691, 0.9903761464509095, 2.843814998568532, 1.317125161184184, 2.6680299479533143, 2.7529965957304006, 2.3863826370586745, -0.3236514088336926, 0.32368892128279386, 2.142966854395121, 2.4910649071526665, 1.7008107499579843, -0.3292004081037785, 0.17632674633418752, 0.5273399086035527, 2.4709340279182297, 1.7973044621025953, -0.7620098737779256, -0.14921490224901843, 2.5594126959928594, 2.8734412748345344, 1.1750439451972998, 1.106280010434941, 0.32235222831389415, 1.1584927544587065, 0.07377654431011714, 0.5051533726159149, 1.45729930158384, 2.19493752287336, 2.6938511960559035, 2.797426263798741, -0.6255183515289141, 3.0558398946849508], \"y\": [-0.130638039410461, -1.3752952579520996, -0.38149336450667926, -0.5398694516881823, -0.2641510960892795, -0.36660781178867086, -0.42028369612689265, -0.5183474818354928, -1.892869105776201, -1.0688026490933236, -1.852077420078361, 1.0200100994277563, -0.22854718379955208, -0.1973627663256821, -0.4596115289979994, -1.5792695158199324, -1.5894569795458169, 1.7207850545436647, -0.5204013414655854, -0.5677185621677995, -0.6733014833769738, -1.6505947760683135, -1.4073496109796626, -0.12674784065903139, -0.4510075800713238, -1.3184383529200194, -1.9190395592344345, -0.3686590809778074, -0.5184847774017612, -0.07366917696459203, 2.535539181051921, -0.47242620248206085, -0.632929200663022, -1.038980640408885, 1.2857283756752624, -1.5187610332555004, -1.586864452730393, 0.3680541163861891, 0.782425943441852], \"z\": [0.5014883861708486, -0.7885980792341338, 1.2717988334538473, 0.47900710861573664, 0.4339905705014708, 1.7853110271825805, 1.7075413184095376, 1.6306220339599846, -1.6149775964485988, 0.5399505174433151, -1.024959870577733, 0.6529634220257808, -0.9212609836604009, 2.864721325388829, 1.9115039366921378, -1.1369132240342192, -1.2057931360431502, 1.253705589291622, -0.9983700525251283, 1.7475490188789014, 1.748394682286313, -0.5176728943770416, -1.0759353821350714, 0.6030945710658502, 1.1321381778454618, -1.7445191617748814, -1.5973787361205012, 0.9698092228075643, 1.6679072548912597, 1.349177768953122, 1.2072450950826936, 1.0203720797754192, 1.5648195746930278, 0.7134509357000964, 0.8959890311912491, -1.6271012285160935, -1.3235184026675, 1.0616160859001902, -1.766572395197029]}, {\"hovertemplate\": \"continent=Africa<br>PC1=%{x}<br>PC2=%{y}<br>PC3=%{z}<extra></extra>\", \"legendgroup\": \"Africa\", \"marker\": {\"color\": \"#00cc96\", \"opacity\": 0.7, \"symbol\": \"circle\"}, \"mode\": \"markers\", \"name\": \"Africa\", \"scene\": \"scene\", \"showlegend\": true, \"type\": \"scatter3d\", \"x\": [-1.074378945027331, -3.1574052100336005, -0.725543964917241, -2.576104113981205, -3.805736210167854, -2.2837334304378456, -3.6204585305172805, -1.9829272756863672, -3.1035277430216803, -1.018615352456617, -1.8673815728711232, -1.043768577900796, -1.631561259042573, -2.6541739394963053, -1.5159487220458152, -2.559714492069578, -0.1423336279704779, -2.8925832724292984, -2.722687824077916, -2.6068984979619767, -2.120825698515021, 0.693718848206754, -1.262883901577743, -2.1652916707159755, -1.1811507077424879, -1.874250607945645, -3.206986550544647, -0.3544526637376626, -1.5944583778295103, -3.261729833280875, -1.4033285199007508, -2.1729729486211378, -1.9032827076469319, -2.1236346832754194], \"y\": [0.04398016393507585, 0.4944415477549155, -0.04095368518425826, 0.29665525308100754, 0.745639113627481, 0.28105903876514493, 0.7024072666591525, 0.1629050186760019, 0.5059760323757686, 0.37444931408929943, 0.21298052797951228, -0.014893577686234637, 0.06710668211975836, 0.37518376269098314, -0.020641531902861852, 0.319678237149832, -0.46302562368702915, 0.5341305570605092, 0.45766696713174004, 0.36411964540848324, 0.2540244983544655, -0.8483937386480789, 0.37192353563521574, 0.3601419358724828, -0.2813306836807242, 0.14308360566593778, 0.593186390633361, 1.37145487948015, -0.011213470776861906, 0.6054844096360349, 0.23138107978162747, 0.18302147573920394, 0.19591594174076846, 0.34208204634239786], \"z\": [1.5909368562275992, -1.4388338705840353, 1.380844999775524, -0.5982471097607754, -1.3703649041943693, -0.6711671698640936, -0.7329652528007707, -0.030089743325248355, -1.2774522886355721, 1.1959147038312934, -0.7124152787376836, 1.4913980177479396, -0.9564320268776534, -0.7214703377964231, -1.9800699444505154, -0.8164626385335586, 0.28903745329760105, 0.016678327765736568, -1.291830762543473, -0.36480838807804605, 0.7363767030841177, 0.21669034892102226, 0.8236413622394929, -0.6411609451918505, -2.6718781737074684, 0.01510376275255916, -1.143745670126647, 0.5904620355620159, -1.4495699435798366, -0.857506621250946, 1.8543582961725462, -0.8734526676638731, -0.8911321279340277, 0.28230166100214743]}, {\"hovertemplate\": \"continent=South America<br>PC1=%{x}<br>PC2=%{y}<br>PC3=%{z}<extra></extra>\", \"legendgroup\": \"South America\", \"marker\": {\"color\": \"#ab63fa\", \"opacity\": 0.7, \"symbol\": \"circle\"}, \"mode\": \"markers\", \"name\": \"South America\", \"scene\": \"scene\", \"showlegend\": true, \"type\": \"scatter3d\", \"x\": [1.1984549072381987, -0.2935778066723513, 5.101060504152217, 0.8753221302229606, 1.0326462927025606, 1.1265127047435182, 0.49045479809341685, 0.41042562661110277, -0.21494952483380955, -0.0025094551534485914, -2.5872904630529407, -3.203301904584434, -0.18165808945513262, 0.14495565490098178, 0.11930358176591588, 0.9168025231904108, 0.33216079584970953, 0.8429800805350058, 1.1818736248403383, -0.6247708150980067], \"y\": [1.001324704637464, -0.06300786541324932, 11.01872841059189, 0.5364298837137913, 1.3030623164557749, -0.9286230747538208, -0.4614254371446033, -0.08828899797621882, -0.4839620394795353, -0.4048009198885675, 0.29532150658820283, 0.45721566168368066, -0.45195750620751207, -0.5853681328550955, -0.7587079630734699, -0.5772557109911686, -0.618507555533389, 1.6255912245317512, -1.0762894870130277, -0.11042049697842111], \"z\": [1.216305558669417, 0.05460917391928562, -0.476169599488124, 0.8656309389773934, 0.8720754551985476, 0.3107771654180929, 0.6165995986048957, 0.5361145964960063, 0.1709322349904246, -0.3960391784911247, -1.2380801279044857, -2.401157212448408, -0.8107475425638813, 0.8414494082818664, -0.6991770577219462, 1.0609777598044001, 0.038853476865917086, 0.930601381555482, 0.27276272520770956, 1.672532731248939]}, {\"hovertemplate\": \"continent=Australia<br>PC1=%{x}<br>PC2=%{y}<br>PC3=%{z}<extra></extra>\", \"legendgroup\": \"Australia\", \"marker\": {\"color\": \"#FFA15A\", \"opacity\": 0.7, \"symbol\": \"circle\"}, \"mode\": \"markers\", \"name\": \"Australia\", \"scene\": \"scene\", \"showlegend\": true, \"type\": \"scatter3d\", \"x\": [2.391184900177815, 2.612253509332441], \"y\": [-1.6698974822583903, -1.9159999781508645], \"z\": [-1.4536186256286119, -2.037104129742377]}, {\"hovertemplate\": \"continent=North America<br>PC1=%{x}<br>PC2=%{y}<br>PC3=%{z}<extra></extra>\", \"legendgroup\": \"North America\", \"marker\": {\"color\": \"#19d3f3\", \"opacity\": 0.7, \"symbol\": \"circle\"}, \"mode\": \"markers\", \"name\": \"North America\", \"scene\": \"scene\", \"showlegend\": true, \"type\": \"scatter3d\", \"x\": [2.68081093432017, 1.897682408386599], \"y\": [-0.9982653415584153, 2.618157725297508], \"z\": [-1.3449889409925289, 0.6222815339325984]}],                        {\"legend\": {\"title\": {\"text\": \"continent\"}, \"tracegroupgap\": 0}, \"margin\": {\"t\": 60}, \"scene\": {\"domain\": {\"x\": [0.0, 1.0], \"y\": [0.0, 1.0]}, \"xaxis\": {\"title\": {\"text\": \"PC1\"}}, \"yaxis\": {\"title\": {\"text\": \"PC2\"}}, \"zaxis\": {\"title\": {\"text\": \"PC3\"}}}, \"template\": {\"data\": {\"bar\": [{\"error_x\": {\"color\": \"#2a3f5f\"}, \"error_y\": {\"color\": \"#2a3f5f\"}, \"marker\": {\"line\": {\"color\": \"#E5ECF6\", \"width\": 0.5}}, \"type\": \"bar\"}], \"barpolar\": [{\"marker\": {\"line\": {\"color\": \"#E5ECF6\", \"width\": 0.5}}, \"type\": \"barpolar\"}], \"carpet\": [{\"aaxis\": {\"endlinecolor\": \"#2a3f5f\", \"gridcolor\": \"white\", \"linecolor\": \"white\", \"minorgridcolor\": \"white\", \"startlinecolor\": \"#2a3f5f\"}, \"baxis\": {\"endlinecolor\": \"#2a3f5f\", \"gridcolor\": \"white\", \"linecolor\": \"white\", \"minorgridcolor\": \"white\", \"startlinecolor\": \"#2a3f5f\"}, \"type\": \"carpet\"}], \"choropleth\": [{\"colorbar\": {\"outlinewidth\": 0, \"ticks\": \"\"}, \"type\": \"choropleth\"}], \"contour\": [{\"colorbar\": {\"outlinewidth\": 0, \"ticks\": \"\"}, \"colorscale\": [[0.0, \"#0d0887\"], [0.1111111111111111, \"#46039f\"], [0.2222222222222222, \"#7201a8\"], [0.3333333333333333, \"#9c179e\"], [0.4444444444444444, \"#bd3786\"], [0.5555555555555556, \"#d8576b\"], [0.6666666666666666, \"#ed7953\"], [0.7777777777777778, \"#fb9f3a\"], [0.8888888888888888, \"#fdca26\"], [1.0, \"#f0f921\"]], \"type\": \"contour\"}], \"contourcarpet\": [{\"colorbar\": {\"outlinewidth\": 0, \"ticks\": \"\"}, \"type\": \"contourcarpet\"}], \"heatmap\": [{\"colorbar\": {\"outlinewidth\": 0, \"ticks\": \"\"}, \"colorscale\": [[0.0, \"#0d0887\"], [0.1111111111111111, \"#46039f\"], [0.2222222222222222, \"#7201a8\"], [0.3333333333333333, \"#9c179e\"], [0.4444444444444444, \"#bd3786\"], [0.5555555555555556, \"#d8576b\"], [0.6666666666666666, \"#ed7953\"], [0.7777777777777778, \"#fb9f3a\"], [0.8888888888888888, \"#fdca26\"], [1.0, \"#f0f921\"]], \"type\": \"heatmap\"}], \"heatmapgl\": [{\"colorbar\": {\"outlinewidth\": 0, \"ticks\": \"\"}, \"colorscale\": [[0.0, \"#0d0887\"], [0.1111111111111111, \"#46039f\"], [0.2222222222222222, \"#7201a8\"], [0.3333333333333333, \"#9c179e\"], [0.4444444444444444, \"#bd3786\"], [0.5555555555555556, \"#d8576b\"], [0.6666666666666666, \"#ed7953\"], [0.7777777777777778, \"#fb9f3a\"], [0.8888888888888888, \"#fdca26\"], [1.0, \"#f0f921\"]], \"type\": \"heatmapgl\"}], \"histogram\": [{\"marker\": {\"colorbar\": {\"outlinewidth\": 0, \"ticks\": \"\"}}, \"type\": \"histogram\"}], \"histogram2d\": [{\"colorbar\": {\"outlinewidth\": 0, \"ticks\": \"\"}, \"colorscale\": [[0.0, \"#0d0887\"], [0.1111111111111111, \"#46039f\"], [0.2222222222222222, \"#7201a8\"], [0.3333333333333333, \"#9c179e\"], [0.4444444444444444, \"#bd3786\"], [0.5555555555555556, \"#d8576b\"], [0.6666666666666666, \"#ed7953\"], [0.7777777777777778, \"#fb9f3a\"], [0.8888888888888888, \"#fdca26\"], [1.0, \"#f0f921\"]], \"type\": \"histogram2d\"}], \"histogram2dcontour\": [{\"colorbar\": {\"outlinewidth\": 0, \"ticks\": \"\"}, \"colorscale\": [[0.0, \"#0d0887\"], [0.1111111111111111, \"#46039f\"], [0.2222222222222222, \"#7201a8\"], [0.3333333333333333, \"#9c179e\"], [0.4444444444444444, \"#bd3786\"], [0.5555555555555556, \"#d8576b\"], [0.6666666666666666, \"#ed7953\"], [0.7777777777777778, \"#fb9f3a\"], [0.8888888888888888, \"#fdca26\"], [1.0, \"#f0f921\"]], \"type\": \"histogram2dcontour\"}], \"mesh3d\": [{\"colorbar\": {\"outlinewidth\": 0, \"ticks\": \"\"}, \"type\": \"mesh3d\"}], \"parcoords\": [{\"line\": {\"colorbar\": {\"outlinewidth\": 0, \"ticks\": \"\"}}, \"type\": \"parcoords\"}], \"pie\": [{\"automargin\": true, \"type\": \"pie\"}], \"scatter\": [{\"marker\": {\"colorbar\": {\"outlinewidth\": 0, \"ticks\": \"\"}}, \"type\": \"scatter\"}], \"scatter3d\": [{\"line\": {\"colorbar\": {\"outlinewidth\": 0, \"ticks\": \"\"}}, \"marker\": {\"colorbar\": {\"outlinewidth\": 0, \"ticks\": \"\"}}, \"type\": \"scatter3d\"}], \"scattercarpet\": [{\"marker\": {\"colorbar\": {\"outlinewidth\": 0, \"ticks\": \"\"}}, \"type\": \"scattercarpet\"}], \"scattergeo\": [{\"marker\": {\"colorbar\": {\"outlinewidth\": 0, \"ticks\": \"\"}}, \"type\": \"scattergeo\"}], \"scattergl\": [{\"marker\": {\"colorbar\": {\"outlinewidth\": 0, \"ticks\": \"\"}}, \"type\": \"scattergl\"}], \"scattermapbox\": [{\"marker\": {\"colorbar\": {\"outlinewidth\": 0, \"ticks\": \"\"}}, \"type\": \"scattermapbox\"}], \"scatterpolar\": [{\"marker\": {\"colorbar\": {\"outlinewidth\": 0, \"ticks\": \"\"}}, \"type\": \"scatterpolar\"}], \"scatterpolargl\": [{\"marker\": {\"colorbar\": {\"outlinewidth\": 0, \"ticks\": \"\"}}, \"type\": \"scatterpolargl\"}], \"scatterternary\": [{\"marker\": {\"colorbar\": {\"outlinewidth\": 0, \"ticks\": \"\"}}, \"type\": \"scatterternary\"}], \"surface\": [{\"colorbar\": {\"outlinewidth\": 0, \"ticks\": \"\"}, \"colorscale\": [[0.0, \"#0d0887\"], [0.1111111111111111, \"#46039f\"], [0.2222222222222222, \"#7201a8\"], [0.3333333333333333, \"#9c179e\"], [0.4444444444444444, \"#bd3786\"], [0.5555555555555556, \"#d8576b\"], [0.6666666666666666, \"#ed7953\"], [0.7777777777777778, \"#fb9f3a\"], [0.8888888888888888, \"#fdca26\"], [1.0, \"#f0f921\"]], \"type\": \"surface\"}], \"table\": [{\"cells\": {\"fill\": {\"color\": \"#EBF0F8\"}, \"line\": {\"color\": \"white\"}}, \"header\": {\"fill\": {\"color\": \"#C8D4E3\"}, \"line\": {\"color\": \"white\"}}, \"type\": \"table\"}]}, \"layout\": {\"annotationdefaults\": {\"arrowcolor\": \"#2a3f5f\", \"arrowhead\": 0, \"arrowwidth\": 1}, \"autotypenumbers\": \"strict\", \"coloraxis\": {\"colorbar\": {\"outlinewidth\": 0, \"ticks\": \"\"}}, \"colorscale\": {\"diverging\": [[0, \"#8e0152\"], [0.1, \"#c51b7d\"], [0.2, \"#de77ae\"], [0.3, \"#f1b6da\"], [0.4, \"#fde0ef\"], [0.5, \"#f7f7f7\"], [0.6, \"#e6f5d0\"], [0.7, \"#b8e186\"], [0.8, \"#7fbc41\"], [0.9, \"#4d9221\"], [1, \"#276419\"]], \"sequential\": [[0.0, \"#0d0887\"], [0.1111111111111111, \"#46039f\"], [0.2222222222222222, \"#7201a8\"], [0.3333333333333333, \"#9c179e\"], [0.4444444444444444, \"#bd3786\"], [0.5555555555555556, \"#d8576b\"], [0.6666666666666666, \"#ed7953\"], [0.7777777777777778, \"#fb9f3a\"], [0.8888888888888888, \"#fdca26\"], [1.0, \"#f0f921\"]], \"sequentialminus\": [[0.0, \"#0d0887\"], [0.1111111111111111, \"#46039f\"], [0.2222222222222222, \"#7201a8\"], [0.3333333333333333, \"#9c179e\"], [0.4444444444444444, \"#bd3786\"], [0.5555555555555556, \"#d8576b\"], [0.6666666666666666, \"#ed7953\"], [0.7777777777777778, \"#fb9f3a\"], [0.8888888888888888, \"#fdca26\"], [1.0, \"#f0f921\"]]}, \"colorway\": [\"#636efa\", \"#EF553B\", \"#00cc96\", \"#ab63fa\", \"#FFA15A\", \"#19d3f3\", \"#FF6692\", \"#B6E880\", \"#FF97FF\", \"#FECB52\"], \"font\": {\"color\": \"#2a3f5f\"}, \"geo\": {\"bgcolor\": \"white\", \"lakecolor\": \"white\", \"landcolor\": \"#E5ECF6\", \"showlakes\": true, \"showland\": true, \"subunitcolor\": \"white\"}, \"hoverlabel\": {\"align\": \"left\"}, \"hovermode\": \"closest\", \"mapbox\": {\"style\": \"light\"}, \"paper_bgcolor\": \"white\", \"plot_bgcolor\": \"#E5ECF6\", \"polar\": {\"angularaxis\": {\"gridcolor\": \"white\", \"linecolor\": \"white\", \"ticks\": \"\"}, \"bgcolor\": \"#E5ECF6\", \"radialaxis\": {\"gridcolor\": \"white\", \"linecolor\": \"white\", \"ticks\": \"\"}}, \"scene\": {\"xaxis\": {\"backgroundcolor\": \"#E5ECF6\", \"gridcolor\": \"white\", \"gridwidth\": 2, \"linecolor\": \"white\", \"showbackground\": true, \"ticks\": \"\", \"zerolinecolor\": \"white\"}, \"yaxis\": {\"backgroundcolor\": \"#E5ECF6\", \"gridcolor\": \"white\", \"gridwidth\": 2, \"linecolor\": \"white\", \"showbackground\": true, \"ticks\": \"\", \"zerolinecolor\": \"white\"}, \"zaxis\": {\"backgroundcolor\": \"#E5ECF6\", \"gridcolor\": \"white\", \"gridwidth\": 2, \"linecolor\": \"white\", \"showbackground\": true, \"ticks\": \"\", \"zerolinecolor\": \"white\"}}, \"shapedefaults\": {\"line\": {\"color\": \"#2a3f5f\"}}, \"ternary\": {\"aaxis\": {\"gridcolor\": \"white\", \"linecolor\": \"white\", \"ticks\": \"\"}, \"baxis\": {\"gridcolor\": \"white\", \"linecolor\": \"white\", \"ticks\": \"\"}, \"bgcolor\": \"#E5ECF6\", \"caxis\": {\"gridcolor\": \"white\", \"linecolor\": \"white\", \"ticks\": \"\"}}, \"title\": {\"x\": 0.05}, \"xaxis\": {\"automargin\": true, \"gridcolor\": \"white\", \"linecolor\": \"white\", \"ticks\": \"\", \"title\": {\"standoff\": 15}, \"zerolinecolor\": \"white\", \"zerolinewidth\": 2}, \"yaxis\": {\"automargin\": true, \"gridcolor\": \"white\", \"linecolor\": \"white\", \"ticks\": \"\", \"title\": {\"standoff\": 15}, \"zerolinecolor\": \"white\", \"zerolinewidth\": 2}}}},                        {\"responsive\": true}                    ).then(function(){\n",
       "                            \n",
       "var gd = document.getElementById('1a07dbc9-6f98-43ad-aa3f-1133cb3987ba');\n",
       "var x = new MutationObserver(function (mutations, observer) {{\n",
       "        var display = window.getComputedStyle(gd).display;\n",
       "        if (!display || display === 'none') {{\n",
       "            console.log([gd, 'removed!']);\n",
       "            Plotly.purge(gd);\n",
       "            observer.disconnect();\n",
       "        }}\n",
       "}});\n",
       "\n",
       "// Listen for the removal of the full notebook cells\n",
       "var notebookContainer = gd.closest('#notebook-container');\n",
       "if (notebookContainer) {{\n",
       "    x.observe(notebookContainer, {childList: true});\n",
       "}}\n",
       "\n",
       "// Listen for the clearing of the current output cell\n",
       "var outputEl = gd.closest('.output');\n",
       "if (outputEl) {{\n",
       "    x.observe(outputEl, {childList: true});\n",
       "}}\n",
       "\n",
       "                        })                };                });            </script>        </div>"
      ]
     },
     "metadata": {},
     "output_type": "display_data"
    }
   ],
   "source": [
    "import plotly.express as px\n",
    "fig = px.scatter_3d(pca_df, x='PC1', y='PC2', z='PC3',\n",
    "              color='continent', size_max=18,\n",
    "              opacity=0.7)\n",
    "fig.show()"
   ]
  },
  {
   "cell_type": "code",
   "execution_count": 82,
   "metadata": {},
   "outputs": [
    {
     "data": {
      "application/vnd.plotly.v1+json": {
       "config": {
        "plotlyServerURL": "https://plot.ly"
       },
       "data": [
        {
         "diagonal": {
          "visible": false
         },
         "dimensions": [
          {
           "axis": {
            "matches": true
           },
           "label": "PC 1 (31.9%)",
           "values": [
            -4.716248691315748,
            -0.6984859164338082,
            0.216248861191608,
            1.225783876462766,
            -0.48519904583154144,
            -0.7150789867089077,
            0.6331327485314026,
            0.6169569020032145,
            -0.9175061810807411,
            3.1833305699147956,
            -0.03242613809416903,
            -0.04959363443204133,
            -1.0368267242046982,
            1.199573390550856,
            1.484069910627857,
            -0.36258557609769615,
            0.6448104926297693,
            1.0203813495036842,
            -0.30353790389036084,
            -0.9972304471742508,
            0.4916170115592463,
            -0.39950728015256803,
            -0.907657665792745,
            -1.3813957369422882,
            0.14773238585413648,
            1.246488721245972,
            3.2091215323660007,
            0.22816061683777777,
            -0.0769994557103123,
            -0.4121126910739325,
            0.5592391274355798,
            0.06806740221604614,
            1.5640264311099656,
            0.9475974894393349,
            0.2395967550197366,
            -2.2002420576801245
           ]
          },
          {
           "axis": {
            "matches": true
           },
           "label": "PC 2 (27.1%)",
           "values": [
            1.5154227004762193,
            -0.04215523474554999,
            -0.49054565721746524,
            -0.949838177881423,
            0.38634073368116156,
            -0.32886521486692044,
            -0.10017167900455391,
            -0.7709249949444604,
            -0.06185827716414249,
            11.85002109537257,
            0.13681599651086745,
            1.5535830621002846,
            0.7868158601135173,
            -0.6763890294060647,
            -0.7966967843457489,
            -0.25648972761533223,
            -0.5138242973085216,
            -0.6521043351939118,
            -0.43295050579908095,
            0.0053035499535417155,
            -0.6700954805188328,
            -0.46168374974477117,
            -0.1648387716355413,
            0.7389142522031356,
            -0.0054071927427067745,
            -0.1632944276426939,
            -1.8385534197656808,
            -0.5225633765020868,
            -0.4314949406572388,
            -0.5464904247501082,
            -0.8653595339371615,
            0.639902822124749,
            -1.065487202598819,
            -1.127847545236209,
            -0.6293099553426547,
            0.3769540541221962
           ]
          },
          {
           "axis": {
            "matches": true
           },
           "label": "PC 3 (13.6%)",
           "values": [
            0.8354350855381512,
            0.9519785531174246,
            0.8773842252087375,
            -0.5639132516814215,
            -0.8930825757669489,
            -0.9652643466221491,
            0.8119511201585332,
            0.487048500291041,
            0.5608074708414851,
            -2.1074835310717264,
            -2.6153093740525772,
            -0.3579420672924099,
            0.7404247031289808,
            0.09872314930167572,
            1.659715815627324,
            0.8869726576292541,
            0.5962492577253141,
            0.709953040523156,
            -1.0029700962563937,
            1.542470268100962,
            -0.32217898382056664,
            0.2336186750419464,
            -1.254510591199737,
            -0.9811739592048765,
            -0.2048037838941748,
            0.7612804031962782,
            -1.0147262706848783,
            1.2879972869372012,
            0.06185138610165674,
            -0.7354503413672816,
            -1.084017791123955,
            1.6017615460933732,
            -1.070980552349458,
            -2.3947358962239274,
            0.19710792530022067,
            1.0771059309221949
           ]
          }
         ],
         "hovertemplate": "color=Asia<br>%{xaxis.title.text}=%{x}<br>%{yaxis.title.text}=%{y}<extra></extra>",
         "legendgroup": "Asia",
         "marker": {
          "color": "#636efa",
          "symbol": "circle"
         },
         "name": "Asia",
         "showlegend": true,
         "type": "splom"
        },
        {
         "diagonal": {
          "visible": false
         },
         "dimensions": [
          {
           "axis": {
            "matches": true
           },
           "label": "PC 1 (31.9%)",
           "values": [
            -0.7475236163578466,
            2.1606009114529985,
            0.12193838187165301,
            1.767667816674344,
            -0.5790558801471096,
            0.15345649239618686,
            0.1869259938977691,
            0.9903761464509095,
            2.843814998568532,
            1.317125161184184,
            2.6680299479533143,
            2.7529965957304006,
            2.3863826370586745,
            -0.3236514088336926,
            0.32368892128279386,
            2.142966854395121,
            2.4910649071526665,
            1.7008107499579843,
            -0.3292004081037785,
            0.17632674633418752,
            0.5273399086035527,
            2.4709340279182297,
            1.7973044621025953,
            -0.7620098737779256,
            -0.14921490224901843,
            2.5594126959928594,
            2.8734412748345344,
            1.1750439451972998,
            1.106280010434941,
            0.32235222831389415,
            1.1584927544587065,
            0.07377654431011714,
            0.5051533726159149,
            1.45729930158384,
            2.19493752287336,
            2.6938511960559035,
            2.797426263798741,
            -0.6255183515289141,
            3.0558398946849508
           ]
          },
          {
           "axis": {
            "matches": true
           },
           "label": "PC 2 (27.1%)",
           "values": [
            -0.130638039410461,
            -1.3752952579520996,
            -0.38149336450667926,
            -0.5398694516881823,
            -0.2641510960892795,
            -0.36660781178867086,
            -0.42028369612689265,
            -0.5183474818354928,
            -1.892869105776201,
            -1.0688026490933236,
            -1.852077420078361,
            1.0200100994277563,
            -0.22854718379955208,
            -0.1973627663256821,
            -0.4596115289979994,
            -1.5792695158199324,
            -1.5894569795458169,
            1.7207850545436647,
            -0.5204013414655854,
            -0.5677185621677995,
            -0.6733014833769738,
            -1.6505947760683135,
            -1.4073496109796626,
            -0.12674784065903139,
            -0.4510075800713238,
            -1.3184383529200194,
            -1.9190395592344345,
            -0.3686590809778074,
            -0.5184847774017612,
            -0.07366917696459203,
            2.535539181051921,
            -0.47242620248206085,
            -0.632929200663022,
            -1.038980640408885,
            1.2857283756752624,
            -1.5187610332555004,
            -1.586864452730393,
            0.3680541163861891,
            0.782425943441852
           ]
          },
          {
           "axis": {
            "matches": true
           },
           "label": "PC 3 (13.6%)",
           "values": [
            0.5014883861708486,
            -0.7885980792341338,
            1.2717988334538473,
            0.47900710861573664,
            0.4339905705014708,
            1.7853110271825805,
            1.7075413184095376,
            1.6306220339599846,
            -1.6149775964485988,
            0.5399505174433151,
            -1.024959870577733,
            0.6529634220257808,
            -0.9212609836604009,
            2.864721325388829,
            1.9115039366921378,
            -1.1369132240342192,
            -1.2057931360431502,
            1.253705589291622,
            -0.9983700525251283,
            1.7475490188789014,
            1.748394682286313,
            -0.5176728943770416,
            -1.0759353821350714,
            0.6030945710658502,
            1.1321381778454618,
            -1.7445191617748814,
            -1.5973787361205012,
            0.9698092228075643,
            1.6679072548912597,
            1.349177768953122,
            1.2072450950826936,
            1.0203720797754192,
            1.5648195746930278,
            0.7134509357000964,
            0.8959890311912491,
            -1.6271012285160935,
            -1.3235184026675,
            1.0616160859001902,
            -1.766572395197029
           ]
          }
         ],
         "hovertemplate": "color=Europe<br>%{xaxis.title.text}=%{x}<br>%{yaxis.title.text}=%{y}<extra></extra>",
         "legendgroup": "Europe",
         "marker": {
          "color": "#EF553B",
          "symbol": "circle"
         },
         "name": "Europe",
         "showlegend": true,
         "type": "splom"
        },
        {
         "diagonal": {
          "visible": false
         },
         "dimensions": [
          {
           "axis": {
            "matches": true
           },
           "label": "PC 1 (31.9%)",
           "values": [
            -1.074378945027331,
            -3.1574052100336005,
            -0.725543964917241,
            -2.576104113981205,
            -3.805736210167854,
            -2.2837334304378456,
            -3.6204585305172805,
            -1.9829272756863672,
            -3.1035277430216803,
            -1.018615352456617,
            -1.8673815728711232,
            -1.043768577900796,
            -1.631561259042573,
            -2.6541739394963053,
            -1.5159487220458152,
            -2.559714492069578,
            -0.1423336279704779,
            -2.8925832724292984,
            -2.722687824077916,
            -2.6068984979619767,
            -2.120825698515021,
            0.693718848206754,
            -1.262883901577743,
            -2.1652916707159755,
            -1.1811507077424879,
            -1.874250607945645,
            -3.206986550544647,
            -0.3544526637376626,
            -1.5944583778295103,
            -3.261729833280875,
            -1.4033285199007508,
            -2.1729729486211378,
            -1.9032827076469319,
            -2.1236346832754194
           ]
          },
          {
           "axis": {
            "matches": true
           },
           "label": "PC 2 (27.1%)",
           "values": [
            0.04398016393507585,
            0.4944415477549155,
            -0.04095368518425826,
            0.29665525308100754,
            0.745639113627481,
            0.28105903876514493,
            0.7024072666591525,
            0.1629050186760019,
            0.5059760323757686,
            0.37444931408929943,
            0.21298052797951228,
            -0.014893577686234637,
            0.06710668211975836,
            0.37518376269098314,
            -0.020641531902861852,
            0.319678237149832,
            -0.46302562368702915,
            0.5341305570605092,
            0.45766696713174004,
            0.36411964540848324,
            0.2540244983544655,
            -0.8483937386480789,
            0.37192353563521574,
            0.3601419358724828,
            -0.2813306836807242,
            0.14308360566593778,
            0.593186390633361,
            1.37145487948015,
            -0.011213470776861906,
            0.6054844096360349,
            0.23138107978162747,
            0.18302147573920394,
            0.19591594174076846,
            0.34208204634239786
           ]
          },
          {
           "axis": {
            "matches": true
           },
           "label": "PC 3 (13.6%)",
           "values": [
            1.5909368562275992,
            -1.4388338705840353,
            1.380844999775524,
            -0.5982471097607754,
            -1.3703649041943693,
            -0.6711671698640936,
            -0.7329652528007707,
            -0.030089743325248355,
            -1.2774522886355721,
            1.1959147038312934,
            -0.7124152787376836,
            1.4913980177479396,
            -0.9564320268776534,
            -0.7214703377964231,
            -1.9800699444505154,
            -0.8164626385335586,
            0.28903745329760105,
            0.016678327765736568,
            -1.291830762543473,
            -0.36480838807804605,
            0.7363767030841177,
            0.21669034892102226,
            0.8236413622394929,
            -0.6411609451918505,
            -2.6718781737074684,
            0.01510376275255916,
            -1.143745670126647,
            0.5904620355620159,
            -1.4495699435798366,
            -0.857506621250946,
            1.8543582961725462,
            -0.8734526676638731,
            -0.8911321279340277,
            0.28230166100214743
           ]
          }
         ],
         "hovertemplate": "color=Africa<br>%{xaxis.title.text}=%{x}<br>%{yaxis.title.text}=%{y}<extra></extra>",
         "legendgroup": "Africa",
         "marker": {
          "color": "#00cc96",
          "symbol": "circle"
         },
         "name": "Africa",
         "showlegend": true,
         "type": "splom"
        },
        {
         "diagonal": {
          "visible": false
         },
         "dimensions": [
          {
           "axis": {
            "matches": true
           },
           "label": "PC 1 (31.9%)",
           "values": [
            1.1984549072381987,
            -0.2935778066723513,
            5.101060504152217,
            0.8753221302229606,
            1.0326462927025606,
            1.1265127047435182,
            0.49045479809341685,
            0.41042562661110277,
            -0.21494952483380955,
            -0.0025094551534485914,
            -2.5872904630529407,
            -3.203301904584434,
            -0.18165808945513262,
            0.14495565490098178,
            0.11930358176591588,
            0.9168025231904108,
            0.33216079584970953,
            0.8429800805350058,
            1.1818736248403383,
            -0.6247708150980067
           ]
          },
          {
           "axis": {
            "matches": true
           },
           "label": "PC 2 (27.1%)",
           "values": [
            1.001324704637464,
            -0.06300786541324932,
            11.01872841059189,
            0.5364298837137913,
            1.3030623164557749,
            -0.9286230747538208,
            -0.4614254371446033,
            -0.08828899797621882,
            -0.4839620394795353,
            -0.4048009198885675,
            0.29532150658820283,
            0.45721566168368066,
            -0.45195750620751207,
            -0.5853681328550955,
            -0.7587079630734699,
            -0.5772557109911686,
            -0.618507555533389,
            1.6255912245317512,
            -1.0762894870130277,
            -0.11042049697842111
           ]
          },
          {
           "axis": {
            "matches": true
           },
           "label": "PC 3 (13.6%)",
           "values": [
            1.216305558669417,
            0.05460917391928562,
            -0.476169599488124,
            0.8656309389773934,
            0.8720754551985476,
            0.3107771654180929,
            0.6165995986048957,
            0.5361145964960063,
            0.1709322349904246,
            -0.3960391784911247,
            -1.2380801279044857,
            -2.401157212448408,
            -0.8107475425638813,
            0.8414494082818664,
            -0.6991770577219462,
            1.0609777598044001,
            0.038853476865917086,
            0.930601381555482,
            0.27276272520770956,
            1.672532731248939
           ]
          }
         ],
         "hovertemplate": "color=South America<br>%{xaxis.title.text}=%{x}<br>%{yaxis.title.text}=%{y}<extra></extra>",
         "legendgroup": "South America",
         "marker": {
          "color": "#ab63fa",
          "symbol": "circle"
         },
         "name": "South America",
         "showlegend": true,
         "type": "splom"
        },
        {
         "diagonal": {
          "visible": false
         },
         "dimensions": [
          {
           "axis": {
            "matches": true
           },
           "label": "PC 1 (31.9%)",
           "values": [
            2.391184900177815,
            2.612253509332441
           ]
          },
          {
           "axis": {
            "matches": true
           },
           "label": "PC 2 (27.1%)",
           "values": [
            -1.6698974822583903,
            -1.9159999781508645
           ]
          },
          {
           "axis": {
            "matches": true
           },
           "label": "PC 3 (13.6%)",
           "values": [
            -1.4536186256286119,
            -2.037104129742377
           ]
          }
         ],
         "hovertemplate": "color=Australia<br>%{xaxis.title.text}=%{x}<br>%{yaxis.title.text}=%{y}<extra></extra>",
         "legendgroup": "Australia",
         "marker": {
          "color": "#FFA15A",
          "symbol": "circle"
         },
         "name": "Australia",
         "showlegend": true,
         "type": "splom"
        },
        {
         "diagonal": {
          "visible": false
         },
         "dimensions": [
          {
           "axis": {
            "matches": true
           },
           "label": "PC 1 (31.9%)",
           "values": [
            2.68081093432017,
            1.897682408386599
           ]
          },
          {
           "axis": {
            "matches": true
           },
           "label": "PC 2 (27.1%)",
           "values": [
            -0.9982653415584153,
            2.618157725297508
           ]
          },
          {
           "axis": {
            "matches": true
           },
           "label": "PC 3 (13.6%)",
           "values": [
            -1.3449889409925289,
            0.6222815339325984
           ]
          }
         ],
         "hovertemplate": "color=North America<br>%{xaxis.title.text}=%{x}<br>%{yaxis.title.text}=%{y}<extra></extra>",
         "legendgroup": "North America",
         "marker": {
          "color": "#19d3f3",
          "symbol": "circle"
         },
         "name": "North America",
         "showlegend": true,
         "type": "splom"
        }
       ],
       "layout": {
        "dragmode": "select",
        "legend": {
         "title": {
          "text": "color"
         },
         "tracegroupgap": 0
        },
        "margin": {
         "t": 60
        },
        "template": {
         "data": {
          "bar": [
           {
            "error_x": {
             "color": "#2a3f5f"
            },
            "error_y": {
             "color": "#2a3f5f"
            },
            "marker": {
             "line": {
              "color": "#E5ECF6",
              "width": 0.5
             }
            },
            "type": "bar"
           }
          ],
          "barpolar": [
           {
            "marker": {
             "line": {
              "color": "#E5ECF6",
              "width": 0.5
             }
            },
            "type": "barpolar"
           }
          ],
          "carpet": [
           {
            "aaxis": {
             "endlinecolor": "#2a3f5f",
             "gridcolor": "white",
             "linecolor": "white",
             "minorgridcolor": "white",
             "startlinecolor": "#2a3f5f"
            },
            "baxis": {
             "endlinecolor": "#2a3f5f",
             "gridcolor": "white",
             "linecolor": "white",
             "minorgridcolor": "white",
             "startlinecolor": "#2a3f5f"
            },
            "type": "carpet"
           }
          ],
          "choropleth": [
           {
            "colorbar": {
             "outlinewidth": 0,
             "ticks": ""
            },
            "type": "choropleth"
           }
          ],
          "contour": [
           {
            "colorbar": {
             "outlinewidth": 0,
             "ticks": ""
            },
            "colorscale": [
             [
              0,
              "#0d0887"
             ],
             [
              0.1111111111111111,
              "#46039f"
             ],
             [
              0.2222222222222222,
              "#7201a8"
             ],
             [
              0.3333333333333333,
              "#9c179e"
             ],
             [
              0.4444444444444444,
              "#bd3786"
             ],
             [
              0.5555555555555556,
              "#d8576b"
             ],
             [
              0.6666666666666666,
              "#ed7953"
             ],
             [
              0.7777777777777778,
              "#fb9f3a"
             ],
             [
              0.8888888888888888,
              "#fdca26"
             ],
             [
              1,
              "#f0f921"
             ]
            ],
            "type": "contour"
           }
          ],
          "contourcarpet": [
           {
            "colorbar": {
             "outlinewidth": 0,
             "ticks": ""
            },
            "type": "contourcarpet"
           }
          ],
          "heatmap": [
           {
            "colorbar": {
             "outlinewidth": 0,
             "ticks": ""
            },
            "colorscale": [
             [
              0,
              "#0d0887"
             ],
             [
              0.1111111111111111,
              "#46039f"
             ],
             [
              0.2222222222222222,
              "#7201a8"
             ],
             [
              0.3333333333333333,
              "#9c179e"
             ],
             [
              0.4444444444444444,
              "#bd3786"
             ],
             [
              0.5555555555555556,
              "#d8576b"
             ],
             [
              0.6666666666666666,
              "#ed7953"
             ],
             [
              0.7777777777777778,
              "#fb9f3a"
             ],
             [
              0.8888888888888888,
              "#fdca26"
             ],
             [
              1,
              "#f0f921"
             ]
            ],
            "type": "heatmap"
           }
          ],
          "heatmapgl": [
           {
            "colorbar": {
             "outlinewidth": 0,
             "ticks": ""
            },
            "colorscale": [
             [
              0,
              "#0d0887"
             ],
             [
              0.1111111111111111,
              "#46039f"
             ],
             [
              0.2222222222222222,
              "#7201a8"
             ],
             [
              0.3333333333333333,
              "#9c179e"
             ],
             [
              0.4444444444444444,
              "#bd3786"
             ],
             [
              0.5555555555555556,
              "#d8576b"
             ],
             [
              0.6666666666666666,
              "#ed7953"
             ],
             [
              0.7777777777777778,
              "#fb9f3a"
             ],
             [
              0.8888888888888888,
              "#fdca26"
             ],
             [
              1,
              "#f0f921"
             ]
            ],
            "type": "heatmapgl"
           }
          ],
          "histogram": [
           {
            "marker": {
             "colorbar": {
              "outlinewidth": 0,
              "ticks": ""
             }
            },
            "type": "histogram"
           }
          ],
          "histogram2d": [
           {
            "colorbar": {
             "outlinewidth": 0,
             "ticks": ""
            },
            "colorscale": [
             [
              0,
              "#0d0887"
             ],
             [
              0.1111111111111111,
              "#46039f"
             ],
             [
              0.2222222222222222,
              "#7201a8"
             ],
             [
              0.3333333333333333,
              "#9c179e"
             ],
             [
              0.4444444444444444,
              "#bd3786"
             ],
             [
              0.5555555555555556,
              "#d8576b"
             ],
             [
              0.6666666666666666,
              "#ed7953"
             ],
             [
              0.7777777777777778,
              "#fb9f3a"
             ],
             [
              0.8888888888888888,
              "#fdca26"
             ],
             [
              1,
              "#f0f921"
             ]
            ],
            "type": "histogram2d"
           }
          ],
          "histogram2dcontour": [
           {
            "colorbar": {
             "outlinewidth": 0,
             "ticks": ""
            },
            "colorscale": [
             [
              0,
              "#0d0887"
             ],
             [
              0.1111111111111111,
              "#46039f"
             ],
             [
              0.2222222222222222,
              "#7201a8"
             ],
             [
              0.3333333333333333,
              "#9c179e"
             ],
             [
              0.4444444444444444,
              "#bd3786"
             ],
             [
              0.5555555555555556,
              "#d8576b"
             ],
             [
              0.6666666666666666,
              "#ed7953"
             ],
             [
              0.7777777777777778,
              "#fb9f3a"
             ],
             [
              0.8888888888888888,
              "#fdca26"
             ],
             [
              1,
              "#f0f921"
             ]
            ],
            "type": "histogram2dcontour"
           }
          ],
          "mesh3d": [
           {
            "colorbar": {
             "outlinewidth": 0,
             "ticks": ""
            },
            "type": "mesh3d"
           }
          ],
          "parcoords": [
           {
            "line": {
             "colorbar": {
              "outlinewidth": 0,
              "ticks": ""
             }
            },
            "type": "parcoords"
           }
          ],
          "pie": [
           {
            "automargin": true,
            "type": "pie"
           }
          ],
          "scatter": [
           {
            "marker": {
             "colorbar": {
              "outlinewidth": 0,
              "ticks": ""
             }
            },
            "type": "scatter"
           }
          ],
          "scatter3d": [
           {
            "line": {
             "colorbar": {
              "outlinewidth": 0,
              "ticks": ""
             }
            },
            "marker": {
             "colorbar": {
              "outlinewidth": 0,
              "ticks": ""
             }
            },
            "type": "scatter3d"
           }
          ],
          "scattercarpet": [
           {
            "marker": {
             "colorbar": {
              "outlinewidth": 0,
              "ticks": ""
             }
            },
            "type": "scattercarpet"
           }
          ],
          "scattergeo": [
           {
            "marker": {
             "colorbar": {
              "outlinewidth": 0,
              "ticks": ""
             }
            },
            "type": "scattergeo"
           }
          ],
          "scattergl": [
           {
            "marker": {
             "colorbar": {
              "outlinewidth": 0,
              "ticks": ""
             }
            },
            "type": "scattergl"
           }
          ],
          "scattermapbox": [
           {
            "marker": {
             "colorbar": {
              "outlinewidth": 0,
              "ticks": ""
             }
            },
            "type": "scattermapbox"
           }
          ],
          "scatterpolar": [
           {
            "marker": {
             "colorbar": {
              "outlinewidth": 0,
              "ticks": ""
             }
            },
            "type": "scatterpolar"
           }
          ],
          "scatterpolargl": [
           {
            "marker": {
             "colorbar": {
              "outlinewidth": 0,
              "ticks": ""
             }
            },
            "type": "scatterpolargl"
           }
          ],
          "scatterternary": [
           {
            "marker": {
             "colorbar": {
              "outlinewidth": 0,
              "ticks": ""
             }
            },
            "type": "scatterternary"
           }
          ],
          "surface": [
           {
            "colorbar": {
             "outlinewidth": 0,
             "ticks": ""
            },
            "colorscale": [
             [
              0,
              "#0d0887"
             ],
             [
              0.1111111111111111,
              "#46039f"
             ],
             [
              0.2222222222222222,
              "#7201a8"
             ],
             [
              0.3333333333333333,
              "#9c179e"
             ],
             [
              0.4444444444444444,
              "#bd3786"
             ],
             [
              0.5555555555555556,
              "#d8576b"
             ],
             [
              0.6666666666666666,
              "#ed7953"
             ],
             [
              0.7777777777777778,
              "#fb9f3a"
             ],
             [
              0.8888888888888888,
              "#fdca26"
             ],
             [
              1,
              "#f0f921"
             ]
            ],
            "type": "surface"
           }
          ],
          "table": [
           {
            "cells": {
             "fill": {
              "color": "#EBF0F8"
             },
             "line": {
              "color": "white"
             }
            },
            "header": {
             "fill": {
              "color": "#C8D4E3"
             },
             "line": {
              "color": "white"
             }
            },
            "type": "table"
           }
          ]
         },
         "layout": {
          "annotationdefaults": {
           "arrowcolor": "#2a3f5f",
           "arrowhead": 0,
           "arrowwidth": 1
          },
          "autotypenumbers": "strict",
          "coloraxis": {
           "colorbar": {
            "outlinewidth": 0,
            "ticks": ""
           }
          },
          "colorscale": {
           "diverging": [
            [
             0,
             "#8e0152"
            ],
            [
             0.1,
             "#c51b7d"
            ],
            [
             0.2,
             "#de77ae"
            ],
            [
             0.3,
             "#f1b6da"
            ],
            [
             0.4,
             "#fde0ef"
            ],
            [
             0.5,
             "#f7f7f7"
            ],
            [
             0.6,
             "#e6f5d0"
            ],
            [
             0.7,
             "#b8e186"
            ],
            [
             0.8,
             "#7fbc41"
            ],
            [
             0.9,
             "#4d9221"
            ],
            [
             1,
             "#276419"
            ]
           ],
           "sequential": [
            [
             0,
             "#0d0887"
            ],
            [
             0.1111111111111111,
             "#46039f"
            ],
            [
             0.2222222222222222,
             "#7201a8"
            ],
            [
             0.3333333333333333,
             "#9c179e"
            ],
            [
             0.4444444444444444,
             "#bd3786"
            ],
            [
             0.5555555555555556,
             "#d8576b"
            ],
            [
             0.6666666666666666,
             "#ed7953"
            ],
            [
             0.7777777777777778,
             "#fb9f3a"
            ],
            [
             0.8888888888888888,
             "#fdca26"
            ],
            [
             1,
             "#f0f921"
            ]
           ],
           "sequentialminus": [
            [
             0,
             "#0d0887"
            ],
            [
             0.1111111111111111,
             "#46039f"
            ],
            [
             0.2222222222222222,
             "#7201a8"
            ],
            [
             0.3333333333333333,
             "#9c179e"
            ],
            [
             0.4444444444444444,
             "#bd3786"
            ],
            [
             0.5555555555555556,
             "#d8576b"
            ],
            [
             0.6666666666666666,
             "#ed7953"
            ],
            [
             0.7777777777777778,
             "#fb9f3a"
            ],
            [
             0.8888888888888888,
             "#fdca26"
            ],
            [
             1,
             "#f0f921"
            ]
           ]
          },
          "colorway": [
           "#636efa",
           "#EF553B",
           "#00cc96",
           "#ab63fa",
           "#FFA15A",
           "#19d3f3",
           "#FF6692",
           "#B6E880",
           "#FF97FF",
           "#FECB52"
          ],
          "font": {
           "color": "#2a3f5f"
          },
          "geo": {
           "bgcolor": "white",
           "lakecolor": "white",
           "landcolor": "#E5ECF6",
           "showlakes": true,
           "showland": true,
           "subunitcolor": "white"
          },
          "hoverlabel": {
           "align": "left"
          },
          "hovermode": "closest",
          "mapbox": {
           "style": "light"
          },
          "paper_bgcolor": "white",
          "plot_bgcolor": "#E5ECF6",
          "polar": {
           "angularaxis": {
            "gridcolor": "white",
            "linecolor": "white",
            "ticks": ""
           },
           "bgcolor": "#E5ECF6",
           "radialaxis": {
            "gridcolor": "white",
            "linecolor": "white",
            "ticks": ""
           }
          },
          "scene": {
           "xaxis": {
            "backgroundcolor": "#E5ECF6",
            "gridcolor": "white",
            "gridwidth": 2,
            "linecolor": "white",
            "showbackground": true,
            "ticks": "",
            "zerolinecolor": "white"
           },
           "yaxis": {
            "backgroundcolor": "#E5ECF6",
            "gridcolor": "white",
            "gridwidth": 2,
            "linecolor": "white",
            "showbackground": true,
            "ticks": "",
            "zerolinecolor": "white"
           },
           "zaxis": {
            "backgroundcolor": "#E5ECF6",
            "gridcolor": "white",
            "gridwidth": 2,
            "linecolor": "white",
            "showbackground": true,
            "ticks": "",
            "zerolinecolor": "white"
           }
          },
          "shapedefaults": {
           "line": {
            "color": "#2a3f5f"
           }
          },
          "ternary": {
           "aaxis": {
            "gridcolor": "white",
            "linecolor": "white",
            "ticks": ""
           },
           "baxis": {
            "gridcolor": "white",
            "linecolor": "white",
            "ticks": ""
           },
           "bgcolor": "#E5ECF6",
           "caxis": {
            "gridcolor": "white",
            "linecolor": "white",
            "ticks": ""
           }
          },
          "title": {
           "x": 0.05
          },
          "xaxis": {
           "automargin": true,
           "gridcolor": "white",
           "linecolor": "white",
           "ticks": "",
           "title": {
            "standoff": 15
           },
           "zerolinecolor": "white",
           "zerolinewidth": 2
          },
          "yaxis": {
           "automargin": true,
           "gridcolor": "white",
           "linecolor": "white",
           "ticks": "",
           "title": {
            "standoff": 15
           },
           "zerolinecolor": "white",
           "zerolinewidth": 2
          }
         }
        }
       }
      },
      "text/html": [
       "<div>                            <div id=\"59b24509-23da-42bb-b60f-277d5b2f1fb1\" class=\"plotly-graph-div\" style=\"height:525px; width:100%;\"></div>            <script type=\"text/javascript\">                require([\"plotly\"], function(Plotly) {                    window.PLOTLYENV=window.PLOTLYENV || {};                                    if (document.getElementById(\"59b24509-23da-42bb-b60f-277d5b2f1fb1\")) {                    Plotly.newPlot(                        \"59b24509-23da-42bb-b60f-277d5b2f1fb1\",                        [{\"diagonal\": {\"visible\": false}, \"dimensions\": [{\"axis\": {\"matches\": true}, \"label\": \"PC 1 (31.9%)\", \"values\": [-4.716248691315748, -0.6984859164338082, 0.216248861191608, 1.225783876462766, -0.48519904583154144, -0.7150789867089077, 0.6331327485314026, 0.6169569020032145, -0.9175061810807411, 3.1833305699147956, -0.03242613809416903, -0.04959363443204133, -1.0368267242046982, 1.199573390550856, 1.484069910627857, -0.36258557609769615, 0.6448104926297693, 1.0203813495036842, -0.30353790389036084, -0.9972304471742508, 0.4916170115592463, -0.39950728015256803, -0.907657665792745, -1.3813957369422882, 0.14773238585413648, 1.246488721245972, 3.2091215323660007, 0.22816061683777777, -0.0769994557103123, -0.4121126910739325, 0.5592391274355798, 0.06806740221604614, 1.5640264311099656, 0.9475974894393349, 0.2395967550197366, -2.2002420576801245]}, {\"axis\": {\"matches\": true}, \"label\": \"PC 2 (27.1%)\", \"values\": [1.5154227004762193, -0.04215523474554999, -0.49054565721746524, -0.949838177881423, 0.38634073368116156, -0.32886521486692044, -0.10017167900455391, -0.7709249949444604, -0.06185827716414249, 11.85002109537257, 0.13681599651086745, 1.5535830621002846, 0.7868158601135173, -0.6763890294060647, -0.7966967843457489, -0.25648972761533223, -0.5138242973085216, -0.6521043351939118, -0.43295050579908095, 0.0053035499535417155, -0.6700954805188328, -0.46168374974477117, -0.1648387716355413, 0.7389142522031356, -0.0054071927427067745, -0.1632944276426939, -1.8385534197656808, -0.5225633765020868, -0.4314949406572388, -0.5464904247501082, -0.8653595339371615, 0.639902822124749, -1.065487202598819, -1.127847545236209, -0.6293099553426547, 0.3769540541221962]}, {\"axis\": {\"matches\": true}, \"label\": \"PC 3 (13.6%)\", \"values\": [0.8354350855381512, 0.9519785531174246, 0.8773842252087375, -0.5639132516814215, -0.8930825757669489, -0.9652643466221491, 0.8119511201585332, 0.487048500291041, 0.5608074708414851, -2.1074835310717264, -2.6153093740525772, -0.3579420672924099, 0.7404247031289808, 0.09872314930167572, 1.659715815627324, 0.8869726576292541, 0.5962492577253141, 0.709953040523156, -1.0029700962563937, 1.542470268100962, -0.32217898382056664, 0.2336186750419464, -1.254510591199737, -0.9811739592048765, -0.2048037838941748, 0.7612804031962782, -1.0147262706848783, 1.2879972869372012, 0.06185138610165674, -0.7354503413672816, -1.084017791123955, 1.6017615460933732, -1.070980552349458, -2.3947358962239274, 0.19710792530022067, 1.0771059309221949]}], \"hovertemplate\": \"color=Asia<br>%{xaxis.title.text}=%{x}<br>%{yaxis.title.text}=%{y}<extra></extra>\", \"legendgroup\": \"Asia\", \"marker\": {\"color\": \"#636efa\", \"symbol\": \"circle\"}, \"name\": \"Asia\", \"showlegend\": true, \"type\": \"splom\"}, {\"diagonal\": {\"visible\": false}, \"dimensions\": [{\"axis\": {\"matches\": true}, \"label\": \"PC 1 (31.9%)\", \"values\": [-0.7475236163578466, 2.1606009114529985, 0.12193838187165301, 1.767667816674344, -0.5790558801471096, 0.15345649239618686, 0.1869259938977691, 0.9903761464509095, 2.843814998568532, 1.317125161184184, 2.6680299479533143, 2.7529965957304006, 2.3863826370586745, -0.3236514088336926, 0.32368892128279386, 2.142966854395121, 2.4910649071526665, 1.7008107499579843, -0.3292004081037785, 0.17632674633418752, 0.5273399086035527, 2.4709340279182297, 1.7973044621025953, -0.7620098737779256, -0.14921490224901843, 2.5594126959928594, 2.8734412748345344, 1.1750439451972998, 1.106280010434941, 0.32235222831389415, 1.1584927544587065, 0.07377654431011714, 0.5051533726159149, 1.45729930158384, 2.19493752287336, 2.6938511960559035, 2.797426263798741, -0.6255183515289141, 3.0558398946849508]}, {\"axis\": {\"matches\": true}, \"label\": \"PC 2 (27.1%)\", \"values\": [-0.130638039410461, -1.3752952579520996, -0.38149336450667926, -0.5398694516881823, -0.2641510960892795, -0.36660781178867086, -0.42028369612689265, -0.5183474818354928, -1.892869105776201, -1.0688026490933236, -1.852077420078361, 1.0200100994277563, -0.22854718379955208, -0.1973627663256821, -0.4596115289979994, -1.5792695158199324, -1.5894569795458169, 1.7207850545436647, -0.5204013414655854, -0.5677185621677995, -0.6733014833769738, -1.6505947760683135, -1.4073496109796626, -0.12674784065903139, -0.4510075800713238, -1.3184383529200194, -1.9190395592344345, -0.3686590809778074, -0.5184847774017612, -0.07366917696459203, 2.535539181051921, -0.47242620248206085, -0.632929200663022, -1.038980640408885, 1.2857283756752624, -1.5187610332555004, -1.586864452730393, 0.3680541163861891, 0.782425943441852]}, {\"axis\": {\"matches\": true}, \"label\": \"PC 3 (13.6%)\", \"values\": [0.5014883861708486, -0.7885980792341338, 1.2717988334538473, 0.47900710861573664, 0.4339905705014708, 1.7853110271825805, 1.7075413184095376, 1.6306220339599846, -1.6149775964485988, 0.5399505174433151, -1.024959870577733, 0.6529634220257808, -0.9212609836604009, 2.864721325388829, 1.9115039366921378, -1.1369132240342192, -1.2057931360431502, 1.253705589291622, -0.9983700525251283, 1.7475490188789014, 1.748394682286313, -0.5176728943770416, -1.0759353821350714, 0.6030945710658502, 1.1321381778454618, -1.7445191617748814, -1.5973787361205012, 0.9698092228075643, 1.6679072548912597, 1.349177768953122, 1.2072450950826936, 1.0203720797754192, 1.5648195746930278, 0.7134509357000964, 0.8959890311912491, -1.6271012285160935, -1.3235184026675, 1.0616160859001902, -1.766572395197029]}], \"hovertemplate\": \"color=Europe<br>%{xaxis.title.text}=%{x}<br>%{yaxis.title.text}=%{y}<extra></extra>\", \"legendgroup\": \"Europe\", \"marker\": {\"color\": \"#EF553B\", \"symbol\": \"circle\"}, \"name\": \"Europe\", \"showlegend\": true, \"type\": \"splom\"}, {\"diagonal\": {\"visible\": false}, \"dimensions\": [{\"axis\": {\"matches\": true}, \"label\": \"PC 1 (31.9%)\", \"values\": [-1.074378945027331, -3.1574052100336005, -0.725543964917241, -2.576104113981205, -3.805736210167854, -2.2837334304378456, -3.6204585305172805, -1.9829272756863672, -3.1035277430216803, -1.018615352456617, -1.8673815728711232, -1.043768577900796, -1.631561259042573, -2.6541739394963053, -1.5159487220458152, -2.559714492069578, -0.1423336279704779, -2.8925832724292984, -2.722687824077916, -2.6068984979619767, -2.120825698515021, 0.693718848206754, -1.262883901577743, -2.1652916707159755, -1.1811507077424879, -1.874250607945645, -3.206986550544647, -0.3544526637376626, -1.5944583778295103, -3.261729833280875, -1.4033285199007508, -2.1729729486211378, -1.9032827076469319, -2.1236346832754194]}, {\"axis\": {\"matches\": true}, \"label\": \"PC 2 (27.1%)\", \"values\": [0.04398016393507585, 0.4944415477549155, -0.04095368518425826, 0.29665525308100754, 0.745639113627481, 0.28105903876514493, 0.7024072666591525, 0.1629050186760019, 0.5059760323757686, 0.37444931408929943, 0.21298052797951228, -0.014893577686234637, 0.06710668211975836, 0.37518376269098314, -0.020641531902861852, 0.319678237149832, -0.46302562368702915, 0.5341305570605092, 0.45766696713174004, 0.36411964540848324, 0.2540244983544655, -0.8483937386480789, 0.37192353563521574, 0.3601419358724828, -0.2813306836807242, 0.14308360566593778, 0.593186390633361, 1.37145487948015, -0.011213470776861906, 0.6054844096360349, 0.23138107978162747, 0.18302147573920394, 0.19591594174076846, 0.34208204634239786]}, {\"axis\": {\"matches\": true}, \"label\": \"PC 3 (13.6%)\", \"values\": [1.5909368562275992, -1.4388338705840353, 1.380844999775524, -0.5982471097607754, -1.3703649041943693, -0.6711671698640936, -0.7329652528007707, -0.030089743325248355, -1.2774522886355721, 1.1959147038312934, -0.7124152787376836, 1.4913980177479396, -0.9564320268776534, -0.7214703377964231, -1.9800699444505154, -0.8164626385335586, 0.28903745329760105, 0.016678327765736568, -1.291830762543473, -0.36480838807804605, 0.7363767030841177, 0.21669034892102226, 0.8236413622394929, -0.6411609451918505, -2.6718781737074684, 0.01510376275255916, -1.143745670126647, 0.5904620355620159, -1.4495699435798366, -0.857506621250946, 1.8543582961725462, -0.8734526676638731, -0.8911321279340277, 0.28230166100214743]}], \"hovertemplate\": \"color=Africa<br>%{xaxis.title.text}=%{x}<br>%{yaxis.title.text}=%{y}<extra></extra>\", \"legendgroup\": \"Africa\", \"marker\": {\"color\": \"#00cc96\", \"symbol\": \"circle\"}, \"name\": \"Africa\", \"showlegend\": true, \"type\": \"splom\"}, {\"diagonal\": {\"visible\": false}, \"dimensions\": [{\"axis\": {\"matches\": true}, \"label\": \"PC 1 (31.9%)\", \"values\": [1.1984549072381987, -0.2935778066723513, 5.101060504152217, 0.8753221302229606, 1.0326462927025606, 1.1265127047435182, 0.49045479809341685, 0.41042562661110277, -0.21494952483380955, -0.0025094551534485914, -2.5872904630529407, -3.203301904584434, -0.18165808945513262, 0.14495565490098178, 0.11930358176591588, 0.9168025231904108, 0.33216079584970953, 0.8429800805350058, 1.1818736248403383, -0.6247708150980067]}, {\"axis\": {\"matches\": true}, \"label\": \"PC 2 (27.1%)\", \"values\": [1.001324704637464, -0.06300786541324932, 11.01872841059189, 0.5364298837137913, 1.3030623164557749, -0.9286230747538208, -0.4614254371446033, -0.08828899797621882, -0.4839620394795353, -0.4048009198885675, 0.29532150658820283, 0.45721566168368066, -0.45195750620751207, -0.5853681328550955, -0.7587079630734699, -0.5772557109911686, -0.618507555533389, 1.6255912245317512, -1.0762894870130277, -0.11042049697842111]}, {\"axis\": {\"matches\": true}, \"label\": \"PC 3 (13.6%)\", \"values\": [1.216305558669417, 0.05460917391928562, -0.476169599488124, 0.8656309389773934, 0.8720754551985476, 0.3107771654180929, 0.6165995986048957, 0.5361145964960063, 0.1709322349904246, -0.3960391784911247, -1.2380801279044857, -2.401157212448408, -0.8107475425638813, 0.8414494082818664, -0.6991770577219462, 1.0609777598044001, 0.038853476865917086, 0.930601381555482, 0.27276272520770956, 1.672532731248939]}], \"hovertemplate\": \"color=South America<br>%{xaxis.title.text}=%{x}<br>%{yaxis.title.text}=%{y}<extra></extra>\", \"legendgroup\": \"South America\", \"marker\": {\"color\": \"#ab63fa\", \"symbol\": \"circle\"}, \"name\": \"South America\", \"showlegend\": true, \"type\": \"splom\"}, {\"diagonal\": {\"visible\": false}, \"dimensions\": [{\"axis\": {\"matches\": true}, \"label\": \"PC 1 (31.9%)\", \"values\": [2.391184900177815, 2.612253509332441]}, {\"axis\": {\"matches\": true}, \"label\": \"PC 2 (27.1%)\", \"values\": [-1.6698974822583903, -1.9159999781508645]}, {\"axis\": {\"matches\": true}, \"label\": \"PC 3 (13.6%)\", \"values\": [-1.4536186256286119, -2.037104129742377]}], \"hovertemplate\": \"color=Australia<br>%{xaxis.title.text}=%{x}<br>%{yaxis.title.text}=%{y}<extra></extra>\", \"legendgroup\": \"Australia\", \"marker\": {\"color\": \"#FFA15A\", \"symbol\": \"circle\"}, \"name\": \"Australia\", \"showlegend\": true, \"type\": \"splom\"}, {\"diagonal\": {\"visible\": false}, \"dimensions\": [{\"axis\": {\"matches\": true}, \"label\": \"PC 1 (31.9%)\", \"values\": [2.68081093432017, 1.897682408386599]}, {\"axis\": {\"matches\": true}, \"label\": \"PC 2 (27.1%)\", \"values\": [-0.9982653415584153, 2.618157725297508]}, {\"axis\": {\"matches\": true}, \"label\": \"PC 3 (13.6%)\", \"values\": [-1.3449889409925289, 0.6222815339325984]}], \"hovertemplate\": \"color=North America<br>%{xaxis.title.text}=%{x}<br>%{yaxis.title.text}=%{y}<extra></extra>\", \"legendgroup\": \"North America\", \"marker\": {\"color\": \"#19d3f3\", \"symbol\": \"circle\"}, \"name\": \"North America\", \"showlegend\": true, \"type\": \"splom\"}],                        {\"dragmode\": \"select\", \"legend\": {\"title\": {\"text\": \"color\"}, \"tracegroupgap\": 0}, \"margin\": {\"t\": 60}, \"template\": {\"data\": {\"bar\": [{\"error_x\": {\"color\": \"#2a3f5f\"}, \"error_y\": {\"color\": \"#2a3f5f\"}, \"marker\": {\"line\": {\"color\": \"#E5ECF6\", \"width\": 0.5}}, \"type\": \"bar\"}], \"barpolar\": [{\"marker\": {\"line\": {\"color\": \"#E5ECF6\", \"width\": 0.5}}, \"type\": \"barpolar\"}], \"carpet\": [{\"aaxis\": {\"endlinecolor\": \"#2a3f5f\", \"gridcolor\": \"white\", \"linecolor\": \"white\", \"minorgridcolor\": \"white\", \"startlinecolor\": \"#2a3f5f\"}, \"baxis\": {\"endlinecolor\": \"#2a3f5f\", \"gridcolor\": \"white\", \"linecolor\": \"white\", \"minorgridcolor\": \"white\", \"startlinecolor\": \"#2a3f5f\"}, \"type\": \"carpet\"}], \"choropleth\": [{\"colorbar\": {\"outlinewidth\": 0, \"ticks\": \"\"}, \"type\": \"choropleth\"}], \"contour\": [{\"colorbar\": {\"outlinewidth\": 0, \"ticks\": \"\"}, \"colorscale\": [[0.0, \"#0d0887\"], [0.1111111111111111, \"#46039f\"], [0.2222222222222222, \"#7201a8\"], [0.3333333333333333, \"#9c179e\"], [0.4444444444444444, \"#bd3786\"], [0.5555555555555556, \"#d8576b\"], [0.6666666666666666, \"#ed7953\"], [0.7777777777777778, \"#fb9f3a\"], [0.8888888888888888, \"#fdca26\"], [1.0, \"#f0f921\"]], \"type\": \"contour\"}], \"contourcarpet\": [{\"colorbar\": {\"outlinewidth\": 0, \"ticks\": \"\"}, \"type\": \"contourcarpet\"}], \"heatmap\": [{\"colorbar\": {\"outlinewidth\": 0, \"ticks\": \"\"}, \"colorscale\": [[0.0, \"#0d0887\"], [0.1111111111111111, \"#46039f\"], [0.2222222222222222, \"#7201a8\"], [0.3333333333333333, \"#9c179e\"], [0.4444444444444444, \"#bd3786\"], [0.5555555555555556, \"#d8576b\"], [0.6666666666666666, \"#ed7953\"], [0.7777777777777778, \"#fb9f3a\"], [0.8888888888888888, \"#fdca26\"], [1.0, \"#f0f921\"]], \"type\": \"heatmap\"}], \"heatmapgl\": [{\"colorbar\": {\"outlinewidth\": 0, \"ticks\": \"\"}, \"colorscale\": [[0.0, \"#0d0887\"], [0.1111111111111111, \"#46039f\"], [0.2222222222222222, \"#7201a8\"], [0.3333333333333333, \"#9c179e\"], [0.4444444444444444, \"#bd3786\"], [0.5555555555555556, \"#d8576b\"], [0.6666666666666666, \"#ed7953\"], [0.7777777777777778, \"#fb9f3a\"], [0.8888888888888888, \"#fdca26\"], [1.0, \"#f0f921\"]], \"type\": \"heatmapgl\"}], \"histogram\": [{\"marker\": {\"colorbar\": {\"outlinewidth\": 0, \"ticks\": \"\"}}, \"type\": \"histogram\"}], \"histogram2d\": [{\"colorbar\": {\"outlinewidth\": 0, \"ticks\": \"\"}, \"colorscale\": [[0.0, \"#0d0887\"], [0.1111111111111111, \"#46039f\"], [0.2222222222222222, \"#7201a8\"], [0.3333333333333333, \"#9c179e\"], [0.4444444444444444, \"#bd3786\"], [0.5555555555555556, \"#d8576b\"], [0.6666666666666666, \"#ed7953\"], [0.7777777777777778, \"#fb9f3a\"], [0.8888888888888888, \"#fdca26\"], [1.0, \"#f0f921\"]], \"type\": \"histogram2d\"}], \"histogram2dcontour\": [{\"colorbar\": {\"outlinewidth\": 0, \"ticks\": \"\"}, \"colorscale\": [[0.0, \"#0d0887\"], [0.1111111111111111, \"#46039f\"], [0.2222222222222222, \"#7201a8\"], [0.3333333333333333, \"#9c179e\"], [0.4444444444444444, \"#bd3786\"], [0.5555555555555556, \"#d8576b\"], [0.6666666666666666, \"#ed7953\"], [0.7777777777777778, \"#fb9f3a\"], [0.8888888888888888, \"#fdca26\"], [1.0, \"#f0f921\"]], \"type\": \"histogram2dcontour\"}], \"mesh3d\": [{\"colorbar\": {\"outlinewidth\": 0, \"ticks\": \"\"}, \"type\": \"mesh3d\"}], \"parcoords\": [{\"line\": {\"colorbar\": {\"outlinewidth\": 0, \"ticks\": \"\"}}, \"type\": \"parcoords\"}], \"pie\": [{\"automargin\": true, \"type\": \"pie\"}], \"scatter\": [{\"marker\": {\"colorbar\": {\"outlinewidth\": 0, \"ticks\": \"\"}}, \"type\": \"scatter\"}], \"scatter3d\": [{\"line\": {\"colorbar\": {\"outlinewidth\": 0, \"ticks\": \"\"}}, \"marker\": {\"colorbar\": {\"outlinewidth\": 0, \"ticks\": \"\"}}, \"type\": \"scatter3d\"}], \"scattercarpet\": [{\"marker\": {\"colorbar\": {\"outlinewidth\": 0, \"ticks\": \"\"}}, \"type\": \"scattercarpet\"}], \"scattergeo\": [{\"marker\": {\"colorbar\": {\"outlinewidth\": 0, \"ticks\": \"\"}}, \"type\": \"scattergeo\"}], \"scattergl\": [{\"marker\": {\"colorbar\": {\"outlinewidth\": 0, \"ticks\": \"\"}}, \"type\": \"scattergl\"}], \"scattermapbox\": [{\"marker\": {\"colorbar\": {\"outlinewidth\": 0, \"ticks\": \"\"}}, \"type\": \"scattermapbox\"}], \"scatterpolar\": [{\"marker\": {\"colorbar\": {\"outlinewidth\": 0, \"ticks\": \"\"}}, \"type\": \"scatterpolar\"}], \"scatterpolargl\": [{\"marker\": {\"colorbar\": {\"outlinewidth\": 0, \"ticks\": \"\"}}, \"type\": \"scatterpolargl\"}], \"scatterternary\": [{\"marker\": {\"colorbar\": {\"outlinewidth\": 0, \"ticks\": \"\"}}, \"type\": \"scatterternary\"}], \"surface\": [{\"colorbar\": {\"outlinewidth\": 0, \"ticks\": \"\"}, \"colorscale\": [[0.0, \"#0d0887\"], [0.1111111111111111, \"#46039f\"], [0.2222222222222222, \"#7201a8\"], [0.3333333333333333, \"#9c179e\"], [0.4444444444444444, \"#bd3786\"], [0.5555555555555556, \"#d8576b\"], [0.6666666666666666, \"#ed7953\"], [0.7777777777777778, \"#fb9f3a\"], [0.8888888888888888, \"#fdca26\"], [1.0, \"#f0f921\"]], \"type\": \"surface\"}], \"table\": [{\"cells\": {\"fill\": {\"color\": \"#EBF0F8\"}, \"line\": {\"color\": \"white\"}}, \"header\": {\"fill\": {\"color\": \"#C8D4E3\"}, \"line\": {\"color\": \"white\"}}, \"type\": \"table\"}]}, \"layout\": {\"annotationdefaults\": {\"arrowcolor\": \"#2a3f5f\", \"arrowhead\": 0, \"arrowwidth\": 1}, \"autotypenumbers\": \"strict\", \"coloraxis\": {\"colorbar\": {\"outlinewidth\": 0, \"ticks\": \"\"}}, \"colorscale\": {\"diverging\": [[0, \"#8e0152\"], [0.1, \"#c51b7d\"], [0.2, \"#de77ae\"], [0.3, \"#f1b6da\"], [0.4, \"#fde0ef\"], [0.5, \"#f7f7f7\"], [0.6, \"#e6f5d0\"], [0.7, \"#b8e186\"], [0.8, \"#7fbc41\"], [0.9, \"#4d9221\"], [1, \"#276419\"]], \"sequential\": [[0.0, \"#0d0887\"], [0.1111111111111111, \"#46039f\"], [0.2222222222222222, \"#7201a8\"], [0.3333333333333333, \"#9c179e\"], [0.4444444444444444, \"#bd3786\"], [0.5555555555555556, \"#d8576b\"], [0.6666666666666666, \"#ed7953\"], [0.7777777777777778, \"#fb9f3a\"], [0.8888888888888888, \"#fdca26\"], [1.0, \"#f0f921\"]], \"sequentialminus\": [[0.0, \"#0d0887\"], [0.1111111111111111, \"#46039f\"], [0.2222222222222222, \"#7201a8\"], [0.3333333333333333, \"#9c179e\"], [0.4444444444444444, \"#bd3786\"], [0.5555555555555556, \"#d8576b\"], [0.6666666666666666, \"#ed7953\"], [0.7777777777777778, \"#fb9f3a\"], [0.8888888888888888, \"#fdca26\"], [1.0, \"#f0f921\"]]}, \"colorway\": [\"#636efa\", \"#EF553B\", \"#00cc96\", \"#ab63fa\", \"#FFA15A\", \"#19d3f3\", \"#FF6692\", \"#B6E880\", \"#FF97FF\", \"#FECB52\"], \"font\": {\"color\": \"#2a3f5f\"}, \"geo\": {\"bgcolor\": \"white\", \"lakecolor\": \"white\", \"landcolor\": \"#E5ECF6\", \"showlakes\": true, \"showland\": true, \"subunitcolor\": \"white\"}, \"hoverlabel\": {\"align\": \"left\"}, \"hovermode\": \"closest\", \"mapbox\": {\"style\": \"light\"}, \"paper_bgcolor\": \"white\", \"plot_bgcolor\": \"#E5ECF6\", \"polar\": {\"angularaxis\": {\"gridcolor\": \"white\", \"linecolor\": \"white\", \"ticks\": \"\"}, \"bgcolor\": \"#E5ECF6\", \"radialaxis\": {\"gridcolor\": \"white\", \"linecolor\": \"white\", \"ticks\": \"\"}}, \"scene\": {\"xaxis\": {\"backgroundcolor\": \"#E5ECF6\", \"gridcolor\": \"white\", \"gridwidth\": 2, \"linecolor\": \"white\", \"showbackground\": true, \"ticks\": \"\", \"zerolinecolor\": \"white\"}, \"yaxis\": {\"backgroundcolor\": \"#E5ECF6\", \"gridcolor\": \"white\", \"gridwidth\": 2, \"linecolor\": \"white\", \"showbackground\": true, \"ticks\": \"\", \"zerolinecolor\": \"white\"}, \"zaxis\": {\"backgroundcolor\": \"#E5ECF6\", \"gridcolor\": \"white\", \"gridwidth\": 2, \"linecolor\": \"white\", \"showbackground\": true, \"ticks\": \"\", \"zerolinecolor\": \"white\"}}, \"shapedefaults\": {\"line\": {\"color\": \"#2a3f5f\"}}, \"ternary\": {\"aaxis\": {\"gridcolor\": \"white\", \"linecolor\": \"white\", \"ticks\": \"\"}, \"baxis\": {\"gridcolor\": \"white\", \"linecolor\": \"white\", \"ticks\": \"\"}, \"bgcolor\": \"#E5ECF6\", \"caxis\": {\"gridcolor\": \"white\", \"linecolor\": \"white\", \"ticks\": \"\"}}, \"title\": {\"x\": 0.05}, \"xaxis\": {\"automargin\": true, \"gridcolor\": \"white\", \"linecolor\": \"white\", \"ticks\": \"\", \"title\": {\"standoff\": 15}, \"zerolinecolor\": \"white\", \"zerolinewidth\": 2}, \"yaxis\": {\"automargin\": true, \"gridcolor\": \"white\", \"linecolor\": \"white\", \"ticks\": \"\", \"title\": {\"standoff\": 15}, \"zerolinecolor\": \"white\", \"zerolinewidth\": 2}}}},                        {\"responsive\": true}                    ).then(function(){\n",
       "                            \n",
       "var gd = document.getElementById('59b24509-23da-42bb-b60f-277d5b2f1fb1');\n",
       "var x = new MutationObserver(function (mutations, observer) {{\n",
       "        var display = window.getComputedStyle(gd).display;\n",
       "        if (!display || display === 'none') {{\n",
       "            console.log([gd, 'removed!']);\n",
       "            Plotly.purge(gd);\n",
       "            observer.disconnect();\n",
       "        }}\n",
       "}});\n",
       "\n",
       "// Listen for the removal of the full notebook cells\n",
       "var notebookContainer = gd.closest('#notebook-container');\n",
       "if (notebookContainer) {{\n",
       "    x.observe(notebookContainer, {childList: true});\n",
       "}}\n",
       "\n",
       "// Listen for the clearing of the current output cell\n",
       "var outputEl = gd.closest('.output');\n",
       "if (outputEl) {{\n",
       "    x.observe(outputEl, {childList: true});\n",
       "}}\n",
       "\n",
       "                        })                };                });            </script>        </div>"
      ]
     },
     "metadata": {},
     "output_type": "display_data"
    }
   ],
   "source": [
    "labels = {\n",
    "    str(i): f\"PC {i+1} ({var:.1f}%)\"\n",
    "    for i, var in enumerate(pca.explained_variance_ratio_ * 100)\n",
    "}\n",
    "\n",
    "fig = px.scatter_matrix(\n",
    "    principalComponents,\n",
    "    labels=labels,\n",
    "    dimensions=range(3),\n",
    "    color=pca_df['continent']\n",
    ")\n",
    "fig.update_traces(diagonal_visible=False)\n",
    "\n",
    "fig.show()"
   ]
  },
  {
   "cell_type": "code",
   "execution_count": null,
   "metadata": {},
   "outputs": [],
   "source": []
  },
  {
   "cell_type": "code",
   "execution_count": 85,
   "metadata": {},
   "outputs": [
    {
     "data": {
      "text/plain": [
       "Confirmed            1.000000\n",
       "Recovered            0.983045\n",
       "Deaths               0.857703\n",
       "gdp_per_capita       0.084356\n",
       "social_support      -0.001161\n",
       "health               0.052690\n",
       "freedom              0.064383\n",
       "generosity          -0.040479\n",
       "government_trust    -0.038775\n",
       "dystopia_residual   -0.069736\n",
       "Name: Confirmed, dtype: float64"
      ]
     },
     "execution_count": 85,
     "metadata": {},
     "output_type": "execute_result"
    }
   ],
   "source": [
    "joined_df.corr()[\"Confirmed\"]"
   ]
  },
  {
   "cell_type": "code",
   "execution_count": 101,
   "metadata": {},
   "outputs": [
    {
     "data": {
      "text/plain": [
       "<AxesSubplot:xlabel='Confirmed', ylabel='freedom'>"
      ]
     },
     "execution_count": 101,
     "metadata": {},
     "output_type": "execute_result"
    },
    {
     "data": {
      "image/png": "[encoded data removed]",
      "text/plain": [
       "<Figure size 1440x720 with 1 Axes>"
      ]
     },
     "metadata": {},
     "output_type": "display_data"
    }
   ],
   "source": [
    "pais = joined_df[(joined_df['continent'] == 'South America')]\n",
    "sns.set(rc={'figure.figsize':(20,10)})\n",
    "sns.scatterplot(x='Confirmed', y='freedom', data= pais)"
   ]
  },
  {
   "cell_type": "code",
   "execution_count": 103,
   "metadata": {},
   "outputs": [
    {
     "data": {
      "application/vnd.plotly.v1+json": {
       "config": {
        "plotlyServerURL": "https://plot.ly"
       },
       "data": [
        {
         "customdata": [
          [
           "Afghanistan"
          ],
          [
           "Armenia"
          ],
          [
           "Azerbaijan"
          ],
          [
           "Bahrain"
          ],
          [
           "Bangladesh"
          ],
          [
           "Cambodia"
          ],
          [
           "China"
          ],
          [
           "Cyprus"
          ],
          [
           "Georgia"
          ],
          [
           "India"
          ],
          [
           "Indonesia"
          ],
          [
           "Iran"
          ],
          [
           "Iraq"
          ],
          [
           "Israel"
          ],
          [
           "Japan"
          ],
          [
           "Jordan"
          ],
          [
           "Kazakhstan"
          ],
          [
           "Kuwait"
          ],
          [
           "Kyrgyzstan"
          ],
          [
           "Lebanon"
          ],
          [
           "Malaysia"
          ],
          [
           "Mongolia"
          ],
          [
           "Nepal"
          ],
          [
           "Pakistan"
          ],
          [
           "Philippines"
          ],
          [
           "Saudi Arabia"
          ],
          [
           "Singapore"
          ],
          [
           "South Korea"
          ],
          [
           "Sri Lanka"
          ],
          [
           "Tajikistan"
          ],
          [
           "Thailand"
          ],
          [
           "Turkey"
          ],
          [
           "United Arab Emirates"
          ],
          [
           "Uzbekistan"
          ],
          [
           "Vietnam"
          ],
          [
           "Yemen"
          ]
         ],
         "hovertemplate": "continent=Asia<br>Confirmed=%{x}<br>freedom=%{y}<br>Deaths=%{marker.size}<br>country=%{customdata[0]}<extra></extra>",
         "legendgroup": "Asia",
         "marker": {
          "color": "#636efa",
          "size": [
           251784,
           190542,
           112852,
           39579,
           808675,
           0,
           1310533,
           5722,
           42411,
           13959980,
           1706952,
           5043348,
           1343829,
           270437,
           294830,
           94163,
           280957,
           111966,
           175255,
           65017,
           39682,
           0,
           89914,
           1170598,
           851312,
           734941,
           6157,
           88841,
           5425,
           14109,
           14236,
           1661771,
           85594,
           62144,
           4138,
           95897
          ],
          "sizemode": "area",
          "sizeref": 57392.355,
          "symbol": "circle"
         },
         "mode": "markers",
         "name": "Asia",
         "orientation": "v",
         "showlegend": true,
         "type": "scatter",
         "x": [
          7387702,
          11180494,
          8598304,
          10939128,
          57789517,
          55412,
          26366342,
          615530,
          4714418,
          862831808,
          45861281,
          92413492,
          51768448,
          33146037,
          14024571,
          8029976,
          21476943,
          17582073,
          7639965,
          7546084,
          4215882,
          69903,
          15657466,
          56531483,
          43407809,
          56887173,
          11213139,
          4890411,
          1315030,
          1720123,
          856215,
          66511986,
          17982336,
          8013170,
          188083,
          338531
         ],
         "xaxis": "x",
         "y": [
          0,
          0.37807580799999996,
          0.467734724,
          0.610399902,
          0.604130566,
          0.674940348,
          0.6016051170000001,
          0.45938587200000003,
          0.485494107,
          0.5811422470000001,
          0.568161428,
          0.301195472,
          0.283588052,
          0.42069947700000004,
          0.495465875,
          0.42485508299999997,
          0.497432142,
          0.5702614189999999,
          0.614617765,
          0.18551667,
          0.596941531,
          0.355703115,
          0.480608255,
          0.405421734,
          0.6219151620000001,
          0.548477471,
          0.635317206,
          0.25935635,
          0.528632462,
          0.521141171,
          0.609449804,
          0.25440076,
          0.652936101,
          0.6932703259999999,
          0.650835574,
          0.243721485
         ],
         "yaxis": "y"
        },
        {
         "customdata": [
          [
           "Albania"
          ],
          [
           "Austria"
          ],
          [
           "Belarus"
          ],
          [
           "Belgium"
          ],
          [
           "Bosnia and Herzegovina"
          ],
          [
           "Bulgaria"
          ],
          [
           "Croatia"
          ],
          [
           "Czech Republic"
          ],
          [
           "Denmark"
          ],
          [
           "Estonia"
          ],
          [
           "Finland"
          ],
          [
           "France"
          ],
          [
           "Germany"
          ],
          [
           "Greece"
          ],
          [
           "Hungary"
          ],
          [
           "Iceland"
          ],
          [
           "Ireland"
          ],
          [
           "Italy"
          ],
          [
           "Kosovo"
          ],
          [
           "Latvia"
          ],
          [
           "Lithuania"
          ],
          [
           "Luxembourg"
          ],
          [
           "Malta"
          ],
          [
           "Moldova"
          ],
          [
           "Montenegro"
          ],
          [
           "Netherlands"
          ],
          [
           "Norway"
          ],
          [
           "Poland"
          ],
          [
           "Portugal"
          ],
          [
           "Romania"
          ],
          [
           "Russia"
          ],
          [
           "Serbia"
          ],
          [
           "Slovakia"
          ],
          [
           "Slovenia"
          ],
          [
           "Spain"
          ],
          [
           "Sweden"
          ],
          [
           "Switzerland"
          ],
          [
           "Ukraine"
          ],
          [
           "United Kingdom"
          ]
         ],
         "hovertemplate": "continent=Europe<br>Confirmed=%{x}<br>freedom=%{y}<br>Deaths=%{marker.size}<br>country=%{customdata[0]}<extra></extra>",
         "legendgroup": "Europe",
         "marker": {
          "color": "#EF553B",
          "size": [
           64504,
           240252,
           143369,
           2521062,
           169954,
           202722,
           86581,
           372583,
           153441,
           16852,
           77919,
           7940612,
           2342772,
           116747,
           274288,
           3055,
           413314,
           9069691,
           90975,
           12347,
           30745,
           33841,
           7381,
           234632,
           31496,
           1585015,
           63513,
           866431,
           480394,
           931388,
           3841745,
           147133,
           32514,
           66716,
           7639465,
           1261286,
           557975,
           861189,
           10217281
          ],
          "sizemode": "area",
          "sizeref": 57392.355,
          "symbol": "circle"
         },
         "mode": "markers",
         "name": "Europe",
         "orientation": "v",
         "showlegend": true,
         "type": "scatter",
         "x": [
          2566014,
          14695837,
          16592136,
          40086038,
          5723703,
          6900275,
          5696132,
          27090658,
          6351580,
          874154,
          2493228,
          152535218,
          83765613,
          5099506,
          8966333,
          685058,
          8677872,
          108332925,
          2819465,
          826756,
          2359189,
          2464893,
          660740,
          9317219,
          2058047,
          35890966,
          3452941,
          43347982,
          20301518,
          28847354,
          231695545,
          9310768,
          4955880,
          3273963,
          146736851,
          21823106,
          19973367,
          45100462,
          128321450
         ],
         "xaxis": "x",
         "y": [
          0.461945891,
          0.6033688779999999,
          0.29075586800000003,
          0.499805421,
          0.305365741,
          0.417820066,
          0.3814568820000001,
          0.505744576,
          0.665039897,
          0.576664805,
          0.66231674,
          0.5140509010000001,
          0.564274132,
          0.17351634800000001,
          0.386401802,
          0.661980748,
          0.587779939,
          0.321305573,
          0.557280421,
          0.329198807,
          0.42046079,
          0.610137045,
          0.633239031,
          0.38957148799999997,
          0.303223848,
          0.61362648,
          0.670200884,
          0.557903528,
          0.5898951889999999,
          0.534852326,
          0.399499595,
          0.395428419,
          0.423542529,
          0.646700144,
          0.425983816,
          0.6502977010000001,
          0.62895447,
          0.319423705,
          0.525168657
         ],
         "yaxis": "y"
        },
        {
         "customdata": [
          [
           "Algeria"
          ],
          [
           "Benin"
          ],
          [
           "Botswana"
          ],
          [
           "Burkina Faso"
          ],
          [
           "Burundi"
          ],
          [
           "Cameroon"
          ],
          [
           "Chad"
          ],
          [
           "Congo (Brazzaville)"
          ],
          [
           "Congo (Kinshasa)"
          ],
          [
           "Egypt"
          ],
          [
           "Ethiopia"
          ],
          [
           "Gabon"
          ],
          [
           "Ghana"
          ],
          [
           "Ivory Coast"
          ],
          [
           "Kenya"
          ],
          [
           "Liberia"
          ],
          [
           "Libya"
          ],
          [
           "Madagascar"
          ],
          [
           "Malawi"
          ],
          [
           "Mali"
          ],
          [
           "Mauritania"
          ],
          [
           "Mauritius"
          ],
          [
           "Morocco"
          ],
          [
           "Nigeria"
          ],
          [
           "Rwanda"
          ],
          [
           "Senegal"
          ],
          [
           "Sierra Leone"
          ],
          [
           "South Africa"
          ],
          [
           "Tanzania"
          ],
          [
           "Togo"
          ],
          [
           "Tunisia"
          ],
          [
           "Uganda"
          ],
          [
           "Zambia"
          ],
          [
           "Zimbabwe"
          ]
         ],
         "hovertemplate": "continent=Africa<br>Confirmed=%{x}<br>freedom=%{y}<br>Deaths=%{marker.size}<br>country=%{customdata[0]}<extra></extra>",
         "legendgroup": "Africa",
         "marker": {
          "color": "#00cc96",
          "size": [
           319094,
           6584,
           2340,
           13763,
           241,
           78950,
           17380,
           14240,
           48771,
           979825,
           159466,
           9847,
           45794,
           20867,
           122621,
           14348,
           81838,
           30637,
           25031,
           26313,
           28794,
           2511,
           386139,
           201034,
           3922,
           47376,
           13880,
           2415139,
           4820,
           7294,
           133052,
           11574,
           44784,
           29474
          ],
          "sizemode": "area",
          "sizeref": 57392.355,
          "symbol": "circle"
         },
         "mode": "markers",
         "name": "Africa",
         "orientation": "v",
         "showlegend": true,
         "type": "scatter",
         "x": [
          8485107,
          392550,
          638752,
          371356,
          81998,
          3665280,
          236200,
          754972,
          1892449,
          18211662,
          10193550,
          1503342,
          7486983,
          3224917,
          6815284,
          238247,
          5520478,
          2338432,
          845660,
          602456,
          1232073,
          94157,
          22556953,
          9765598,
          674113,
          2410519,
          392453,
          102242056,
          118042,
          306508,
          4966821,
          1290281,
          2015131,
          1065264
         ],
         "xaxis": "x",
         "y": [
          0.083943799,
          0.40583989,
          0.50908941,
          0.322398156,
          0.275399059,
          0.4392424820000001,
          0.22860176899999998,
          0.386514395,
          0.36462298,
          0.37368473399999996,
          0.41256687,
          0.36945989700000004,
          0.47729006399999996,
          0.39712253200000003,
          0.519180536,
          0.405943096,
          0.45135405700000003,
          0.192967549,
          0.487389833,
          0.377534449,
          0.185714483,
          0.590838134,
          0.45005413899999996,
          0.435079455,
          0.604087889,
          0.352400899,
          0.38202768600000003,
          0.43478182,
          0.5093430879999999,
          0.303539038,
          0.23586055600000005,
          0.401682556,
          0.49131754,
          0.37740472
         ],
         "yaxis": "y"
        },
        {
         "customdata": [
          [
           "Argentina"
          ],
          [
           "Bolivia"
          ],
          [
           "Brazil"
          ],
          [
           "Chile"
          ],
          [
           "Colombia"
          ],
          [
           "Costa Rica"
          ],
          [
           "Dominican Republic"
          ],
          [
           "Ecuador"
          ],
          [
           "El Salvador"
          ],
          [
           "Guatemala"
          ],
          [
           "Guinea"
          ],
          [
           "Haiti"
          ],
          [
           "Honduras"
          ],
          [
           "Jamaica"
          ],
          [
           "Nicaragua"
          ],
          [
           "Panama"
          ],
          [
           "Paraguay"
          ],
          [
           "Peru"
          ],
          [
           "Uruguay"
          ],
          [
           "Venezuela"
          ]
         ],
         "hovertemplate": "continent=South America<br>Confirmed=%{x}<br>freedom=%{y}<br>Deaths=%{marker.size}<br>country=%{customdata[0]}<extra></extra>",
         "legendgroup": "South America",
         "marker": {
          "color": "#ab63fa",
          "size": [
           2881217,
           1035831,
           22956942,
           2049115,
           3691720,
           130014,
           327631,
           1756761,
           125514,
           485529,
           11135,
           35921,
           345846,
           17398,
           24661,
           371647,
           123951,
           4830920,
           9523,
           84762
          ],
          "sizemode": "area",
          "sizeref": 57392.355,
          "symbol": "circle"
         },
         "mode": "markers",
         "name": "South America",
         "orientation": "v",
         "showlegend": true,
         "type": "scatter",
         "x": [
          114309026,
          19299627,
          731645427,
          78759484,
          122115327,
          11010773,
          17636404,
          23712034,
          4444469,
          13587118,
          1846305,
          1498354,
          11835875,
          881158,
          816601,
          18067924,
          5993787,
          122730322,
          465680,
          9876958
         ],
         "xaxis": "x",
         "y": [
          0.520840347,
          0.5744645,
          0.483292729,
          0.41748222700000004,
          0.526890039,
          0.6450177429999999,
          0.5628739,
          0.555234551,
          0.5240439179999999,
          0.613146722,
          0.37187805799999996,
          0.169297516,
          0.568148077,
          0.553124607,
          0.560117304,
          0.57984978,
          0.586510062,
          0.513210058,
          0.59426707,
          0.271717221
         ],
         "yaxis": "y"
        },
        {
         "customdata": [
          [
           "Australia"
          ],
          [
           "New Zealand"
          ]
         ],
         "hovertemplate": "continent=Australia<br>Confirmed=%{x}<br>freedom=%{y}<br>Deaths=%{marker.size}<br>country=%{customdata[0]}<extra></extra>",
         "legendgroup": "Australia",
         "marker": {
          "color": "#FFA15A",
          "size": [
           112965,
           5431
          ],
          "sizemode": "area",
          "sizeref": 57392.355,
          "symbol": "circle"
         },
         "mode": "markers",
         "name": "Australia",
         "orientation": "v",
         "showlegend": true,
         "type": "scatter",
         "x": [
          4470500,
          424726
         ],
         "xaxis": "x",
         "y": [
          0.621877193,
          0.646789908
         ],
         "yaxis": "y"
        },
        {
         "customdata": [
          [
           "Canada"
          ],
          [
           "Mexico"
          ]
         ],
         "hovertemplate": "continent=North America<br>Confirmed=%{x}<br>freedom=%{y}<br>Deaths=%{marker.size}<br>country=%{customdata[0]}<extra></extra>",
         "legendgroup": "North America",
         "marker": {
          "color": "#19d3f3",
          "size": [
           2044233,
           12404856
          ],
          "sizemode": "area",
          "sizeref": 57392.355,
          "symbol": "circle"
         },
         "mode": "markers",
         "name": "North America",
         "orientation": "v",
         "showlegend": true,
         "type": "scatter",
         "x": [
          36954682,
          119895010
         ],
         "xaxis": "x",
         "y": [
          0.644028127,
          0.553892553
         ],
         "yaxis": "y"
        }
       ],
       "layout": {
        "legend": {
         "itemsizing": "constant",
         "title": {
          "text": "continent"
         },
         "tracegroupgap": 0
        },
        "margin": {
         "t": 60
        },
        "template": {
         "data": {
          "bar": [
           {
            "error_x": {
             "color": "#2a3f5f"
            },
            "error_y": {
             "color": "#2a3f5f"
            },
            "marker": {
             "line": {
              "color": "#E5ECF6",
              "width": 0.5
             }
            },
            "type": "bar"
           }
          ],
          "barpolar": [
           {
            "marker": {
             "line": {
              "color": "#E5ECF6",
              "width": 0.5
             }
            },
            "type": "barpolar"
           }
          ],
          "carpet": [
           {
            "aaxis": {
             "endlinecolor": "#2a3f5f",
             "gridcolor": "white",
             "linecolor": "white",
             "minorgridcolor": "white",
             "startlinecolor": "#2a3f5f"
            },
            "baxis": {
             "endlinecolor": "#2a3f5f",
             "gridcolor": "white",
             "linecolor": "white",
             "minorgridcolor": "white",
             "startlinecolor": "#2a3f5f"
            },
            "type": "carpet"
           }
          ],
          "choropleth": [
           {
            "colorbar": {
             "outlinewidth": 0,
             "ticks": ""
            },
            "type": "choropleth"
           }
          ],
          "contour": [
           {
            "colorbar": {
             "outlinewidth": 0,
             "ticks": ""
            },
            "colorscale": [
             [
              0,
              "#0d0887"
             ],
             [
              0.1111111111111111,
              "#46039f"
             ],
             [
              0.2222222222222222,
              "#7201a8"
             ],
             [
              0.3333333333333333,
              "#9c179e"
             ],
             [
              0.4444444444444444,
              "#bd3786"
             ],
             [
              0.5555555555555556,
              "#d8576b"
             ],
             [
              0.6666666666666666,
              "#ed7953"
             ],
             [
              0.7777777777777778,
              "#fb9f3a"
             ],
             [
              0.8888888888888888,
              "#fdca26"
             ],
             [
              1,
              "#f0f921"
             ]
            ],
            "type": "contour"
           }
          ],
          "contourcarpet": [
           {
            "colorbar": {
             "outlinewidth": 0,
             "ticks": ""
            },
            "type": "contourcarpet"
           }
          ],
          "heatmap": [
           {
            "colorbar": {
             "outlinewidth": 0,
             "ticks": ""
            },
            "colorscale": [
             [
              0,
              "#0d0887"
             ],
             [
              0.1111111111111111,
              "#46039f"
             ],
             [
              0.2222222222222222,
              "#7201a8"
             ],
             [
              0.3333333333333333,
              "#9c179e"
             ],
             [
              0.4444444444444444,
              "#bd3786"
             ],
             [
              0.5555555555555556,
              "#d8576b"
             ],
             [
              0.6666666666666666,
              "#ed7953"
             ],
             [
              0.7777777777777778,
              "#fb9f3a"
             ],
             [
              0.8888888888888888,
              "#fdca26"
             ],
             [
              1,
              "#f0f921"
             ]
            ],
            "type": "heatmap"
           }
          ],
          "heatmapgl": [
           {
            "colorbar": {
             "outlinewidth": 0,
             "ticks": ""
            },
            "colorscale": [
             [
              0,
              "#0d0887"
             ],
             [
              0.1111111111111111,
              "#46039f"
             ],
             [
              0.2222222222222222,
              "#7201a8"
             ],
             [
              0.3333333333333333,
              "#9c179e"
             ],
             [
              0.4444444444444444,
              "#bd3786"
             ],
             [
              0.5555555555555556,
              "#d8576b"
             ],
             [
              0.6666666666666666,
              "#ed7953"
             ],
             [
              0.7777777777777778,
              "#fb9f3a"
             ],
             [
              0.8888888888888888,
              "#fdca26"
             ],
             [
              1,
              "#f0f921"
             ]
            ],
            "type": "heatmapgl"
           }
          ],
          "histogram": [
           {
            "marker": {
             "colorbar": {
              "outlinewidth": 0,
              "ticks": ""
             }
            },
            "type": "histogram"
           }
          ],
          "histogram2d": [
           {
            "colorbar": {
             "outlinewidth": 0,
             "ticks": ""
            },
            "colorscale": [
             [
              0,
              "#0d0887"
             ],
             [
              0.1111111111111111,
              "#46039f"
             ],
             [
              0.2222222222222222,
              "#7201a8"
             ],
             [
              0.3333333333333333,
              "#9c179e"
             ],
             [
              0.4444444444444444,
              "#bd3786"
             ],
             [
              0.5555555555555556,
              "#d8576b"
             ],
             [
              0.6666666666666666,
              "#ed7953"
             ],
             [
              0.7777777777777778,
              "#fb9f3a"
             ],
             [
              0.8888888888888888,
              "#fdca26"
             ],
             [
              1,
              "#f0f921"
             ]
            ],
            "type": "histogram2d"
           }
          ],
          "histogram2dcontour": [
           {
            "colorbar": {
             "outlinewidth": 0,
             "ticks": ""
            },
            "colorscale": [
             [
              0,
              "#0d0887"
             ],
             [
              0.1111111111111111,
              "#46039f"
             ],
             [
              0.2222222222222222,
              "#7201a8"
             ],
             [
              0.3333333333333333,
              "#9c179e"
             ],
             [
              0.4444444444444444,
              "#bd3786"
             ],
             [
              0.5555555555555556,
              "#d8576b"
             ],
             [
              0.6666666666666666,
              "#ed7953"
             ],
             [
              0.7777777777777778,
              "#fb9f3a"
             ],
             [
              0.8888888888888888,
              "#fdca26"
             ],
             [
              1,
              "#f0f921"
             ]
            ],
            "type": "histogram2dcontour"
           }
          ],
          "mesh3d": [
           {
            "colorbar": {
             "outlinewidth": 0,
             "ticks": ""
            },
            "type": "mesh3d"
           }
          ],
          "parcoords": [
           {
            "line": {
             "colorbar": {
              "outlinewidth": 0,
              "ticks": ""
             }
            },
            "type": "parcoords"
           }
          ],
          "pie": [
           {
            "automargin": true,
            "type": "pie"
           }
          ],
          "scatter": [
           {
            "marker": {
             "colorbar": {
              "outlinewidth": 0,
              "ticks": ""
             }
            },
            "type": "scatter"
           }
          ],
          "scatter3d": [
           {
            "line": {
             "colorbar": {
              "outlinewidth": 0,
              "ticks": ""
             }
            },
            "marker": {
             "colorbar": {
              "outlinewidth": 0,
              "ticks": ""
             }
            },
            "type": "scatter3d"
           }
          ],
          "scattercarpet": [
           {
            "marker": {
             "colorbar": {
              "outlinewidth": 0,
              "ticks": ""
             }
            },
            "type": "scattercarpet"
           }
          ],
          "scattergeo": [
           {
            "marker": {
             "colorbar": {
              "outlinewidth": 0,
              "ticks": ""
             }
            },
            "type": "scattergeo"
           }
          ],
          "scattergl": [
           {
            "marker": {
             "colorbar": {
              "outlinewidth": 0,
              "ticks": ""
             }
            },
            "type": "scattergl"
           }
          ],
          "scattermapbox": [
           {
            "marker": {
             "colorbar": {
              "outlinewidth": 0,
              "ticks": ""
             }
            },
            "type": "scattermapbox"
           }
          ],
          "scatterpolar": [
           {
            "marker": {
             "colorbar": {
              "outlinewidth": 0,
              "ticks": ""
             }
            },
            "type": "scatterpolar"
           }
          ],
          "scatterpolargl": [
           {
            "marker": {
             "colorbar": {
              "outlinewidth": 0,
              "ticks": ""
             }
            },
            "type": "scatterpolargl"
           }
          ],
          "scatterternary": [
           {
            "marker": {
             "colorbar": {
              "outlinewidth": 0,
              "ticks": ""
             }
            },
            "type": "scatterternary"
           }
          ],
          "surface": [
           {
            "colorbar": {
             "outlinewidth": 0,
             "ticks": ""
            },
            "colorscale": [
             [
              0,
              "#0d0887"
             ],
             [
              0.1111111111111111,
              "#46039f"
             ],
             [
              0.2222222222222222,
              "#7201a8"
             ],
             [
              0.3333333333333333,
              "#9c179e"
             ],
             [
              0.4444444444444444,
              "#bd3786"
             ],
             [
              0.5555555555555556,
              "#d8576b"
             ],
             [
              0.6666666666666666,
              "#ed7953"
             ],
             [
              0.7777777777777778,
              "#fb9f3a"
             ],
             [
              0.8888888888888888,
              "#fdca26"
             ],
             [
              1,
              "#f0f921"
             ]
            ],
            "type": "surface"
           }
          ],
          "table": [
           {
            "cells": {
             "fill": {
              "color": "#EBF0F8"
             },
             "line": {
              "color": "white"
             }
            },
            "header": {
             "fill": {
              "color": "#C8D4E3"
             },
             "line": {
              "color": "white"
             }
            },
            "type": "table"
           }
          ]
         },
         "layout": {
          "annotationdefaults": {
           "arrowcolor": "#2a3f5f",
           "arrowhead": 0,
           "arrowwidth": 1
          },
          "autotypenumbers": "strict",
          "coloraxis": {
           "colorbar": {
            "outlinewidth": 0,
            "ticks": ""
           }
          },
          "colorscale": {
           "diverging": [
            [
             0,
             "#8e0152"
            ],
            [
             0.1,
             "#c51b7d"
            ],
            [
             0.2,
             "#de77ae"
            ],
            [
             0.3,
             "#f1b6da"
            ],
            [
             0.4,
             "#fde0ef"
            ],
            [
             0.5,
             "#f7f7f7"
            ],
            [
             0.6,
             "#e6f5d0"
            ],
            [
             0.7,
             "#b8e186"
            ],
            [
             0.8,
             "#7fbc41"
            ],
            [
             0.9,
             "#4d9221"
            ],
            [
             1,
             "#276419"
            ]
           ],
           "sequential": [
            [
             0,
             "#0d0887"
            ],
            [
             0.1111111111111111,
             "#46039f"
            ],
            [
             0.2222222222222222,
             "#7201a8"
            ],
            [
             0.3333333333333333,
             "#9c179e"
            ],
            [
             0.4444444444444444,
             "#bd3786"
            ],
            [
             0.5555555555555556,
             "#d8576b"
            ],
            [
             0.6666666666666666,
             "#ed7953"
            ],
            [
             0.7777777777777778,
             "#fb9f3a"
            ],
            [
             0.8888888888888888,
             "#fdca26"
            ],
            [
             1,
             "#f0f921"
            ]
           ],
           "sequentialminus": [
            [
             0,
             "#0d0887"
            ],
            [
             0.1111111111111111,
             "#46039f"
            ],
            [
             0.2222222222222222,
             "#7201a8"
            ],
            [
             0.3333333333333333,
             "#9c179e"
            ],
            [
             0.4444444444444444,
             "#bd3786"
            ],
            [
             0.5555555555555556,
             "#d8576b"
            ],
            [
             0.6666666666666666,
             "#ed7953"
            ],
            [
             0.7777777777777778,
             "#fb9f3a"
            ],
            [
             0.8888888888888888,
             "#fdca26"
            ],
            [
             1,
             "#f0f921"
            ]
           ]
          },
          "colorway": [
           "#636efa",
           "#EF553B",
           "#00cc96",
           "#ab63fa",
           "#FFA15A",
           "#19d3f3",
           "#FF6692",
           "#B6E880",
           "#FF97FF",
           "#FECB52"
          ],
          "font": {
           "color": "#2a3f5f"
          },
          "geo": {
           "bgcolor": "white",
           "lakecolor": "white",
           "landcolor": "#E5ECF6",
           "showlakes": true,
           "showland": true,
           "subunitcolor": "white"
          },
          "hoverlabel": {
           "align": "left"
          },
          "hovermode": "closest",
          "mapbox": {
           "style": "light"
          },
          "paper_bgcolor": "white",
          "plot_bgcolor": "#E5ECF6",
          "polar": {
           "angularaxis": {
            "gridcolor": "white",
            "linecolor": "white",
            "ticks": ""
           },
           "bgcolor": "#E5ECF6",
           "radialaxis": {
            "gridcolor": "white",
            "linecolor": "white",
            "ticks": ""
           }
          },
          "scene": {
           "xaxis": {
            "backgroundcolor": "#E5ECF6",
            "gridcolor": "white",
            "gridwidth": 2,
            "linecolor": "white",
            "showbackground": true,
            "ticks": "",
            "zerolinecolor": "white"
           },
           "yaxis": {
            "backgroundcolor": "#E5ECF6",
            "gridcolor": "white",
            "gridwidth": 2,
            "linecolor": "white",
            "showbackground": true,
            "ticks": "",
            "zerolinecolor": "white"
           },
           "zaxis": {
            "backgroundcolor": "#E5ECF6",
            "gridcolor": "white",
            "gridwidth": 2,
            "linecolor": "white",
            "showbackground": true,
            "ticks": "",
            "zerolinecolor": "white"
           }
          },
          "shapedefaults": {
           "line": {
            "color": "#2a3f5f"
           }
          },
          "ternary": {
           "aaxis": {
            "gridcolor": "white",
            "linecolor": "white",
            "ticks": ""
           },
           "baxis": {
            "gridcolor": "white",
            "linecolor": "white",
            "ticks": ""
           },
           "bgcolor": "#E5ECF6",
           "caxis": {
            "gridcolor": "white",
            "linecolor": "white",
            "ticks": ""
           }
          },
          "title": {
           "x": 0.05
          },
          "xaxis": {
           "automargin": true,
           "gridcolor": "white",
           "linecolor": "white",
           "ticks": "",
           "title": {
            "standoff": 15
           },
           "zerolinecolor": "white",
           "zerolinewidth": 2
          },
          "yaxis": {
           "automargin": true,
           "gridcolor": "white",
           "linecolor": "white",
           "ticks": "",
           "title": {
            "standoff": 15
           },
           "zerolinecolor": "white",
           "zerolinewidth": 2
          }
         }
        },
        "xaxis": {
         "anchor": "y",
         "domain": [
          0,
          1
         ],
         "title": {
          "text": "Confirmed"
         }
        },
        "yaxis": {
         "anchor": "x",
         "domain": [
          0,
          1
         ],
         "title": {
          "text": "freedom"
         }
        }
       }
      },
      "text/html": [
       "<div>                            <div id=\"09576c7a-6b97-441f-aea9-9e1912dda205\" class=\"plotly-graph-div\" style=\"height:525px; width:100%;\"></div>            <script type=\"text/javascript\">                require([\"plotly\"], function(Plotly) {                    window.PLOTLYENV=window.PLOTLYENV || {};                                    if (document.getElementById(\"09576c7a-6b97-441f-aea9-9e1912dda205\")) {                    Plotly.newPlot(                        \"09576c7a-6b97-441f-aea9-9e1912dda205\",                        [{\"customdata\": [[\"Afghanistan\"], [\"Armenia\"], [\"Azerbaijan\"], [\"Bahrain\"], [\"Bangladesh\"], [\"Cambodia\"], [\"China\"], [\"Cyprus\"], [\"Georgia\"], [\"India\"], [\"Indonesia\"], [\"Iran\"], [\"Iraq\"], [\"Israel\"], [\"Japan\"], [\"Jordan\"], [\"Kazakhstan\"], [\"Kuwait\"], [\"Kyrgyzstan\"], [\"Lebanon\"], [\"Malaysia\"], [\"Mongolia\"], [\"Nepal\"], [\"Pakistan\"], [\"Philippines\"], [\"Saudi Arabia\"], [\"Singapore\"], [\"South Korea\"], [\"Sri Lanka\"], [\"Tajikistan\"], [\"Thailand\"], [\"Turkey\"], [\"United Arab Emirates\"], [\"Uzbekistan\"], [\"Vietnam\"], [\"Yemen\"]], \"hovertemplate\": \"continent=Asia<br>Confirmed=%{x}<br>freedom=%{y}<br>Deaths=%{marker.size}<br>country=%{customdata[0]}<extra></extra>\", \"legendgroup\": \"Asia\", \"marker\": {\"color\": \"#636efa\", \"size\": [251784.0, 190542.0, 112852.0, 39579.0, 808675.0, 0.0, 1310533.0, 5722.0, 42411.0, 13959980.0, 1706952.0, 5043348.0, 1343829.0, 270437.0, 294830.0, 94163.0, 280957.0, 111966.0, 175255.0, 65017.0, 39682.0, 0.0, 89914.0, 1170598.0, 851312.0, 734941.0, 6157.0, 88841.0, 5425.0, 14109.0, 14236.0, 1661771.0, 85594.0, 62144.0, 4138.0, 95897.0], \"sizemode\": \"area\", \"sizeref\": 57392.355, \"symbol\": \"circle\"}, \"mode\": \"markers\", \"name\": \"Asia\", \"orientation\": \"v\", \"showlegend\": true, \"type\": \"scatter\", \"x\": [7387702.0, 11180494.0, 8598304.0, 10939128.0, 57789517.0, 55412.0, 26366342.0, 615530.0, 4714418.0, 862831808.0, 45861281.0, 92413492.0, 51768448.0, 33146037.0, 14024571.0, 8029976.0, 21476943.0, 17582073.0, 7639965.0, 7546084.0, 4215882.0, 69903.0, 15657466.0, 56531483.0, 43407809.0, 56887173.0, 11213139.0, 4890411.0, 1315030.0, 1720123.0, 856215.0, 66511986.0, 17982336.0, 8013170.0, 188083.0, 338531.0], \"xaxis\": \"x\", \"y\": [0.0, 0.37807580799999996, 0.467734724, 0.610399902, 0.604130566, 0.674940348, 0.6016051170000001, 0.45938587200000003, 0.485494107, 0.5811422470000001, 0.568161428, 0.301195472, 0.283588052, 0.42069947700000004, 0.495465875, 0.42485508299999997, 0.497432142, 0.5702614189999999, 0.614617765, 0.18551667, 0.596941531, 0.355703115, 0.480608255, 0.405421734, 0.6219151620000001, 0.548477471, 0.635317206, 0.25935635, 0.528632462, 0.521141171, 0.609449804, 0.25440076, 0.652936101, 0.6932703259999999, 0.650835574, 0.243721485], \"yaxis\": \"y\"}, {\"customdata\": [[\"Albania\"], [\"Austria\"], [\"Belarus\"], [\"Belgium\"], [\"Bosnia and Herzegovina\"], [\"Bulgaria\"], [\"Croatia\"], [\"Czech Republic\"], [\"Denmark\"], [\"Estonia\"], [\"Finland\"], [\"France\"], [\"Germany\"], [\"Greece\"], [\"Hungary\"], [\"Iceland\"], [\"Ireland\"], [\"Italy\"], [\"Kosovo\"], [\"Latvia\"], [\"Lithuania\"], [\"Luxembourg\"], [\"Malta\"], [\"Moldova\"], [\"Montenegro\"], [\"Netherlands\"], [\"Norway\"], [\"Poland\"], [\"Portugal\"], [\"Romania\"], [\"Russia\"], [\"Serbia\"], [\"Slovakia\"], [\"Slovenia\"], [\"Spain\"], [\"Sweden\"], [\"Switzerland\"], [\"Ukraine\"], [\"United Kingdom\"]], \"hovertemplate\": \"continent=Europe<br>Confirmed=%{x}<br>freedom=%{y}<br>Deaths=%{marker.size}<br>country=%{customdata[0]}<extra></extra>\", \"legendgroup\": \"Europe\", \"marker\": {\"color\": \"#EF553B\", \"size\": [64504.0, 240252.0, 143369.0, 2521062.0, 169954.0, 202722.0, 86581.0, 372583.0, 153441.0, 16852.0, 77919.0, 7940612.0, 2342772.0, 116747.0, 274288.0, 3055.0, 413314.0, 9069691.0, 90975.0, 12347.0, 30745.0, 33841.0, 7381.0, 234632.0, 31496.0, 1585015.0, 63513.0, 866431.0, 480394.0, 931388.0, 3841745.0, 147133.0, 32514.0, 66716.0, 7639465.0, 1261286.0, 557975.0, 861189.0, 10217281.0], \"sizemode\": \"area\", \"sizeref\": 57392.355, \"symbol\": \"circle\"}, \"mode\": \"markers\", \"name\": \"Europe\", \"orientation\": \"v\", \"showlegend\": true, \"type\": \"scatter\", \"x\": [2566014.0, 14695837.0, 16592136.0, 40086038.0, 5723703.0, 6900275.0, 5696132.0, 27090658.0, 6351580.0, 874154.0, 2493228.0, 152535218.0, 83765613.0, 5099506.0, 8966333.0, 685058.0, 8677872.0, 108332925.0, 2819465.0, 826756.0, 2359189.0, 2464893.0, 660740.0, 9317219.0, 2058047.0, 35890966.0, 3452941.0, 43347982.0, 20301518.0, 28847354.0, 231695545.0, 9310768.0, 4955880.0, 3273963.0, 146736851.0, 21823106.0, 19973367.0, 45100462.0, 128321450.0], \"xaxis\": \"x\", \"y\": [0.461945891, 0.6033688779999999, 0.29075586800000003, 0.499805421, 0.305365741, 0.417820066, 0.3814568820000001, 0.505744576, 0.665039897, 0.576664805, 0.66231674, 0.5140509010000001, 0.564274132, 0.17351634800000001, 0.386401802, 0.661980748, 0.587779939, 0.321305573, 0.557280421, 0.329198807, 0.42046079, 0.610137045, 0.633239031, 0.38957148799999997, 0.303223848, 0.61362648, 0.670200884, 0.557903528, 0.5898951889999999, 0.534852326, 0.399499595, 0.395428419, 0.423542529, 0.646700144, 0.425983816, 0.6502977010000001, 0.62895447, 0.319423705, 0.525168657], \"yaxis\": \"y\"}, {\"customdata\": [[\"Algeria\"], [\"Benin\"], [\"Botswana\"], [\"Burkina Faso\"], [\"Burundi\"], [\"Cameroon\"], [\"Chad\"], [\"Congo (Brazzaville)\"], [\"Congo (Kinshasa)\"], [\"Egypt\"], [\"Ethiopia\"], [\"Gabon\"], [\"Ghana\"], [\"Ivory Coast\"], [\"Kenya\"], [\"Liberia\"], [\"Libya\"], [\"Madagascar\"], [\"Malawi\"], [\"Mali\"], [\"Mauritania\"], [\"Mauritius\"], [\"Morocco\"], [\"Nigeria\"], [\"Rwanda\"], [\"Senegal\"], [\"Sierra Leone\"], [\"South Africa\"], [\"Tanzania\"], [\"Togo\"], [\"Tunisia\"], [\"Uganda\"], [\"Zambia\"], [\"Zimbabwe\"]], \"hovertemplate\": \"continent=Africa<br>Confirmed=%{x}<br>freedom=%{y}<br>Deaths=%{marker.size}<br>country=%{customdata[0]}<extra></extra>\", \"legendgroup\": \"Africa\", \"marker\": {\"color\": \"#00cc96\", \"size\": [319094.0, 6584.0, 2340.0, 13763.0, 241.0, 78950.0, 17380.0, 14240.0, 48771.0, 979825.0, 159466.0, 9847.0, 45794.0, 20867.0, 122621.0, 14348.0, 81838.0, 30637.0, 25031.0, 26313.0, 28794.0, 2511.0, 386139.0, 201034.0, 3922.0, 47376.0, 13880.0, 2415139.0, 4820.0, 7294.0, 133052.0, 11574.0, 44784.0, 29474.0], \"sizemode\": \"area\", \"sizeref\": 57392.355, \"symbol\": \"circle\"}, \"mode\": \"markers\", \"name\": \"Africa\", \"orientation\": \"v\", \"showlegend\": true, \"type\": \"scatter\", \"x\": [8485107.0, 392550.0, 638752.0, 371356.0, 81998.0, 3665280.0, 236200.0, 754972.0, 1892449.0, 18211662.0, 10193550.0, 1503342.0, 7486983.0, 3224917.0, 6815284.0, 238247.0, 5520478.0, 2338432.0, 845660.0, 602456.0, 1232073.0, 94157.0, 22556953.0, 9765598.0, 674113.0, 2410519.0, 392453.0, 102242056.0, 118042.0, 306508.0, 4966821.0, 1290281.0, 2015131.0, 1065264.0], \"xaxis\": \"x\", \"y\": [0.083943799, 0.40583989, 0.50908941, 0.322398156, 0.275399059, 0.4392424820000001, 0.22860176899999998, 0.386514395, 0.36462298, 0.37368473399999996, 0.41256687, 0.36945989700000004, 0.47729006399999996, 0.39712253200000003, 0.519180536, 0.405943096, 0.45135405700000003, 0.192967549, 0.487389833, 0.377534449, 0.185714483, 0.590838134, 0.45005413899999996, 0.435079455, 0.604087889, 0.352400899, 0.38202768600000003, 0.43478182, 0.5093430879999999, 0.303539038, 0.23586055600000005, 0.401682556, 0.49131754, 0.37740472], \"yaxis\": \"y\"}, {\"customdata\": [[\"Argentina\"], [\"Bolivia\"], [\"Brazil\"], [\"Chile\"], [\"Colombia\"], [\"Costa Rica\"], [\"Dominican Republic\"], [\"Ecuador\"], [\"El Salvador\"], [\"Guatemala\"], [\"Guinea\"], [\"Haiti\"], [\"Honduras\"], [\"Jamaica\"], [\"Nicaragua\"], [\"Panama\"], [\"Paraguay\"], [\"Peru\"], [\"Uruguay\"], [\"Venezuela\"]], \"hovertemplate\": \"continent=South America<br>Confirmed=%{x}<br>freedom=%{y}<br>Deaths=%{marker.size}<br>country=%{customdata[0]}<extra></extra>\", \"legendgroup\": \"South America\", \"marker\": {\"color\": \"#ab63fa\", \"size\": [2881217.0, 1035831.0, 22956942.0, 2049115.0, 3691720.0, 130014.0, 327631.0, 1756761.0, 125514.0, 485529.0, 11135.0, 35921.0, 345846.0, 17398.0, 24661.0, 371647.0, 123951.0, 4830920.0, 9523.0, 84762.0], \"sizemode\": \"area\", \"sizeref\": 57392.355, \"symbol\": \"circle\"}, \"mode\": \"markers\", \"name\": \"South America\", \"orientation\": \"v\", \"showlegend\": true, \"type\": \"scatter\", \"x\": [114309026.0, 19299627.0, 731645427.0, 78759484.0, 122115327.0, 11010773.0, 17636404.0, 23712034.0, 4444469.0, 13587118.0, 1846305.0, 1498354.0, 11835875.0, 881158.0, 816601.0, 18067924.0, 5993787.0, 122730322.0, 465680.0, 9876958.0], \"xaxis\": \"x\", \"y\": [0.520840347, 0.5744645, 0.483292729, 0.41748222700000004, 0.526890039, 0.6450177429999999, 0.5628739, 0.555234551, 0.5240439179999999, 0.613146722, 0.37187805799999996, 0.169297516, 0.568148077, 0.553124607, 0.560117304, 0.57984978, 0.586510062, 0.513210058, 0.59426707, 0.271717221], \"yaxis\": \"y\"}, {\"customdata\": [[\"Australia\"], [\"New Zealand\"]], \"hovertemplate\": \"continent=Australia<br>Confirmed=%{x}<br>freedom=%{y}<br>Deaths=%{marker.size}<br>country=%{customdata[0]}<extra></extra>\", \"legendgroup\": \"Australia\", \"marker\": {\"color\": \"#FFA15A\", \"size\": [112965.0, 5431.0], \"sizemode\": \"area\", \"sizeref\": 57392.355, \"symbol\": \"circle\"}, \"mode\": \"markers\", \"name\": \"Australia\", \"orientation\": \"v\", \"showlegend\": true, \"type\": \"scatter\", \"x\": [4470500.0, 424726.0], \"xaxis\": \"x\", \"y\": [0.621877193, 0.646789908], \"yaxis\": \"y\"}, {\"customdata\": [[\"Canada\"], [\"Mexico\"]], \"hovertemplate\": \"continent=North America<br>Confirmed=%{x}<br>freedom=%{y}<br>Deaths=%{marker.size}<br>country=%{customdata[0]}<extra></extra>\", \"legendgroup\": \"North America\", \"marker\": {\"color\": \"#19d3f3\", \"size\": [2044233.0, 12404856.0], \"sizemode\": \"area\", \"sizeref\": 57392.355, \"symbol\": \"circle\"}, \"mode\": \"markers\", \"name\": \"North America\", \"orientation\": \"v\", \"showlegend\": true, \"type\": \"scatter\", \"x\": [36954682.0, 119895010.0], \"xaxis\": \"x\", \"y\": [0.644028127, 0.553892553], \"yaxis\": \"y\"}],                        {\"legend\": {\"itemsizing\": \"constant\", \"title\": {\"text\": \"continent\"}, \"tracegroupgap\": 0}, \"margin\": {\"t\": 60}, \"template\": {\"data\": {\"bar\": [{\"error_x\": {\"color\": \"#2a3f5f\"}, \"error_y\": {\"color\": \"#2a3f5f\"}, \"marker\": {\"line\": {\"color\": \"#E5ECF6\", \"width\": 0.5}}, \"type\": \"bar\"}], \"barpolar\": [{\"marker\": {\"line\": {\"color\": \"#E5ECF6\", \"width\": 0.5}}, \"type\": \"barpolar\"}], \"carpet\": [{\"aaxis\": {\"endlinecolor\": \"#2a3f5f\", \"gridcolor\": \"white\", \"linecolor\": \"white\", \"minorgridcolor\": \"white\", \"startlinecolor\": \"#2a3f5f\"}, \"baxis\": {\"endlinecolor\": \"#2a3f5f\", \"gridcolor\": \"white\", \"linecolor\": \"white\", \"minorgridcolor\": \"white\", \"startlinecolor\": \"#2a3f5f\"}, \"type\": \"carpet\"}], \"choropleth\": [{\"colorbar\": {\"outlinewidth\": 0, \"ticks\": \"\"}, \"type\": \"choropleth\"}], \"contour\": [{\"colorbar\": {\"outlinewidth\": 0, \"ticks\": \"\"}, \"colorscale\": [[0.0, \"#0d0887\"], [0.1111111111111111, \"#46039f\"], [0.2222222222222222, \"#7201a8\"], [0.3333333333333333, \"#9c179e\"], [0.4444444444444444, \"#bd3786\"], [0.5555555555555556, \"#d8576b\"], [0.6666666666666666, \"#ed7953\"], [0.7777777777777778, \"#fb9f3a\"], [0.8888888888888888, \"#fdca26\"], [1.0, \"#f0f921\"]], \"type\": \"contour\"}], \"contourcarpet\": [{\"colorbar\": {\"outlinewidth\": 0, \"ticks\": \"\"}, \"type\": \"contourcarpet\"}], \"heatmap\": [{\"colorbar\": {\"outlinewidth\": 0, \"ticks\": \"\"}, \"colorscale\": [[0.0, \"#0d0887\"], [0.1111111111111111, \"#46039f\"], [0.2222222222222222, \"#7201a8\"], [0.3333333333333333, \"#9c179e\"], [0.4444444444444444, \"#bd3786\"], [0.5555555555555556, \"#d8576b\"], [0.6666666666666666, \"#ed7953\"], [0.7777777777777778, \"#fb9f3a\"], [0.8888888888888888, \"#fdca26\"], [1.0, \"#f0f921\"]], \"type\": \"heatmap\"}], \"heatmapgl\": [{\"colorbar\": {\"outlinewidth\": 0, \"ticks\": \"\"}, \"colorscale\": [[0.0, \"#0d0887\"], [0.1111111111111111, \"#46039f\"], [0.2222222222222222, \"#7201a8\"], [0.3333333333333333, \"#9c179e\"], [0.4444444444444444, \"#bd3786\"], [0.5555555555555556, \"#d8576b\"], [0.6666666666666666, \"#ed7953\"], [0.7777777777777778, \"#fb9f3a\"], [0.8888888888888888, \"#fdca26\"], [1.0, \"#f0f921\"]], \"type\": \"heatmapgl\"}], \"histogram\": [{\"marker\": {\"colorbar\": {\"outlinewidth\": 0, \"ticks\": \"\"}}, \"type\": \"histogram\"}], \"histogram2d\": [{\"colorbar\": {\"outlinewidth\": 0, \"ticks\": \"\"}, \"colorscale\": [[0.0, \"#0d0887\"], [0.1111111111111111, \"#46039f\"], [0.2222222222222222, \"#7201a8\"], [0.3333333333333333, \"#9c179e\"], [0.4444444444444444, \"#bd3786\"], [0.5555555555555556, \"#d8576b\"], [0.6666666666666666, \"#ed7953\"], [0.7777777777777778, \"#fb9f3a\"], [0.8888888888888888, \"#fdca26\"], [1.0, \"#f0f921\"]], \"type\": \"histogram2d\"}], \"histogram2dcontour\": [{\"colorbar\": {\"outlinewidth\": 0, \"ticks\": \"\"}, \"colorscale\": [[0.0, \"#0d0887\"], [0.1111111111111111, \"#46039f\"], [0.2222222222222222, \"#7201a8\"], [0.3333333333333333, \"#9c179e\"], [0.4444444444444444, \"#bd3786\"], [0.5555555555555556, \"#d8576b\"], [0.6666666666666666, \"#ed7953\"], [0.7777777777777778, \"#fb9f3a\"], [0.8888888888888888, \"#fdca26\"], [1.0, \"#f0f921\"]], \"type\": \"histogram2dcontour\"}], \"mesh3d\": [{\"colorbar\": {\"outlinewidth\": 0, \"ticks\": \"\"}, \"type\": \"mesh3d\"}], \"parcoords\": [{\"line\": {\"colorbar\": {\"outlinewidth\": 0, \"ticks\": \"\"}}, \"type\": \"parcoords\"}], \"pie\": [{\"automargin\": true, \"type\": \"pie\"}], \"scatter\": [{\"marker\": {\"colorbar\": {\"outlinewidth\": 0, \"ticks\": \"\"}}, \"type\": \"scatter\"}], \"scatter3d\": [{\"line\": {\"colorbar\": {\"outlinewidth\": 0, \"ticks\": \"\"}}, \"marker\": {\"colorbar\": {\"outlinewidth\": 0, \"ticks\": \"\"}}, \"type\": \"scatter3d\"}], \"scattercarpet\": [{\"marker\": {\"colorbar\": {\"outlinewidth\": 0, \"ticks\": \"\"}}, \"type\": \"scattercarpet\"}], \"scattergeo\": [{\"marker\": {\"colorbar\": {\"outlinewidth\": 0, \"ticks\": \"\"}}, \"type\": \"scattergeo\"}], \"scattergl\": [{\"marker\": {\"colorbar\": {\"outlinewidth\": 0, \"ticks\": \"\"}}, \"type\": \"scattergl\"}], \"scattermapbox\": [{\"marker\": {\"colorbar\": {\"outlinewidth\": 0, \"ticks\": \"\"}}, \"type\": \"scattermapbox\"}], \"scatterpolar\": [{\"marker\": {\"colorbar\": {\"outlinewidth\": 0, \"ticks\": \"\"}}, \"type\": \"scatterpolar\"}], \"scatterpolargl\": [{\"marker\": {\"colorbar\": {\"outlinewidth\": 0, \"ticks\": \"\"}}, \"type\": \"scatterpolargl\"}], \"scatterternary\": [{\"marker\": {\"colorbar\": {\"outlinewidth\": 0, \"ticks\": \"\"}}, \"type\": \"scatterternary\"}], \"surface\": [{\"colorbar\": {\"outlinewidth\": 0, \"ticks\": \"\"}, \"colorscale\": [[0.0, \"#0d0887\"], [0.1111111111111111, \"#46039f\"], [0.2222222222222222, \"#7201a8\"], [0.3333333333333333, \"#9c179e\"], [0.4444444444444444, \"#bd3786\"], [0.5555555555555556, \"#d8576b\"], [0.6666666666666666, \"#ed7953\"], [0.7777777777777778, \"#fb9f3a\"], [0.8888888888888888, \"#fdca26\"], [1.0, \"#f0f921\"]], \"type\": \"surface\"}], \"table\": [{\"cells\": {\"fill\": {\"color\": \"#EBF0F8\"}, \"line\": {\"color\": \"white\"}}, \"header\": {\"fill\": {\"color\": \"#C8D4E3\"}, \"line\": {\"color\": \"white\"}}, \"type\": \"table\"}]}, \"layout\": {\"annotationdefaults\": {\"arrowcolor\": \"#2a3f5f\", \"arrowhead\": 0, \"arrowwidth\": 1}, \"autotypenumbers\": \"strict\", \"coloraxis\": {\"colorbar\": {\"outlinewidth\": 0, \"ticks\": \"\"}}, \"colorscale\": {\"diverging\": [[0, \"#8e0152\"], [0.1, \"#c51b7d\"], [0.2, \"#de77ae\"], [0.3, \"#f1b6da\"], [0.4, \"#fde0ef\"], [0.5, \"#f7f7f7\"], [0.6, \"#e6f5d0\"], [0.7, \"#b8e186\"], [0.8, \"#7fbc41\"], [0.9, \"#4d9221\"], [1, \"#276419\"]], \"sequential\": [[0.0, \"#0d0887\"], [0.1111111111111111, \"#46039f\"], [0.2222222222222222, \"#7201a8\"], [0.3333333333333333, \"#9c179e\"], [0.4444444444444444, \"#bd3786\"], [0.5555555555555556, \"#d8576b\"], [0.6666666666666666, \"#ed7953\"], [0.7777777777777778, \"#fb9f3a\"], [0.8888888888888888, \"#fdca26\"], [1.0, \"#f0f921\"]], \"sequentialminus\": [[0.0, \"#0d0887\"], [0.1111111111111111, \"#46039f\"], [0.2222222222222222, \"#7201a8\"], [0.3333333333333333, \"#9c179e\"], [0.4444444444444444, \"#bd3786\"], [0.5555555555555556, \"#d8576b\"], [0.6666666666666666, \"#ed7953\"], [0.7777777777777778, \"#fb9f3a\"], [0.8888888888888888, \"#fdca26\"], [1.0, \"#f0f921\"]]}, \"colorway\": [\"#636efa\", \"#EF553B\", \"#00cc96\", \"#ab63fa\", \"#FFA15A\", \"#19d3f3\", \"#FF6692\", \"#B6E880\", \"#FF97FF\", \"#FECB52\"], \"font\": {\"color\": \"#2a3f5f\"}, \"geo\": {\"bgcolor\": \"white\", \"lakecolor\": \"white\", \"landcolor\": \"#E5ECF6\", \"showlakes\": true, \"showland\": true, \"subunitcolor\": \"white\"}, \"hoverlabel\": {\"align\": \"left\"}, \"hovermode\": \"closest\", \"mapbox\": {\"style\": \"light\"}, \"paper_bgcolor\": \"white\", \"plot_bgcolor\": \"#E5ECF6\", \"polar\": {\"angularaxis\": {\"gridcolor\": \"white\", \"linecolor\": \"white\", \"ticks\": \"\"}, \"bgcolor\": \"#E5ECF6\", \"radialaxis\": {\"gridcolor\": \"white\", \"linecolor\": \"white\", \"ticks\": \"\"}}, \"scene\": {\"xaxis\": {\"backgroundcolor\": \"#E5ECF6\", \"gridcolor\": \"white\", \"gridwidth\": 2, \"linecolor\": \"white\", \"showbackground\": true, \"ticks\": \"\", \"zerolinecolor\": \"white\"}, \"yaxis\": {\"backgroundcolor\": \"#E5ECF6\", \"gridcolor\": \"white\", \"gridwidth\": 2, \"linecolor\": \"white\", \"showbackground\": true, \"ticks\": \"\", \"zerolinecolor\": \"white\"}, \"zaxis\": {\"backgroundcolor\": \"#E5ECF6\", \"gridcolor\": \"white\", \"gridwidth\": 2, \"linecolor\": \"white\", \"showbackground\": true, \"ticks\": \"\", \"zerolinecolor\": \"white\"}}, \"shapedefaults\": {\"line\": {\"color\": \"#2a3f5f\"}}, \"ternary\": {\"aaxis\": {\"gridcolor\": \"white\", \"linecolor\": \"white\", \"ticks\": \"\"}, \"baxis\": {\"gridcolor\": \"white\", \"linecolor\": \"white\", \"ticks\": \"\"}, \"bgcolor\": \"#E5ECF6\", \"caxis\": {\"gridcolor\": \"white\", \"linecolor\": \"white\", \"ticks\": \"\"}}, \"title\": {\"x\": 0.05}, \"xaxis\": {\"automargin\": true, \"gridcolor\": \"white\", \"linecolor\": \"white\", \"ticks\": \"\", \"title\": {\"standoff\": 15}, \"zerolinecolor\": \"white\", \"zerolinewidth\": 2}, \"yaxis\": {\"automargin\": true, \"gridcolor\": \"white\", \"linecolor\": \"white\", \"ticks\": \"\", \"title\": {\"standoff\": 15}, \"zerolinecolor\": \"white\", \"zerolinewidth\": 2}}}, \"xaxis\": {\"anchor\": \"y\", \"domain\": [0.0, 1.0], \"title\": {\"text\": \"Confirmed\"}}, \"yaxis\": {\"anchor\": \"x\", \"domain\": [0.0, 1.0], \"title\": {\"text\": \"freedom\"}}},                        {\"responsive\": true}                    ).then(function(){\n",
       "                            \n",
       "var gd = document.getElementById('09576c7a-6b97-441f-aea9-9e1912dda205');\n",
       "var x = new MutationObserver(function (mutations, observer) {{\n",
       "        var display = window.getComputedStyle(gd).display;\n",
       "        if (!display || display === 'none') {{\n",
       "            console.log([gd, 'removed!']);\n",
       "            Plotly.purge(gd);\n",
       "            observer.disconnect();\n",
       "        }}\n",
       "}});\n",
       "\n",
       "// Listen for the removal of the full notebook cells\n",
       "var notebookContainer = gd.closest('#notebook-container');\n",
       "if (notebookContainer) {{\n",
       "    x.observe(notebookContainer, {childList: true});\n",
       "}}\n",
       "\n",
       "// Listen for the clearing of the current output cell\n",
       "var outputEl = gd.closest('.output');\n",
       "if (outputEl) {{\n",
       "    x.observe(outputEl, {childList: true});\n",
       "}}\n",
       "\n",
       "                        })                };                });            </script>        </div>"
      ]
     },
     "metadata": {},
     "output_type": "display_data"
    }
   ],
   "source": [
    "\n",
    "fig = px.scatter(joined_df, x='Confirmed', y='freedom', color=\"continent\",size='Deaths',\n",
    "                 hover_data=['country'])\n",
    "fig.show()"
   ]
  },
  {
   "cell_type": "code",
   "execution_count": null,
   "metadata": {},
   "outputs": [],
   "source": []
  },
  {
   "cell_type": "code",
   "execution_count": null,
   "metadata": {},
   "outputs": [],
   "source": []
  },
  {
   "cell_type": "code",
   "execution_count": null,
   "metadata": {},
   "outputs": [],
   "source": []
  }
 ],
 "metadata": {
  "kernelspec": {
   "display_name": "Python 3",
   "language": "python",
   "name": "python3"
  },
  "language_info": {
   "codemirror_mode": {
    "name": "ipython",
    "version": 3
   },
   "file_extension": ".py",
   "mimetype": "text/x-python",
   "name": "python",
   "nbconvert_exporter": "python",
   "pygments_lexer": "ipython3",
   "version": "3.9.1"
  }
 },
 "nbformat": 4,
 "nbformat_minor": 4
}
