{
 "cells": [
  {
   "cell_type": "code",
   "execution_count": 111,
   "metadata": {
    "tags": [
     "parameters"
    ]
   },
   "outputs": [],
   "source": [
    "flex_custom_css = \"flexdashboard/public/custom.css\"\n",
    "flex_source_link = \"https://github.com/danielfrg/jupyter-flex/blob/master/examples/widgets/widgets-sidebar.ipynb\"\n",
    "flex_include_source = True"
   ]
  },
  {
   "cell_type": "code",
   "execution_count": 112,
   "metadata": {
    "tags": [
     "source"
    ]
   },
   "outputs": [],
   "source": [
    "import matplotlib.pyplot as plt\n",
    "import pandas as pd\n",
    "import numpy as np\n",
    "%matplotlib inline\n",
    "import seaborn as sns\n",
    "import plotly.graph_objects as go\n",
    "import plotly.express as px\n"
   ]
  },
  {
   "cell_type": "code",
   "execution_count": 113,
   "metadata": {},
   "outputs": [
    {
     "data": {
      "text/html": [
       "<div>\n",
       "<style scoped>\n",
       "    .dataframe tbody tr th:only-of-type {\n",
       "        vertical-align: middle;\n",
       "    }\n",
       "\n",
       "    .dataframe tbody tr th {\n",
       "        vertical-align: top;\n",
       "    }\n",
       "\n",
       "    .dataframe thead th {\n",
       "        text-align: right;\n",
       "    }\n",
       "</style>\n",
       "<table border=\"1\" class=\"dataframe\">\n",
       "  <thead>\n",
       "    <tr style=\"text-align: right;\">\n",
       "      <th></th>\n",
       "      <th>country</th>\n",
       "      <th>Confirmed</th>\n",
       "      <th>Recovered</th>\n",
       "      <th>Deaths</th>\n",
       "      <th>gdp_per_capita</th>\n",
       "      <th>social_support</th>\n",
       "      <th>health</th>\n",
       "      <th>freedom</th>\n",
       "      <th>generosity</th>\n",
       "      <th>government_trust</th>\n",
       "      <th>dystopia_residual</th>\n",
       "      <th>continent</th>\n",
       "    </tr>\n",
       "  </thead>\n",
       "  <tbody>\n",
       "    <tr>\n",
       "      <th>0</th>\n",
       "      <td>Afghanistan</td>\n",
       "      <td>7387702.0</td>\n",
       "      <td>5128106.0</td>\n",
       "      <td>251784.0</td>\n",
       "      <td>0.300706</td>\n",
       "      <td>0.356434</td>\n",
       "      <td>0.266052</td>\n",
       "      <td>0.000000</td>\n",
       "      <td>0.135235</td>\n",
       "      <td>0.001226</td>\n",
       "      <td>1.507236</td>\n",
       "      <td>Asia</td>\n",
       "    </tr>\n",
       "    <tr>\n",
       "      <th>1</th>\n",
       "      <td>Albania</td>\n",
       "      <td>2566014.0</td>\n",
       "      <td>1372081.0</td>\n",
       "      <td>64504.0</td>\n",
       "      <td>0.906653</td>\n",
       "      <td>0.830484</td>\n",
       "      <td>0.846330</td>\n",
       "      <td>0.461946</td>\n",
       "      <td>0.171028</td>\n",
       "      <td>0.025361</td>\n",
       "      <td>1.640897</td>\n",
       "      <td>Europe</td>\n",
       "    </tr>\n",
       "    <tr>\n",
       "      <th>2</th>\n",
       "      <td>Algeria</td>\n",
       "      <td>8485107.0</td>\n",
       "      <td>5748927.0</td>\n",
       "      <td>319094.0</td>\n",
       "      <td>0.943856</td>\n",
       "      <td>1.143004</td>\n",
       "      <td>0.745419</td>\n",
       "      <td>0.083944</td>\n",
       "      <td>0.118915</td>\n",
       "      <td>0.129191</td>\n",
       "      <td>1.840812</td>\n",
       "      <td>Africa</td>\n",
       "    </tr>\n",
       "    <tr>\n",
       "      <th>3</th>\n",
       "      <td>Argentina</td>\n",
       "      <td>114309026.0</td>\n",
       "      <td>91192612.0</td>\n",
       "      <td>2881217.0</td>\n",
       "      <td>1.028466</td>\n",
       "      <td>1.372544</td>\n",
       "      <td>0.849774</td>\n",
       "      <td>0.520840</td>\n",
       "      <td>0.070100</td>\n",
       "      <td>0.060415</td>\n",
       "      <td>2.072541</td>\n",
       "      <td>South America</td>\n",
       "    </tr>\n",
       "    <tr>\n",
       "      <th>4</th>\n",
       "      <td>Armenia</td>\n",
       "      <td>11180494.0</td>\n",
       "      <td>8208215.0</td>\n",
       "      <td>190542.0</td>\n",
       "      <td>0.808262</td>\n",
       "      <td>1.034577</td>\n",
       "      <td>0.775857</td>\n",
       "      <td>0.378076</td>\n",
       "      <td>0.107226</td>\n",
       "      <td>0.104618</td>\n",
       "      <td>1.468162</td>\n",
       "      <td>Asia</td>\n",
       "    </tr>\n",
       "  </tbody>\n",
       "</table>\n",
       "</div>"
      ],
      "text/plain": [
       "       country    Confirmed   Recovered     Deaths  gdp_per_capita  \\\n",
       "0  Afghanistan    7387702.0   5128106.0   251784.0        0.300706   \n",
       "1      Albania    2566014.0   1372081.0    64504.0        0.906653   \n",
       "2      Algeria    8485107.0   5748927.0   319094.0        0.943856   \n",
       "3    Argentina  114309026.0  91192612.0  2881217.0        1.028466   \n",
       "4      Armenia   11180494.0   8208215.0   190542.0        0.808262   \n",
       "\n",
       "   social_support    health   freedom  generosity  government_trust  \\\n",
       "0        0.356434  0.266052  0.000000    0.135235          0.001226   \n",
       "1        0.830484  0.846330  0.461946    0.171028          0.025361   \n",
       "2        1.143004  0.745419  0.083944    0.118915          0.129191   \n",
       "3        1.372544  0.849774  0.520840    0.070100          0.060415   \n",
       "4        1.034577  0.775857  0.378076    0.107226          0.104618   \n",
       "\n",
       "   dystopia_residual      continent  \n",
       "0           1.507236           Asia  \n",
       "1           1.640897         Europe  \n",
       "2           1.840812         Africa  \n",
       "3           2.072541  South America  \n",
       "4           1.468162           Asia  "
      ]
     },
     "execution_count": 113,
     "metadata": {},
     "output_type": "execute_result"
    }
   ],
   "source": [
    "complete = pd.read_csv('../data/completedata.csv')\n",
    "complete.head()"
   ]
  },
  {
   "cell_type": "code",
   "execution_count": 114,
   "metadata": {},
   "outputs": [
    {
     "data": {
      "text/plain": [
       "0      Afghanistan\n",
       "1          Albania\n",
       "2          Algeria\n",
       "3        Argentina\n",
       "4          Armenia\n",
       "          ...     \n",
       "128      Venezuela\n",
       "129        Vietnam\n",
       "130          Yemen\n",
       "131         Zambia\n",
       "132       Zimbabwe\n",
       "Name: country, Length: 133, dtype: object"
      ]
     },
     "execution_count": 114,
     "metadata": {},
     "output_type": "execute_result"
    }
   ],
   "source": [
    "contries = complete['country']\n",
    "contries"
   ]
  },
  {
   "cell_type": "markdown",
   "metadata": {},
   "source": [
    "# Page 1"
   ]
  },
  {
   "cell_type": "markdown",
   "metadata": {
    "tags": [
     "sidebar"
    ]
   },
   "source": [
    "## Sidebar"
   ]
  },
  {
   "cell_type": "markdown",
   "metadata": {},
   "source": [
    "### Widgets"
   ]
  },
  {
   "cell_type": "code",
   "execution_count": 115,
   "metadata": {
    "tags": [
     "body"
    ]
   },
   "outputs": [
    {
     "data": {
      "application/vnd.jupyter.widget-view+json": {
       "model_id": "bc778f6b137749db8ee980cb1d12794b",
       "version_major": 2,
       "version_minor": 0
      },
      "text/plain": [
       "VBox(children=(Dropdown(description='Country:', options=('Afghanistan', 'Albania', 'Algeria', 'Argentina', 'Ar…"
      ]
     },
     "metadata": {},
     "output_type": "display_data"
    }
   ],
   "source": [
    "import ipywidgets as widgets\n",
    "from IPython.display import clear_output, display\n",
    "country_var = widgets.Dropdown(options=sorted(complete.country.unique()), description='Country:', disabled=False)\n",
    "widgets.VBox([country_var])"
   ]
  },
  {
   "cell_type": "markdown",
   "metadata": {},
   "source": [
    "## Column"
   ]
  },
  {
   "cell_type": "code",
   "execution_count": 116,
   "metadata": {},
   "outputs": [],
   "source": [
    "out = widgets.Output()"
   ]
  },
  {
   "cell_type": "code",
   "execution_count": 120,
   "metadata": {},
   "outputs": [],
   "source": [
    "import asyncio\n",
    "import plotly.graph_objects as go\n",
    "import plotly.express as px\n",
    "margin = go.layout.Margin(l=20, r=20, b=20, t=30)\n",
    "async def on_value_change(change):\n",
    "    coutry = country_var.value\n",
    "    pais = complete[(complete['country'] == coutry)]\n",
    "    with out:\n",
    "        fig = px.scatter(pais, x='Confirmed', y='freedom', color=\"continent\",size='Deaths',\n",
    "                 hover_data=['country'])\n",
    "        fig.update_layout(margin=margin)\n",
    "        clear_output(wait=True)\n",
    "        await fig.show()"
   ]
  },
  {
   "cell_type": "markdown",
   "metadata": {},
   "source": [
    "### ScatterPlot"
   ]
  },
  {
   "cell_type": "code",
   "execution_count": 121,
   "metadata": {
    "tags": [
     "body"
    ]
   },
   "outputs": [
    {
     "name": "stderr",
     "output_type": "stream",
     "text": [
      "<ipython-input-121-0dcfad5b829d>:1: RuntimeWarning:\n",
      "\n",
      "coroutine 'on_value_change' was never awaited\n",
      "\n"
     ]
    },
    {
     "data": {
      "application/vnd.jupyter.widget-view+json": {
       "model_id": "5c68c6553ccd4a79814212cae1f8df1b",
       "version_major": 2,
       "version_minor": 0
      },
      "text/plain": [
       "Output()"
      ]
     },
     "metadata": {},
     "output_type": "display_data"
    }
   ],
   "source": [
    "on_value_change(None)\n",
    "out"
   ]
  },
  {
   "cell_type": "markdown",
   "metadata": {},
   "source": [
    "### This is the Page 1 content"
   ]
  },
  {
   "cell_type": "markdown",
   "metadata": {},
   "source": [
    "# Page 2"
   ]
  },
  {
   "cell_type": "markdown",
   "metadata": {},
   "source": [
    "### This page doesn't have a sidebar"
   ]
  },
  {
   "cell_type": "markdown",
   "metadata": {},
   "source": [
    "# Page 3"
   ]
  },
  {
   "cell_type": "markdown",
   "metadata": {
    "tags": [
     "sidebar"
    ]
   },
   "source": [
    "## Sidebar"
   ]
  },
  {
   "cell_type": "markdown",
   "metadata": {
    "tags": [
     "size=800"
    ]
   },
   "source": [
    "### This is a different sidebar just for page 3"
   ]
  },
  {
   "cell_type": "markdown",
   "metadata": {
    "tags": [
     "size=200"
    ]
   },
   "source": [
    "### This is another card"
   ]
  },
  {
   "cell_type": "markdown",
   "metadata": {
    "tags": [
     "body"
    ]
   },
   "source": [
    "A note on the sidebar to show that `size=` tags are supported here too."
   ]
  },
  {
   "cell_type": "markdown",
   "metadata": {},
   "source": [
    "## Content"
   ]
  },
  {
   "cell_type": "markdown",
   "metadata": {},
   "source": [
    "### This is the third page of this dashboard"
   ]
  },
  {
   "cell_type": "code",
   "execution_count": 119,
   "metadata": {
    "tags": [
     "body"
    ]
   },
   "outputs": [
    {
     "data": {
      "text/plain": [
       "'Page 3 code'"
      ]
     },
     "execution_count": 119,
     "metadata": {},
     "output_type": "execute_result"
    }
   ],
   "source": [
    "\"Page 3 code\""
   ]
  }
 ],
 "metadata": {
  "celltoolbar": "Tags",
  "kernelspec": {
   "display_name": "Python 3",
   "language": "python",
   "name": "python3"
  },
  "language_info": {
   "codemirror_mode": {
    "name": "ipython",
    "version": 3
   },
   "file_extension": ".py",
   "mimetype": "text/x-python",
   "name": "python",
   "nbconvert_exporter": "python",
   "pygments_lexer": "ipython3",
   "version": "3.9.1"
  }
 },
 "nbformat": 4,
 "nbformat_minor": 4
}
