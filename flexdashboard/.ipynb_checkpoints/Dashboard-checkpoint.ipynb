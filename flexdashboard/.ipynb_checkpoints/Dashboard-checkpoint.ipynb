{
 "cells": [
  {
   "cell_type": "code",
   "execution_count": 34,
   "metadata": {
    "tags": [
     "parameters"
    ]
   },
   "outputs": [],
   "source": [
    "flex_custom_css = \"flexdashboard/public/custom.css\""
   ]
  },
  {
   "cell_type": "code",
   "execution_count": 35,
   "metadata": {},
   "outputs": [],
   "source": [
    "import matplotlib.pyplot as plt\n",
    "import pandas as pd\n",
    "import numpy as np\n",
    "%matplotlib inline\n",
    "import seaborn as sns\n",
    "import plotly.graph_objects as go\n",
    "import plotly.express as px"
   ]
  },
  {
   "cell_type": "code",
   "execution_count": 36,
   "metadata": {},
   "outputs": [
    {
     "data": {
      "text/html": [
       "<div>\n",
       "<style scoped>\n",
       "    .dataframe tbody tr th:only-of-type {\n",
       "        vertical-align: middle;\n",
       "    }\n",
       "\n",
       "    .dataframe tbody tr th {\n",
       "        vertical-align: top;\n",
       "    }\n",
       "\n",
       "    .dataframe thead th {\n",
       "        text-align: right;\n",
       "    }\n",
       "</style>\n",
       "<table border=\"1\" class=\"dataframe\">\n",
       "  <thead>\n",
       "    <tr style=\"text-align: right;\">\n",
       "      <th></th>\n",
       "      <th>country</th>\n",
       "      <th>Confirmed</th>\n",
       "      <th>Recovered</th>\n",
       "      <th>Deaths</th>\n",
       "      <th>gdp_per_capita</th>\n",
       "      <th>social_support</th>\n",
       "      <th>health</th>\n",
       "      <th>freedom</th>\n",
       "      <th>generosity</th>\n",
       "      <th>government_trust</th>\n",
       "      <th>dystopia_residual</th>\n",
       "      <th>continent</th>\n",
       "    </tr>\n",
       "  </thead>\n",
       "  <tbody>\n",
       "    <tr>\n",
       "      <th>0</th>\n",
       "      <td>Afghanistan</td>\n",
       "      <td>7387702.0</td>\n",
       "      <td>5128106.0</td>\n",
       "      <td>251784.0</td>\n",
       "      <td>0.300706</td>\n",
       "      <td>0.356434</td>\n",
       "      <td>0.266052</td>\n",
       "      <td>0.000000</td>\n",
       "      <td>0.135235</td>\n",
       "      <td>0.001226</td>\n",
       "      <td>1.507236</td>\n",
       "      <td>Asia</td>\n",
       "    </tr>\n",
       "    <tr>\n",
       "      <th>1</th>\n",
       "      <td>Albania</td>\n",
       "      <td>2566014.0</td>\n",
       "      <td>1372081.0</td>\n",
       "      <td>64504.0</td>\n",
       "      <td>0.906653</td>\n",
       "      <td>0.830484</td>\n",
       "      <td>0.846330</td>\n",
       "      <td>0.461946</td>\n",
       "      <td>0.171028</td>\n",
       "      <td>0.025361</td>\n",
       "      <td>1.640897</td>\n",
       "      <td>Europe</td>\n",
       "    </tr>\n",
       "    <tr>\n",
       "      <th>2</th>\n",
       "      <td>Algeria</td>\n",
       "      <td>8485107.0</td>\n",
       "      <td>5748927.0</td>\n",
       "      <td>319094.0</td>\n",
       "      <td>0.943856</td>\n",
       "      <td>1.143004</td>\n",
       "      <td>0.745419</td>\n",
       "      <td>0.083944</td>\n",
       "      <td>0.118915</td>\n",
       "      <td>0.129191</td>\n",
       "      <td>1.840812</td>\n",
       "      <td>Africa</td>\n",
       "    </tr>\n",
       "    <tr>\n",
       "      <th>3</th>\n",
       "      <td>Argentina</td>\n",
       "      <td>114309026.0</td>\n",
       "      <td>91192612.0</td>\n",
       "      <td>2881217.0</td>\n",
       "      <td>1.028466</td>\n",
       "      <td>1.372544</td>\n",
       "      <td>0.849774</td>\n",
       "      <td>0.520840</td>\n",
       "      <td>0.070100</td>\n",
       "      <td>0.060415</td>\n",
       "      <td>2.072541</td>\n",
       "      <td>South America</td>\n",
       "    </tr>\n",
       "    <tr>\n",
       "      <th>4</th>\n",
       "      <td>Armenia</td>\n",
       "      <td>11180494.0</td>\n",
       "      <td>8208215.0</td>\n",
       "      <td>190542.0</td>\n",
       "      <td>0.808262</td>\n",
       "      <td>1.034577</td>\n",
       "      <td>0.775857</td>\n",
       "      <td>0.378076</td>\n",
       "      <td>0.107226</td>\n",
       "      <td>0.104618</td>\n",
       "      <td>1.468162</td>\n",
       "      <td>Asia</td>\n",
       "    </tr>\n",
       "  </tbody>\n",
       "</table>\n",
       "</div>"
      ],
      "text/plain": [
       "       country    Confirmed   Recovered     Deaths  gdp_per_capita  \\\n",
       "0  Afghanistan    7387702.0   5128106.0   251784.0        0.300706   \n",
       "1      Albania    2566014.0   1372081.0    64504.0        0.906653   \n",
       "2      Algeria    8485107.0   5748927.0   319094.0        0.943856   \n",
       "3    Argentina  114309026.0  91192612.0  2881217.0        1.028466   \n",
       "4      Armenia   11180494.0   8208215.0   190542.0        0.808262   \n",
       "\n",
       "   social_support    health   freedom  generosity  government_trust  \\\n",
       "0        0.356434  0.266052  0.000000    0.135235          0.001226   \n",
       "1        0.830484  0.846330  0.461946    0.171028          0.025361   \n",
       "2        1.143004  0.745419  0.083944    0.118915          0.129191   \n",
       "3        1.372544  0.849774  0.520840    0.070100          0.060415   \n",
       "4        1.034577  0.775857  0.378076    0.107226          0.104618   \n",
       "\n",
       "   dystopia_residual      continent  \n",
       "0           1.507236           Asia  \n",
       "1           1.640897         Europe  \n",
       "2           1.840812         Africa  \n",
       "3           2.072541  South America  \n",
       "4           1.468162           Asia  "
      ]
     },
     "execution_count": 36,
     "metadata": {},
     "output_type": "execute_result"
    }
   ],
   "source": [
    "complete = pd.read_csv('../data/completedata.csv')\n",
    "complete.head()"
   ]
  },
  {
   "cell_type": "markdown",
   "metadata": {},
   "source": [
    "# Page 1"
   ]
  },
  {
   "cell_type": "markdown",
   "metadata": {
    "tags": [
     "size=650"
    ]
   },
   "source": [
    "## Col 1"
   ]
  },
  {
   "cell_type": "markdown",
   "metadata": {},
   "source": [
    "### Col 1"
   ]
  },
  {
   "cell_type": "code",
   "execution_count": 37,
   "metadata": {
    "tags": [
     "body"
    ]
   },
   "outputs": [
    {
     "data": {
      "application/vnd.plotly.v1+json": {
       "config": {
        "plotlyServerURL": "https://plot.ly"
       },
       "data": [
        {
         "customdata": [
          [
           "Afghanistan"
          ],
          [
           "Armenia"
          ],
          [
           "Azerbaijan"
          ],
          [
           "Bahrain"
          ],
          [
           "Bangladesh"
          ],
          [
           "Cambodia"
          ],
          [
           "China"
          ],
          [
           "Cyprus"
          ],
          [
           "Georgia"
          ],
          [
           "India"
          ],
          [
           "Indonesia"
          ],
          [
           "Iran"
          ],
          [
           "Iraq"
          ],
          [
           "Israel"
          ],
          [
           "Japan"
          ],
          [
           "Jordan"
          ],
          [
           "Kazakhstan"
          ],
          [
           "Kuwait"
          ],
          [
           "Kyrgyzstan"
          ],
          [
           "Lebanon"
          ],
          [
           "Malaysia"
          ],
          [
           "Mongolia"
          ],
          [
           "Nepal"
          ],
          [
           "Pakistan"
          ],
          [
           "Philippines"
          ],
          [
           "Saudi Arabia"
          ],
          [
           "Singapore"
          ],
          [
           "South Korea"
          ],
          [
           "Sri Lanka"
          ],
          [
           "Tajikistan"
          ],
          [
           "Thailand"
          ],
          [
           "Turkey"
          ],
          [
           "United Arab Emirates"
          ],
          [
           "Uzbekistan"
          ],
          [
           "Vietnam"
          ],
          [
           "Yemen"
          ]
         ],
         "hovertemplate": "continent=Asia<br>Confirmed=%{x}<br>freedom=%{y}<br>Deaths=%{marker.size}<br>country=%{customdata[0]}<extra></extra>",
         "legendgroup": "Asia",
         "marker": {
          "color": "#636efa",
          "size": [
           251784,
           190542,
           112852,
           39579,
           808675,
           0,
           1310533,
           5722,
           42411,
           13959980,
           1706952,
           5043348,
           1343829,
           270437,
           294830,
           94163,
           280957,
           111966,
           175255,
           65017,
           39682,
           0,
           89914,
           1170598,
           851312,
           734941,
           6157,
           88841,
           5425,
           14109,
           14236,
           1661771,
           85594,
           62144,
           4138,
           95897
          ],
          "sizemode": "area",
          "sizeref": 57392.355,
          "symbol": "circle"
         },
         "mode": "markers",
         "name": "Asia",
         "orientation": "v",
         "showlegend": true,
         "type": "scatter",
         "x": [
          7387702,
          11180494,
          8598304,
          10939128,
          57789517,
          55412,
          26366342,
          615530,
          4714418,
          862831808,
          45861281,
          92413492,
          51768448,
          33146037,
          14024571,
          8029976,
          21476943,
          17582073,
          7639965,
          7546084,
          4215882,
          69903,
          15657466,
          56531483,
          43407809,
          56887173,
          11213139,
          4890411,
          1315030,
          1720123,
          856215,
          66511986,
          17982336,
          8013170,
          188083,
          338531
         ],
         "xaxis": "x",
         "y": [
          0,
          0.378075808,
          0.467734724,
          0.610399902,
          0.604130566,
          0.674940348,
          0.6016051170000001,
          0.459385872,
          0.485494107,
          0.5811422470000001,
          0.568161428,
          0.301195472,
          0.283588052,
          0.420699477,
          0.495465875,
          0.424855083,
          0.497432142,
          0.5702614189999999,
          0.614617765,
          0.18551667,
          0.596941531,
          0.355703115,
          0.480608255,
          0.405421734,
          0.6219151620000001,
          0.548477471,
          0.635317206,
          0.25935635,
          0.528632462,
          0.521141171,
          0.609449804,
          0.25440076,
          0.652936101,
          0.6932703259999999,
          0.650835574,
          0.243721485
         ],
         "yaxis": "y"
        },
        {
         "customdata": [
          [
           "Albania"
          ],
          [
           "Austria"
          ],
          [
           "Belarus"
          ],
          [
           "Belgium"
          ],
          [
           "Bosnia and Herzegovina"
          ],
          [
           "Bulgaria"
          ],
          [
           "Croatia"
          ],
          [
           "Czech Republic"
          ],
          [
           "Denmark"
          ],
          [
           "Estonia"
          ],
          [
           "Finland"
          ],
          [
           "France"
          ],
          [
           "Germany"
          ],
          [
           "Greece"
          ],
          [
           "Hungary"
          ],
          [
           "Iceland"
          ],
          [
           "Ireland"
          ],
          [
           "Italy"
          ],
          [
           "Kosovo"
          ],
          [
           "Latvia"
          ],
          [
           "Lithuania"
          ],
          [
           "Luxembourg"
          ],
          [
           "Malta"
          ],
          [
           "Moldova"
          ],
          [
           "Montenegro"
          ],
          [
           "Netherlands"
          ],
          [
           "Norway"
          ],
          [
           "Poland"
          ],
          [
           "Portugal"
          ],
          [
           "Romania"
          ],
          [
           "Russia"
          ],
          [
           "Serbia"
          ],
          [
           "Slovakia"
          ],
          [
           "Slovenia"
          ],
          [
           "Spain"
          ],
          [
           "Sweden"
          ],
          [
           "Switzerland"
          ],
          [
           "Ukraine"
          ],
          [
           "United Kingdom"
          ]
         ],
         "hovertemplate": "continent=Europe<br>Confirmed=%{x}<br>freedom=%{y}<br>Deaths=%{marker.size}<br>country=%{customdata[0]}<extra></extra>",
         "legendgroup": "Europe",
         "marker": {
          "color": "#EF553B",
          "size": [
           64504,
           240252,
           143369,
           2521062,
           169954,
           202722,
           86581,
           372583,
           153441,
           16852,
           77919,
           7940612,
           2342772,
           116747,
           274288,
           3055,
           413314,
           9069691,
           90975,
           12347,
           30745,
           33841,
           7381,
           234632,
           31496,
           1585015,
           63513,
           866431,
           480394,
           931388,
           3841745,
           147133,
           32514,
           66716,
           7639465,
           1261286,
           557975,
           861189,
           10217281
          ],
          "sizemode": "area",
          "sizeref": 57392.355,
          "symbol": "circle"
         },
         "mode": "markers",
         "name": "Europe",
         "orientation": "v",
         "showlegend": true,
         "type": "scatter",
         "x": [
          2566014,
          14695837,
          16592136,
          40086038,
          5723703,
          6900275,
          5696132,
          27090658,
          6351580,
          874154,
          2493228,
          152535218,
          83765613,
          5099506,
          8966333,
          685058,
          8677872,
          108332925,
          2819465,
          826756,
          2359189,
          2464893,
          660740,
          9317219,
          2058047,
          35890966,
          3452941,
          43347982,
          20301518,
          28847354,
          231695545,
          9310768,
          4955880,
          3273963,
          146736851,
          21823106,
          19973367,
          45100462,
          128321450
         ],
         "xaxis": "x",
         "y": [
          0.461945891,
          0.6033688779999999,
          0.29075586800000003,
          0.499805421,
          0.305365741,
          0.417820066,
          0.3814568820000001,
          0.505744576,
          0.665039897,
          0.576664805,
          0.66231674,
          0.5140509010000001,
          0.564274132,
          0.173516348,
          0.386401802,
          0.661980748,
          0.587779939,
          0.321305573,
          0.557280421,
          0.329198807,
          0.42046079,
          0.610137045,
          0.633239031,
          0.389571488,
          0.303223848,
          0.61362648,
          0.670200884,
          0.557903528,
          0.5898951889999999,
          0.534852326,
          0.399499595,
          0.395428419,
          0.423542529,
          0.646700144,
          0.425983816,
          0.6502977010000001,
          0.62895447,
          0.319423705,
          0.525168657
         ],
         "yaxis": "y"
        },
        {
         "customdata": [
          [
           "Algeria"
          ],
          [
           "Benin"
          ],
          [
           "Botswana"
          ],
          [
           "Burkina Faso"
          ],
          [
           "Burundi"
          ],
          [
           "Cameroon"
          ],
          [
           "Chad"
          ],
          [
           "Congo (Brazzaville)"
          ],
          [
           "Congo (Kinshasa)"
          ],
          [
           "Egypt"
          ],
          [
           "Ethiopia"
          ],
          [
           "Gabon"
          ],
          [
           "Ghana"
          ],
          [
           "Ivory Coast"
          ],
          [
           "Kenya"
          ],
          [
           "Liberia"
          ],
          [
           "Libya"
          ],
          [
           "Madagascar"
          ],
          [
           "Malawi"
          ],
          [
           "Mali"
          ],
          [
           "Mauritania"
          ],
          [
           "Mauritius"
          ],
          [
           "Morocco"
          ],
          [
           "Nigeria"
          ],
          [
           "Rwanda"
          ],
          [
           "Senegal"
          ],
          [
           "Sierra Leone"
          ],
          [
           "South Africa"
          ],
          [
           "Tanzania"
          ],
          [
           "Togo"
          ],
          [
           "Tunisia"
          ],
          [
           "Uganda"
          ],
          [
           "Zambia"
          ],
          [
           "Zimbabwe"
          ]
         ],
         "hovertemplate": "continent=Africa<br>Confirmed=%{x}<br>freedom=%{y}<br>Deaths=%{marker.size}<br>country=%{customdata[0]}<extra></extra>",
         "legendgroup": "Africa",
         "marker": {
          "color": "#00cc96",
          "size": [
           319094,
           6584,
           2340,
           13763,
           241,
           78950,
           17380,
           14240,
           48771,
           979825,
           159466,
           9847,
           45794,
           20867,
           122621,
           14348,
           81838,
           30637,
           25031,
           26313,
           28794,
           2511,
           386139,
           201034,
           3922,
           47376,
           13880,
           2415139,
           4820,
           7294,
           133052,
           11574,
           44784,
           29474
          ],
          "sizemode": "area",
          "sizeref": 57392.355,
          "symbol": "circle"
         },
         "mode": "markers",
         "name": "Africa",
         "orientation": "v",
         "showlegend": true,
         "type": "scatter",
         "x": [
          8485107,
          392550,
          638752,
          371356,
          81998,
          3665280,
          236200,
          754972,
          1892449,
          18211662,
          10193550,
          1503342,
          7486983,
          3224917,
          6815284,
          238247,
          5520478,
          2338432,
          845660,
          602456,
          1232073,
          94157,
          22556953,
          9765598,
          674113,
          2410519,
          392453,
          102242056,
          118042,
          306508,
          4966821,
          1290281,
          2015131,
          1065264
         ],
         "xaxis": "x",
         "y": [
          0.083943799,
          0.40583989,
          0.50908941,
          0.322398156,
          0.275399059,
          0.4392424820000001,
          0.228601769,
          0.386514395,
          0.36462298,
          0.373684734,
          0.41256687,
          0.369459897,
          0.477290064,
          0.397122532,
          0.519180536,
          0.405943096,
          0.451354057,
          0.192967549,
          0.487389833,
          0.377534449,
          0.185714483,
          0.590838134,
          0.450054139,
          0.435079455,
          0.604087889,
          0.352400899,
          0.382027686,
          0.43478182,
          0.5093430879999999,
          0.303539038,
          0.23586055600000005,
          0.401682556,
          0.49131754,
          0.37740472
         ],
         "yaxis": "y"
        },
        {
         "customdata": [
          [
           "Argentina"
          ],
          [
           "Bolivia"
          ],
          [
           "Brazil"
          ],
          [
           "Chile"
          ],
          [
           "Colombia"
          ],
          [
           "Costa Rica"
          ],
          [
           "Dominican Republic"
          ],
          [
           "Ecuador"
          ],
          [
           "El Salvador"
          ],
          [
           "Guatemala"
          ],
          [
           "Guinea"
          ],
          [
           "Haiti"
          ],
          [
           "Honduras"
          ],
          [
           "Jamaica"
          ],
          [
           "Nicaragua"
          ],
          [
           "Panama"
          ],
          [
           "Paraguay"
          ],
          [
           "Peru"
          ],
          [
           "Uruguay"
          ],
          [
           "Venezuela"
          ]
         ],
         "hovertemplate": "continent=South America<br>Confirmed=%{x}<br>freedom=%{y}<br>Deaths=%{marker.size}<br>country=%{customdata[0]}<extra></extra>",
         "legendgroup": "South America",
         "marker": {
          "color": "#ab63fa",
          "size": [
           2881217,
           1035831,
           22956942,
           2049115,
           3691720,
           130014,
           327631,
           1756761,
           125514,
           485529,
           11135,
           35921,
           345846,
           17398,
           24661,
           371647,
           123951,
           4830920,
           9523,
           84762
          ],
          "sizemode": "area",
          "sizeref": 57392.355,
          "symbol": "circle"
         },
         "mode": "markers",
         "name": "South America",
         "orientation": "v",
         "showlegend": true,
         "type": "scatter",
         "x": [
          114309026,
          19299627,
          731645427,
          78759484,
          122115327,
          11010773,
          17636404,
          23712034,
          4444469,
          13587118,
          1846305,
          1498354,
          11835875,
          881158,
          816601,
          18067924,
          5993787,
          122730322,
          465680,
          9876958
         ],
         "xaxis": "x",
         "y": [
          0.520840347,
          0.5744645,
          0.483292729,
          0.417482227,
          0.526890039,
          0.6450177429999999,
          0.5628739,
          0.555234551,
          0.5240439179999999,
          0.613146722,
          0.371878058,
          0.169297516,
          0.568148077,
          0.553124607,
          0.560117304,
          0.57984978,
          0.586510062,
          0.513210058,
          0.59426707,
          0.271717221
         ],
         "yaxis": "y"
        },
        {
         "customdata": [
          [
           "Australia"
          ],
          [
           "New Zealand"
          ]
         ],
         "hovertemplate": "continent=Australia<br>Confirmed=%{x}<br>freedom=%{y}<br>Deaths=%{marker.size}<br>country=%{customdata[0]}<extra></extra>",
         "legendgroup": "Australia",
         "marker": {
          "color": "#FFA15A",
          "size": [
           112965,
           5431
          ],
          "sizemode": "area",
          "sizeref": 57392.355,
          "symbol": "circle"
         },
         "mode": "markers",
         "name": "Australia",
         "orientation": "v",
         "showlegend": true,
         "type": "scatter",
         "x": [
          4470500,
          424726
         ],
         "xaxis": "x",
         "y": [
          0.621877193,
          0.646789908
         ],
         "yaxis": "y"
        },
        {
         "customdata": [
          [
           "Canada"
          ],
          [
           "Mexico"
          ]
         ],
         "hovertemplate": "continent=North America<br>Confirmed=%{x}<br>freedom=%{y}<br>Deaths=%{marker.size}<br>country=%{customdata[0]}<extra></extra>",
         "legendgroup": "North America",
         "marker": {
          "color": "#19d3f3",
          "size": [
           2044233,
           12404856
          ],
          "sizemode": "area",
          "sizeref": 57392.355,
          "symbol": "circle"
         },
         "mode": "markers",
         "name": "North America",
         "orientation": "v",
         "showlegend": true,
         "type": "scatter",
         "x": [
          36954682,
          119895010
         ],
         "xaxis": "x",
         "y": [
          0.644028127,
          0.553892553
         ],
         "yaxis": "y"
        }
       ],
       "layout": {
        "legend": {
         "itemsizing": "constant",
         "title": {
          "text": "continent"
         },
         "tracegroupgap": 0
        },
        "margin": {
         "t": 60
        },
        "template": {
         "data": {
          "bar": [
           {
            "error_x": {
             "color": "#2a3f5f"
            },
            "error_y": {
             "color": "#2a3f5f"
            },
            "marker": {
             "line": {
              "color": "#E5ECF6",
              "width": 0.5
             }
            },
            "type": "bar"
           }
          ],
          "barpolar": [
           {
            "marker": {
             "line": {
              "color": "#E5ECF6",
              "width": 0.5
             }
            },
            "type": "barpolar"
           }
          ],
          "carpet": [
           {
            "aaxis": {
             "endlinecolor": "#2a3f5f",
             "gridcolor": "white",
             "linecolor": "white",
             "minorgridcolor": "white",
             "startlinecolor": "#2a3f5f"
            },
            "baxis": {
             "endlinecolor": "#2a3f5f",
             "gridcolor": "white",
             "linecolor": "white",
             "minorgridcolor": "white",
             "startlinecolor": "#2a3f5f"
            },
            "type": "carpet"
           }
          ],
          "choropleth": [
           {
            "colorbar": {
             "outlinewidth": 0,
             "ticks": ""
            },
            "type": "choropleth"
           }
          ],
          "contour": [
           {
            "colorbar": {
             "outlinewidth": 0,
             "ticks": ""
            },
            "colorscale": [
             [
              0,
              "#0d0887"
             ],
             [
              0.1111111111111111,
              "#46039f"
             ],
             [
              0.2222222222222222,
              "#7201a8"
             ],
             [
              0.3333333333333333,
              "#9c179e"
             ],
             [
              0.4444444444444444,
              "#bd3786"
             ],
             [
              0.5555555555555556,
              "#d8576b"
             ],
             [
              0.6666666666666666,
              "#ed7953"
             ],
             [
              0.7777777777777778,
              "#fb9f3a"
             ],
             [
              0.8888888888888888,
              "#fdca26"
             ],
             [
              1,
              "#f0f921"
             ]
            ],
            "type": "contour"
           }
          ],
          "contourcarpet": [
           {
            "colorbar": {
             "outlinewidth": 0,
             "ticks": ""
            },
            "type": "contourcarpet"
           }
          ],
          "heatmap": [
           {
            "colorbar": {
             "outlinewidth": 0,
             "ticks": ""
            },
            "colorscale": [
             [
              0,
              "#0d0887"
             ],
             [
              0.1111111111111111,
              "#46039f"
             ],
             [
              0.2222222222222222,
              "#7201a8"
             ],
             [
              0.3333333333333333,
              "#9c179e"
             ],
             [
              0.4444444444444444,
              "#bd3786"
             ],
             [
              0.5555555555555556,
              "#d8576b"
             ],
             [
              0.6666666666666666,
              "#ed7953"
             ],
             [
              0.7777777777777778,
              "#fb9f3a"
             ],
             [
              0.8888888888888888,
              "#fdca26"
             ],
             [
              1,
              "#f0f921"
             ]
            ],
            "type": "heatmap"
           }
          ],
          "heatmapgl": [
           {
            "colorbar": {
             "outlinewidth": 0,
             "ticks": ""
            },
            "colorscale": [
             [
              0,
              "#0d0887"
             ],
             [
              0.1111111111111111,
              "#46039f"
             ],
             [
              0.2222222222222222,
              "#7201a8"
             ],
             [
              0.3333333333333333,
              "#9c179e"
             ],
             [
              0.4444444444444444,
              "#bd3786"
             ],
             [
              0.5555555555555556,
              "#d8576b"
             ],
             [
              0.6666666666666666,
              "#ed7953"
             ],
             [
              0.7777777777777778,
              "#fb9f3a"
             ],
             [
              0.8888888888888888,
              "#fdca26"
             ],
             [
              1,
              "#f0f921"
             ]
            ],
            "type": "heatmapgl"
           }
          ],
          "histogram": [
           {
            "marker": {
             "colorbar": {
              "outlinewidth": 0,
              "ticks": ""
             }
            },
            "type": "histogram"
           }
          ],
          "histogram2d": [
           {
            "colorbar": {
             "outlinewidth": 0,
             "ticks": ""
            },
            "colorscale": [
             [
              0,
              "#0d0887"
             ],
             [
              0.1111111111111111,
              "#46039f"
             ],
             [
              0.2222222222222222,
              "#7201a8"
             ],
             [
              0.3333333333333333,
              "#9c179e"
             ],
             [
              0.4444444444444444,
              "#bd3786"
             ],
             [
              0.5555555555555556,
              "#d8576b"
             ],
             [
              0.6666666666666666,
              "#ed7953"
             ],
             [
              0.7777777777777778,
              "#fb9f3a"
             ],
             [
              0.8888888888888888,
              "#fdca26"
             ],
             [
              1,
              "#f0f921"
             ]
            ],
            "type": "histogram2d"
           }
          ],
          "histogram2dcontour": [
           {
            "colorbar": {
             "outlinewidth": 0,
             "ticks": ""
            },
            "colorscale": [
             [
              0,
              "#0d0887"
             ],
             [
              0.1111111111111111,
              "#46039f"
             ],
             [
              0.2222222222222222,
              "#7201a8"
             ],
             [
              0.3333333333333333,
              "#9c179e"
             ],
             [
              0.4444444444444444,
              "#bd3786"
             ],
             [
              0.5555555555555556,
              "#d8576b"
             ],
             [
              0.6666666666666666,
              "#ed7953"
             ],
             [
              0.7777777777777778,
              "#fb9f3a"
             ],
             [
              0.8888888888888888,
              "#fdca26"
             ],
             [
              1,
              "#f0f921"
             ]
            ],
            "type": "histogram2dcontour"
           }
          ],
          "mesh3d": [
           {
            "colorbar": {
             "outlinewidth": 0,
             "ticks": ""
            },
            "type": "mesh3d"
           }
          ],
          "parcoords": [
           {
            "line": {
             "colorbar": {
              "outlinewidth": 0,
              "ticks": ""
             }
            },
            "type": "parcoords"
           }
          ],
          "pie": [
           {
            "automargin": true,
            "type": "pie"
           }
          ],
          "scatter": [
           {
            "marker": {
             "colorbar": {
              "outlinewidth": 0,
              "ticks": ""
             }
            },
            "type": "scatter"
           }
          ],
          "scatter3d": [
           {
            "line": {
             "colorbar": {
              "outlinewidth": 0,
              "ticks": ""
             }
            },
            "marker": {
             "colorbar": {
              "outlinewidth": 0,
              "ticks": ""
             }
            },
            "type": "scatter3d"
           }
          ],
          "scattercarpet": [
           {
            "marker": {
             "colorbar": {
              "outlinewidth": 0,
              "ticks": ""
             }
            },
            "type": "scattercarpet"
           }
          ],
          "scattergeo": [
           {
            "marker": {
             "colorbar": {
              "outlinewidth": 0,
              "ticks": ""
             }
            },
            "type": "scattergeo"
           }
          ],
          "scattergl": [
           {
            "marker": {
             "colorbar": {
              "outlinewidth": 0,
              "ticks": ""
             }
            },
            "type": "scattergl"
           }
          ],
          "scattermapbox": [
           {
            "marker": {
             "colorbar": {
              "outlinewidth": 0,
              "ticks": ""
             }
            },
            "type": "scattermapbox"
           }
          ],
          "scatterpolar": [
           {
            "marker": {
             "colorbar": {
              "outlinewidth": 0,
              "ticks": ""
             }
            },
            "type": "scatterpolar"
           }
          ],
          "scatterpolargl": [
           {
            "marker": {
             "colorbar": {
              "outlinewidth": 0,
              "ticks": ""
             }
            },
            "type": "scatterpolargl"
           }
          ],
          "scatterternary": [
           {
            "marker": {
             "colorbar": {
              "outlinewidth": 0,
              "ticks": ""
             }
            },
            "type": "scatterternary"
           }
          ],
          "surface": [
           {
            "colorbar": {
             "outlinewidth": 0,
             "ticks": ""
            },
            "colorscale": [
             [
              0,
              "#0d0887"
             ],
             [
              0.1111111111111111,
              "#46039f"
             ],
             [
              0.2222222222222222,
              "#7201a8"
             ],
             [
              0.3333333333333333,
              "#9c179e"
             ],
             [
              0.4444444444444444,
              "#bd3786"
             ],
             [
              0.5555555555555556,
              "#d8576b"
             ],
             [
              0.6666666666666666,
              "#ed7953"
             ],
             [
              0.7777777777777778,
              "#fb9f3a"
             ],
             [
              0.8888888888888888,
              "#fdca26"
             ],
             [
              1,
              "#f0f921"
             ]
            ],
            "type": "surface"
           }
          ],
          "table": [
           {
            "cells": {
             "fill": {
              "color": "#EBF0F8"
             },
             "line": {
              "color": "white"
             }
            },
            "header": {
             "fill": {
              "color": "#C8D4E3"
             },
             "line": {
              "color": "white"
             }
            },
            "type": "table"
           }
          ]
         },
         "layout": {
          "annotationdefaults": {
           "arrowcolor": "#2a3f5f",
           "arrowhead": 0,
           "arrowwidth": 1
          },
          "autotypenumbers": "strict",
          "coloraxis": {
           "colorbar": {
            "outlinewidth": 0,
            "ticks": ""
           }
          },
          "colorscale": {
           "diverging": [
            [
             0,
             "#8e0152"
            ],
            [
             0.1,
             "#c51b7d"
            ],
            [
             0.2,
             "#de77ae"
            ],
            [
             0.3,
             "#f1b6da"
            ],
            [
             0.4,
             "#fde0ef"
            ],
            [
             0.5,
             "#f7f7f7"
            ],
            [
             0.6,
             "#e6f5d0"
            ],
            [
             0.7,
             "#b8e186"
            ],
            [
             0.8,
             "#7fbc41"
            ],
            [
             0.9,
             "#4d9221"
            ],
            [
             1,
             "#276419"
            ]
           ],
           "sequential": [
            [
             0,
             "#0d0887"
            ],
            [
             0.1111111111111111,
             "#46039f"
            ],
            [
             0.2222222222222222,
             "#7201a8"
            ],
            [
             0.3333333333333333,
             "#9c179e"
            ],
            [
             0.4444444444444444,
             "#bd3786"
            ],
            [
             0.5555555555555556,
             "#d8576b"
            ],
            [
             0.6666666666666666,
             "#ed7953"
            ],
            [
             0.7777777777777778,
             "#fb9f3a"
            ],
            [
             0.8888888888888888,
             "#fdca26"
            ],
            [
             1,
             "#f0f921"
            ]
           ],
           "sequentialminus": [
            [
             0,
             "#0d0887"
            ],
            [
             0.1111111111111111,
             "#46039f"
            ],
            [
             0.2222222222222222,
             "#7201a8"
            ],
            [
             0.3333333333333333,
             "#9c179e"
            ],
            [
             0.4444444444444444,
             "#bd3786"
            ],
            [
             0.5555555555555556,
             "#d8576b"
            ],
            [
             0.6666666666666666,
             "#ed7953"
            ],
            [
             0.7777777777777778,
             "#fb9f3a"
            ],
            [
             0.8888888888888888,
             "#fdca26"
            ],
            [
             1,
             "#f0f921"
            ]
           ]
          },
          "colorway": [
           "#636efa",
           "#EF553B",
           "#00cc96",
           "#ab63fa",
           "#FFA15A",
           "#19d3f3",
           "#FF6692",
           "#B6E880",
           "#FF97FF",
           "#FECB52"
          ],
          "font": {
           "color": "#2a3f5f"
          },
          "geo": {
           "bgcolor": "white",
           "lakecolor": "white",
           "landcolor": "#E5ECF6",
           "showlakes": true,
           "showland": true,
           "subunitcolor": "white"
          },
          "hoverlabel": {
           "align": "left"
          },
          "hovermode": "closest",
          "mapbox": {
           "style": "light"
          },
          "paper_bgcolor": "white",
          "plot_bgcolor": "#E5ECF6",
          "polar": {
           "angularaxis": {
            "gridcolor": "white",
            "linecolor": "white",
            "ticks": ""
           },
           "bgcolor": "#E5ECF6",
           "radialaxis": {
            "gridcolor": "white",
            "linecolor": "white",
            "ticks": ""
           }
          },
          "scene": {
           "xaxis": {
            "backgroundcolor": "#E5ECF6",
            "gridcolor": "white",
            "gridwidth": 2,
            "linecolor": "white",
            "showbackground": true,
            "ticks": "",
            "zerolinecolor": "white"
           },
           "yaxis": {
            "backgroundcolor": "#E5ECF6",
            "gridcolor": "white",
            "gridwidth": 2,
            "linecolor": "white",
            "showbackground": true,
            "ticks": "",
            "zerolinecolor": "white"
           },
           "zaxis": {
            "backgroundcolor": "#E5ECF6",
            "gridcolor": "white",
            "gridwidth": 2,
            "linecolor": "white",
            "showbackground": true,
            "ticks": "",
            "zerolinecolor": "white"
           }
          },
          "shapedefaults": {
           "line": {
            "color": "#2a3f5f"
           }
          },
          "ternary": {
           "aaxis": {
            "gridcolor": "white",
            "linecolor": "white",
            "ticks": ""
           },
           "baxis": {
            "gridcolor": "white",
            "linecolor": "white",
            "ticks": ""
           },
           "bgcolor": "#E5ECF6",
           "caxis": {
            "gridcolor": "white",
            "linecolor": "white",
            "ticks": ""
           }
          },
          "title": {
           "x": 0.05
          },
          "xaxis": {
           "automargin": true,
           "gridcolor": "white",
           "linecolor": "white",
           "ticks": "",
           "title": {
            "standoff": 15
           },
           "zerolinecolor": "white",
           "zerolinewidth": 2
          },
          "yaxis": {
           "automargin": true,
           "gridcolor": "white",
           "linecolor": "white",
           "ticks": "",
           "title": {
            "standoff": 15
           },
           "zerolinecolor": "white",
           "zerolinewidth": 2
          }
         }
        },
        "xaxis": {
         "anchor": "y",
         "domain": [
          0,
          1
         ],
         "title": {
          "text": "Confirmed"
         }
        },
        "yaxis": {
         "anchor": "x",
         "domain": [
          0,
          1
         ],
         "title": {
          "text": "freedom"
         }
        }
       }
      },
      "text/html": [
       "<div>                            <div id=\"d3653fb4-d6ac-4fc3-b697-0e2e5b8974ce\" class=\"plotly-graph-div\" style=\"height:525px; width:100%;\"></div>            <script type=\"text/javascript\">                require([\"plotly\"], function(Plotly) {                    window.PLOTLYENV=window.PLOTLYENV || {};                                    if (document.getElementById(\"d3653fb4-d6ac-4fc3-b697-0e2e5b8974ce\")) {                    Plotly.newPlot(                        \"d3653fb4-d6ac-4fc3-b697-0e2e5b8974ce\",                        [{\"customdata\": [[\"Afghanistan\"], [\"Armenia\"], [\"Azerbaijan\"], [\"Bahrain\"], [\"Bangladesh\"], [\"Cambodia\"], [\"China\"], [\"Cyprus\"], [\"Georgia\"], [\"India\"], [\"Indonesia\"], [\"Iran\"], [\"Iraq\"], [\"Israel\"], [\"Japan\"], [\"Jordan\"], [\"Kazakhstan\"], [\"Kuwait\"], [\"Kyrgyzstan\"], [\"Lebanon\"], [\"Malaysia\"], [\"Mongolia\"], [\"Nepal\"], [\"Pakistan\"], [\"Philippines\"], [\"Saudi Arabia\"], [\"Singapore\"], [\"South Korea\"], [\"Sri Lanka\"], [\"Tajikistan\"], [\"Thailand\"], [\"Turkey\"], [\"United Arab Emirates\"], [\"Uzbekistan\"], [\"Vietnam\"], [\"Yemen\"]], \"hovertemplate\": \"continent=Asia<br>Confirmed=%{x}<br>freedom=%{y}<br>Deaths=%{marker.size}<br>country=%{customdata[0]}<extra></extra>\", \"legendgroup\": \"Asia\", \"marker\": {\"color\": \"#636efa\", \"size\": [251784.0, 190542.0, 112852.0, 39579.0, 808675.0, 0.0, 1310533.0, 5722.0, 42411.0, 13959980.0, 1706952.0, 5043348.0, 1343829.0, 270437.0, 294830.0, 94163.0, 280957.0, 111966.0, 175255.0, 65017.0, 39682.0, 0.0, 89914.0, 1170598.0, 851312.0, 734941.0, 6157.0, 88841.0, 5425.0, 14109.0, 14236.0, 1661771.0, 85594.0, 62144.0, 4138.0, 95897.0], \"sizemode\": \"area\", \"sizeref\": 57392.355, \"symbol\": \"circle\"}, \"mode\": \"markers\", \"name\": \"Asia\", \"orientation\": \"v\", \"showlegend\": true, \"type\": \"scatter\", \"x\": [7387702.0, 11180494.0, 8598304.0, 10939128.0, 57789517.0, 55412.0, 26366342.0, 615530.0, 4714418.0, 862831808.0, 45861281.0, 92413492.0, 51768448.0, 33146037.0, 14024571.0, 8029976.0, 21476943.0, 17582073.0, 7639965.0, 7546084.0, 4215882.0, 69903.0, 15657466.0, 56531483.0, 43407809.0, 56887173.0, 11213139.0, 4890411.0, 1315030.0, 1720123.0, 856215.0, 66511986.0, 17982336.0, 8013170.0, 188083.0, 338531.0], \"xaxis\": \"x\", \"y\": [0.0, 0.378075808, 0.467734724, 0.610399902, 0.604130566, 0.674940348, 0.6016051170000001, 0.459385872, 0.485494107, 0.5811422470000001, 0.568161428, 0.301195472, 0.283588052, 0.420699477, 0.495465875, 0.424855083, 0.497432142, 0.5702614189999999, 0.614617765, 0.18551667, 0.596941531, 0.355703115, 0.480608255, 0.405421734, 0.6219151620000001, 0.548477471, 0.635317206, 0.25935635, 0.528632462, 0.521141171, 0.609449804, 0.25440076, 0.652936101, 0.6932703259999999, 0.650835574, 0.243721485], \"yaxis\": \"y\"}, {\"customdata\": [[\"Albania\"], [\"Austria\"], [\"Belarus\"], [\"Belgium\"], [\"Bosnia and Herzegovina\"], [\"Bulgaria\"], [\"Croatia\"], [\"Czech Republic\"], [\"Denmark\"], [\"Estonia\"], [\"Finland\"], [\"France\"], [\"Germany\"], [\"Greece\"], [\"Hungary\"], [\"Iceland\"], [\"Ireland\"], [\"Italy\"], [\"Kosovo\"], [\"Latvia\"], [\"Lithuania\"], [\"Luxembourg\"], [\"Malta\"], [\"Moldova\"], [\"Montenegro\"], [\"Netherlands\"], [\"Norway\"], [\"Poland\"], [\"Portugal\"], [\"Romania\"], [\"Russia\"], [\"Serbia\"], [\"Slovakia\"], [\"Slovenia\"], [\"Spain\"], [\"Sweden\"], [\"Switzerland\"], [\"Ukraine\"], [\"United Kingdom\"]], \"hovertemplate\": \"continent=Europe<br>Confirmed=%{x}<br>freedom=%{y}<br>Deaths=%{marker.size}<br>country=%{customdata[0]}<extra></extra>\", \"legendgroup\": \"Europe\", \"marker\": {\"color\": \"#EF553B\", \"size\": [64504.0, 240252.0, 143369.0, 2521062.0, 169954.0, 202722.0, 86581.0, 372583.0, 153441.0, 16852.0, 77919.0, 7940612.0, 2342772.0, 116747.0, 274288.0, 3055.0, 413314.0, 9069691.0, 90975.0, 12347.0, 30745.0, 33841.0, 7381.0, 234632.0, 31496.0, 1585015.0, 63513.0, 866431.0, 480394.0, 931388.0, 3841745.0, 147133.0, 32514.0, 66716.0, 7639465.0, 1261286.0, 557975.0, 861189.0, 10217281.0], \"sizemode\": \"area\", \"sizeref\": 57392.355, \"symbol\": \"circle\"}, \"mode\": \"markers\", \"name\": \"Europe\", \"orientation\": \"v\", \"showlegend\": true, \"type\": \"scatter\", \"x\": [2566014.0, 14695837.0, 16592136.0, 40086038.0, 5723703.0, 6900275.0, 5696132.0, 27090658.0, 6351580.0, 874154.0, 2493228.0, 152535218.0, 83765613.0, 5099506.0, 8966333.0, 685058.0, 8677872.0, 108332925.0, 2819465.0, 826756.0, 2359189.0, 2464893.0, 660740.0, 9317219.0, 2058047.0, 35890966.0, 3452941.0, 43347982.0, 20301518.0, 28847354.0, 231695545.0, 9310768.0, 4955880.0, 3273963.0, 146736851.0, 21823106.0, 19973367.0, 45100462.0, 128321450.0], \"xaxis\": \"x\", \"y\": [0.461945891, 0.6033688779999999, 0.29075586800000003, 0.499805421, 0.305365741, 0.417820066, 0.3814568820000001, 0.505744576, 0.665039897, 0.576664805, 0.66231674, 0.5140509010000001, 0.564274132, 0.173516348, 0.386401802, 0.661980748, 0.587779939, 0.321305573, 0.557280421, 0.329198807, 0.42046079, 0.610137045, 0.633239031, 0.389571488, 0.303223848, 0.61362648, 0.670200884, 0.557903528, 0.5898951889999999, 0.534852326, 0.399499595, 0.395428419, 0.423542529, 0.646700144, 0.425983816, 0.6502977010000001, 0.62895447, 0.319423705, 0.525168657], \"yaxis\": \"y\"}, {\"customdata\": [[\"Algeria\"], [\"Benin\"], [\"Botswana\"], [\"Burkina Faso\"], [\"Burundi\"], [\"Cameroon\"], [\"Chad\"], [\"Congo (Brazzaville)\"], [\"Congo (Kinshasa)\"], [\"Egypt\"], [\"Ethiopia\"], [\"Gabon\"], [\"Ghana\"], [\"Ivory Coast\"], [\"Kenya\"], [\"Liberia\"], [\"Libya\"], [\"Madagascar\"], [\"Malawi\"], [\"Mali\"], [\"Mauritania\"], [\"Mauritius\"], [\"Morocco\"], [\"Nigeria\"], [\"Rwanda\"], [\"Senegal\"], [\"Sierra Leone\"], [\"South Africa\"], [\"Tanzania\"], [\"Togo\"], [\"Tunisia\"], [\"Uganda\"], [\"Zambia\"], [\"Zimbabwe\"]], \"hovertemplate\": \"continent=Africa<br>Confirmed=%{x}<br>freedom=%{y}<br>Deaths=%{marker.size}<br>country=%{customdata[0]}<extra></extra>\", \"legendgroup\": \"Africa\", \"marker\": {\"color\": \"#00cc96\", \"size\": [319094.0, 6584.0, 2340.0, 13763.0, 241.0, 78950.0, 17380.0, 14240.0, 48771.0, 979825.0, 159466.0, 9847.0, 45794.0, 20867.0, 122621.0, 14348.0, 81838.0, 30637.0, 25031.0, 26313.0, 28794.0, 2511.0, 386139.0, 201034.0, 3922.0, 47376.0, 13880.0, 2415139.0, 4820.0, 7294.0, 133052.0, 11574.0, 44784.0, 29474.0], \"sizemode\": \"area\", \"sizeref\": 57392.355, \"symbol\": \"circle\"}, \"mode\": \"markers\", \"name\": \"Africa\", \"orientation\": \"v\", \"showlegend\": true, \"type\": \"scatter\", \"x\": [8485107.0, 392550.0, 638752.0, 371356.0, 81998.0, 3665280.0, 236200.0, 754972.0, 1892449.0, 18211662.0, 10193550.0, 1503342.0, 7486983.0, 3224917.0, 6815284.0, 238247.0, 5520478.0, 2338432.0, 845660.0, 602456.0, 1232073.0, 94157.0, 22556953.0, 9765598.0, 674113.0, 2410519.0, 392453.0, 102242056.0, 118042.0, 306508.0, 4966821.0, 1290281.0, 2015131.0, 1065264.0], \"xaxis\": \"x\", \"y\": [0.083943799, 0.40583989, 0.50908941, 0.322398156, 0.275399059, 0.4392424820000001, 0.228601769, 0.386514395, 0.36462298, 0.373684734, 0.41256687, 0.369459897, 0.477290064, 0.397122532, 0.519180536, 0.405943096, 0.451354057, 0.192967549, 0.487389833, 0.377534449, 0.185714483, 0.590838134, 0.450054139, 0.435079455, 0.604087889, 0.352400899, 0.382027686, 0.43478182, 0.5093430879999999, 0.303539038, 0.23586055600000005, 0.401682556, 0.49131754, 0.37740472], \"yaxis\": \"y\"}, {\"customdata\": [[\"Argentina\"], [\"Bolivia\"], [\"Brazil\"], [\"Chile\"], [\"Colombia\"], [\"Costa Rica\"], [\"Dominican Republic\"], [\"Ecuador\"], [\"El Salvador\"], [\"Guatemala\"], [\"Guinea\"], [\"Haiti\"], [\"Honduras\"], [\"Jamaica\"], [\"Nicaragua\"], [\"Panama\"], [\"Paraguay\"], [\"Peru\"], [\"Uruguay\"], [\"Venezuela\"]], \"hovertemplate\": \"continent=South America<br>Confirmed=%{x}<br>freedom=%{y}<br>Deaths=%{marker.size}<br>country=%{customdata[0]}<extra></extra>\", \"legendgroup\": \"South America\", \"marker\": {\"color\": \"#ab63fa\", \"size\": [2881217.0, 1035831.0, 22956942.0, 2049115.0, 3691720.0, 130014.0, 327631.0, 1756761.0, 125514.0, 485529.0, 11135.0, 35921.0, 345846.0, 17398.0, 24661.0, 371647.0, 123951.0, 4830920.0, 9523.0, 84762.0], \"sizemode\": \"area\", \"sizeref\": 57392.355, \"symbol\": \"circle\"}, \"mode\": \"markers\", \"name\": \"South America\", \"orientation\": \"v\", \"showlegend\": true, \"type\": \"scatter\", \"x\": [114309026.0, 19299627.0, 731645427.0, 78759484.0, 122115327.0, 11010773.0, 17636404.0, 23712034.0, 4444469.0, 13587118.0, 1846305.0, 1498354.0, 11835875.0, 881158.0, 816601.0, 18067924.0, 5993787.0, 122730322.0, 465680.0, 9876958.0], \"xaxis\": \"x\", \"y\": [0.520840347, 0.5744645, 0.483292729, 0.417482227, 0.526890039, 0.6450177429999999, 0.5628739, 0.555234551, 0.5240439179999999, 0.613146722, 0.371878058, 0.169297516, 0.568148077, 0.553124607, 0.560117304, 0.57984978, 0.586510062, 0.513210058, 0.59426707, 0.271717221], \"yaxis\": \"y\"}, {\"customdata\": [[\"Australia\"], [\"New Zealand\"]], \"hovertemplate\": \"continent=Australia<br>Confirmed=%{x}<br>freedom=%{y}<br>Deaths=%{marker.size}<br>country=%{customdata[0]}<extra></extra>\", \"legendgroup\": \"Australia\", \"marker\": {\"color\": \"#FFA15A\", \"size\": [112965.0, 5431.0], \"sizemode\": \"area\", \"sizeref\": 57392.355, \"symbol\": \"circle\"}, \"mode\": \"markers\", \"name\": \"Australia\", \"orientation\": \"v\", \"showlegend\": true, \"type\": \"scatter\", \"x\": [4470500.0, 424726.0], \"xaxis\": \"x\", \"y\": [0.621877193, 0.646789908], \"yaxis\": \"y\"}, {\"customdata\": [[\"Canada\"], [\"Mexico\"]], \"hovertemplate\": \"continent=North America<br>Confirmed=%{x}<br>freedom=%{y}<br>Deaths=%{marker.size}<br>country=%{customdata[0]}<extra></extra>\", \"legendgroup\": \"North America\", \"marker\": {\"color\": \"#19d3f3\", \"size\": [2044233.0, 12404856.0], \"sizemode\": \"area\", \"sizeref\": 57392.355, \"symbol\": \"circle\"}, \"mode\": \"markers\", \"name\": \"North America\", \"orientation\": \"v\", \"showlegend\": true, \"type\": \"scatter\", \"x\": [36954682.0, 119895010.0], \"xaxis\": \"x\", \"y\": [0.644028127, 0.553892553], \"yaxis\": \"y\"}],                        {\"legend\": {\"itemsizing\": \"constant\", \"title\": {\"text\": \"continent\"}, \"tracegroupgap\": 0}, \"margin\": {\"t\": 60}, \"template\": {\"data\": {\"bar\": [{\"error_x\": {\"color\": \"#2a3f5f\"}, \"error_y\": {\"color\": \"#2a3f5f\"}, \"marker\": {\"line\": {\"color\": \"#E5ECF6\", \"width\": 0.5}}, \"type\": \"bar\"}], \"barpolar\": [{\"marker\": {\"line\": {\"color\": \"#E5ECF6\", \"width\": 0.5}}, \"type\": \"barpolar\"}], \"carpet\": [{\"aaxis\": {\"endlinecolor\": \"#2a3f5f\", \"gridcolor\": \"white\", \"linecolor\": \"white\", \"minorgridcolor\": \"white\", \"startlinecolor\": \"#2a3f5f\"}, \"baxis\": {\"endlinecolor\": \"#2a3f5f\", \"gridcolor\": \"white\", \"linecolor\": \"white\", \"minorgridcolor\": \"white\", \"startlinecolor\": \"#2a3f5f\"}, \"type\": \"carpet\"}], \"choropleth\": [{\"colorbar\": {\"outlinewidth\": 0, \"ticks\": \"\"}, \"type\": \"choropleth\"}], \"contour\": [{\"colorbar\": {\"outlinewidth\": 0, \"ticks\": \"\"}, \"colorscale\": [[0.0, \"#0d0887\"], [0.1111111111111111, \"#46039f\"], [0.2222222222222222, \"#7201a8\"], [0.3333333333333333, \"#9c179e\"], [0.4444444444444444, \"#bd3786\"], [0.5555555555555556, \"#d8576b\"], [0.6666666666666666, \"#ed7953\"], [0.7777777777777778, \"#fb9f3a\"], [0.8888888888888888, \"#fdca26\"], [1.0, \"#f0f921\"]], \"type\": \"contour\"}], \"contourcarpet\": [{\"colorbar\": {\"outlinewidth\": 0, \"ticks\": \"\"}, \"type\": \"contourcarpet\"}], \"heatmap\": [{\"colorbar\": {\"outlinewidth\": 0, \"ticks\": \"\"}, \"colorscale\": [[0.0, \"#0d0887\"], [0.1111111111111111, \"#46039f\"], [0.2222222222222222, \"#7201a8\"], [0.3333333333333333, \"#9c179e\"], [0.4444444444444444, \"#bd3786\"], [0.5555555555555556, \"#d8576b\"], [0.6666666666666666, \"#ed7953\"], [0.7777777777777778, \"#fb9f3a\"], [0.8888888888888888, \"#fdca26\"], [1.0, \"#f0f921\"]], \"type\": \"heatmap\"}], \"heatmapgl\": [{\"colorbar\": {\"outlinewidth\": 0, \"ticks\": \"\"}, \"colorscale\": [[0.0, \"#0d0887\"], [0.1111111111111111, \"#46039f\"], [0.2222222222222222, \"#7201a8\"], [0.3333333333333333, \"#9c179e\"], [0.4444444444444444, \"#bd3786\"], [0.5555555555555556, \"#d8576b\"], [0.6666666666666666, \"#ed7953\"], [0.7777777777777778, \"#fb9f3a\"], [0.8888888888888888, \"#fdca26\"], [1.0, \"#f0f921\"]], \"type\": \"heatmapgl\"}], \"histogram\": [{\"marker\": {\"colorbar\": {\"outlinewidth\": 0, \"ticks\": \"\"}}, \"type\": \"histogram\"}], \"histogram2d\": [{\"colorbar\": {\"outlinewidth\": 0, \"ticks\": \"\"}, \"colorscale\": [[0.0, \"#0d0887\"], [0.1111111111111111, \"#46039f\"], [0.2222222222222222, \"#7201a8\"], [0.3333333333333333, \"#9c179e\"], [0.4444444444444444, \"#bd3786\"], [0.5555555555555556, \"#d8576b\"], [0.6666666666666666, \"#ed7953\"], [0.7777777777777778, \"#fb9f3a\"], [0.8888888888888888, \"#fdca26\"], [1.0, \"#f0f921\"]], \"type\": \"histogram2d\"}], \"histogram2dcontour\": [{\"colorbar\": {\"outlinewidth\": 0, \"ticks\": \"\"}, \"colorscale\": [[0.0, \"#0d0887\"], [0.1111111111111111, \"#46039f\"], [0.2222222222222222, \"#7201a8\"], [0.3333333333333333, \"#9c179e\"], [0.4444444444444444, \"#bd3786\"], [0.5555555555555556, \"#d8576b\"], [0.6666666666666666, \"#ed7953\"], [0.7777777777777778, \"#fb9f3a\"], [0.8888888888888888, \"#fdca26\"], [1.0, \"#f0f921\"]], \"type\": \"histogram2dcontour\"}], \"mesh3d\": [{\"colorbar\": {\"outlinewidth\": 0, \"ticks\": \"\"}, \"type\": \"mesh3d\"}], \"parcoords\": [{\"line\": {\"colorbar\": {\"outlinewidth\": 0, \"ticks\": \"\"}}, \"type\": \"parcoords\"}], \"pie\": [{\"automargin\": true, \"type\": \"pie\"}], \"scatter\": [{\"marker\": {\"colorbar\": {\"outlinewidth\": 0, \"ticks\": \"\"}}, \"type\": \"scatter\"}], \"scatter3d\": [{\"line\": {\"colorbar\": {\"outlinewidth\": 0, \"ticks\": \"\"}}, \"marker\": {\"colorbar\": {\"outlinewidth\": 0, \"ticks\": \"\"}}, \"type\": \"scatter3d\"}], \"scattercarpet\": [{\"marker\": {\"colorbar\": {\"outlinewidth\": 0, \"ticks\": \"\"}}, \"type\": \"scattercarpet\"}], \"scattergeo\": [{\"marker\": {\"colorbar\": {\"outlinewidth\": 0, \"ticks\": \"\"}}, \"type\": \"scattergeo\"}], \"scattergl\": [{\"marker\": {\"colorbar\": {\"outlinewidth\": 0, \"ticks\": \"\"}}, \"type\": \"scattergl\"}], \"scattermapbox\": [{\"marker\": {\"colorbar\": {\"outlinewidth\": 0, \"ticks\": \"\"}}, \"type\": \"scattermapbox\"}], \"scatterpolar\": [{\"marker\": {\"colorbar\": {\"outlinewidth\": 0, \"ticks\": \"\"}}, \"type\": \"scatterpolar\"}], \"scatterpolargl\": [{\"marker\": {\"colorbar\": {\"outlinewidth\": 0, \"ticks\": \"\"}}, \"type\": \"scatterpolargl\"}], \"scatterternary\": [{\"marker\": {\"colorbar\": {\"outlinewidth\": 0, \"ticks\": \"\"}}, \"type\": \"scatterternary\"}], \"surface\": [{\"colorbar\": {\"outlinewidth\": 0, \"ticks\": \"\"}, \"colorscale\": [[0.0, \"#0d0887\"], [0.1111111111111111, \"#46039f\"], [0.2222222222222222, \"#7201a8\"], [0.3333333333333333, \"#9c179e\"], [0.4444444444444444, \"#bd3786\"], [0.5555555555555556, \"#d8576b\"], [0.6666666666666666, \"#ed7953\"], [0.7777777777777778, \"#fb9f3a\"], [0.8888888888888888, \"#fdca26\"], [1.0, \"#f0f921\"]], \"type\": \"surface\"}], \"table\": [{\"cells\": {\"fill\": {\"color\": \"#EBF0F8\"}, \"line\": {\"color\": \"white\"}}, \"header\": {\"fill\": {\"color\": \"#C8D4E3\"}, \"line\": {\"color\": \"white\"}}, \"type\": \"table\"}]}, \"layout\": {\"annotationdefaults\": {\"arrowcolor\": \"#2a3f5f\", \"arrowhead\": 0, \"arrowwidth\": 1}, \"autotypenumbers\": \"strict\", \"coloraxis\": {\"colorbar\": {\"outlinewidth\": 0, \"ticks\": \"\"}}, \"colorscale\": {\"diverging\": [[0, \"#8e0152\"], [0.1, \"#c51b7d\"], [0.2, \"#de77ae\"], [0.3, \"#f1b6da\"], [0.4, \"#fde0ef\"], [0.5, \"#f7f7f7\"], [0.6, \"#e6f5d0\"], [0.7, \"#b8e186\"], [0.8, \"#7fbc41\"], [0.9, \"#4d9221\"], [1, \"#276419\"]], \"sequential\": [[0.0, \"#0d0887\"], [0.1111111111111111, \"#46039f\"], [0.2222222222222222, \"#7201a8\"], [0.3333333333333333, \"#9c179e\"], [0.4444444444444444, \"#bd3786\"], [0.5555555555555556, \"#d8576b\"], [0.6666666666666666, \"#ed7953\"], [0.7777777777777778, \"#fb9f3a\"], [0.8888888888888888, \"#fdca26\"], [1.0, \"#f0f921\"]], \"sequentialminus\": [[0.0, \"#0d0887\"], [0.1111111111111111, \"#46039f\"], [0.2222222222222222, \"#7201a8\"], [0.3333333333333333, \"#9c179e\"], [0.4444444444444444, \"#bd3786\"], [0.5555555555555556, \"#d8576b\"], [0.6666666666666666, \"#ed7953\"], [0.7777777777777778, \"#fb9f3a\"], [0.8888888888888888, \"#fdca26\"], [1.0, \"#f0f921\"]]}, \"colorway\": [\"#636efa\", \"#EF553B\", \"#00cc96\", \"#ab63fa\", \"#FFA15A\", \"#19d3f3\", \"#FF6692\", \"#B6E880\", \"#FF97FF\", \"#FECB52\"], \"font\": {\"color\": \"#2a3f5f\"}, \"geo\": {\"bgcolor\": \"white\", \"lakecolor\": \"white\", \"landcolor\": \"#E5ECF6\", \"showlakes\": true, \"showland\": true, \"subunitcolor\": \"white\"}, \"hoverlabel\": {\"align\": \"left\"}, \"hovermode\": \"closest\", \"mapbox\": {\"style\": \"light\"}, \"paper_bgcolor\": \"white\", \"plot_bgcolor\": \"#E5ECF6\", \"polar\": {\"angularaxis\": {\"gridcolor\": \"white\", \"linecolor\": \"white\", \"ticks\": \"\"}, \"bgcolor\": \"#E5ECF6\", \"radialaxis\": {\"gridcolor\": \"white\", \"linecolor\": \"white\", \"ticks\": \"\"}}, \"scene\": {\"xaxis\": {\"backgroundcolor\": \"#E5ECF6\", \"gridcolor\": \"white\", \"gridwidth\": 2, \"linecolor\": \"white\", \"showbackground\": true, \"ticks\": \"\", \"zerolinecolor\": \"white\"}, \"yaxis\": {\"backgroundcolor\": \"#E5ECF6\", \"gridcolor\": \"white\", \"gridwidth\": 2, \"linecolor\": \"white\", \"showbackground\": true, \"ticks\": \"\", \"zerolinecolor\": \"white\"}, \"zaxis\": {\"backgroundcolor\": \"#E5ECF6\", \"gridcolor\": \"white\", \"gridwidth\": 2, \"linecolor\": \"white\", \"showbackground\": true, \"ticks\": \"\", \"zerolinecolor\": \"white\"}}, \"shapedefaults\": {\"line\": {\"color\": \"#2a3f5f\"}}, \"ternary\": {\"aaxis\": {\"gridcolor\": \"white\", \"linecolor\": \"white\", \"ticks\": \"\"}, \"baxis\": {\"gridcolor\": \"white\", \"linecolor\": \"white\", \"ticks\": \"\"}, \"bgcolor\": \"#E5ECF6\", \"caxis\": {\"gridcolor\": \"white\", \"linecolor\": \"white\", \"ticks\": \"\"}}, \"title\": {\"x\": 0.05}, \"xaxis\": {\"automargin\": true, \"gridcolor\": \"white\", \"linecolor\": \"white\", \"ticks\": \"\", \"title\": {\"standoff\": 15}, \"zerolinecolor\": \"white\", \"zerolinewidth\": 2}, \"yaxis\": {\"automargin\": true, \"gridcolor\": \"white\", \"linecolor\": \"white\", \"ticks\": \"\", \"title\": {\"standoff\": 15}, \"zerolinecolor\": \"white\", \"zerolinewidth\": 2}}}, \"xaxis\": {\"anchor\": \"y\", \"domain\": [0.0, 1.0], \"title\": {\"text\": \"Confirmed\"}}, \"yaxis\": {\"anchor\": \"x\", \"domain\": [0.0, 1.0], \"title\": {\"text\": \"freedom\"}}},                        {\"responsive\": true}                    ).then(function(){\n",
       "                            \n",
       "var gd = document.getElementById('d3653fb4-d6ac-4fc3-b697-0e2e5b8974ce');\n",
       "var x = new MutationObserver(function (mutations, observer) {{\n",
       "        var display = window.getComputedStyle(gd).display;\n",
       "        if (!display || display === 'none') {{\n",
       "            console.log([gd, 'removed!']);\n",
       "            Plotly.purge(gd);\n",
       "            observer.disconnect();\n",
       "        }}\n",
       "}});\n",
       "\n",
       "// Listen for the removal of the full notebook cells\n",
       "var notebookContainer = gd.closest('#notebook-container');\n",
       "if (notebookContainer) {{\n",
       "    x.observe(notebookContainer, {childList: true});\n",
       "}}\n",
       "\n",
       "// Listen for the clearing of the current output cell\n",
       "var outputEl = gd.closest('.output');\n",
       "if (outputEl) {{\n",
       "    x.observe(outputEl, {childList: true});\n",
       "}}\n",
       "\n",
       "                        })                };                });            </script>        </div>"
      ]
     },
     "metadata": {},
     "output_type": "display_data"
    }
   ],
   "source": [
    "fig = px.scatter(complete, x='Confirmed', y='freedom', color=\"continent\",size='Deaths', \n",
    "                 hover_data=['country'])\n",
    "fig.show()"
   ]
  },
  {
   "cell_type": "markdown",
   "metadata": {},
   "source": [
    "## Col 2"
   ]
  },
  {
   "cell_type": "code",
   "execution_count": 38,
   "metadata": {
    "tags": [
     "body"
    ]
   },
   "outputs": [
    {
     "data": {
      "text/plain": [
       "'print(testing)'"
      ]
     },
     "execution_count": 38,
     "metadata": {},
     "output_type": "execute_result"
    }
   ],
   "source": [
    "'print(testing)'"
   ]
  },
  {
   "cell_type": "markdown",
   "metadata": {
    "tags": [
     "orientation=rows"
    ]
   },
   "source": [
    "## Page 2"
   ]
  },
  {
   "cell_type": "markdown",
   "metadata": {
    "tags": [
     "size=400"
    ]
   },
   "source": [
    "## Row 1"
   ]
  },
  {
   "cell_type": "markdown",
   "metadata": {
    "tags": [
     "size=600"
    ]
   },
   "source": [
    "## Row 2"
   ]
  },
  {
   "cell_type": "code",
   "execution_count": 39,
   "metadata": {
    "tags": [
     "body"
    ]
   },
   "outputs": [
    {
     "data": {
      "text/plain": [
       "'Page 1 - Row 2'"
      ]
     },
     "execution_count": 39,
     "metadata": {},
     "output_type": "execute_result"
    }
   ],
   "source": [
    "\"Page 1 - Row 2\""
   ]
  },
  {
   "cell_type": "code",
   "execution_count": null,
   "metadata": {},
   "outputs": [],
   "source": []
  },
  {
   "cell_type": "code",
   "execution_count": null,
   "metadata": {},
   "outputs": [],
   "source": []
  },
  {
   "cell_type": "code",
   "execution_count": null,
   "metadata": {},
   "outputs": [],
   "source": []
  },
  {
   "cell_type": "code",
   "execution_count": null,
   "metadata": {},
   "outputs": [],
   "source": []
  },
  {
   "cell_type": "code",
   "execution_count": null,
   "metadata": {},
   "outputs": [],
   "source": []
  }
 ],
 "metadata": {
  "celltoolbar": "Tags",
  "kernelspec": {
   "display_name": "Python 3",
   "language": "python",
   "name": "python3"
  },
  "language_info": {
   "codemirror_mode": {
    "name": "ipython",
    "version": 3
   },
   "file_extension": ".py",
   "mimetype": "text/x-python",
   "name": "python",
   "nbconvert_exporter": "python",
   "pygments_lexer": "ipython3",
   "version": "3.9.1"
  }
 },
 "nbformat": 4,
 "nbformat_minor": 4
}
